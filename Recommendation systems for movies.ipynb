{
 "cells": [
  {
   "cell_type": "markdown",
   "metadata": {},
   "source": [
    "# Recommendation system for movies\n",
    "\n",
    "**Benedikt Roth**\n",
    "\n",
    "**data-pt-ber-08-20**"
   ]
  },
  {
   "cell_type": "markdown",
   "metadata": {},
   "source": [
    "## Overview\n",
    "Main project: Building recommendation systems based on different techniques<br>\n",
    "Hypothese/Question to answer: Is machine Learning the best apporach to build a recommendation system on?<br>\n",
    "Tesing: Building different recommendation systems using different techniques and compare them to machine learning approach<br>\n",
    "\n",
    "Sub project: Clustering people based on average genre ratings<br>\n",
    "Hypothesis: There is a genre which mostly drives different clusters for movies?<br>\n",
    "Tesing: Building an unsupervies machine leanring alg to identify most important feature for clustering people based on movie genres.<br>\n",
    "\n",
    "Main structure:<br>\n",
    "Process:<br>\n",
    "1.Data Acquisition<br>\n",
    "2.Data cleaning<br>\n",
    "3.Data exploration and analysis<br>\n",
    "4. Sub project:<br>\n",
    ">Feature selection<br>\n",
    ">Train Unsupervised Learning model<br>\n",
    ">Model evaluation using Elbow method and Silhouette score<br>\n",
    "    \n",
    "5. Building recommendation Engines:\n",
    ">Content Based Filtering<br>\n",
    ">Item-Item based Filtering<br>\n",
    ">User-Item based Filtering<br>\n",
    ">Model based Filtering<br>\n",
    ">Model based Filtering using ML approach:<br>\n",
    ">Train/Test Split<br>\n",
    ">Train Model<br>\n",
    ">Tuning Model<br>\n",
    ">Evaluate Model<br>\n",
    "\n",
    "6.Conclusion"
   ]
  },
  {
   "cell_type": "markdown",
   "metadata": {},
   "source": [
    "## Data Preparation\n",
    "### Overview:\n",
    "Data from MovieLen: MovieLen is a non-commercial, personalized movie recommendation website\n",
    "https://grouplens.org/datasets/movielens/\n",
    "\n",
    "size:(105339, 7)\n",
    "datatypes:int, float, timestamp"
   ]
  },
  {
   "cell_type": "markdown",
   "metadata": {},
   "source": [
    "### Data Ingestion"
   ]
  },
  {
   "cell_type": "code",
   "execution_count": 50,
   "metadata": {},
   "outputs": [],
   "source": [
    "# Importing packages\n",
    "import pandas as pd\n",
    "import numpy as np\n",
    "import seaborn as sns\n",
    "import matplotlib.pyplot as plt\n",
    "from datetime import datetime\n",
    "from sklearn.feature_extraction.text import TfidfVectorizer\n",
    "from sklearn.metrics.pairwise import linear_kernel\n",
    "from scipy.sparse.linalg import svds\n",
    "from surprise import Dataset\n",
    "from surprise import Reader\n",
    "from surprise import SVD\n",
    "from surprise.model_selection import train_test_split\n",
    "from surprise.model_selection import cross_validate\n",
    "from surprise.model_selection import GridSearchCV\n",
    "import random"
   ]
  },
  {
   "cell_type": "code",
   "execution_count": 51,
   "metadata": {},
   "outputs": [],
   "source": [
    "### Loading datasets\n",
    "movies_df = pd.read_csv(\"./Dataset_original/movies.csv\")\n",
    "ratings_df = pd.read_csv(\"./Dataset_original/ratings.csv\")"
   ]
  },
  {
   "cell_type": "code",
   "execution_count": 52,
   "metadata": {},
   "outputs": [
    {
     "data": {
      "text/html": [
       "<div>\n",
       "<style scoped>\n",
       "    .dataframe tbody tr th:only-of-type {\n",
       "        vertical-align: middle;\n",
       "    }\n",
       "\n",
       "    .dataframe tbody tr th {\n",
       "        vertical-align: top;\n",
       "    }\n",
       "\n",
       "    .dataframe thead th {\n",
       "        text-align: right;\n",
       "    }\n",
       "</style>\n",
       "<table border=\"1\" class=\"dataframe\">\n",
       "  <thead>\n",
       "    <tr style=\"text-align: right;\">\n",
       "      <th></th>\n",
       "      <th>movieId</th>\n",
       "      <th>title</th>\n",
       "      <th>genres</th>\n",
       "    </tr>\n",
       "  </thead>\n",
       "  <tbody>\n",
       "    <tr>\n",
       "      <th>0</th>\n",
       "      <td>1</td>\n",
       "      <td>Toy Story (1995)</td>\n",
       "      <td>Adventure|Animation|Children|Comedy|Fantasy</td>\n",
       "    </tr>\n",
       "    <tr>\n",
       "      <th>1</th>\n",
       "      <td>2</td>\n",
       "      <td>Jumanji (1995)</td>\n",
       "      <td>Adventure|Children|Fantasy</td>\n",
       "    </tr>\n",
       "    <tr>\n",
       "      <th>2</th>\n",
       "      <td>3</td>\n",
       "      <td>Grumpier Old Men (1995)</td>\n",
       "      <td>Comedy|Romance</td>\n",
       "    </tr>\n",
       "    <tr>\n",
       "      <th>3</th>\n",
       "      <td>4</td>\n",
       "      <td>Waiting to Exhale (1995)</td>\n",
       "      <td>Comedy|Drama|Romance</td>\n",
       "    </tr>\n",
       "    <tr>\n",
       "      <th>4</th>\n",
       "      <td>5</td>\n",
       "      <td>Father of the Bride Part II (1995)</td>\n",
       "      <td>Comedy</td>\n",
       "    </tr>\n",
       "  </tbody>\n",
       "</table>\n",
       "</div>"
      ],
      "text/plain": [
       "   movieId                               title  \\\n",
       "0        1                    Toy Story (1995)   \n",
       "1        2                      Jumanji (1995)   \n",
       "2        3             Grumpier Old Men (1995)   \n",
       "3        4            Waiting to Exhale (1995)   \n",
       "4        5  Father of the Bride Part II (1995)   \n",
       "\n",
       "                                        genres  \n",
       "0  Adventure|Animation|Children|Comedy|Fantasy  \n",
       "1                   Adventure|Children|Fantasy  \n",
       "2                               Comedy|Romance  \n",
       "3                         Comedy|Drama|Romance  \n",
       "4                                       Comedy  "
      ]
     },
     "execution_count": 52,
     "metadata": {},
     "output_type": "execute_result"
    }
   ],
   "source": [
    "# Displaying movies dataset\n",
    "movies_df.head()"
   ]
  },
  {
   "cell_type": "code",
   "execution_count": 53,
   "metadata": {},
   "outputs": [
    {
     "data": {
      "text/plain": [
       "(10329, 3)"
      ]
     },
     "execution_count": 53,
     "metadata": {},
     "output_type": "execute_result"
    }
   ],
   "source": [
    "# Checking shape of dataset\n",
    "movies_df.shape"
   ]
  },
  {
   "cell_type": "code",
   "execution_count": 54,
   "metadata": {},
   "outputs": [
    {
     "name": "stdout",
     "output_type": "stream",
     "text": [
      "movieId     int64\n",
      "title      object\n",
      "genres     object\n",
      "dtype: object\n"
     ]
    }
   ],
   "source": [
    "# Checking datatypes\n",
    "print(movies_df.dtypes)"
   ]
  },
  {
   "cell_type": "code",
   "execution_count": 55,
   "metadata": {},
   "outputs": [
    {
     "data": {
      "text/html": [
       "<div>\n",
       "<style scoped>\n",
       "    .dataframe tbody tr th:only-of-type {\n",
       "        vertical-align: middle;\n",
       "    }\n",
       "\n",
       "    .dataframe tbody tr th {\n",
       "        vertical-align: top;\n",
       "    }\n",
       "\n",
       "    .dataframe thead th {\n",
       "        text-align: right;\n",
       "    }\n",
       "</style>\n",
       "<table border=\"1\" class=\"dataframe\">\n",
       "  <thead>\n",
       "    <tr style=\"text-align: right;\">\n",
       "      <th></th>\n",
       "      <th>movieId</th>\n",
       "    </tr>\n",
       "  </thead>\n",
       "  <tbody>\n",
       "    <tr>\n",
       "      <th>count</th>\n",
       "      <td>10329.000000</td>\n",
       "    </tr>\n",
       "    <tr>\n",
       "      <th>mean</th>\n",
       "      <td>31924.282893</td>\n",
       "    </tr>\n",
       "    <tr>\n",
       "      <th>std</th>\n",
       "      <td>37734.741149</td>\n",
       "    </tr>\n",
       "    <tr>\n",
       "      <th>min</th>\n",
       "      <td>1.000000</td>\n",
       "    </tr>\n",
       "    <tr>\n",
       "      <th>25%</th>\n",
       "      <td>3240.000000</td>\n",
       "    </tr>\n",
       "    <tr>\n",
       "      <th>50%</th>\n",
       "      <td>7088.000000</td>\n",
       "    </tr>\n",
       "    <tr>\n",
       "      <th>75%</th>\n",
       "      <td>59900.000000</td>\n",
       "    </tr>\n",
       "    <tr>\n",
       "      <th>max</th>\n",
       "      <td>149532.000000</td>\n",
       "    </tr>\n",
       "  </tbody>\n",
       "</table>\n",
       "</div>"
      ],
      "text/plain": [
       "             movieId\n",
       "count   10329.000000\n",
       "mean    31924.282893\n",
       "std     37734.741149\n",
       "min         1.000000\n",
       "25%      3240.000000\n",
       "50%      7088.000000\n",
       "75%     59900.000000\n",
       "max    149532.000000"
      ]
     },
     "execution_count": 55,
     "metadata": {},
     "output_type": "execute_result"
    }
   ],
   "source": [
    "# Describing dataset\n",
    "movies_df.describe()"
   ]
  },
  {
   "cell_type": "code",
   "execution_count": 56,
   "metadata": {},
   "outputs": [
    {
     "data": {
      "text/html": [
       "<div>\n",
       "<style scoped>\n",
       "    .dataframe tbody tr th:only-of-type {\n",
       "        vertical-align: middle;\n",
       "    }\n",
       "\n",
       "    .dataframe tbody tr th {\n",
       "        vertical-align: top;\n",
       "    }\n",
       "\n",
       "    .dataframe thead th {\n",
       "        text-align: right;\n",
       "    }\n",
       "</style>\n",
       "<table border=\"1\" class=\"dataframe\">\n",
       "  <thead>\n",
       "    <tr style=\"text-align: right;\">\n",
       "      <th></th>\n",
       "      <th>userId</th>\n",
       "      <th>movieId</th>\n",
       "      <th>rating</th>\n",
       "      <th>timestamp</th>\n",
       "    </tr>\n",
       "  </thead>\n",
       "  <tbody>\n",
       "    <tr>\n",
       "      <th>0</th>\n",
       "      <td>1</td>\n",
       "      <td>16</td>\n",
       "      <td>4.0</td>\n",
       "      <td>1217897793</td>\n",
       "    </tr>\n",
       "    <tr>\n",
       "      <th>1</th>\n",
       "      <td>1</td>\n",
       "      <td>24</td>\n",
       "      <td>1.5</td>\n",
       "      <td>1217895807</td>\n",
       "    </tr>\n",
       "    <tr>\n",
       "      <th>2</th>\n",
       "      <td>1</td>\n",
       "      <td>32</td>\n",
       "      <td>4.0</td>\n",
       "      <td>1217896246</td>\n",
       "    </tr>\n",
       "    <tr>\n",
       "      <th>3</th>\n",
       "      <td>1</td>\n",
       "      <td>47</td>\n",
       "      <td>4.0</td>\n",
       "      <td>1217896556</td>\n",
       "    </tr>\n",
       "    <tr>\n",
       "      <th>4</th>\n",
       "      <td>1</td>\n",
       "      <td>50</td>\n",
       "      <td>4.0</td>\n",
       "      <td>1217896523</td>\n",
       "    </tr>\n",
       "  </tbody>\n",
       "</table>\n",
       "</div>"
      ],
      "text/plain": [
       "   userId  movieId  rating   timestamp\n",
       "0       1       16     4.0  1217897793\n",
       "1       1       24     1.5  1217895807\n",
       "2       1       32     4.0  1217896246\n",
       "3       1       47     4.0  1217896556\n",
       "4       1       50     4.0  1217896523"
      ]
     },
     "execution_count": 56,
     "metadata": {},
     "output_type": "execute_result"
    }
   ],
   "source": [
    "# Displaying dataset\n",
    "ratings_df.head()"
   ]
  },
  {
   "cell_type": "code",
   "execution_count": 57,
   "metadata": {},
   "outputs": [
    {
     "data": {
      "text/plain": [
       "(105339, 4)"
      ]
     },
     "execution_count": 57,
     "metadata": {},
     "output_type": "execute_result"
    }
   ],
   "source": [
    "# Checking shape of dataset\n",
    "ratings_df.shape"
   ]
  },
  {
   "cell_type": "code",
   "execution_count": 58,
   "metadata": {},
   "outputs": [
    {
     "name": "stdout",
     "output_type": "stream",
     "text": [
      "userId         int64\n",
      "movieId        int64\n",
      "rating       float64\n",
      "timestamp      int64\n",
      "dtype: object\n"
     ]
    }
   ],
   "source": [
    "# Checking datatypes\n",
    "print(ratings_df.dtypes)"
   ]
  },
  {
   "cell_type": "code",
   "execution_count": 59,
   "metadata": {},
   "outputs": [
    {
     "data": {
      "text/html": [
       "<div>\n",
       "<style scoped>\n",
       "    .dataframe tbody tr th:only-of-type {\n",
       "        vertical-align: middle;\n",
       "    }\n",
       "\n",
       "    .dataframe tbody tr th {\n",
       "        vertical-align: top;\n",
       "    }\n",
       "\n",
       "    .dataframe thead th {\n",
       "        text-align: right;\n",
       "    }\n",
       "</style>\n",
       "<table border=\"1\" class=\"dataframe\">\n",
       "  <thead>\n",
       "    <tr style=\"text-align: right;\">\n",
       "      <th></th>\n",
       "      <th>userId</th>\n",
       "      <th>movieId</th>\n",
       "      <th>rating</th>\n",
       "      <th>timestamp</th>\n",
       "    </tr>\n",
       "  </thead>\n",
       "  <tbody>\n",
       "    <tr>\n",
       "      <th>count</th>\n",
       "      <td>105339.000000</td>\n",
       "      <td>105339.000000</td>\n",
       "      <td>105339.000000</td>\n",
       "      <td>1.053390e+05</td>\n",
       "    </tr>\n",
       "    <tr>\n",
       "      <th>mean</th>\n",
       "      <td>364.924539</td>\n",
       "      <td>13381.312477</td>\n",
       "      <td>3.516850</td>\n",
       "      <td>1.130424e+09</td>\n",
       "    </tr>\n",
       "    <tr>\n",
       "      <th>std</th>\n",
       "      <td>197.486905</td>\n",
       "      <td>26170.456869</td>\n",
       "      <td>1.044872</td>\n",
       "      <td>1.802660e+08</td>\n",
       "    </tr>\n",
       "    <tr>\n",
       "      <th>min</th>\n",
       "      <td>1.000000</td>\n",
       "      <td>1.000000</td>\n",
       "      <td>0.500000</td>\n",
       "      <td>8.285650e+08</td>\n",
       "    </tr>\n",
       "    <tr>\n",
       "      <th>25%</th>\n",
       "      <td>192.000000</td>\n",
       "      <td>1073.000000</td>\n",
       "      <td>3.000000</td>\n",
       "      <td>9.711008e+08</td>\n",
       "    </tr>\n",
       "    <tr>\n",
       "      <th>50%</th>\n",
       "      <td>383.000000</td>\n",
       "      <td>2497.000000</td>\n",
       "      <td>3.500000</td>\n",
       "      <td>1.115154e+09</td>\n",
       "    </tr>\n",
       "    <tr>\n",
       "      <th>75%</th>\n",
       "      <td>557.000000</td>\n",
       "      <td>5991.000000</td>\n",
       "      <td>4.000000</td>\n",
       "      <td>1.275496e+09</td>\n",
       "    </tr>\n",
       "    <tr>\n",
       "      <th>max</th>\n",
       "      <td>668.000000</td>\n",
       "      <td>149532.000000</td>\n",
       "      <td>5.000000</td>\n",
       "      <td>1.452405e+09</td>\n",
       "    </tr>\n",
       "  </tbody>\n",
       "</table>\n",
       "</div>"
      ],
      "text/plain": [
       "              userId        movieId         rating     timestamp\n",
       "count  105339.000000  105339.000000  105339.000000  1.053390e+05\n",
       "mean      364.924539   13381.312477       3.516850  1.130424e+09\n",
       "std       197.486905   26170.456869       1.044872  1.802660e+08\n",
       "min         1.000000       1.000000       0.500000  8.285650e+08\n",
       "25%       192.000000    1073.000000       3.000000  9.711008e+08\n",
       "50%       383.000000    2497.000000       3.500000  1.115154e+09\n",
       "75%       557.000000    5991.000000       4.000000  1.275496e+09\n",
       "max       668.000000  149532.000000       5.000000  1.452405e+09"
      ]
     },
     "execution_count": 59,
     "metadata": {},
     "output_type": "execute_result"
    }
   ],
   "source": [
    "# Describing dataset\n",
    "ratings_df.describe()"
   ]
  },
  {
   "cell_type": "code",
   "execution_count": 60,
   "metadata": {},
   "outputs": [],
   "source": [
    "# Converting datetype\n",
    "from datetime import datetime\n",
    "\n",
    "ratings_df[\"timestamp\"] = ratings_df[\"timestamp\"].apply(datetime.fromtimestamp)\n",
    "ratings_df[\"year\"] = ratings_df[\"timestamp\"].dt.year\n",
    "ratings_df[\"month\"] = ratings_df[\"timestamp\"].dt.month\n",
    "ratings_df[\"date\"] = ratings_df[\"timestamp\"].dt.date"
   ]
  },
  {
   "cell_type": "code",
   "execution_count": 61,
   "metadata": {},
   "outputs": [
    {
     "data": {
      "text/html": [
       "<div>\n",
       "<style scoped>\n",
       "    .dataframe tbody tr th:only-of-type {\n",
       "        vertical-align: middle;\n",
       "    }\n",
       "\n",
       "    .dataframe tbody tr th {\n",
       "        vertical-align: top;\n",
       "    }\n",
       "\n",
       "    .dataframe thead th {\n",
       "        text-align: right;\n",
       "    }\n",
       "</style>\n",
       "<table border=\"1\" class=\"dataframe\">\n",
       "  <thead>\n",
       "    <tr style=\"text-align: right;\">\n",
       "      <th></th>\n",
       "      <th>userId</th>\n",
       "      <th>movieId</th>\n",
       "      <th>rating</th>\n",
       "      <th>timestamp</th>\n",
       "      <th>year</th>\n",
       "      <th>month</th>\n",
       "      <th>date</th>\n",
       "    </tr>\n",
       "  </thead>\n",
       "  <tbody>\n",
       "    <tr>\n",
       "      <th>0</th>\n",
       "      <td>1</td>\n",
       "      <td>16</td>\n",
       "      <td>4.0</td>\n",
       "      <td>2008-08-05 02:56:33</td>\n",
       "      <td>2008</td>\n",
       "      <td>8</td>\n",
       "      <td>2008-08-05</td>\n",
       "    </tr>\n",
       "    <tr>\n",
       "      <th>1</th>\n",
       "      <td>1</td>\n",
       "      <td>24</td>\n",
       "      <td>1.5</td>\n",
       "      <td>2008-08-05 02:23:27</td>\n",
       "      <td>2008</td>\n",
       "      <td>8</td>\n",
       "      <td>2008-08-05</td>\n",
       "    </tr>\n",
       "    <tr>\n",
       "      <th>2</th>\n",
       "      <td>1</td>\n",
       "      <td>32</td>\n",
       "      <td>4.0</td>\n",
       "      <td>2008-08-05 02:30:46</td>\n",
       "      <td>2008</td>\n",
       "      <td>8</td>\n",
       "      <td>2008-08-05</td>\n",
       "    </tr>\n",
       "    <tr>\n",
       "      <th>3</th>\n",
       "      <td>1</td>\n",
       "      <td>47</td>\n",
       "      <td>4.0</td>\n",
       "      <td>2008-08-05 02:35:56</td>\n",
       "      <td>2008</td>\n",
       "      <td>8</td>\n",
       "      <td>2008-08-05</td>\n",
       "    </tr>\n",
       "    <tr>\n",
       "      <th>4</th>\n",
       "      <td>1</td>\n",
       "      <td>50</td>\n",
       "      <td>4.0</td>\n",
       "      <td>2008-08-05 02:35:23</td>\n",
       "      <td>2008</td>\n",
       "      <td>8</td>\n",
       "      <td>2008-08-05</td>\n",
       "    </tr>\n",
       "  </tbody>\n",
       "</table>\n",
       "</div>"
      ],
      "text/plain": [
       "   userId  movieId  rating           timestamp  year  month        date\n",
       "0       1       16     4.0 2008-08-05 02:56:33  2008      8  2008-08-05\n",
       "1       1       24     1.5 2008-08-05 02:23:27  2008      8  2008-08-05\n",
       "2       1       32     4.0 2008-08-05 02:30:46  2008      8  2008-08-05\n",
       "3       1       47     4.0 2008-08-05 02:35:56  2008      8  2008-08-05\n",
       "4       1       50     4.0 2008-08-05 02:35:23  2008      8  2008-08-05"
      ]
     },
     "execution_count": 61,
     "metadata": {},
     "output_type": "execute_result"
    }
   ],
   "source": [
    "ratings_df.head()"
   ]
  },
  {
   "cell_type": "code",
   "execution_count": 62,
   "metadata": {},
   "outputs": [
    {
     "name": "stdout",
     "output_type": "stream",
     "text": [
      "Total dataset: 105343\n"
     ]
    },
    {
     "data": {
      "text/html": [
       "<div>\n",
       "<style scoped>\n",
       "    .dataframe tbody tr th:only-of-type {\n",
       "        vertical-align: middle;\n",
       "    }\n",
       "\n",
       "    .dataframe tbody tr th {\n",
       "        vertical-align: top;\n",
       "    }\n",
       "\n",
       "    .dataframe thead th {\n",
       "        text-align: right;\n",
       "    }\n",
       "</style>\n",
       "<table border=\"1\" class=\"dataframe\">\n",
       "  <thead>\n",
       "    <tr style=\"text-align: right;\">\n",
       "      <th></th>\n",
       "      <th>movieId</th>\n",
       "      <th>title</th>\n",
       "      <th>genres</th>\n",
       "      <th>userId</th>\n",
       "      <th>rating</th>\n",
       "      <th>timestamp</th>\n",
       "      <th>year</th>\n",
       "      <th>month</th>\n",
       "      <th>date</th>\n",
       "    </tr>\n",
       "  </thead>\n",
       "  <tbody>\n",
       "    <tr>\n",
       "      <th>0</th>\n",
       "      <td>1</td>\n",
       "      <td>Toy Story (1995)</td>\n",
       "      <td>Adventure|Animation|Children|Comedy|Fantasy</td>\n",
       "      <td>2.0</td>\n",
       "      <td>5.0</td>\n",
       "      <td>1997-03-22 17:08:15</td>\n",
       "      <td>1997.0</td>\n",
       "      <td>3.0</td>\n",
       "      <td>1997-03-22</td>\n",
       "    </tr>\n",
       "    <tr>\n",
       "      <th>1</th>\n",
       "      <td>1</td>\n",
       "      <td>Toy Story (1995)</td>\n",
       "      <td>Adventure|Animation|Children|Comedy|Fantasy</td>\n",
       "      <td>5.0</td>\n",
       "      <td>4.0</td>\n",
       "      <td>2011-04-22 21:37:19</td>\n",
       "      <td>2011.0</td>\n",
       "      <td>4.0</td>\n",
       "      <td>2011-04-22</td>\n",
       "    </tr>\n",
       "    <tr>\n",
       "      <th>2</th>\n",
       "      <td>1</td>\n",
       "      <td>Toy Story (1995)</td>\n",
       "      <td>Adventure|Animation|Children|Comedy|Fantasy</td>\n",
       "      <td>8.0</td>\n",
       "      <td>5.0</td>\n",
       "      <td>1997-03-17 16:02:13</td>\n",
       "      <td>1997.0</td>\n",
       "      <td>3.0</td>\n",
       "      <td>1997-03-17</td>\n",
       "    </tr>\n",
       "    <tr>\n",
       "      <th>3</th>\n",
       "      <td>1</td>\n",
       "      <td>Toy Story (1995)</td>\n",
       "      <td>Adventure|Animation|Children|Comedy|Fantasy</td>\n",
       "      <td>11.0</td>\n",
       "      <td>4.0</td>\n",
       "      <td>1996-12-17 10:43:30</td>\n",
       "      <td>1996.0</td>\n",
       "      <td>12.0</td>\n",
       "      <td>1996-12-17</td>\n",
       "    </tr>\n",
       "    <tr>\n",
       "      <th>4</th>\n",
       "      <td>1</td>\n",
       "      <td>Toy Story (1995)</td>\n",
       "      <td>Adventure|Animation|Children|Comedy|Fantasy</td>\n",
       "      <td>14.0</td>\n",
       "      <td>4.0</td>\n",
       "      <td>1996-12-28 10:44:46</td>\n",
       "      <td>1996.0</td>\n",
       "      <td>12.0</td>\n",
       "      <td>1996-12-28</td>\n",
       "    </tr>\n",
       "  </tbody>\n",
       "</table>\n",
       "</div>"
      ],
      "text/plain": [
       "   movieId             title                                       genres  \\\n",
       "0        1  Toy Story (1995)  Adventure|Animation|Children|Comedy|Fantasy   \n",
       "1        1  Toy Story (1995)  Adventure|Animation|Children|Comedy|Fantasy   \n",
       "2        1  Toy Story (1995)  Adventure|Animation|Children|Comedy|Fantasy   \n",
       "3        1  Toy Story (1995)  Adventure|Animation|Children|Comedy|Fantasy   \n",
       "4        1  Toy Story (1995)  Adventure|Animation|Children|Comedy|Fantasy   \n",
       "\n",
       "   userId  rating           timestamp    year  month        date  \n",
       "0     2.0     5.0 1997-03-22 17:08:15  1997.0    3.0  1997-03-22  \n",
       "1     5.0     4.0 2011-04-22 21:37:19  2011.0    4.0  2011-04-22  \n",
       "2     8.0     5.0 1997-03-17 16:02:13  1997.0    3.0  1997-03-17  \n",
       "3    11.0     4.0 1996-12-17 10:43:30  1996.0   12.0  1996-12-17  \n",
       "4    14.0     4.0 1996-12-28 10:44:46  1996.0   12.0  1996-12-28  "
      ]
     },
     "execution_count": 62,
     "metadata": {},
     "output_type": "execute_result"
    }
   ],
   "source": [
    "# Merging datasets on movie_id\n",
    "all_movies  = pd.merge(left=movies_df, right=ratings_df, how=\"left\", on = \"movieId\")\n",
    "print(\"Total dataset: {}\".format(all_movies.shape[0]))\n",
    "all_movies.head()"
   ]
  },
  {
   "cell_type": "code",
   "execution_count": 63,
   "metadata": {},
   "outputs": [
    {
     "data": {
      "text/plain": [
       "(105343, 9)"
      ]
     },
     "execution_count": 63,
     "metadata": {},
     "output_type": "execute_result"
    }
   ],
   "source": [
    "# Checking shape of dataset\n",
    "all_movies.shape"
   ]
  },
  {
   "cell_type": "code",
   "execution_count": 64,
   "metadata": {},
   "outputs": [
    {
     "name": "stdout",
     "output_type": "stream",
     "text": [
      "movieId               int64\n",
      "title                object\n",
      "genres               object\n",
      "userId              float64\n",
      "rating              float64\n",
      "timestamp    datetime64[ns]\n",
      "year                float64\n",
      "month               float64\n",
      "date                 object\n",
      "dtype: object\n"
     ]
    }
   ],
   "source": [
    "# Checking datatypes\n",
    "print(all_movies.dtypes)"
   ]
  },
  {
   "cell_type": "code",
   "execution_count": 65,
   "metadata": {},
   "outputs": [
    {
     "data": {
      "text/html": [
       "<div>\n",
       "<style scoped>\n",
       "    .dataframe tbody tr th:only-of-type {\n",
       "        vertical-align: middle;\n",
       "    }\n",
       "\n",
       "    .dataframe tbody tr th {\n",
       "        vertical-align: top;\n",
       "    }\n",
       "\n",
       "    .dataframe thead th {\n",
       "        text-align: right;\n",
       "    }\n",
       "</style>\n",
       "<table border=\"1\" class=\"dataframe\">\n",
       "  <thead>\n",
       "    <tr style=\"text-align: right;\">\n",
       "      <th></th>\n",
       "      <th>movieId</th>\n",
       "      <th>userId</th>\n",
       "      <th>rating</th>\n",
       "      <th>year</th>\n",
       "      <th>month</th>\n",
       "    </tr>\n",
       "  </thead>\n",
       "  <tbody>\n",
       "    <tr>\n",
       "      <th>count</th>\n",
       "      <td>105343.000000</td>\n",
       "      <td>105339.000000</td>\n",
       "      <td>105339.000000</td>\n",
       "      <td>105339.000000</td>\n",
       "      <td>105339.000000</td>\n",
       "    </tr>\n",
       "    <tr>\n",
       "      <th>mean</th>\n",
       "      <td>13382.696373</td>\n",
       "      <td>364.924539</td>\n",
       "      <td>3.516850</td>\n",
       "      <td>2005.324970</td>\n",
       "      <td>6.477269</td>\n",
       "    </tr>\n",
       "    <tr>\n",
       "      <th>std</th>\n",
       "      <td>26172.698128</td>\n",
       "      <td>197.486905</td>\n",
       "      <td>1.044872</td>\n",
       "      <td>5.718372</td>\n",
       "      <td>3.548109</td>\n",
       "    </tr>\n",
       "    <tr>\n",
       "      <th>min</th>\n",
       "      <td>1.000000</td>\n",
       "      <td>1.000000</td>\n",
       "      <td>0.500000</td>\n",
       "      <td>1996.000000</td>\n",
       "      <td>1.000000</td>\n",
       "    </tr>\n",
       "    <tr>\n",
       "      <th>25%</th>\n",
       "      <td>1073.000000</td>\n",
       "      <td>192.000000</td>\n",
       "      <td>3.000000</td>\n",
       "      <td>2000.000000</td>\n",
       "      <td>3.000000</td>\n",
       "    </tr>\n",
       "    <tr>\n",
       "      <th>50%</th>\n",
       "      <td>2497.000000</td>\n",
       "      <td>383.000000</td>\n",
       "      <td>3.500000</td>\n",
       "      <td>2005.000000</td>\n",
       "      <td>6.000000</td>\n",
       "    </tr>\n",
       "    <tr>\n",
       "      <th>75%</th>\n",
       "      <td>5991.000000</td>\n",
       "      <td>557.000000</td>\n",
       "      <td>4.000000</td>\n",
       "      <td>2010.000000</td>\n",
       "      <td>10.000000</td>\n",
       "    </tr>\n",
       "    <tr>\n",
       "      <th>max</th>\n",
       "      <td>149532.000000</td>\n",
       "      <td>668.000000</td>\n",
       "      <td>5.000000</td>\n",
       "      <td>2016.000000</td>\n",
       "      <td>12.000000</td>\n",
       "    </tr>\n",
       "  </tbody>\n",
       "</table>\n",
       "</div>"
      ],
      "text/plain": [
       "             movieId         userId         rating           year  \\\n",
       "count  105343.000000  105339.000000  105339.000000  105339.000000   \n",
       "mean    13382.696373     364.924539       3.516850    2005.324970   \n",
       "std     26172.698128     197.486905       1.044872       5.718372   \n",
       "min         1.000000       1.000000       0.500000    1996.000000   \n",
       "25%      1073.000000     192.000000       3.000000    2000.000000   \n",
       "50%      2497.000000     383.000000       3.500000    2005.000000   \n",
       "75%      5991.000000     557.000000       4.000000    2010.000000   \n",
       "max    149532.000000     668.000000       5.000000    2016.000000   \n",
       "\n",
       "               month  \n",
       "count  105339.000000  \n",
       "mean        6.477269  \n",
       "std         3.548109  \n",
       "min         1.000000  \n",
       "25%         3.000000  \n",
       "50%         6.000000  \n",
       "75%        10.000000  \n",
       "max        12.000000  "
      ]
     },
     "execution_count": 65,
     "metadata": {},
     "output_type": "execute_result"
    }
   ],
   "source": [
    "# Describing dataset\n",
    "all_movies.describe()"
   ]
  },
  {
   "cell_type": "markdown",
   "metadata": {},
   "source": [
    "### Data Wrangling and Cleaning"
   ]
  },
  {
   "cell_type": "code",
   "execution_count": 66,
   "metadata": {},
   "outputs": [
    {
     "data": {
      "text/plain": [
       "0    105339\n",
       "6         4\n",
       "dtype: int64"
      ]
     },
     "execution_count": 66,
     "metadata": {},
     "output_type": "execute_result"
    }
   ],
   "source": [
    "# Checking NULL values per row\n",
    "amount_of_null_values_per_row = all_movies.isnull().sum(axis=1)\n",
    "pd.Series(amount_of_null_values_per_row).value_counts()"
   ]
  },
  {
   "cell_type": "code",
   "execution_count": 67,
   "metadata": {},
   "outputs": [
    {
     "data": {
      "text/plain": [
       "date         4\n",
       "month        4\n",
       "year         4\n",
       "timestamp    4\n",
       "rating       4\n",
       "userId       4\n",
       "genres       0\n",
       "title        0\n",
       "movieId      0\n",
       "dtype: int64"
      ]
     },
     "execution_count": 67,
     "metadata": {},
     "output_type": "execute_result"
    }
   ],
   "source": [
    "# Checking NULL values per variable\n",
    "missing = all_movies.isnull().sum().sort_values(ascending=False)\n",
    "missing"
   ]
  },
  {
   "cell_type": "code",
   "execution_count": 68,
   "metadata": {},
   "outputs": [
    {
     "data": {
      "text/html": [
       "<div>\n",
       "<style scoped>\n",
       "    .dataframe tbody tr th:only-of-type {\n",
       "        vertical-align: middle;\n",
       "    }\n",
       "\n",
       "    .dataframe tbody tr th {\n",
       "        vertical-align: top;\n",
       "    }\n",
       "\n",
       "    .dataframe thead th {\n",
       "        text-align: right;\n",
       "    }\n",
       "</style>\n",
       "<table border=\"1\" class=\"dataframe\">\n",
       "  <thead>\n",
       "    <tr style=\"text-align: right;\">\n",
       "      <th></th>\n",
       "      <th>Missing Values</th>\n",
       "      <th>% of Total Values</th>\n",
       "    </tr>\n",
       "  </thead>\n",
       "  <tbody>\n",
       "    <tr>\n",
       "      <th>movieId</th>\n",
       "      <td>0</td>\n",
       "      <td>0.000000</td>\n",
       "    </tr>\n",
       "    <tr>\n",
       "      <th>title</th>\n",
       "      <td>0</td>\n",
       "      <td>0.000000</td>\n",
       "    </tr>\n",
       "    <tr>\n",
       "      <th>genres</th>\n",
       "      <td>0</td>\n",
       "      <td>0.000000</td>\n",
       "    </tr>\n",
       "    <tr>\n",
       "      <th>userId</th>\n",
       "      <td>4</td>\n",
       "      <td>0.003797</td>\n",
       "    </tr>\n",
       "    <tr>\n",
       "      <th>rating</th>\n",
       "      <td>4</td>\n",
       "      <td>0.003797</td>\n",
       "    </tr>\n",
       "    <tr>\n",
       "      <th>timestamp</th>\n",
       "      <td>4</td>\n",
       "      <td>0.003797</td>\n",
       "    </tr>\n",
       "    <tr>\n",
       "      <th>year</th>\n",
       "      <td>4</td>\n",
       "      <td>0.003797</td>\n",
       "    </tr>\n",
       "    <tr>\n",
       "      <th>month</th>\n",
       "      <td>4</td>\n",
       "      <td>0.003797</td>\n",
       "    </tr>\n",
       "    <tr>\n",
       "      <th>date</th>\n",
       "      <td>4</td>\n",
       "      <td>0.003797</td>\n",
       "    </tr>\n",
       "  </tbody>\n",
       "</table>\n",
       "</div>"
      ],
      "text/plain": [
       "           Missing Values  % of Total Values\n",
       "movieId                 0           0.000000\n",
       "title                   0           0.000000\n",
       "genres                  0           0.000000\n",
       "userId                  4           0.003797\n",
       "rating                  4           0.003797\n",
       "timestamp               4           0.003797\n",
       "year                    4           0.003797\n",
       "month                   4           0.003797\n",
       "date                    4           0.003797"
      ]
     },
     "execution_count": 68,
     "metadata": {},
     "output_type": "execute_result"
    }
   ],
   "source": [
    "# Checking NULL values per column in relation to all values of a column\n",
    "def missing_values_table(df):\n",
    "    mis_val = all_movies.isnull().sum()\n",
    "    mis_val_percent = 100 * all_movies.isnull().sum()/len(all_movies)\n",
    "    mis_val_table = pd.concat([mis_val, mis_val_percent], axis=1)\n",
    "    mis_val_table_ren_columns = mis_val_table.rename(\n",
    "    columns = {0 : \"Missing Values\", 1 : \"% of Total Values\"})\n",
    "    return mis_val_table_ren_columns\n",
    "missing_values_table(all_movies)"
   ]
  },
  {
   "cell_type": "code",
   "execution_count": 69,
   "metadata": {},
   "outputs": [],
   "source": [
    "# Dropping NULL values\n",
    "all_movies.dropna(inplace=True) "
   ]
  },
  {
   "cell_type": "markdown",
   "metadata": {},
   "source": [
    "### Data Storage"
   ]
  },
  {
   "cell_type": "code",
   "execution_count": 70,
   "metadata": {},
   "outputs": [],
   "source": [
    "# Saving the cleaned data as csv\n",
    "all_movies.to_csv(r\"Dataset_cleaned\\Dataset_cleaned.csv\")"
   ]
  },
  {
   "cell_type": "markdown",
   "metadata": {},
   "source": [
    "## Data Analysis"
   ]
  },
  {
   "cell_type": "markdown",
   "metadata": {},
   "source": [
    "### Overview\n",
    "\n",
    "Finding outliers and most interesting findings in dataset using statistical concepts as well as data visualisation techniques"
   ]
  },
  {
   "cell_type": "code",
   "execution_count": 71,
   "metadata": {},
   "outputs": [
    {
     "name": "stdout",
     "output_type": "stream",
     "text": [
      "Number of Unique Users: 668\n",
      "Number of Movies: 10325\n"
     ]
    }
   ],
   "source": [
    "# Getting number of unique users and movies in dataset\n",
    "print(f\"Number of Unique Users: {all_movies['userId'].nunique()}\")\n",
    "print(f\"Number of Movies: {all_movies['movieId'].nunique()}\")"
   ]
  },
  {
   "cell_type": "code",
   "execution_count": 72,
   "metadata": {},
   "outputs": [
    {
     "data": {
      "image/png": "[encoded data removed]",
      "text/plain": [
       "<Figure size 720x360 with 1 Axes>"
      ]
     },
     "metadata": {
      "needs_background": "light"
     },
     "output_type": "display_data"
    }
   ],
   "source": [
    "# Exploring distribution of different ratings\n",
    "ratings_df[\"rating\"].hist(figsize=(10, 5))"
   ]
  },
  {
   "cell_type": "code",
   "execution_count": 76,
   "metadata": {},
   "outputs": [
    {
     "data": {
      "image/png": "[encoded data removed]",
      "text/plain": [
       "<Figure size 720x576 with 25 Axes>"
      ]
     },
     "metadata": {
      "needs_background": "light"
     },
     "output_type": "display_data"
    }
   ],
   "source": [
    "# Exploring distribution of different ratings over time\n",
    "ratings_df[\"rating\"].hist(by=ratings_df[\"year\"], figsize=(10, 8))"
   ]
  },
  {
   "cell_type": "code",
   "execution_count": 74,
   "metadata": {},
   "outputs": [
    {
     "data": {
      "image/png": "[encoded data removed]",
      "text/plain": [
       "<Figure size 720x360 with 1 Axes>"
      ]
     },
     "metadata": {
      "needs_background": "light"
     },
     "output_type": "display_data"
    }
   ],
   "source": [
    "# Exploring amount of ratings per year\n",
    "ratings_df[['year', 'rating']].groupby(['year']).count().reset_index().plot.bar(x='year', y='rating', title='Number of ratings per year', figsize=(10, 5));"
   ]
  },
  {
   "cell_type": "code",
   "execution_count": 78,
   "metadata": {},
   "outputs": [
    {
     "data": {
      "image/png": "[encoded data removed]",
      "text/plain": [
       "<Figure size 720x360 with 1 Axes>"
      ]
     },
     "metadata": {
      "needs_background": "light"
     },
     "output_type": "display_data"
    }
   ],
   "source": [
    "# Boxplot amount of ratings per user\n",
    "ratings_df[\"userId\"].value_counts().plot.box(figsize=(10, 5))"
   ]
  },
  {
   "cell_type": "code",
   "execution_count": null,
   "metadata": {},
   "outputs": [],
   "source": [
    "# There are some extreme values to seen, but as it still seems reasonable, extreme value will stay in data"
   ]
  },
  {
   "cell_type": "code",
   "execution_count": 81,
   "metadata": {},
   "outputs": [
    {
     "data": {
      "image/png": "[encoded data removed]",
      "text/plain": [
       "<Figure size 720x360 with 1 Axes>"
      ]
     },
     "metadata": {
      "needs_background": "light"
     },
     "output_type": "display_data"
    }
   ],
   "source": [
    "# Distribution of ratings per user\n",
    "ratings_df[\"userId\"].value_counts().hist(figsize=(10, 5))\n",
    "plt.show()"
   ]
  },
  {
   "cell_type": "code",
   "execution_count": 84,
   "metadata": {},
   "outputs": [
    {
     "data": {
      "image/png": "[encoded data removed]",
      "text/plain": [
       "<Figure size 720x360 with 1 Axes>"
      ]
     },
     "metadata": {
      "needs_background": "light"
     },
     "output_type": "display_data"
    }
   ],
   "source": [
    "# Exploring when user entered the dataset\n",
    "ratings_df[[\"year\", \"userId\"]].groupby([\"year\"])[\"userId\"].nunique().plot.bar(x=\"year\", y=\"userId\", figsize=(10, 5))\n",
    "plt.show()"
   ]
  },
  {
   "cell_type": "code",
   "execution_count": 86,
   "metadata": {},
   "outputs": [
    {
     "data": {
      "image/png": "[encoded data removed]",
      "text/plain": [
       "<Figure size 720x360 with 1 Axes>"
      ]
     },
     "metadata": {
      "needs_background": "light"
     },
     "output_type": "display_data"
    }
   ],
   "source": [
    "# Exploring amoung of ratings per movie\n",
    "ratings_df[\"movieId\"].value_counts().hist(figsize=(10, 5))\n",
    "plt.show()"
   ]
  },
  {
   "cell_type": "code",
   "execution_count": 90,
   "metadata": {},
   "outputs": [
    {
     "data": {
      "image/png": "[encoded data removed]",
      "text/plain": [
       "<Figure size 720x360 with 1 Axes>"
      ]
     },
     "metadata": {
      "needs_background": "light"
     },
     "output_type": "display_data"
    }
   ],
   "source": [
    "# Exploring release date per movie\n",
    "all_movies[\"movie_year\"] = all_movies[\"title\"].str.extract(\"\\((\\d{4})\\)\", expand=True)\n",
    "year_counts = all_movies[[\"title\", \"movie_year\"]].groupby(\"movie_year\").size()\n",
    "year_counts.plot.bar(\"movie_year\", \"title\", figsize=(10, 5))\n",
    "plt.show()"
   ]
  },
  {
   "cell_type": "markdown",
   "metadata": {},
   "source": [
    "### Visualisations"
   ]
  },
  {
   "cell_type": "code",
   "execution_count": 38,
   "metadata": {},
   "outputs": [
    {
     "data": {
      "image/png": "[encoded data removed]",
      "text/plain": [
       "<Figure size 1440x432 with 1 Axes>"
      ]
     },
     "metadata": {
      "needs_background": "light"
     },
     "output_type": "display_data"
    }
   ],
   "source": [
    "# top 10 movies per year\n",
    "fig, ax = plt.subplots(nrows = 1, ncols = 1, figsize = (20,6))\n",
    "all_movies[\"title\"].value_counts()[:10].plot(kind = \"bar\", ax = ax, color=\"red\")\n",
    "ax.set_title(\"Top 10 movies of rating counts\", fontsize = 20)\n",
    "ax.tick_params(labelrotation = 20)\n",
    "ax.set_ylabel(\"Movies Title\")\n",
    "ax.set_ylabel(\"Count\")\n",
    "plt.tight_layout()"
   ]
  },
  {
   "cell_type": "code",
   "execution_count": 91,
   "metadata": {},
   "outputs": [
    {
     "data": {
      "image/png": "[encoded data removed]",
      "text/plain": [
       "<Figure size 1440x432 with 1 Axes>"
      ]
     },
     "metadata": {
      "needs_background": "light"
     },
     "output_type": "display_data"
    }
   ],
   "source": [
    "# top 10 most rated users\n",
    "fig, ax = plt.subplots(nrows = 1, ncols = 1, figsize = (20,6))\n",
    "ratings_df[\"userId\"].value_counts()[:10].plot(kind = 'bar', ax = ax, color=\"purple\")\n",
    "ax.set_title(\"Top 10 users of rating counts\", fontsize = 20)\n",
    "ax.tick_params(labelrotation = 20)\n",
    "ax.set_ylabel(\"Count\")\n",
    "ax.set_ylabel(\"User ID\")\n",
    "plt.tight_layout()"
   ]
  },
  {
   "cell_type": "code",
   "execution_count": 92,
   "metadata": {},
   "outputs": [
    {
     "data": {
      "image/png": "[encoded data removed]",
      "text/plain": [
       "<Figure size 1440x576 with 1 Axes>"
      ]
     },
     "metadata": {
      "needs_background": "light"
     },
     "output_type": "display_data"
    }
   ],
   "source": [
    "# numbers of movies per year\n",
    "fig, ax = plt.subplots(figsize=(20, 8))\n",
    "ax.plot(year_counts.index, year_counts.values,color='green')\n",
    "ax.xaxis.set_major_locator(plt.MaxNLocator(30)) \n",
    "plt.title(\"Number of movies per Year\", fontsize=16)\n",
    "plt.xlabel(\"Year\", fontsize= 16)\n",
    "plt.ylabel(\"Number of  Movies Released\", fontsize=14)\n",
    "plt.show()"
   ]
  },
  {
   "cell_type": "code",
   "execution_count": 93,
   "metadata": {},
   "outputs": [
    {
     "data": {
      "text/plain": [
       "0        [Adventure, Animation, Children, Comedy, Fantasy]\n",
       "1                           [Adventure, Children, Fantasy]\n",
       "2                                        [Comedy, Romance]\n",
       "3                                 [Comedy, Drama, Romance]\n",
       "4                                                 [Comedy]\n",
       "                               ...                        \n",
       "10324                        [Animation, Children, Comedy]\n",
       "10325                                             [Comedy]\n",
       "10326                                             [Comedy]\n",
       "10327                                              [Drama]\n",
       "10328                                                   []\n",
       "Name: genres, Length: 10329, dtype: object"
      ]
     },
     "execution_count": 93,
     "metadata": {},
     "output_type": "execute_result"
    }
   ],
   "source": [
    "# top watched genres\n",
    "movies_df[\"genres\"] = movies_df[\"genres\"].replace(to_replace=\"(no genres listed)\", value=\"\")\n",
    "generlist = movies_df[\"genres\"].apply(lambda allgeners : str(allgeners).split(\"|\"))\n",
    "generlist"
   ]
  },
  {
   "cell_type": "code",
   "execution_count": 94,
   "metadata": {},
   "outputs": [
    {
     "data": {
      "image/png": "[encoded data removed]",
      "text/plain": [
       "<Figure size 1440x360 with 1 Axes>"
      ]
     },
     "metadata": {
      "needs_background": "light"
     },
     "output_type": "display_data"
    }
   ],
   "source": [
    "plt.figure(figsize=(20,5))\n",
    "count = {}\n",
    "\n",
    "for generlist_movie in generlist:\n",
    "    for gener in generlist_movie:\n",
    "        if(count.get(gener,False)):\n",
    "            count[gener]=count[gener]+1\n",
    "        else:\n",
    "            count[gener] = 1\n",
    "            \n",
    "plt.bar(count.keys(),count.values(),color=\"black\")\n",
    "plt.show()"
   ]
  },
  {
   "cell_type": "markdown",
   "metadata": {},
   "source": [
    "## Data Analysis sub project\n",
    "Sub project: Clustering people based on average genre ratings<br>\n",
    "Hypothesis: There is a genre which mostly drives different clusters for movies?<br>\n",
    "Tesing: Building an unsupervies machine leanring alg to identify most important feature for clustering people based on movie genres.<br>"
   ]
  },
  {
   "cell_type": "code",
   "execution_count": 139,
   "metadata": {},
   "outputs": [],
   "source": [
    "# importing packages for this sub project\n",
    "from sklearn.cluster import KMeans\n",
    "from sklearn.metrics import silhouette_score\n",
    "from sklearn.decomposition import PCA\n",
    "from sklearn import datasets"
   ]
  },
  {
   "cell_type": "markdown",
   "metadata": {},
   "source": [
    "### Data Exploration and Visualization"
   ]
  },
  {
   "cell_type": "code",
   "execution_count": 95,
   "metadata": {},
   "outputs": [
    {
     "data": {
      "text/html": [
       "<div>\n",
       "<style scoped>\n",
       "    .dataframe tbody tr th:only-of-type {\n",
       "        vertical-align: middle;\n",
       "    }\n",
       "\n",
       "    .dataframe tbody tr th {\n",
       "        vertical-align: top;\n",
       "    }\n",
       "\n",
       "    .dataframe thead th {\n",
       "        text-align: right;\n",
       "    }\n",
       "</style>\n",
       "<table border=\"1\" class=\"dataframe\">\n",
       "  <thead>\n",
       "    <tr style=\"text-align: right;\">\n",
       "      <th></th>\n",
       "      <th>avg_Adventure</th>\n",
       "      <th>avg_Animation</th>\n",
       "      <th>avg_Children</th>\n",
       "      <th>avg_Comedy</th>\n",
       "      <th>avg_Fantasy</th>\n",
       "      <th>avg_Romance</th>\n",
       "      <th>avg_Drama</th>\n",
       "      <th>avg_Action</th>\n",
       "      <th>avg_Crime</th>\n",
       "      <th>avg_Thriller</th>\n",
       "      <th>avg_Horror</th>\n",
       "      <th>avg_Mystery</th>\n",
       "      <th>avg_Sci-Fi</th>\n",
       "      <th>avg_IMAX</th>\n",
       "      <th>avg_War</th>\n",
       "      <th>avg_Musical</th>\n",
       "      <th>avg_Documentary</th>\n",
       "      <th>avg_Western</th>\n",
       "      <th>avg_Film-Noir</th>\n",
       "    </tr>\n",
       "  </thead>\n",
       "  <tbody>\n",
       "    <tr>\n",
       "      <th>1</th>\n",
       "      <td>3.69</td>\n",
       "      <td>4.00</td>\n",
       "      <td>3.17</td>\n",
       "      <td>3.27</td>\n",
       "      <td>3.81</td>\n",
       "      <td>3.34</td>\n",
       "      <td>3.84</td>\n",
       "      <td>3.83</td>\n",
       "      <td>4.21</td>\n",
       "      <td>3.87</td>\n",
       "      <td>3.69</td>\n",
       "      <td>3.81</td>\n",
       "      <td>3.40</td>\n",
       "      <td>3.88</td>\n",
       "      <td>4.20</td>\n",
       "      <td>4.00</td>\n",
       "      <td>0.5</td>\n",
       "      <td>3.5</td>\n",
       "      <td>4.00</td>\n",
       "    </tr>\n",
       "    <tr>\n",
       "      <th>2</th>\n",
       "      <td>4.00</td>\n",
       "      <td>4.50</td>\n",
       "      <td>4.33</td>\n",
       "      <td>3.55</td>\n",
       "      <td>4.25</td>\n",
       "      <td>3.75</td>\n",
       "      <td>4.36</td>\n",
       "      <td>3.89</td>\n",
       "      <td>4.33</td>\n",
       "      <td>3.92</td>\n",
       "      <td>NaN</td>\n",
       "      <td>3.50</td>\n",
       "      <td>3.80</td>\n",
       "      <td>NaN</td>\n",
       "      <td>NaN</td>\n",
       "      <td>4.00</td>\n",
       "      <td>NaN</td>\n",
       "      <td>NaN</td>\n",
       "      <td>NaN</td>\n",
       "    </tr>\n",
       "    <tr>\n",
       "      <th>3</th>\n",
       "      <td>3.44</td>\n",
       "      <td>3.50</td>\n",
       "      <td>3.80</td>\n",
       "      <td>3.74</td>\n",
       "      <td>3.40</td>\n",
       "      <td>3.64</td>\n",
       "      <td>3.97</td>\n",
       "      <td>3.23</td>\n",
       "      <td>4.00</td>\n",
       "      <td>3.71</td>\n",
       "      <td>4.00</td>\n",
       "      <td>4.25</td>\n",
       "      <td>3.33</td>\n",
       "      <td>4.00</td>\n",
       "      <td>3.67</td>\n",
       "      <td>3.67</td>\n",
       "      <td>5.0</td>\n",
       "      <td>4.0</td>\n",
       "      <td>NaN</td>\n",
       "    </tr>\n",
       "    <tr>\n",
       "      <th>4</th>\n",
       "      <td>4.24</td>\n",
       "      <td>4.75</td>\n",
       "      <td>4.33</td>\n",
       "      <td>4.02</td>\n",
       "      <td>4.25</td>\n",
       "      <td>4.16</td>\n",
       "      <td>4.34</td>\n",
       "      <td>3.79</td>\n",
       "      <td>3.94</td>\n",
       "      <td>3.72</td>\n",
       "      <td>3.50</td>\n",
       "      <td>4.40</td>\n",
       "      <td>4.33</td>\n",
       "      <td>NaN</td>\n",
       "      <td>4.56</td>\n",
       "      <td>4.33</td>\n",
       "      <td>NaN</td>\n",
       "      <td>4.2</td>\n",
       "      <td>4.33</td>\n",
       "    </tr>\n",
       "    <tr>\n",
       "      <th>5</th>\n",
       "      <td>3.55</td>\n",
       "      <td>4.10</td>\n",
       "      <td>3.90</td>\n",
       "      <td>3.44</td>\n",
       "      <td>3.84</td>\n",
       "      <td>3.74</td>\n",
       "      <td>2.68</td>\n",
       "      <td>2.76</td>\n",
       "      <td>2.58</td>\n",
       "      <td>1.77</td>\n",
       "      <td>3.00</td>\n",
       "      <td>2.67</td>\n",
       "      <td>3.67</td>\n",
       "      <td>4.28</td>\n",
       "      <td>0.50</td>\n",
       "      <td>4.09</td>\n",
       "      <td>NaN</td>\n",
       "      <td>NaN</td>\n",
       "      <td>NaN</td>\n",
       "    </tr>\n",
       "  </tbody>\n",
       "</table>\n",
       "</div>"
      ],
      "text/plain": [
       "   avg_Adventure  avg_Animation  avg_Children  avg_Comedy  avg_Fantasy  \\\n",
       "1           3.69           4.00          3.17        3.27         3.81   \n",
       "2           4.00           4.50          4.33        3.55         4.25   \n",
       "3           3.44           3.50          3.80        3.74         3.40   \n",
       "4           4.24           4.75          4.33        4.02         4.25   \n",
       "5           3.55           4.10          3.90        3.44         3.84   \n",
       "\n",
       "   avg_Romance  avg_Drama  avg_Action  avg_Crime  avg_Thriller  avg_Horror  \\\n",
       "1         3.34       3.84        3.83       4.21          3.87        3.69   \n",
       "2         3.75       4.36        3.89       4.33          3.92         NaN   \n",
       "3         3.64       3.97        3.23       4.00          3.71        4.00   \n",
       "4         4.16       4.34        3.79       3.94          3.72        3.50   \n",
       "5         3.74       2.68        2.76       2.58          1.77        3.00   \n",
       "\n",
       "   avg_Mystery  avg_Sci-Fi  avg_IMAX  avg_War  avg_Musical  avg_Documentary  \\\n",
       "1         3.81        3.40      3.88     4.20         4.00              0.5   \n",
       "2         3.50        3.80       NaN      NaN         4.00              NaN   \n",
       "3         4.25        3.33      4.00     3.67         3.67              5.0   \n",
       "4         4.40        4.33       NaN     4.56         4.33              NaN   \n",
       "5         2.67        3.67      4.28     0.50         4.09              NaN   \n",
       "\n",
       "   avg_Western  avg_Film-Noir  \n",
       "1          3.5           4.00  \n",
       "2          NaN            NaN  \n",
       "3          4.0            NaN  \n",
       "4          4.2           4.33  \n",
       "5          NaN            NaN  "
      ]
     },
     "execution_count": 95,
     "metadata": {},
     "output_type": "execute_result"
    }
   ],
   "source": [
    "# Creating new dataframe for avarage ratings per genres per user\n",
    "ratings = ratings_df\n",
    "movies = movies_df\n",
    "genres= [\"Adventure\", \"Animation\", \"Children\", \"Comedy\", \"Fantasy\", \"Romance\", \"Drama\", \"Action\", \"Crime\", \"Thriller\", \"Horror\", \"Mystery\", \"Sci-Fi\", \"IMAX\", \"War\", \"Musical\", \"Documentary\", \"Western\", \"Film-Noir\" ]\n",
    "#columns\n",
    "column_names = [\"avg_Adventure\", \"avg_Animation\", \"avg_Children\", \"avg_Comedy\", \"avg_Fantasy\", \"avg_Romance\", \"avg_Drama\", \"avg_Action\", \"avg_Crime\", \"avg_Thriller\", \"avg_Horror\", \"avg_Mystery\", \"avg_Sci-Fi\", \"avg_IMAX\", \"avg_War\", \"avg_Musical\", \"avg_Documentary\", \"avg_Western\", \"avg_Film-Noir\" ]\n",
    "#Empty frame\n",
    "genre_ratings = pd.DataFrame()\n",
    "#loop on genres\n",
    "for genre in genres:      \n",
    "  #getting genres\n",
    "  genre_movies = movies[movies[\"genres\"].str.contains(genre) ]\n",
    "  #avarage mean of ratings for this genre\n",
    "  avg_genre_votes_per_user = ratings[ratings[\"movieId\"].isin(genre_movies[\"movieId\"])].loc[:, [\"userId\", \"rating\"]].groupby([\"userId\"])[\"rating\"].mean().round(2)\n",
    "  #concate both empty dataframe with avg mean ratings\n",
    "  genre_ratings = pd.concat([genre_ratings, avg_genre_votes_per_user], axis=1)\n",
    "#add columns in empty dataframe\n",
    "genre_ratings.columns = column_names\n",
    "genre_ratings.head()\n"
   ]
  },
  {
   "cell_type": "code",
   "execution_count": 96,
   "metadata": {},
   "outputs": [
    {
     "data": {
      "text/html": [
       "<div>\n",
       "<style scoped>\n",
       "    .dataframe tbody tr th:only-of-type {\n",
       "        vertical-align: middle;\n",
       "    }\n",
       "\n",
       "    .dataframe tbody tr th {\n",
       "        vertical-align: top;\n",
       "    }\n",
       "\n",
       "    .dataframe thead th {\n",
       "        text-align: right;\n",
       "    }\n",
       "</style>\n",
       "<table border=\"1\" class=\"dataframe\">\n",
       "  <thead>\n",
       "    <tr style=\"text-align: right;\">\n",
       "      <th></th>\n",
       "      <th>avg_Adventure</th>\n",
       "      <th>avg_Animation</th>\n",
       "      <th>avg_Children</th>\n",
       "      <th>avg_Comedy</th>\n",
       "      <th>avg_Fantasy</th>\n",
       "      <th>avg_Romance</th>\n",
       "      <th>avg_Drama</th>\n",
       "      <th>avg_Action</th>\n",
       "      <th>avg_Crime</th>\n",
       "      <th>avg_Thriller</th>\n",
       "      <th>avg_Horror</th>\n",
       "      <th>avg_Mystery</th>\n",
       "      <th>avg_Sci-Fi</th>\n",
       "      <th>avg_IMAX</th>\n",
       "      <th>avg_War</th>\n",
       "      <th>avg_Musical</th>\n",
       "      <th>avg_Documentary</th>\n",
       "      <th>avg_Western</th>\n",
       "      <th>avg_Film-Noir</th>\n",
       "    </tr>\n",
       "  </thead>\n",
       "  <tbody>\n",
       "    <tr>\n",
       "      <th>count</th>\n",
       "      <td>667.000000</td>\n",
       "      <td>573.000000</td>\n",
       "      <td>614.00000</td>\n",
       "      <td>667.000000</td>\n",
       "      <td>645.000000</td>\n",
       "      <td>663.000000</td>\n",
       "      <td>668.000000</td>\n",
       "      <td>666.000000</td>\n",
       "      <td>663.000000</td>\n",
       "      <td>666.000000</td>\n",
       "      <td>596.000000</td>\n",
       "      <td>621.000000</td>\n",
       "      <td>659.000000</td>\n",
       "      <td>448.000000</td>\n",
       "      <td>601.000000</td>\n",
       "      <td>538.000000</td>\n",
       "      <td>250.000000</td>\n",
       "      <td>469.000000</td>\n",
       "      <td>288.000000</td>\n",
       "    </tr>\n",
       "    <tr>\n",
       "      <th>mean</th>\n",
       "      <td>3.592159</td>\n",
       "      <td>3.617923</td>\n",
       "      <td>3.47456</td>\n",
       "      <td>3.568801</td>\n",
       "      <td>3.568760</td>\n",
       "      <td>3.665475</td>\n",
       "      <td>3.797275</td>\n",
       "      <td>3.564625</td>\n",
       "      <td>3.778612</td>\n",
       "      <td>3.632102</td>\n",
       "      <td>3.488322</td>\n",
       "      <td>3.746425</td>\n",
       "      <td>3.519621</td>\n",
       "      <td>3.766496</td>\n",
       "      <td>3.896356</td>\n",
       "      <td>3.583309</td>\n",
       "      <td>3.860920</td>\n",
       "      <td>3.570341</td>\n",
       "      <td>3.960000</td>\n",
       "    </tr>\n",
       "    <tr>\n",
       "      <th>std</th>\n",
       "      <td>0.585551</td>\n",
       "      <td>0.786227</td>\n",
       "      <td>0.74576</td>\n",
       "      <td>0.514119</td>\n",
       "      <td>0.671811</td>\n",
       "      <td>0.575363</td>\n",
       "      <td>0.468231</td>\n",
       "      <td>0.578162</td>\n",
       "      <td>0.586997</td>\n",
       "      <td>0.537800</td>\n",
       "      <td>0.816810</td>\n",
       "      <td>0.692764</td>\n",
       "      <td>0.643270</td>\n",
       "      <td>0.799269</td>\n",
       "      <td>0.715246</td>\n",
       "      <td>0.809777</td>\n",
       "      <td>0.883518</td>\n",
       "      <td>0.849400</td>\n",
       "      <td>0.784983</td>\n",
       "    </tr>\n",
       "    <tr>\n",
       "      <th>min</th>\n",
       "      <td>0.500000</td>\n",
       "      <td>0.500000</td>\n",
       "      <td>0.50000</td>\n",
       "      <td>0.930000</td>\n",
       "      <td>0.780000</td>\n",
       "      <td>0.670000</td>\n",
       "      <td>1.620000</td>\n",
       "      <td>1.500000</td>\n",
       "      <td>0.500000</td>\n",
       "      <td>1.640000</td>\n",
       "      <td>0.500000</td>\n",
       "      <td>0.500000</td>\n",
       "      <td>1.000000</td>\n",
       "      <td>0.500000</td>\n",
       "      <td>0.500000</td>\n",
       "      <td>0.500000</td>\n",
       "      <td>0.500000</td>\n",
       "      <td>0.500000</td>\n",
       "      <td>1.500000</td>\n",
       "    </tr>\n",
       "    <tr>\n",
       "      <th>25%</th>\n",
       "      <td>3.250000</td>\n",
       "      <td>3.080000</td>\n",
       "      <td>3.00000</td>\n",
       "      <td>3.275000</td>\n",
       "      <td>3.120000</td>\n",
       "      <td>3.370000</td>\n",
       "      <td>3.517500</td>\n",
       "      <td>3.200000</td>\n",
       "      <td>3.460000</td>\n",
       "      <td>3.310000</td>\n",
       "      <td>3.000000</td>\n",
       "      <td>3.400000</td>\n",
       "      <td>3.120000</td>\n",
       "      <td>3.250000</td>\n",
       "      <td>3.500000</td>\n",
       "      <td>3.000000</td>\n",
       "      <td>3.352500</td>\n",
       "      <td>3.000000</td>\n",
       "      <td>3.500000</td>\n",
       "    </tr>\n",
       "    <tr>\n",
       "      <th>50%</th>\n",
       "      <td>3.620000</td>\n",
       "      <td>3.700000</td>\n",
       "      <td>3.50000</td>\n",
       "      <td>3.590000</td>\n",
       "      <td>3.580000</td>\n",
       "      <td>3.700000</td>\n",
       "      <td>3.820000</td>\n",
       "      <td>3.580000</td>\n",
       "      <td>3.820000</td>\n",
       "      <td>3.680000</td>\n",
       "      <td>3.500000</td>\n",
       "      <td>3.830000</td>\n",
       "      <td>3.570000</td>\n",
       "      <td>3.860000</td>\n",
       "      <td>4.000000</td>\n",
       "      <td>3.670000</td>\n",
       "      <td>4.000000</td>\n",
       "      <td>3.600000</td>\n",
       "      <td>4.000000</td>\n",
       "    </tr>\n",
       "    <tr>\n",
       "      <th>75%</th>\n",
       "      <td>4.000000</td>\n",
       "      <td>4.080000</td>\n",
       "      <td>4.00000</td>\n",
       "      <td>3.900000</td>\n",
       "      <td>4.000000</td>\n",
       "      <td>4.040000</td>\n",
       "      <td>4.140000</td>\n",
       "      <td>3.967500</td>\n",
       "      <td>4.170000</td>\n",
       "      <td>4.000000</td>\n",
       "      <td>4.000000</td>\n",
       "      <td>4.180000</td>\n",
       "      <td>4.000000</td>\n",
       "      <td>4.330000</td>\n",
       "      <td>4.380000</td>\n",
       "      <td>4.000000</td>\n",
       "      <td>4.500000</td>\n",
       "      <td>4.000000</td>\n",
       "      <td>4.500000</td>\n",
       "    </tr>\n",
       "    <tr>\n",
       "      <th>max</th>\n",
       "      <td>5.000000</td>\n",
       "      <td>5.000000</td>\n",
       "      <td>5.00000</td>\n",
       "      <td>5.000000</td>\n",
       "      <td>5.000000</td>\n",
       "      <td>5.000000</td>\n",
       "      <td>5.000000</td>\n",
       "      <td>5.000000</td>\n",
       "      <td>5.000000</td>\n",
       "      <td>5.000000</td>\n",
       "      <td>5.000000</td>\n",
       "      <td>5.000000</td>\n",
       "      <td>5.000000</td>\n",
       "      <td>5.000000</td>\n",
       "      <td>5.000000</td>\n",
       "      <td>5.000000</td>\n",
       "      <td>5.000000</td>\n",
       "      <td>5.000000</td>\n",
       "      <td>5.000000</td>\n",
       "    </tr>\n",
       "  </tbody>\n",
       "</table>\n",
       "</div>"
      ],
      "text/plain": [
       "       avg_Adventure  avg_Animation  avg_Children  avg_Comedy  avg_Fantasy  \\\n",
       "count     667.000000     573.000000     614.00000  667.000000   645.000000   \n",
       "mean        3.592159       3.617923       3.47456    3.568801     3.568760   \n",
       "std         0.585551       0.786227       0.74576    0.514119     0.671811   \n",
       "min         0.500000       0.500000       0.50000    0.930000     0.780000   \n",
       "25%         3.250000       3.080000       3.00000    3.275000     3.120000   \n",
       "50%         3.620000       3.700000       3.50000    3.590000     3.580000   \n",
       "75%         4.000000       4.080000       4.00000    3.900000     4.000000   \n",
       "max         5.000000       5.000000       5.00000    5.000000     5.000000   \n",
       "\n",
       "       avg_Romance   avg_Drama  avg_Action   avg_Crime  avg_Thriller  \\\n",
       "count   663.000000  668.000000  666.000000  663.000000    666.000000   \n",
       "mean      3.665475    3.797275    3.564625    3.778612      3.632102   \n",
       "std       0.575363    0.468231    0.578162    0.586997      0.537800   \n",
       "min       0.670000    1.620000    1.500000    0.500000      1.640000   \n",
       "25%       3.370000    3.517500    3.200000    3.460000      3.310000   \n",
       "50%       3.700000    3.820000    3.580000    3.820000      3.680000   \n",
       "75%       4.040000    4.140000    3.967500    4.170000      4.000000   \n",
       "max       5.000000    5.000000    5.000000    5.000000      5.000000   \n",
       "\n",
       "       avg_Horror  avg_Mystery  avg_Sci-Fi    avg_IMAX     avg_War  \\\n",
       "count  596.000000   621.000000  659.000000  448.000000  601.000000   \n",
       "mean     3.488322     3.746425    3.519621    3.766496    3.896356   \n",
       "std      0.816810     0.692764    0.643270    0.799269    0.715246   \n",
       "min      0.500000     0.500000    1.000000    0.500000    0.500000   \n",
       "25%      3.000000     3.400000    3.120000    3.250000    3.500000   \n",
       "50%      3.500000     3.830000    3.570000    3.860000    4.000000   \n",
       "75%      4.000000     4.180000    4.000000    4.330000    4.380000   \n",
       "max      5.000000     5.000000    5.000000    5.000000    5.000000   \n",
       "\n",
       "       avg_Musical  avg_Documentary  avg_Western  avg_Film-Noir  \n",
       "count   538.000000       250.000000   469.000000     288.000000  \n",
       "mean      3.583309         3.860920     3.570341       3.960000  \n",
       "std       0.809777         0.883518     0.849400       0.784983  \n",
       "min       0.500000         0.500000     0.500000       1.500000  \n",
       "25%       3.000000         3.352500     3.000000       3.500000  \n",
       "50%       3.670000         4.000000     3.600000       4.000000  \n",
       "75%       4.000000         4.500000     4.000000       4.500000  \n",
       "max       5.000000         5.000000     5.000000       5.000000  "
      ]
     },
     "execution_count": 96,
     "metadata": {},
     "output_type": "execute_result"
    }
   ],
   "source": [
    "genre_ratings.describe()"
   ]
  },
  {
   "cell_type": "code",
   "execution_count": 98,
   "metadata": {},
   "outputs": [],
   "source": [
    "#Dropping null values\n",
    "genre_ratings_cleaned=genre_ratings.dropna(axis=0, how=\"any\")"
   ]
  },
  {
   "cell_type": "code",
   "execution_count": 99,
   "metadata": {},
   "outputs": [
    {
     "data": {
      "text/html": [
       "<div>\n",
       "<style scoped>\n",
       "    .dataframe tbody tr th:only-of-type {\n",
       "        vertical-align: middle;\n",
       "    }\n",
       "\n",
       "    .dataframe tbody tr th {\n",
       "        vertical-align: top;\n",
       "    }\n",
       "\n",
       "    .dataframe thead th {\n",
       "        text-align: right;\n",
       "    }\n",
       "</style>\n",
       "<table border=\"1\" class=\"dataframe\">\n",
       "  <thead>\n",
       "    <tr style=\"text-align: right;\">\n",
       "      <th></th>\n",
       "      <th>avg_Adventure</th>\n",
       "      <th>avg_Animation</th>\n",
       "      <th>avg_Children</th>\n",
       "      <th>avg_Comedy</th>\n",
       "      <th>avg_Fantasy</th>\n",
       "      <th>avg_Romance</th>\n",
       "      <th>avg_Drama</th>\n",
       "      <th>avg_Action</th>\n",
       "      <th>avg_Crime</th>\n",
       "      <th>avg_Thriller</th>\n",
       "      <th>avg_Horror</th>\n",
       "      <th>avg_Mystery</th>\n",
       "      <th>avg_Sci-Fi</th>\n",
       "      <th>avg_IMAX</th>\n",
       "      <th>avg_War</th>\n",
       "      <th>avg_Musical</th>\n",
       "      <th>avg_Documentary</th>\n",
       "      <th>avg_Western</th>\n",
       "      <th>avg_Film-Noir</th>\n",
       "    </tr>\n",
       "  </thead>\n",
       "  <tbody>\n",
       "    <tr>\n",
       "      <th>1</th>\n",
       "      <td>3.69</td>\n",
       "      <td>4.00</td>\n",
       "      <td>3.17</td>\n",
       "      <td>3.27</td>\n",
       "      <td>3.81</td>\n",
       "      <td>3.34</td>\n",
       "      <td>3.84</td>\n",
       "      <td>3.83</td>\n",
       "      <td>4.21</td>\n",
       "      <td>3.87</td>\n",
       "      <td>3.69</td>\n",
       "      <td>3.81</td>\n",
       "      <td>3.40</td>\n",
       "      <td>3.88</td>\n",
       "      <td>4.20</td>\n",
       "      <td>4.00</td>\n",
       "      <td>0.5</td>\n",
       "      <td>3.50</td>\n",
       "      <td>4.0</td>\n",
       "    </tr>\n",
       "    <tr>\n",
       "      <th>7</th>\n",
       "      <td>3.57</td>\n",
       "      <td>3.50</td>\n",
       "      <td>2.40</td>\n",
       "      <td>3.50</td>\n",
       "      <td>3.21</td>\n",
       "      <td>3.83</td>\n",
       "      <td>3.44</td>\n",
       "      <td>3.74</td>\n",
       "      <td>3.85</td>\n",
       "      <td>3.72</td>\n",
       "      <td>3.57</td>\n",
       "      <td>3.86</td>\n",
       "      <td>3.54</td>\n",
       "      <td>3.17</td>\n",
       "      <td>3.64</td>\n",
       "      <td>5.00</td>\n",
       "      <td>4.0</td>\n",
       "      <td>3.00</td>\n",
       "      <td>5.0</td>\n",
       "    </tr>\n",
       "    <tr>\n",
       "      <th>22</th>\n",
       "      <td>2.81</td>\n",
       "      <td>3.77</td>\n",
       "      <td>3.10</td>\n",
       "      <td>3.10</td>\n",
       "      <td>3.11</td>\n",
       "      <td>3.22</td>\n",
       "      <td>3.45</td>\n",
       "      <td>2.73</td>\n",
       "      <td>3.39</td>\n",
       "      <td>3.23</td>\n",
       "      <td>3.10</td>\n",
       "      <td>3.43</td>\n",
       "      <td>2.82</td>\n",
       "      <td>4.50</td>\n",
       "      <td>2.55</td>\n",
       "      <td>2.72</td>\n",
       "      <td>2.5</td>\n",
       "      <td>2.00</td>\n",
       "      <td>3.5</td>\n",
       "    </tr>\n",
       "    <tr>\n",
       "      <th>28</th>\n",
       "      <td>3.44</td>\n",
       "      <td>3.75</td>\n",
       "      <td>3.62</td>\n",
       "      <td>3.43</td>\n",
       "      <td>3.09</td>\n",
       "      <td>3.71</td>\n",
       "      <td>3.55</td>\n",
       "      <td>3.25</td>\n",
       "      <td>3.40</td>\n",
       "      <td>3.32</td>\n",
       "      <td>4.00</td>\n",
       "      <td>3.60</td>\n",
       "      <td>3.71</td>\n",
       "      <td>4.00</td>\n",
       "      <td>3.15</td>\n",
       "      <td>3.67</td>\n",
       "      <td>4.0</td>\n",
       "      <td>3.17</td>\n",
       "      <td>4.0</td>\n",
       "    </tr>\n",
       "    <tr>\n",
       "      <th>44</th>\n",
       "      <td>3.28</td>\n",
       "      <td>3.42</td>\n",
       "      <td>3.63</td>\n",
       "      <td>3.37</td>\n",
       "      <td>3.58</td>\n",
       "      <td>3.52</td>\n",
       "      <td>3.20</td>\n",
       "      <td>3.16</td>\n",
       "      <td>3.12</td>\n",
       "      <td>3.20</td>\n",
       "      <td>3.27</td>\n",
       "      <td>3.58</td>\n",
       "      <td>3.35</td>\n",
       "      <td>0.50</td>\n",
       "      <td>3.22</td>\n",
       "      <td>3.08</td>\n",
       "      <td>4.5</td>\n",
       "      <td>3.20</td>\n",
       "      <td>4.5</td>\n",
       "    </tr>\n",
       "  </tbody>\n",
       "</table>\n",
       "</div>"
      ],
      "text/plain": [
       "    avg_Adventure  avg_Animation  avg_Children  avg_Comedy  avg_Fantasy  \\\n",
       "1            3.69           4.00          3.17        3.27         3.81   \n",
       "7            3.57           3.50          2.40        3.50         3.21   \n",
       "22           2.81           3.77          3.10        3.10         3.11   \n",
       "28           3.44           3.75          3.62        3.43         3.09   \n",
       "44           3.28           3.42          3.63        3.37         3.58   \n",
       "\n",
       "    avg_Romance  avg_Drama  avg_Action  avg_Crime  avg_Thriller  avg_Horror  \\\n",
       "1          3.34       3.84        3.83       4.21          3.87        3.69   \n",
       "7          3.83       3.44        3.74       3.85          3.72        3.57   \n",
       "22         3.22       3.45        2.73       3.39          3.23        3.10   \n",
       "28         3.71       3.55        3.25       3.40          3.32        4.00   \n",
       "44         3.52       3.20        3.16       3.12          3.20        3.27   \n",
       "\n",
       "    avg_Mystery  avg_Sci-Fi  avg_IMAX  avg_War  avg_Musical  avg_Documentary  \\\n",
       "1          3.81        3.40      3.88     4.20         4.00              0.5   \n",
       "7          3.86        3.54      3.17     3.64         5.00              4.0   \n",
       "22         3.43        2.82      4.50     2.55         2.72              2.5   \n",
       "28         3.60        3.71      4.00     3.15         3.67              4.0   \n",
       "44         3.58        3.35      0.50     3.22         3.08              4.5   \n",
       "\n",
       "    avg_Western  avg_Film-Noir  \n",
       "1          3.50            4.0  \n",
       "7          3.00            5.0  \n",
       "22         2.00            3.5  \n",
       "28         3.17            4.0  \n",
       "44         3.20            4.5  "
      ]
     },
     "execution_count": 99,
     "metadata": {},
     "output_type": "execute_result"
    }
   ],
   "source": [
    "genre_ratings_cleaned.head()"
   ]
  },
  {
   "cell_type": "markdown",
   "metadata": {},
   "source": [
    "### Model Training"
   ]
  },
  {
   "cell_type": "code",
   "execution_count": 125,
   "metadata": {},
   "outputs": [],
   "source": [
    "# Defining variable\n",
    "X = genre_ratings_cleaned"
   ]
  },
  {
   "cell_type": "code",
   "execution_count": 126,
   "metadata": {},
   "outputs": [],
   "source": [
    "# Getting model using kmeans\n",
    "#fit model\n",
    "kmeans = KMeans(n_clusters=3, random_state = 1234)\n",
    "kmeans.fit(X)\n",
    "\n",
    "# predict clusters\n",
    "clusters = kmeans.predict(X)"
   ]
  },
  {
   "cell_type": "code",
   "execution_count": 127,
   "metadata": {},
   "outputs": [
    {
     "name": "stdout",
     "output_type": "stream",
     "text": [
      "0    33\n",
      "1    31\n",
      "2    55\n",
      "dtype: int64\n"
     ]
    }
   ],
   "source": [
    "# Checking the size of the clusters\n",
    "print(pd.Series(clusters).value_counts().sort_index())"
   ]
  },
  {
   "cell_type": "code",
   "execution_count": 128,
   "metadata": {},
   "outputs": [],
   "source": [
    "### Evaluate model"
   ]
  },
  {
   "cell_type": "code",
   "execution_count": 129,
   "metadata": {},
   "outputs": [
    {
     "data": {
      "text/plain": [
       "431.02486220918877"
      ]
     },
     "execution_count": 129,
     "metadata": {},
     "output_type": "execute_result"
    }
   ],
   "source": [
    "# calculate insertia\n",
    "kmeans.inertia_"
   ]
  },
  {
   "cell_type": "code",
   "execution_count": 130,
   "metadata": {},
   "outputs": [
    {
     "name": "stdout",
     "output_type": "stream",
     "text": [
      "[1, 2, 3, 4, 5, 6, 7, 8, 9, 10, 11, 12, 13, 14]\n",
      "[883.7566050420172, 556.0437354978355, 431.02486220918877, 400.25859924242417, 373.85253790909076, 353.9619691380471, 337.22077313804715, 321.07530235321326, 304.06961620348073, 287.3675967029811, 276.13177007843154, 270.1045604049953, 256.8377901626882, 243.39473372329425]\n"
     ]
    },
    {
     "data": {
      "text/plain": [
       "Text(0.5, 1.0, 'Elbow Method showing the optimal k')"
      ]
     },
     "execution_count": 130,
     "metadata": {},
     "output_type": "execute_result"
    },
    {
     "data": {
      "image/png": "[encoded data removed]",
      "text/plain": [
       "<Figure size 1152x576 with 1 Axes>"
      ]
     },
     "metadata": {
      "needs_background": "light"
     },
     "output_type": "display_data"
    }
   ],
   "source": [
    "# Elbow method\n",
    "K = range(1, 15)\n",
    "print(list(K))\n",
    "inertia = []\n",
    "\n",
    "for k in K:\n",
    "    kmeans = KMeans(n_clusters=k,\n",
    "                    random_state=1234)\n",
    "    kmeans.fit(X)\n",
    "    inertia.append(kmeans.inertia_)\n",
    "\n",
    "print(inertia)\n",
    "\n",
    "import matplotlib.pyplot as plt\n",
    "%matplotlib inline\n",
    "\n",
    "plt.figure(figsize=(16,8))\n",
    "plt.plot(K, inertia, 'bx-')\n",
    "plt.xlabel('k')\n",
    "plt.ylabel('inertia')\n",
    "plt.xticks(np.arange(min(K), max(K)+1, 1.0))\n",
    "plt.title('Elbow Method showing the optimal k')"
   ]
  },
  {
   "cell_type": "code",
   "execution_count": 132,
   "metadata": {},
   "outputs": [
    {
     "name": "stdout",
     "output_type": "stream",
     "text": [
      "[2, 3, 4, 5, 6, 7, 8, 9, 10, 11, 12, 13, 14, 15, 16, 17, 18, 19]\n",
      "[0.30686574426915414, 0.26720047340021413, 0.24459193989835165, 0.23749622806014353, 0.1817058429816769, 0.18777293991480326, 0.14667471739321944, 0.14943902986678076, 0.15379324445029985, 0.1395076885458624, 0.126596219725294, 0.1413432917765, 0.15275021775085498, 0.15827359413005365, 0.1414062951029852, 0.13419912110625265, 0.12145407326250712, 0.11473661755141187]\n"
     ]
    },
    {
     "data": {
      "text/plain": [
       "Text(0.5, 1.0, 'Silhouette Score showing the optimal k')"
      ]
     },
     "execution_count": 132,
     "metadata": {},
     "output_type": "execute_result"
    },
    {
     "data": {
      "image/png": "[encoded data removed]",
      "text/plain": [
       "<Figure size 1152x576 with 1 Axes>"
      ]
     },
     "metadata": {
      "needs_background": "light"
     },
     "output_type": "display_data"
    }
   ],
   "source": [
    "# Silhouette Score\n",
    "K = range(2, 20)\n",
    "silhouette = []\n",
    "\n",
    "for k in K:\n",
    "    kmeans = KMeans(n_clusters=k,\n",
    "                    random_state=1234)\n",
    "    kmeans.fit(X)\n",
    "    silhouette.append(silhouette_score(X, kmeans.predict(X)))\n",
    "\n",
    "print(list(K))\n",
    "print(silhouette)\n",
    "\n",
    "plt.figure(figsize=(16,8))\n",
    "plt.plot(K, silhouette, 'bx-')\n",
    "plt.xlabel('k')\n",
    "plt.ylabel('silhouette score')\n",
    "plt.xticks(np.arange(min(K), max(K)+1, 1.0))\n",
    "plt.title('Silhouette Score showing the optimal k')"
   ]
  },
  {
   "cell_type": "markdown",
   "metadata": {},
   "source": [
    "Looking for upward spike, 7 seems to be the best cluster for this data, even if elbow method seems to predict something different"
   ]
  },
  {
   "cell_type": "code",
   "execution_count": 134,
   "metadata": {},
   "outputs": [
    {
     "data": {
      "text/html": [
       "<div>\n",
       "<style scoped>\n",
       "    .dataframe tbody tr th:only-of-type {\n",
       "        vertical-align: middle;\n",
       "    }\n",
       "\n",
       "    .dataframe tbody tr th {\n",
       "        vertical-align: top;\n",
       "    }\n",
       "\n",
       "    .dataframe thead th {\n",
       "        text-align: right;\n",
       "    }\n",
       "</style>\n",
       "<table border=\"1\" class=\"dataframe\">\n",
       "  <thead>\n",
       "    <tr style=\"text-align: right;\">\n",
       "      <th></th>\n",
       "      <th>avg_Adventure</th>\n",
       "      <th>avg_Animation</th>\n",
       "      <th>avg_Children</th>\n",
       "      <th>avg_Comedy</th>\n",
       "      <th>avg_Fantasy</th>\n",
       "      <th>avg_Romance</th>\n",
       "      <th>avg_Drama</th>\n",
       "      <th>avg_Action</th>\n",
       "      <th>avg_Crime</th>\n",
       "      <th>avg_Thriller</th>\n",
       "      <th>avg_Horror</th>\n",
       "      <th>avg_Mystery</th>\n",
       "      <th>avg_Sci-Fi</th>\n",
       "      <th>avg_IMAX</th>\n",
       "      <th>avg_War</th>\n",
       "      <th>avg_Musical</th>\n",
       "      <th>avg_Documentary</th>\n",
       "      <th>avg_Western</th>\n",
       "      <th>avg_Film-Noir</th>\n",
       "      <th>clusters</th>\n",
       "    </tr>\n",
       "  </thead>\n",
       "  <tbody>\n",
       "    <tr>\n",
       "      <th>1</th>\n",
       "      <td>3.69</td>\n",
       "      <td>4.00</td>\n",
       "      <td>3.17</td>\n",
       "      <td>3.27</td>\n",
       "      <td>3.81</td>\n",
       "      <td>3.34</td>\n",
       "      <td>3.84</td>\n",
       "      <td>3.83</td>\n",
       "      <td>4.21</td>\n",
       "      <td>3.87</td>\n",
       "      <td>3.69</td>\n",
       "      <td>3.81</td>\n",
       "      <td>3.40</td>\n",
       "      <td>3.88</td>\n",
       "      <td>4.20</td>\n",
       "      <td>4.00</td>\n",
       "      <td>0.50</td>\n",
       "      <td>3.50</td>\n",
       "      <td>4.00</td>\n",
       "      <td>1</td>\n",
       "    </tr>\n",
       "    <tr>\n",
       "      <th>7</th>\n",
       "      <td>3.57</td>\n",
       "      <td>3.50</td>\n",
       "      <td>2.40</td>\n",
       "      <td>3.50</td>\n",
       "      <td>3.21</td>\n",
       "      <td>3.83</td>\n",
       "      <td>3.44</td>\n",
       "      <td>3.74</td>\n",
       "      <td>3.85</td>\n",
       "      <td>3.72</td>\n",
       "      <td>3.57</td>\n",
       "      <td>3.86</td>\n",
       "      <td>3.54</td>\n",
       "      <td>3.17</td>\n",
       "      <td>3.64</td>\n",
       "      <td>5.00</td>\n",
       "      <td>4.00</td>\n",
       "      <td>3.00</td>\n",
       "      <td>5.00</td>\n",
       "      <td>1</td>\n",
       "    </tr>\n",
       "    <tr>\n",
       "      <th>22</th>\n",
       "      <td>2.81</td>\n",
       "      <td>3.77</td>\n",
       "      <td>3.10</td>\n",
       "      <td>3.10</td>\n",
       "      <td>3.11</td>\n",
       "      <td>3.22</td>\n",
       "      <td>3.45</td>\n",
       "      <td>2.73</td>\n",
       "      <td>3.39</td>\n",
       "      <td>3.23</td>\n",
       "      <td>3.10</td>\n",
       "      <td>3.43</td>\n",
       "      <td>2.82</td>\n",
       "      <td>4.50</td>\n",
       "      <td>2.55</td>\n",
       "      <td>2.72</td>\n",
       "      <td>2.50</td>\n",
       "      <td>2.00</td>\n",
       "      <td>3.50</td>\n",
       "      <td>2</td>\n",
       "    </tr>\n",
       "    <tr>\n",
       "      <th>28</th>\n",
       "      <td>3.44</td>\n",
       "      <td>3.75</td>\n",
       "      <td>3.62</td>\n",
       "      <td>3.43</td>\n",
       "      <td>3.09</td>\n",
       "      <td>3.71</td>\n",
       "      <td>3.55</td>\n",
       "      <td>3.25</td>\n",
       "      <td>3.40</td>\n",
       "      <td>3.32</td>\n",
       "      <td>4.00</td>\n",
       "      <td>3.60</td>\n",
       "      <td>3.71</td>\n",
       "      <td>4.00</td>\n",
       "      <td>3.15</td>\n",
       "      <td>3.67</td>\n",
       "      <td>4.00</td>\n",
       "      <td>3.17</td>\n",
       "      <td>4.00</td>\n",
       "      <td>1</td>\n",
       "    </tr>\n",
       "    <tr>\n",
       "      <th>44</th>\n",
       "      <td>3.28</td>\n",
       "      <td>3.42</td>\n",
       "      <td>3.63</td>\n",
       "      <td>3.37</td>\n",
       "      <td>3.58</td>\n",
       "      <td>3.52</td>\n",
       "      <td>3.20</td>\n",
       "      <td>3.16</td>\n",
       "      <td>3.12</td>\n",
       "      <td>3.20</td>\n",
       "      <td>3.27</td>\n",
       "      <td>3.58</td>\n",
       "      <td>3.35</td>\n",
       "      <td>0.50</td>\n",
       "      <td>3.22</td>\n",
       "      <td>3.08</td>\n",
       "      <td>4.50</td>\n",
       "      <td>3.20</td>\n",
       "      <td>4.50</td>\n",
       "      <td>1</td>\n",
       "    </tr>\n",
       "    <tr>\n",
       "      <th>...</th>\n",
       "      <td>...</td>\n",
       "      <td>...</td>\n",
       "      <td>...</td>\n",
       "      <td>...</td>\n",
       "      <td>...</td>\n",
       "      <td>...</td>\n",
       "      <td>...</td>\n",
       "      <td>...</td>\n",
       "      <td>...</td>\n",
       "      <td>...</td>\n",
       "      <td>...</td>\n",
       "      <td>...</td>\n",
       "      <td>...</td>\n",
       "      <td>...</td>\n",
       "      <td>...</td>\n",
       "      <td>...</td>\n",
       "      <td>...</td>\n",
       "      <td>...</td>\n",
       "      <td>...</td>\n",
       "      <td>...</td>\n",
       "    </tr>\n",
       "    <tr>\n",
       "      <th>628</th>\n",
       "      <td>4.17</td>\n",
       "      <td>4.25</td>\n",
       "      <td>3.94</td>\n",
       "      <td>4.19</td>\n",
       "      <td>4.25</td>\n",
       "      <td>4.07</td>\n",
       "      <td>4.26</td>\n",
       "      <td>4.12</td>\n",
       "      <td>4.25</td>\n",
       "      <td>4.16</td>\n",
       "      <td>4.17</td>\n",
       "      <td>4.00</td>\n",
       "      <td>4.19</td>\n",
       "      <td>4.33</td>\n",
       "      <td>4.35</td>\n",
       "      <td>4.38</td>\n",
       "      <td>4.60</td>\n",
       "      <td>3.70</td>\n",
       "      <td>4.50</td>\n",
       "      <td>0</td>\n",
       "    </tr>\n",
       "    <tr>\n",
       "      <th>634</th>\n",
       "      <td>3.12</td>\n",
       "      <td>2.00</td>\n",
       "      <td>3.00</td>\n",
       "      <td>3.35</td>\n",
       "      <td>3.44</td>\n",
       "      <td>3.64</td>\n",
       "      <td>3.80</td>\n",
       "      <td>2.95</td>\n",
       "      <td>3.50</td>\n",
       "      <td>3.46</td>\n",
       "      <td>3.62</td>\n",
       "      <td>3.71</td>\n",
       "      <td>3.58</td>\n",
       "      <td>3.50</td>\n",
       "      <td>4.36</td>\n",
       "      <td>2.25</td>\n",
       "      <td>5.00</td>\n",
       "      <td>4.00</td>\n",
       "      <td>4.50</td>\n",
       "      <td>1</td>\n",
       "    </tr>\n",
       "    <tr>\n",
       "      <th>642</th>\n",
       "      <td>3.61</td>\n",
       "      <td>3.67</td>\n",
       "      <td>2.94</td>\n",
       "      <td>2.50</td>\n",
       "      <td>3.37</td>\n",
       "      <td>3.81</td>\n",
       "      <td>3.68</td>\n",
       "      <td>3.34</td>\n",
       "      <td>3.43</td>\n",
       "      <td>3.84</td>\n",
       "      <td>3.43</td>\n",
       "      <td>3.89</td>\n",
       "      <td>3.63</td>\n",
       "      <td>3.19</td>\n",
       "      <td>3.73</td>\n",
       "      <td>1.25</td>\n",
       "      <td>3.42</td>\n",
       "      <td>4.62</td>\n",
       "      <td>4.00</td>\n",
       "      <td>1</td>\n",
       "    </tr>\n",
       "    <tr>\n",
       "      <th>659</th>\n",
       "      <td>3.25</td>\n",
       "      <td>2.89</td>\n",
       "      <td>3.30</td>\n",
       "      <td>3.07</td>\n",
       "      <td>3.62</td>\n",
       "      <td>3.09</td>\n",
       "      <td>3.29</td>\n",
       "      <td>3.23</td>\n",
       "      <td>3.33</td>\n",
       "      <td>3.28</td>\n",
       "      <td>3.06</td>\n",
       "      <td>3.37</td>\n",
       "      <td>2.93</td>\n",
       "      <td>3.41</td>\n",
       "      <td>3.04</td>\n",
       "      <td>3.33</td>\n",
       "      <td>4.20</td>\n",
       "      <td>3.00</td>\n",
       "      <td>3.25</td>\n",
       "      <td>1</td>\n",
       "    </tr>\n",
       "    <tr>\n",
       "      <th>668</th>\n",
       "      <td>2.79</td>\n",
       "      <td>2.90</td>\n",
       "      <td>2.82</td>\n",
       "      <td>2.63</td>\n",
       "      <td>2.65</td>\n",
       "      <td>2.86</td>\n",
       "      <td>2.91</td>\n",
       "      <td>2.66</td>\n",
       "      <td>2.88</td>\n",
       "      <td>2.67</td>\n",
       "      <td>2.35</td>\n",
       "      <td>2.74</td>\n",
       "      <td>2.53</td>\n",
       "      <td>2.78</td>\n",
       "      <td>3.11</td>\n",
       "      <td>2.92</td>\n",
       "      <td>2.96</td>\n",
       "      <td>3.01</td>\n",
       "      <td>3.28</td>\n",
       "      <td>2</td>\n",
       "    </tr>\n",
       "  </tbody>\n",
       "</table>\n",
       "<p>119 rows × 20 columns</p>\n",
       "</div>"
      ],
      "text/plain": [
       "     avg_Adventure  avg_Animation  avg_Children  avg_Comedy  avg_Fantasy  \\\n",
       "1             3.69           4.00          3.17        3.27         3.81   \n",
       "7             3.57           3.50          2.40        3.50         3.21   \n",
       "22            2.81           3.77          3.10        3.10         3.11   \n",
       "28            3.44           3.75          3.62        3.43         3.09   \n",
       "44            3.28           3.42          3.63        3.37         3.58   \n",
       "..             ...            ...           ...         ...          ...   \n",
       "628           4.17           4.25          3.94        4.19         4.25   \n",
       "634           3.12           2.00          3.00        3.35         3.44   \n",
       "642           3.61           3.67          2.94        2.50         3.37   \n",
       "659           3.25           2.89          3.30        3.07         3.62   \n",
       "668           2.79           2.90          2.82        2.63         2.65   \n",
       "\n",
       "     avg_Romance  avg_Drama  avg_Action  avg_Crime  avg_Thriller  avg_Horror  \\\n",
       "1           3.34       3.84        3.83       4.21          3.87        3.69   \n",
       "7           3.83       3.44        3.74       3.85          3.72        3.57   \n",
       "22          3.22       3.45        2.73       3.39          3.23        3.10   \n",
       "28          3.71       3.55        3.25       3.40          3.32        4.00   \n",
       "44          3.52       3.20        3.16       3.12          3.20        3.27   \n",
       "..           ...        ...         ...        ...           ...         ...   \n",
       "628         4.07       4.26        4.12       4.25          4.16        4.17   \n",
       "634         3.64       3.80        2.95       3.50          3.46        3.62   \n",
       "642         3.81       3.68        3.34       3.43          3.84        3.43   \n",
       "659         3.09       3.29        3.23       3.33          3.28        3.06   \n",
       "668         2.86       2.91        2.66       2.88          2.67        2.35   \n",
       "\n",
       "     avg_Mystery  avg_Sci-Fi  avg_IMAX  avg_War  avg_Musical  avg_Documentary  \\\n",
       "1           3.81        3.40      3.88     4.20         4.00             0.50   \n",
       "7           3.86        3.54      3.17     3.64         5.00             4.00   \n",
       "22          3.43        2.82      4.50     2.55         2.72             2.50   \n",
       "28          3.60        3.71      4.00     3.15         3.67             4.00   \n",
       "44          3.58        3.35      0.50     3.22         3.08             4.50   \n",
       "..           ...         ...       ...      ...          ...              ...   \n",
       "628         4.00        4.19      4.33     4.35         4.38             4.60   \n",
       "634         3.71        3.58      3.50     4.36         2.25             5.00   \n",
       "642         3.89        3.63      3.19     3.73         1.25             3.42   \n",
       "659         3.37        2.93      3.41     3.04         3.33             4.20   \n",
       "668         2.74        2.53      2.78     3.11         2.92             2.96   \n",
       "\n",
       "     avg_Western  avg_Film-Noir  clusters  \n",
       "1           3.50           4.00         1  \n",
       "7           3.00           5.00         1  \n",
       "22          2.00           3.50         2  \n",
       "28          3.17           4.00         1  \n",
       "44          3.20           4.50         1  \n",
       "..           ...            ...       ...  \n",
       "628         3.70           4.50         0  \n",
       "634         4.00           4.50         1  \n",
       "642         4.62           4.00         1  \n",
       "659         3.00           3.25         1  \n",
       "668         3.01           3.28         2  \n",
       "\n",
       "[119 rows x 20 columns]"
      ]
     },
     "execution_count": 134,
     "metadata": {},
     "output_type": "execute_result"
    }
   ],
   "source": [
    "# PCA for identifying relevant factors for clusters\n",
    "X_pca = genre_ratings_cleaned\n",
    "pd.DataFrame(X_pca)"
   ]
  },
  {
   "cell_type": "code",
   "execution_count": 135,
   "metadata": {},
   "outputs": [
    {
     "name": "stdout",
     "output_type": "stream",
     "text": [
      "           0         1         2         3         4         5         6   \\\n",
      "0   -0.265011  1.834002 -2.759685  0.730777 -0.161311 -0.221373  0.383200   \n",
      "1   -0.540663 -0.793372 -0.276799  0.118977 -1.343051 -0.386775  1.113313   \n",
      "2    2.026867  1.362380 -0.369480 -0.660441 -1.055813  0.448462 -0.815387   \n",
      "3   -0.221427  0.212268  0.446775 -0.159051 -0.613957  0.194915 -0.608667   \n",
      "4    1.056535 -2.036614  0.578711  1.730697 -0.220217 -0.931994 -0.413979   \n",
      "..        ...       ...       ...       ...       ...       ...       ...   \n",
      "114 -3.150566 -0.001050  0.253830  0.100416 -0.599311  0.171970  0.032230   \n",
      "115  0.079680 -1.802184  0.288879 -0.826998  0.376700  1.168104 -0.035943   \n",
      "116  0.409321 -0.880699 -0.980442  0.047774  1.319725  1.150641 -1.118431   \n",
      "117  1.026600  0.011987  0.848637 -0.295355 -0.067298  0.279463  0.038668   \n",
      "118  3.203879  0.133618 -0.000188 -0.351554  0.240945 -0.450311  0.033813   \n",
      "\n",
      "           7         8         9         10        11        12        13  \\\n",
      "0    0.314119 -0.151520 -0.216776 -0.145878  0.220987  0.113495  0.266243   \n",
      "1    0.686233 -0.471444  0.470921  0.090965 -0.258901  0.286061  0.169386   \n",
      "2    0.452409  0.574880 -0.068770 -0.013130 -0.256192  0.422643  0.218159   \n",
      "3    0.431214 -0.268422  0.006834  0.073209 -0.078709  0.069319  0.122443   \n",
      "4   -0.587624  0.157439  0.477766  0.225207  0.045766 -0.433031 -0.655208   \n",
      "..        ...       ...       ...       ...       ...       ...       ...   \n",
      "114 -0.125271 -0.180221  0.071111  0.022148 -0.037294  0.067685  0.117437   \n",
      "115 -0.396520 -0.263272 -0.860170  0.147656  0.008294 -0.670335 -0.462518   \n",
      "116 -0.561642  0.223472 -0.393165 -0.377165 -0.128045  0.621757 -0.522265   \n",
      "117  0.055375  0.008874  0.482960  0.078814  0.271516 -0.439368 -0.198522   \n",
      "118 -0.140758 -0.293533  0.084843 -0.006235 -0.037415 -0.053407  0.042413   \n",
      "\n",
      "           14        15        16        17        18        19  \n",
      "0    0.308972  0.060545  0.021466 -0.041479 -0.036183  0.072116  \n",
      "1   -0.464830  0.226798  0.091087 -0.151369 -0.142650  0.197449  \n",
      "2    0.243301 -0.244281 -0.111834 -0.071657 -0.000572 -0.141430  \n",
      "3   -0.595742 -0.061916 -0.140716  0.148261 -0.115575  0.033638  \n",
      "4   -0.227470  0.256135  0.106154  0.039645 -0.236589 -0.005164  \n",
      "..        ...       ...       ...       ...       ...       ...  \n",
      "114  0.031868 -0.087696  0.084250 -0.064329  0.037749 -0.062213  \n",
      "115 -0.088317 -0.377379  0.172328  0.068960  0.055177 -0.011519  \n",
      "116 -0.104573  0.417640 -0.326912 -0.029278 -0.134893  0.153414  \n",
      "117  0.297612  0.152851 -0.185873 -0.156942 -0.033975 -0.112827  \n",
      "118 -0.007250  0.090640 -0.079329 -0.070600 -0.052415  0.036281  \n",
      "\n",
      "[119 rows x 20 columns]\n"
     ]
    }
   ],
   "source": [
    "pca = PCA()\n",
    "pca.fit(X_pca)\n",
    "components = pca.transform(X_pca)\n",
    "print(pd.DataFrame(components))"
   ]
  },
  {
   "cell_type": "code",
   "execution_count": 136,
   "metadata": {},
   "outputs": [
    {
     "data": {
      "text/html": [
       "<div>\n",
       "<style scoped>\n",
       "    .dataframe tbody tr th:only-of-type {\n",
       "        vertical-align: middle;\n",
       "    }\n",
       "\n",
       "    .dataframe tbody tr th {\n",
       "        vertical-align: top;\n",
       "    }\n",
       "\n",
       "    .dataframe thead th {\n",
       "        text-align: right;\n",
       "    }\n",
       "</style>\n",
       "<table border=\"1\" class=\"dataframe\">\n",
       "  <thead>\n",
       "    <tr style=\"text-align: right;\">\n",
       "      <th></th>\n",
       "      <th>0</th>\n",
       "    </tr>\n",
       "  </thead>\n",
       "  <tbody>\n",
       "    <tr>\n",
       "      <th>0</th>\n",
       "      <td>0.58210</td>\n",
       "    </tr>\n",
       "    <tr>\n",
       "      <th>1</th>\n",
       "      <td>0.09649</td>\n",
       "    </tr>\n",
       "    <tr>\n",
       "      <th>2</th>\n",
       "      <td>0.07831</td>\n",
       "    </tr>\n",
       "    <tr>\n",
       "      <th>3</th>\n",
       "      <td>0.05960</td>\n",
       "    </tr>\n",
       "    <tr>\n",
       "      <th>4</th>\n",
       "      <td>0.04309</td>\n",
       "    </tr>\n",
       "    <tr>\n",
       "      <th>5</th>\n",
       "      <td>0.02938</td>\n",
       "    </tr>\n",
       "    <tr>\n",
       "      <th>6</th>\n",
       "      <td>0.01983</td>\n",
       "    </tr>\n",
       "    <tr>\n",
       "      <th>7</th>\n",
       "      <td>0.01690</td>\n",
       "    </tr>\n",
       "    <tr>\n",
       "      <th>8</th>\n",
       "      <td>0.01358</td>\n",
       "    </tr>\n",
       "    <tr>\n",
       "      <th>9</th>\n",
       "      <td>0.01244</td>\n",
       "    </tr>\n",
       "    <tr>\n",
       "      <th>10</th>\n",
       "      <td>0.01134</td>\n",
       "    </tr>\n",
       "    <tr>\n",
       "      <th>11</th>\n",
       "      <td>0.00900</td>\n",
       "    </tr>\n",
       "    <tr>\n",
       "      <th>12</th>\n",
       "      <td>0.00723</td>\n",
       "    </tr>\n",
       "    <tr>\n",
       "      <th>13</th>\n",
       "      <td>0.00607</td>\n",
       "    </tr>\n",
       "    <tr>\n",
       "      <th>14</th>\n",
       "      <td>0.00495</td>\n",
       "    </tr>\n",
       "    <tr>\n",
       "      <th>15</th>\n",
       "      <td>0.00334</td>\n",
       "    </tr>\n",
       "    <tr>\n",
       "      <th>16</th>\n",
       "      <td>0.00219</td>\n",
       "    </tr>\n",
       "    <tr>\n",
       "      <th>17</th>\n",
       "      <td>0.00172</td>\n",
       "    </tr>\n",
       "    <tr>\n",
       "      <th>18</th>\n",
       "      <td>0.00155</td>\n",
       "    </tr>\n",
       "    <tr>\n",
       "      <th>19</th>\n",
       "      <td>0.00087</td>\n",
       "    </tr>\n",
       "  </tbody>\n",
       "</table>\n",
       "</div>"
      ],
      "text/plain": [
       "          0\n",
       "0   0.58210\n",
       "1   0.09649\n",
       "2   0.07831\n",
       "3   0.05960\n",
       "4   0.04309\n",
       "5   0.02938\n",
       "6   0.01983\n",
       "7   0.01690\n",
       "8   0.01358\n",
       "9   0.01244\n",
       "10  0.01134\n",
       "11  0.00900\n",
       "12  0.00723\n",
       "13  0.00607\n",
       "14  0.00495\n",
       "15  0.00334\n",
       "16  0.00219\n",
       "17  0.00172\n",
       "18  0.00155\n",
       "19  0.00087"
      ]
     },
     "execution_count": 136,
     "metadata": {},
     "output_type": "execute_result"
    }
   ],
   "source": [
    "round(pd.DataFrame(pca.explained_variance_ratio_), 5)"
   ]
  },
  {
   "cell_type": "code",
   "execution_count": null,
   "metadata": {},
   "outputs": [],
   "source": [
    "## Conclusion\n",
    "* Summarize your data analysis result.\n",
    "* State your conclusion of your hypothesis testing.\n",
    "* Interpret your findings in terms of the human-understandable question you try to answer.\n",
    "* What are the next steps?"
   ]
  },
  {
   "cell_type": "code",
   "execution_count": null,
   "metadata": {},
   "outputs": [],
   "source": [
    "## Data Analysis main project\n",
    "### Overview\n",
    "### Data Exploration and Visualization\n",
    "### Model Training and Evaluation\n",
    "## Conclusion\n",
    "* Summarize your data analysis result.\n",
    "* State your conclusion of your hypothesis testing.\n",
    "* Interpret your findings in terms of the human-understandable question you try to answer.\n",
    "* What are the next steps?"
   ]
  },
  {
   "cell_type": "code",
   "execution_count": null,
   "metadata": {},
   "outputs": [],
   "source": []
  }
 ],
 "metadata": {
  "kernelspec": {
   "display_name": "Python 3",
   "language": "python",
   "name": "python3"
  },
  "language_info": {
   "codemirror_mode": {
    "name": "ipython",
    "version": 3
   },
   "file_extension": ".py",
   "mimetype": "text/x-python",
   "name": "python",
   "nbconvert_exporter": "python",
   "pygments_lexer": "ipython3",
   "version": "3.8.5"
  }
 },
 "nbformat": 4,
 "nbformat_minor": 4
}
