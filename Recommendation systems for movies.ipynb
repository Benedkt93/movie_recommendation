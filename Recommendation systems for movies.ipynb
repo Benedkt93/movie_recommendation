{
 "cells": [
  {
   "cell_type": "markdown",
   "metadata": {},
   "source": [
    "# Recommendation system for movies\n",
    "\n",
    "**Benedikt Roth**\n",
    "\n",
    "**data-pt-ber-08-20**"
   ]
  },
  {
   "cell_type": "markdown",
   "metadata": {},
   "source": [
    "## Overview\n",
    "<p>In this porject I would like to answer the following questions:<br>\n",
    "How do data recommendation systems work?<br>\n",
    "What Is the best apporach to build recommendation systems?<br>\n",
    "    \n",
    "HO: Best approach for building a recommendation system is to build a system by machine learning\n",
    "\n",
    "Therefore I will build different kind of recommendation systems and compare them at the end\n",
    "\n",
    "Main structure:<br>\n",
    "Process:<br>\n",
    "1.Data Acquisition<br>\n",
    "2.Data cleaning<br>\n",
    "3.Data exploration and analysis<br>\n",
    "4. Sub project: Is it possible to cluster people based on average ratings per genre?<br>\n",
    ">Feature selection<br>\n",
    ">Train Unsupervised Learning model<br>\n",
    ">Model evaluation using Elbow method and Silhouette score<br>\n",
    "    \n",
    "5. Building recommendation Engines:\n",
    ">Content Based Filtering<br>\n",
    ">Item-Item based Filtering<br>\n",
    ">User-Item based Filtering<br>\n",
    ">Model based Filtering<br>\n",
    ">Model based Filtering using ML approach:<br>\n",
    ">Train/Test Split<br>\n",
    ">Train Model<br>\n",
    ">Tuning Model<br>\n",
    ">Evaluate Model<br>\n",
    "6.Comparing different recommendation systems"
   ]
  },
  {
   "cell_type": "markdown",
   "metadata": {},
   "source": [
    "## Data Preparation\n",
    "### Overview:\n",
    "Data from MovieLen: MovieLen is a non-commercial, personalized movie recommendation website\n",
    "https://grouplens.org/datasets/movielens/\n",
    "\n",
    "size:(105339, 7)\n",
    "datatypes:int, float, timestamp"
   ]
  },
  {
   "cell_type": "code",
   "execution_count": null,
   "metadata": {},
   "outputs": [],
   "source": [
    "### Data Ingestion\n",
    "movies_df = pd.read_csv('./Dataset_original/movies.csv')\n",
    "ratings_df = pd.read_csv('./Dataset_original/ratings.csv')"
   ]
  },
  {
   "cell_type": "code",
   "execution_count": null,
   "metadata": {},
   "outputs": [],
   "source": [
    "### Data Wrangling and Cleaning\n"
   ]
  },
  {
   "cell_type": "code",
   "execution_count": null,
   "metadata": {},
   "outputs": [],
   "source": [
    "### Data Storage"
   ]
  },
  {
   "cell_type": "code",
   "execution_count": null,
   "metadata": {},
   "outputs": [],
   "source": [
    "## Data Analysis\n",
    "### Overview\n",
    "### Data Exploration and Visualization\n",
    "### Model Training and Evaluation\n",
    "## Conclusion\n",
    "* Summarize your data analysis result.\n",
    "* State your conclusion of your hypothesis testing.\n",
    "* Interpret your findings in terms of the human-understandable question you try to answer.\n",
    "* What are the next steps?"
   ]
  }
 ],
 "metadata": {
  "kernelspec": {
   "display_name": "Python 3",
   "language": "python",
   "name": "python3"
  },
  "language_info": {
   "codemirror_mode": {
    "name": "ipython",
    "version": 3
   },
   "file_extension": ".py",
   "mimetype": "text/x-python",
   "name": "python",
   "nbconvert_exporter": "python",
   "pygments_lexer": "ipython3",
   "version": "3.8.5"
  }
 },
 "nbformat": 4,
 "nbformat_minor": 4
}
