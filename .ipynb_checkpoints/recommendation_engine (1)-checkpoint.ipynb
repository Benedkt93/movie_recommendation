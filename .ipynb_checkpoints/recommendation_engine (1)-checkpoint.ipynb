{
 "cells": [
  {
   "cell_type": "markdown",
   "metadata": {
    "id": "wAITVCKGCbPT"
   },
   "source": [
    "# **`Movies Recommendation Engine`**\n"
   ]
  },
  {
   "cell_type": "code",
   "execution_count": null,
   "metadata": {
    "id": "cf8VJFNa3Bsj"
   },
   "outputs": [],
   "source": [
    "#importing libraries\n",
    "\n",
    "import pandas as pd\n",
    "import numpy as np\n",
    "import seaborn as sns\n",
    "import matplotlib.pyplot as plt\n",
    "import datetime\n",
    "\n",
    "\n",
    "from sklearn.feature_extraction.text import TfidfVectorizer\n",
    "from sklearn.metrics.pairwise import linear_kernel"
   ]
  },
  {
   "cell_type": "code",
   "execution_count": null,
   "metadata": {
    "colab": {
     "base_uri": "https://localhost:8080/"
    },
    "id": "3-xpMjFDOqBG",
    "outputId": "30f0efe3-675e-4c64-8345-28f536b6a6be"
   },
   "outputs": [
    {
     "name": "stdout",
     "output_type": "stream",
     "text": [
      "Drive already mounted at /content/drive; to attempt to forcibly remount, call drive.mount(\"/content/drive\", force_remount=True).\n"
     ]
    }
   ],
   "source": [
    "#reading a dataset from google drive\n",
    "from google.colab import drive\n",
    "drive.mount('/content/drive')"
   ]
  },
  {
   "cell_type": "markdown",
   "metadata": {
    "id": "hWn24gyZEtV9"
   },
   "source": [
    "**Dataset**\n",
    "\n"
   ]
  },
  {
   "cell_type": "code",
   "execution_count": null,
   "metadata": {
    "id": "8aTW6rUr_w1Z"
   },
   "outputs": [],
   "source": [
    "#reading movies and ratings dataset\n",
    "\n",
    "movies_df = pd.read_csv('/content/drive/MyDrive/recommendations/movies.csv')\n",
    "ratings_df = pd.read_csv('/content/drive/MyDrive/recommendations/ratings.csv')"
   ]
  },
  {
   "cell_type": "markdown",
   "metadata": {
    "id": "yYZQI-RaJzYB"
   },
   "source": [
    "**Movies.csv**\n",
    "\n",
    "***movieId*** – once the recommendation is done, we get a list of all similar movieId and get the title for each movie from this dataset.\n",
    "\n",
    "***genres*** – The type of movie."
   ]
  },
  {
   "cell_type": "code",
   "execution_count": null,
   "metadata": {
    "colab": {
     "base_uri": "https://localhost:8080/",
     "height": 198
    },
    "id": "qAj7zpeLJsZ5",
    "outputId": "9d6da63f-6a0d-45de-ea5d-b7bb86f20bbb"
   },
   "outputs": [
    {
     "data": {
      "text/html": [
       "<div>\n",
       "<style scoped>\n",
       "    .dataframe tbody tr th:only-of-type {\n",
       "        vertical-align: middle;\n",
       "    }\n",
       "\n",
       "    .dataframe tbody tr th {\n",
       "        vertical-align: top;\n",
       "    }\n",
       "\n",
       "    .dataframe thead th {\n",
       "        text-align: right;\n",
       "    }\n",
       "</style>\n",
       "<table border=\"1\" class=\"dataframe\">\n",
       "  <thead>\n",
       "    <tr style=\"text-align: right;\">\n",
       "      <th></th>\n",
       "      <th>movieId</th>\n",
       "      <th>title</th>\n",
       "      <th>genres</th>\n",
       "    </tr>\n",
       "  </thead>\n",
       "  <tbody>\n",
       "    <tr>\n",
       "      <th>0</th>\n",
       "      <td>1</td>\n",
       "      <td>Toy Story (1995)</td>\n",
       "      <td>Adventure|Animation|Children|Comedy|Fantasy</td>\n",
       "    </tr>\n",
       "    <tr>\n",
       "      <th>1</th>\n",
       "      <td>2</td>\n",
       "      <td>Jumanji (1995)</td>\n",
       "      <td>Adventure|Children|Fantasy</td>\n",
       "    </tr>\n",
       "    <tr>\n",
       "      <th>2</th>\n",
       "      <td>3</td>\n",
       "      <td>Grumpier Old Men (1995)</td>\n",
       "      <td>Comedy|Romance</td>\n",
       "    </tr>\n",
       "    <tr>\n",
       "      <th>3</th>\n",
       "      <td>4</td>\n",
       "      <td>Waiting to Exhale (1995)</td>\n",
       "      <td>Comedy|Drama|Romance</td>\n",
       "    </tr>\n",
       "    <tr>\n",
       "      <th>4</th>\n",
       "      <td>5</td>\n",
       "      <td>Father of the Bride Part II (1995)</td>\n",
       "      <td>Comedy</td>\n",
       "    </tr>\n",
       "  </tbody>\n",
       "</table>\n",
       "</div>"
      ],
      "text/plain": [
       "   movieId  ...                                       genres\n",
       "0        1  ...  Adventure|Animation|Children|Comedy|Fantasy\n",
       "1        2  ...                   Adventure|Children|Fantasy\n",
       "2        3  ...                               Comedy|Romance\n",
       "3        4  ...                         Comedy|Drama|Romance\n",
       "4        5  ...                                       Comedy\n",
       "\n",
       "[5 rows x 3 columns]"
      ]
     },
     "execution_count": 270,
     "metadata": {
      "tags": []
     },
     "output_type": "execute_result"
    }
   ],
   "source": [
    "#displaying movies dataset\n",
    "movies_df.head()"
   ]
  },
  {
   "cell_type": "code",
   "execution_count": null,
   "metadata": {
    "colab": {
     "base_uri": "https://localhost:8080/"
    },
    "id": "F-7fe3PKqnyJ",
    "outputId": "d0d0f44c-1e39-4a09-b810-06e73f6b0818"
   },
   "outputs": [
    {
     "data": {
      "text/plain": [
       "(10329, 3)"
      ]
     },
     "execution_count": 271,
     "metadata": {
      "tags": []
     },
     "output_type": "execute_result"
    }
   ],
   "source": [
    "#size of movies dataset\n",
    "movies_df.shape"
   ]
  },
  {
   "cell_type": "markdown",
   "metadata": {
    "id": "nVa7ztZ4KRi9"
   },
   "source": [
    "**Ratings.csv**\n",
    "\n",
    "***userId*** – unique for each user.\n",
    "\n",
    "***movieId*** – uniques movie ID to fetch the title.\n",
    "\n",
    "***rating*** – Ratings given by each user to all the movies using this we are going to predict the top similar movies user can watch.\n",
    "\n",
    "***Timestamp*** – timestamp of rating."
   ]
  },
  {
   "cell_type": "code",
   "execution_count": null,
   "metadata": {
    "colab": {
     "base_uri": "https://localhost:8080/",
     "height": 198
    },
    "id": "g3gvcn02HJ8n",
    "outputId": "4e642b7d-464b-4173-e6b3-6bf93643fe01"
   },
   "outputs": [
    {
     "data": {
      "text/html": [
       "<div>\n",
       "<style scoped>\n",
       "    .dataframe tbody tr th:only-of-type {\n",
       "        vertical-align: middle;\n",
       "    }\n",
       "\n",
       "    .dataframe tbody tr th {\n",
       "        vertical-align: top;\n",
       "    }\n",
       "\n",
       "    .dataframe thead th {\n",
       "        text-align: right;\n",
       "    }\n",
       "</style>\n",
       "<table border=\"1\" class=\"dataframe\">\n",
       "  <thead>\n",
       "    <tr style=\"text-align: right;\">\n",
       "      <th></th>\n",
       "      <th>userId</th>\n",
       "      <th>movieId</th>\n",
       "      <th>rating</th>\n",
       "      <th>timestamp</th>\n",
       "    </tr>\n",
       "  </thead>\n",
       "  <tbody>\n",
       "    <tr>\n",
       "      <th>0</th>\n",
       "      <td>1</td>\n",
       "      <td>16</td>\n",
       "      <td>4.0</td>\n",
       "      <td>1217897793</td>\n",
       "    </tr>\n",
       "    <tr>\n",
       "      <th>1</th>\n",
       "      <td>1</td>\n",
       "      <td>24</td>\n",
       "      <td>1.5</td>\n",
       "      <td>1217895807</td>\n",
       "    </tr>\n",
       "    <tr>\n",
       "      <th>2</th>\n",
       "      <td>1</td>\n",
       "      <td>32</td>\n",
       "      <td>4.0</td>\n",
       "      <td>1217896246</td>\n",
       "    </tr>\n",
       "    <tr>\n",
       "      <th>3</th>\n",
       "      <td>1</td>\n",
       "      <td>47</td>\n",
       "      <td>4.0</td>\n",
       "      <td>1217896556</td>\n",
       "    </tr>\n",
       "    <tr>\n",
       "      <th>4</th>\n",
       "      <td>1</td>\n",
       "      <td>50</td>\n",
       "      <td>4.0</td>\n",
       "      <td>1217896523</td>\n",
       "    </tr>\n",
       "  </tbody>\n",
       "</table>\n",
       "</div>"
      ],
      "text/plain": [
       "   userId  movieId  rating   timestamp\n",
       "0       1       16     4.0  1217897793\n",
       "1       1       24     1.5  1217895807\n",
       "2       1       32     4.0  1217896246\n",
       "3       1       47     4.0  1217896556\n",
       "4       1       50     4.0  1217896523"
      ]
     },
     "execution_count": 272,
     "metadata": {
      "tags": []
     },
     "output_type": "execute_result"
    }
   ],
   "source": [
    "#displaying rating rows\n",
    "ratings_df.head()"
   ]
  },
  {
   "cell_type": "markdown",
   "metadata": {
    "id": "7tLgonyV9--K"
   },
   "source": [
    "# Data Processing"
   ]
  },
  {
   "cell_type": "markdown",
   "metadata": {
    "id": "4q9XJYCOcWi1"
   },
   "source": [
    "**Timestamp to date time conversion**"
   ]
  },
  {
   "cell_type": "code",
   "execution_count": null,
   "metadata": {
    "colab": {
     "base_uri": "https://localhost:8080/",
     "height": 198
    },
    "id": "s308Yh73P0kC",
    "outputId": "e8811d15-8b0c-48be-dd59-098d38c5933c"
   },
   "outputs": [
    {
     "data": {
      "text/html": [
       "<div>\n",
       "<style scoped>\n",
       "    .dataframe tbody tr th:only-of-type {\n",
       "        vertical-align: middle;\n",
       "    }\n",
       "\n",
       "    .dataframe tbody tr th {\n",
       "        vertical-align: top;\n",
       "    }\n",
       "\n",
       "    .dataframe thead th {\n",
       "        text-align: right;\n",
       "    }\n",
       "</style>\n",
       "<table border=\"1\" class=\"dataframe\">\n",
       "  <thead>\n",
       "    <tr style=\"text-align: right;\">\n",
       "      <th></th>\n",
       "      <th>userId</th>\n",
       "      <th>movieId</th>\n",
       "      <th>rating</th>\n",
       "      <th>timestamp</th>\n",
       "    </tr>\n",
       "  </thead>\n",
       "  <tbody>\n",
       "    <tr>\n",
       "      <th>0</th>\n",
       "      <td>1</td>\n",
       "      <td>16</td>\n",
       "      <td>4.0</td>\n",
       "      <td>1970-01-01 00:00:01.217897793</td>\n",
       "    </tr>\n",
       "    <tr>\n",
       "      <th>1</th>\n",
       "      <td>1</td>\n",
       "      <td>24</td>\n",
       "      <td>1.5</td>\n",
       "      <td>1970-01-01 00:00:01.217895807</td>\n",
       "    </tr>\n",
       "    <tr>\n",
       "      <th>2</th>\n",
       "      <td>1</td>\n",
       "      <td>32</td>\n",
       "      <td>4.0</td>\n",
       "      <td>1970-01-01 00:00:01.217896246</td>\n",
       "    </tr>\n",
       "    <tr>\n",
       "      <th>3</th>\n",
       "      <td>1</td>\n",
       "      <td>47</td>\n",
       "      <td>4.0</td>\n",
       "      <td>1970-01-01 00:00:01.217896556</td>\n",
       "    </tr>\n",
       "    <tr>\n",
       "      <th>4</th>\n",
       "      <td>1</td>\n",
       "      <td>50</td>\n",
       "      <td>4.0</td>\n",
       "      <td>1970-01-01 00:00:01.217896523</td>\n",
       "    </tr>\n",
       "  </tbody>\n",
       "</table>\n",
       "</div>"
      ],
      "text/plain": [
       "   userId  movieId  rating                     timestamp\n",
       "0       1       16     4.0 1970-01-01 00:00:01.217897793\n",
       "1       1       24     1.5 1970-01-01 00:00:01.217895807\n",
       "2       1       32     4.0 1970-01-01 00:00:01.217896246\n",
       "3       1       47     4.0 1970-01-01 00:00:01.217896556\n",
       "4       1       50     4.0 1970-01-01 00:00:01.217896523"
      ]
     },
     "execution_count": 273,
     "metadata": {
      "tags": []
     },
     "output_type": "execute_result"
    }
   ],
   "source": [
    "#converting timestamp conversion\n",
    "ratings_df[\"timestamp\"]= pd.to_datetime(ratings_df.timestamp)\n",
    "ratings_df.head()"
   ]
  },
  {
   "cell_type": "markdown",
   "metadata": {
    "id": "FkRF1CfKcgEQ"
   },
   "source": [
    "**Number of Unique Users and Movies in dataset**"
   ]
  },
  {
   "cell_type": "code",
   "execution_count": null,
   "metadata": {
    "colab": {
     "base_uri": "https://localhost:8080/"
    },
    "id": "4ysa3_NTP8mJ",
    "outputId": "a5704365-4643-415f-c42a-ecaecba64829"
   },
   "outputs": [
    {
     "name": "stdout",
     "output_type": "stream",
     "text": [
      "Number of Unique Users: 668\n",
      "Number of Movies: 10325\n"
     ]
    }
   ],
   "source": [
    "print(f\"Number of Unique Users: {ratings_df['userId'].nunique()}\")\n",
    "print(f\"Number of Movies: {ratings_df['movieId'].nunique()}\")\n"
   ]
  },
  {
   "cell_type": "markdown",
   "metadata": {
    "id": "n6NdYgPVLlwL"
   },
   "source": [
    "**Merge Movies and Ratings Dataset**"
   ]
  },
  {
   "cell_type": "code",
   "execution_count": null,
   "metadata": {
    "colab": {
     "base_uri": "https://localhost:8080/",
     "height": 216
    },
    "id": "u_ksn3cLNw39",
    "outputId": "80271d95-c396-4777-8d6c-fa010fb36677"
   },
   "outputs": [
    {
     "name": "stdout",
     "output_type": "stream",
     "text": [
      "Total dataset: 105343\n"
     ]
    },
    {
     "data": {
      "text/html": [
       "<div>\n",
       "<style scoped>\n",
       "    .dataframe tbody tr th:only-of-type {\n",
       "        vertical-align: middle;\n",
       "    }\n",
       "\n",
       "    .dataframe tbody tr th {\n",
       "        vertical-align: top;\n",
       "    }\n",
       "\n",
       "    .dataframe thead th {\n",
       "        text-align: right;\n",
       "    }\n",
       "</style>\n",
       "<table border=\"1\" class=\"dataframe\">\n",
       "  <thead>\n",
       "    <tr style=\"text-align: right;\">\n",
       "      <th></th>\n",
       "      <th>movieId</th>\n",
       "      <th>title</th>\n",
       "      <th>genres</th>\n",
       "      <th>userId</th>\n",
       "      <th>rating</th>\n",
       "      <th>timestamp</th>\n",
       "    </tr>\n",
       "  </thead>\n",
       "  <tbody>\n",
       "    <tr>\n",
       "      <th>0</th>\n",
       "      <td>1</td>\n",
       "      <td>Toy Story (1995)</td>\n",
       "      <td>Adventure|Animation|Children|Comedy|Fantasy</td>\n",
       "      <td>2.0</td>\n",
       "      <td>5.0</td>\n",
       "      <td>1970-01-01 00:00:00.859046895</td>\n",
       "    </tr>\n",
       "    <tr>\n",
       "      <th>1</th>\n",
       "      <td>1</td>\n",
       "      <td>Toy Story (1995)</td>\n",
       "      <td>Adventure|Animation|Children|Comedy|Fantasy</td>\n",
       "      <td>5.0</td>\n",
       "      <td>4.0</td>\n",
       "      <td>1970-01-01 00:00:01.303501039</td>\n",
       "    </tr>\n",
       "    <tr>\n",
       "      <th>2</th>\n",
       "      <td>1</td>\n",
       "      <td>Toy Story (1995)</td>\n",
       "      <td>Adventure|Animation|Children|Comedy|Fantasy</td>\n",
       "      <td>8.0</td>\n",
       "      <td>5.0</td>\n",
       "      <td>1970-01-01 00:00:00.858610933</td>\n",
       "    </tr>\n",
       "    <tr>\n",
       "      <th>3</th>\n",
       "      <td>1</td>\n",
       "      <td>Toy Story (1995)</td>\n",
       "      <td>Adventure|Animation|Children|Comedy|Fantasy</td>\n",
       "      <td>11.0</td>\n",
       "      <td>4.0</td>\n",
       "      <td>1970-01-01 00:00:00.850815810</td>\n",
       "    </tr>\n",
       "    <tr>\n",
       "      <th>4</th>\n",
       "      <td>1</td>\n",
       "      <td>Toy Story (1995)</td>\n",
       "      <td>Adventure|Animation|Children|Comedy|Fantasy</td>\n",
       "      <td>14.0</td>\n",
       "      <td>4.0</td>\n",
       "      <td>1970-01-01 00:00:00.851766286</td>\n",
       "    </tr>\n",
       "  </tbody>\n",
       "</table>\n",
       "</div>"
      ],
      "text/plain": [
       "   movieId             title  ... rating                     timestamp\n",
       "0        1  Toy Story (1995)  ...    5.0 1970-01-01 00:00:00.859046895\n",
       "1        1  Toy Story (1995)  ...    4.0 1970-01-01 00:00:01.303501039\n",
       "2        1  Toy Story (1995)  ...    5.0 1970-01-01 00:00:00.858610933\n",
       "3        1  Toy Story (1995)  ...    4.0 1970-01-01 00:00:00.850815810\n",
       "4        1  Toy Story (1995)  ...    4.0 1970-01-01 00:00:00.851766286\n",
       "\n",
       "[5 rows x 6 columns]"
      ]
     },
     "execution_count": 274,
     "metadata": {
      "tags": []
     },
     "output_type": "execute_result"
    }
   ],
   "source": [
    "all_movies  = pd.merge(left=movies_df, right=ratings_df, how='left', on = 'movieId')\n",
    "\n",
    "print('Total dataset: {}'.format(all_movies.shape[0]))\n",
    "all_movies.head()"
   ]
  },
  {
   "cell_type": "markdown",
   "metadata": {
    "id": "Tm8C9vI4WYKg"
   },
   "source": [
    "**Box Plot**\n",
    "\n",
    "As, we can see there are not enough outliers in user rating's , we need to remove these two outliers here."
   ]
  },
  {
   "cell_type": "code",
   "execution_count": null,
   "metadata": {
    "colab": {
     "base_uri": "https://localhost:8080/",
     "height": 283
    },
    "id": "SIqzlOoBWbs4",
    "outputId": "ebf1ba08-4fa0-4bea-ecde-593f18ed1f29"
   },
   "outputs": [
    {
     "data": {
      "text/plain": [
       "<matplotlib.axes._subplots.AxesSubplot at 0x7fc644162ac8>"
      ]
     },
     "execution_count": 275,
     "metadata": {
      "tags": []
     },
     "output_type": "execute_result"
    },
    {
     "data": {
      "image/png": "[encoded data removed]",
      "text/plain": [
       "<Figure size 432x288 with 1 Axes>"
      ]
     },
     "metadata": {
      "needs_background": "light",
      "tags": []
     },
     "output_type": "display_data"
    }
   ],
   "source": [
    "#rating feature boxplot\n",
    "all_movies.boxplot(column=['rating'])"
   ]
  },
  {
   "cell_type": "code",
   "execution_count": null,
   "metadata": {
    "colab": {
     "base_uri": "https://localhost:8080/",
     "height": 287
    },
    "id": "yBECUcdUOp-s",
    "outputId": "0132adfc-4dd6-48c5-f8f0-fd1ae3b6dbe9"
   },
   "outputs": [
    {
     "data": {
      "text/plain": [
       "<matplotlib.axes._subplots.AxesSubplot at 0x7fc6440fea20>"
      ]
     },
     "execution_count": 276,
     "metadata": {
      "tags": []
     },
     "output_type": "execute_result"
    },
    {
     "data": {
      "image/png": "[encoded data removed]",
      "text/plain": [
       "<Figure size 432x288 with 1 Axes>"
      ]
     },
     "metadata": {
      "needs_background": "light",
      "tags": []
     },
     "output_type": "display_data"
    }
   ],
   "source": [
    "#userId feature boxplot\n",
    "all_movies.boxplot(column=['userId'])"
   ]
  },
  {
   "cell_type": "markdown",
   "metadata": {
    "id": "-5Rq1WrCe-nH"
   },
   "source": [
    "**Remove Outlier**\n",
    "\n",
    "\n",
    "As we see there are 2 outliers in a rating column by using boxplot,however there is no outlier in a user id.\n",
    "By using clip function, we are removing outliers\n"
   ]
  },
  {
   "cell_type": "code",
   "execution_count": null,
   "metadata": {
    "id": "uL5j8nC-O_Cs"
   },
   "outputs": [],
   "source": [
    "all_movies['rating']  = all_movies['rating'].clip(lower=all_movies['rating'].quantile(0.05),upper=all_movies['rating'].quantile(0.95))"
   ]
  },
  {
   "cell_type": "code",
   "execution_count": null,
   "metadata": {
    "colab": {
     "base_uri": "https://localhost:8080/",
     "height": 283
    },
    "id": "POnCkz0SQnBu",
    "outputId": "f481f25c-02d8-4358-dfe5-8fd82c31824e"
   },
   "outputs": [
    {
     "data": {
      "text/plain": [
       "<matplotlib.axes._subplots.AxesSubplot at 0x7fc6440cd048>"
      ]
     },
     "execution_count": 277,
     "metadata": {
      "tags": []
     },
     "output_type": "execute_result"
    },
    {
     "data": {
      "image/png": "[encoded data removed]",
      "text/plain": [
       "<Figure size 432x288 with 1 Axes>"
      ]
     },
     "metadata": {
      "needs_background": "light",
      "tags": []
     },
     "output_type": "display_data"
    }
   ],
   "source": [
    "#displaying boxplot after removing boxplot\n",
    "all_movies.boxplot(column=['rating'])\n"
   ]
  },
  {
   "cell_type": "markdown",
   "metadata": {
    "id": "JUqqgS0HcuSu"
   },
   "source": [
    "**dataset information**"
   ]
  },
  {
   "cell_type": "code",
   "execution_count": null,
   "metadata": {
    "colab": {
     "base_uri": "https://localhost:8080/"
    },
    "id": "V1QF2-w-mm3n",
    "outputId": "aa1c52b5-398a-47b4-fc3f-ff2747fedf62"
   },
   "outputs": [
    {
     "name": "stdout",
     "output_type": "stream",
     "text": [
      "<class 'pandas.core.frame.DataFrame'>\n",
      "Int64Index: 105343 entries, 0 to 105342\n",
      "Data columns (total 6 columns):\n",
      " #   Column     Non-Null Count   Dtype         \n",
      "---  ------     --------------   -----         \n",
      " 0   movieId    105343 non-null  int64         \n",
      " 1   title      105343 non-null  object        \n",
      " 2   genres     105343 non-null  object        \n",
      " 3   userId     105339 non-null  float64       \n",
      " 4   rating     105339 non-null  float64       \n",
      " 5   timestamp  105339 non-null  datetime64[ns]\n",
      "dtypes: datetime64[ns](1), float64(2), int64(1), object(2)\n",
      "memory usage: 5.6+ MB\n",
      "None\n"
     ]
    }
   ],
   "source": [
    "# Datatypes of a data\n",
    "print(all_movies.info())"
   ]
  },
  {
   "cell_type": "markdown",
   "metadata": {
    "id": "SzJwoYpYc2RD"
   },
   "source": [
    "**dataset description**"
   ]
  },
  {
   "cell_type": "code",
   "execution_count": null,
   "metadata": {
    "colab": {
     "base_uri": "https://localhost:8080/"
    },
    "id": "Zz0AHEClnK2m",
    "outputId": "3509f225-0e6c-4de9-e477-8cff872c06f5"
   },
   "outputs": [
    {
     "name": "stdout",
     "output_type": "stream",
     "text": [
      "             movieId         userId         rating\n",
      "count  105343.000000  105339.000000  105339.000000\n",
      "mean    13382.696373     364.924539       3.516850\n",
      "std     26172.698128     197.486905       1.044872\n",
      "min         1.000000       1.000000       0.500000\n",
      "25%      1073.000000     192.000000       3.000000\n",
      "50%      2497.000000     383.000000       3.500000\n",
      "75%      5991.000000     557.000000       4.000000\n",
      "max    149532.000000     668.000000       5.000000\n"
     ]
    }
   ],
   "source": [
    "# Summary of a dataset\n",
    "print(all_movies.describe())"
   ]
  },
  {
   "cell_type": "markdown",
   "metadata": {
    "id": "zVX6Fjoj-TOo"
   },
   "source": [
    "# Exploratory Data Analysis"
   ]
  },
  {
   "cell_type": "markdown",
   "metadata": {
    "id": "M8qHBo4T3BlV"
   },
   "source": [
    "**Top 10 most rated movies**\n",
    "\n",
    "Top movie is Pulp Fiction(1994), which has more then 300 ratings."
   ]
  },
  {
   "cell_type": "code",
   "execution_count": null,
   "metadata": {
    "colab": {
     "base_uri": "https://localhost:8080/",
     "height": 323
    },
    "id": "N4-pr39UObCV",
    "outputId": "0da984a9-7ae6-4d4d-9504-ef3b52bc859a"
   },
   "outputs": [
    {
     "data": {
      "image/png": "[encoded data removed]",
      "text/plain": [
       "<Figure size 1440x432 with 1 Axes>"
      ]
     },
     "metadata": {
      "needs_background": "light",
      "tags": []
     },
     "output_type": "display_data"
    }
   ],
   "source": [
    "fig, ax = plt.subplots(nrows = 1, ncols = 1, figsize = (20,6))\n",
    "all_movies['title'].value_counts()[:10].plot(kind = 'bar', ax = ax, color=\"red\")\n",
    "\n",
    "\n",
    "ax.set_title('Top 10 movies of rating counts', fontsize = 20)\n",
    "ax.tick_params(labelrotation = 20)\n",
    "\n",
    "\n",
    "ax.set_ylabel('Movies Title')\n",
    "ax.set_ylabel('Count')\n",
    "\n",
    "\n",
    "plt.tight_layout()"
   ]
  },
  {
   "cell_type": "markdown",
   "metadata": {
    "id": "8mBUigA82YfX"
   },
   "source": [
    "**Top 10 Users in the dataset based on ratings count**\n",
    "\n",
    "Top user with UserId is 668 viewed more then 5000 movies."
   ]
  },
  {
   "cell_type": "code",
   "execution_count": null,
   "metadata": {
    "colab": {
     "base_uri": "https://localhost:8080/",
     "height": 323
    },
    "id": "FKjyLpzyNsFG",
    "outputId": "6be6f110-d342-45fa-d813-c23b1a6ede5b"
   },
   "outputs": [
    {
     "data": {
      "image/png": "[encoded data removed]",
      "text/plain": [
       "<Figure size 1440x432 with 1 Axes>"
      ]
     },
     "metadata": {
      "needs_background": "light",
      "tags": []
     },
     "output_type": "display_data"
    }
   ],
   "source": [
    "fig, ax = plt.subplots(nrows = 1, ncols = 1, figsize = (20,6))\n",
    "ratings_df['userId'].value_counts()[:10].plot(kind = 'bar', ax = ax, color=\"purple\")\n",
    "\n",
    "ax.set_title('Top 10 users of rating counts', fontsize = 20)\n",
    "ax.tick_params(labelrotation = 20)\n",
    "\n",
    "ax.set_ylabel('Count')\n",
    "ax.set_ylabel('User ID')\n",
    "\n",
    "plt.tight_layout()"
   ]
  },
  {
   "cell_type": "code",
   "execution_count": null,
   "metadata": {
    "colab": {
     "base_uri": "https://localhost:8080/"
    },
    "id": "mgXbJDEsoy_g",
    "outputId": "389b2f58-31d8-42e0-a609-5e1065eb4d6e"
   },
   "outputs": [
    {
     "name": "stdout",
     "output_type": "stream",
     "text": [
      "Number of movies user 668 has rated:  5678\n"
     ]
    }
   ],
   "source": [
    " print(\"Number of movies user 668 has rated: \", len(all_movies[all_movies[\"userId\"]== 668]))"
   ]
  },
  {
   "cell_type": "markdown",
   "metadata": {
    "id": "EREft6Z81NAf"
   },
   "source": [
    "**Timeseries Number of movies released per year**\n",
    "\n",
    "The massive number of movies relaesed between 1992-2000.  It’s worth doing some research and asking questions to a domain expert to determine what could of happened during this period."
   ]
  },
  {
   "cell_type": "code",
   "execution_count": null,
   "metadata": {
    "id": "4KAuX8iOtqQk"
   },
   "outputs": [],
   "source": [
    "all_movies[\"year\"] = all_movies[\"title\"].str.extract(\"\\((\\d{4})\\)\", expand=True)\n",
    "year_counts = all_movies[[\"title\", \"year\"]].groupby(\"year\").size()"
   ]
  },
  {
   "cell_type": "code",
   "execution_count": null,
   "metadata": {
    "colab": {
     "base_uri": "https://localhost:8080/",
     "height": 580
    },
    "id": "1oiHwUwi9ATG",
    "outputId": "1a2593de-6dc5-426e-d98a-c932355ca9ea"
   },
   "outputs": [
    {
     "data": {
      "text/html": [
       "<div>\n",
       "<style scoped>\n",
       "    .dataframe tbody tr th:only-of-type {\n",
       "        vertical-align: middle;\n",
       "    }\n",
       "\n",
       "    .dataframe tbody tr th {\n",
       "        vertical-align: top;\n",
       "    }\n",
       "\n",
       "    .dataframe thead th {\n",
       "        text-align: right;\n",
       "    }\n",
       "</style>\n",
       "<table border=\"1\" class=\"dataframe\">\n",
       "  <thead>\n",
       "    <tr style=\"text-align: right;\">\n",
       "      <th></th>\n",
       "      <th>movieId</th>\n",
       "      <th>title</th>\n",
       "      <th>genres</th>\n",
       "      <th>userId</th>\n",
       "      <th>rating</th>\n",
       "      <th>timestamp</th>\n",
       "      <th>year</th>\n",
       "    </tr>\n",
       "  </thead>\n",
       "  <tbody>\n",
       "    <tr>\n",
       "      <th>0</th>\n",
       "      <td>1</td>\n",
       "      <td>Toy Story (1995)</td>\n",
       "      <td>Adventure|Animation|Children|Comedy|Fantasy</td>\n",
       "      <td>2.0</td>\n",
       "      <td>5.0</td>\n",
       "      <td>1970-01-01 00:00:00.859046895</td>\n",
       "      <td>1995</td>\n",
       "    </tr>\n",
       "    <tr>\n",
       "      <th>1</th>\n",
       "      <td>1</td>\n",
       "      <td>Toy Story (1995)</td>\n",
       "      <td>Adventure|Animation|Children|Comedy|Fantasy</td>\n",
       "      <td>5.0</td>\n",
       "      <td>4.0</td>\n",
       "      <td>1970-01-01 00:00:01.303501039</td>\n",
       "      <td>1995</td>\n",
       "    </tr>\n",
       "    <tr>\n",
       "      <th>2</th>\n",
       "      <td>1</td>\n",
       "      <td>Toy Story (1995)</td>\n",
       "      <td>Adventure|Animation|Children|Comedy|Fantasy</td>\n",
       "      <td>8.0</td>\n",
       "      <td>5.0</td>\n",
       "      <td>1970-01-01 00:00:00.858610933</td>\n",
       "      <td>1995</td>\n",
       "    </tr>\n",
       "    <tr>\n",
       "      <th>3</th>\n",
       "      <td>1</td>\n",
       "      <td>Toy Story (1995)</td>\n",
       "      <td>Adventure|Animation|Children|Comedy|Fantasy</td>\n",
       "      <td>11.0</td>\n",
       "      <td>4.0</td>\n",
       "      <td>1970-01-01 00:00:00.850815810</td>\n",
       "      <td>1995</td>\n",
       "    </tr>\n",
       "    <tr>\n",
       "      <th>4</th>\n",
       "      <td>1</td>\n",
       "      <td>Toy Story (1995)</td>\n",
       "      <td>Adventure|Animation|Children|Comedy|Fantasy</td>\n",
       "      <td>14.0</td>\n",
       "      <td>4.0</td>\n",
       "      <td>1970-01-01 00:00:00.851766286</td>\n",
       "      <td>1995</td>\n",
       "    </tr>\n",
       "    <tr>\n",
       "      <th>...</th>\n",
       "      <td>...</td>\n",
       "      <td>...</td>\n",
       "      <td>...</td>\n",
       "      <td>...</td>\n",
       "      <td>...</td>\n",
       "      <td>...</td>\n",
       "      <td>...</td>\n",
       "    </tr>\n",
       "    <tr>\n",
       "      <th>105338</th>\n",
       "      <td>148238</td>\n",
       "      <td>A Very Murray Christmas (2015)</td>\n",
       "      <td>Comedy</td>\n",
       "      <td>475.0</td>\n",
       "      <td>3.0</td>\n",
       "      <td>1970-01-01 00:00:01.451213043</td>\n",
       "      <td>2015</td>\n",
       "    </tr>\n",
       "    <tr>\n",
       "      <th>105339</th>\n",
       "      <td>148626</td>\n",
       "      <td>The Big Short (2015)</td>\n",
       "      <td>Drama</td>\n",
       "      <td>458.0</td>\n",
       "      <td>4.0</td>\n",
       "      <td>1970-01-01 00:00:01.452014749</td>\n",
       "      <td>2015</td>\n",
       "    </tr>\n",
       "    <tr>\n",
       "      <th>105340</th>\n",
       "      <td>148626</td>\n",
       "      <td>The Big Short (2015)</td>\n",
       "      <td>Drama</td>\n",
       "      <td>576.0</td>\n",
       "      <td>4.5</td>\n",
       "      <td>1970-01-01 00:00:01.451687664</td>\n",
       "      <td>2015</td>\n",
       "    </tr>\n",
       "    <tr>\n",
       "      <th>105341</th>\n",
       "      <td>148626</td>\n",
       "      <td>The Big Short (2015)</td>\n",
       "      <td>Drama</td>\n",
       "      <td>668.0</td>\n",
       "      <td>4.5</td>\n",
       "      <td>1970-01-01 00:00:01.451148148</td>\n",
       "      <td>2015</td>\n",
       "    </tr>\n",
       "    <tr>\n",
       "      <th>105342</th>\n",
       "      <td>149532</td>\n",
       "      <td>Marco Polo: One Hundred Eyes (2015)</td>\n",
       "      <td>(no genres listed)</td>\n",
       "      <td>475.0</td>\n",
       "      <td>4.0</td>\n",
       "      <td>1970-01-01 00:00:01.451223429</td>\n",
       "      <td>2015</td>\n",
       "    </tr>\n",
       "  </tbody>\n",
       "</table>\n",
       "<p>105343 rows × 7 columns</p>\n",
       "</div>"
      ],
      "text/plain": [
       "        movieId  ...  year\n",
       "0             1  ...  1995\n",
       "1             1  ...  1995\n",
       "2             1  ...  1995\n",
       "3             1  ...  1995\n",
       "4             1  ...  1995\n",
       "...         ...  ...   ...\n",
       "105338   148238  ...  2015\n",
       "105339   148626  ...  2015\n",
       "105340   148626  ...  2015\n",
       "105341   148626  ...  2015\n",
       "105342   149532  ...  2015\n",
       "\n",
       "[105343 rows x 7 columns]"
      ]
     },
     "execution_count": 284,
     "metadata": {
      "tags": []
     },
     "output_type": "execute_result"
    }
   ],
   "source": [
    "all_movies"
   ]
  },
  {
   "cell_type": "code",
   "execution_count": null,
   "metadata": {
    "colab": {
     "base_uri": "https://localhost:8080/",
     "height": 456
    },
    "id": "rq-wUFChyt1i",
    "outputId": "0e4dc83f-a30e-441f-f642-dc95af69059e"
   },
   "outputs": [
    {
     "data": {
      "image/png": "[encoded data removed]",
      "text/plain": [
       "<Figure size 1440x576 with 1 Axes>"
      ]
     },
     "metadata": {
      "needs_background": "light",
      "tags": []
     },
     "output_type": "display_data"
    }
   ],
   "source": [
    "fig, ax = plt.subplots(figsize=(20, 8))\n",
    "ax.plot(year_counts.index, year_counts.values,color='green')\n",
    "\n",
    "ax.xaxis.set_major_locator(plt.MaxNLocator(30)) \n",
    "plt.title(\"Number of movies per Year\", fontsize=16)\n",
    "\n",
    "plt.xlabel(\"Year\", fontsize= 16)\n",
    "plt.ylabel(\"Number of  Movies Released\", fontsize=14)\n",
    "\n",
    "\n",
    "plt.show()"
   ]
  },
  {
   "cell_type": "markdown",
   "metadata": {
    "id": "DtG8bdFCrktx"
   },
   "source": [
    "**Geners**\n",
    "\n",
    "replace empity geners with string \"no genres listed\" and split \"|\" into list seprated by comma."
   ]
  },
  {
   "cell_type": "code",
   "execution_count": null,
   "metadata": {
    "colab": {
     "base_uri": "https://localhost:8080/"
    },
    "id": "MRSeYfTHmbdU",
    "outputId": "af65c585-f2f6-4c47-86cb-94148d0c1d65"
   },
   "outputs": [
    {
     "data": {
      "text/plain": [
       "0        [Adventure, Animation, Children, Comedy, Fantasy]\n",
       "1                           [Adventure, Children, Fantasy]\n",
       "2                                        [Comedy, Romance]\n",
       "3                                 [Comedy, Drama, Romance]\n",
       "4                                                 [Comedy]\n",
       "                               ...                        \n",
       "10324                        [Animation, Children, Comedy]\n",
       "10325                                             [Comedy]\n",
       "10326                                             [Comedy]\n",
       "10327                                              [Drama]\n",
       "10328                                                   []\n",
       "Name: genres, Length: 10329, dtype: object"
      ]
     },
     "execution_count": 286,
     "metadata": {
      "tags": []
     },
     "output_type": "execute_result"
    }
   ],
   "source": [
    "movies_df['genres'] = movies_df['genres'].replace(to_replace=\"(no genres listed)\", value=\"\") \n",
    "generlist = movies_df['genres'].apply(lambda allgeners : str(allgeners).split(\"|\"))\n",
    "generlist"
   ]
  },
  {
   "cell_type": "markdown",
   "metadata": {
    "id": "yLnZnrRyI3EW"
   },
   "source": [
    "**Top Gener of movie**\n",
    "\n",
    "Drama is the top gener of movies watched."
   ]
  },
  {
   "cell_type": "code",
   "execution_count": null,
   "metadata": {
    "colab": {
     "base_uri": "https://localhost:8080/",
     "height": 343
    },
    "id": "ZA4hDhoBeP4P",
    "outputId": "90ffd388-1e6d-4a65-e218-9ab6233de328"
   },
   "outputs": [
    {
     "name": "stdout",
     "output_type": "stream",
     "text": [
      "dict_keys(['Adventure', 'Animation', 'Children', 'Comedy', 'Fantasy', 'Romance', 'Drama', 'Action', 'Crime', 'Thriller', 'Horror', 'Mystery', 'Sci-Fi', 'IMAX', 'War', 'Musical', 'Documentary', 'Western', 'Film-Noir', '']) \n",
      " dict_values([1164, 401, 540, 3515, 670, 1788, 5220, 1737, 1440, 2187, 1001, 675, 860, 152, 503, 409, 415, 235, 195, 7])\n"
     ]
    },
    {
     "data": {
      "image/png": "[encoded data removed]",
      "text/plain": [
       "<Figure size 1440x360 with 1 Axes>"
      ]
     },
     "metadata": {
      "needs_background": "light",
      "tags": []
     },
     "output_type": "display_data"
    }
   ],
   "source": [
    "plt.figure(figsize=(20,5))\n",
    "count = {}\n",
    "\n",
    "for generlist_movie in generlist:\n",
    "    for gener in generlist_movie:\n",
    "        if(count.get(gener,False)):\n",
    "            count[gener]=count[gener]+1\n",
    "        else:\n",
    "            count[gener] = 1       \n",
    "plt.bar(count.keys(),count.values(),color='black')\n",
    "print(count.keys(), \"\\n\",  count.values())"
   ]
  },
  {
   "cell_type": "code",
   "execution_count": null,
   "metadata": {
    "colab": {
     "base_uri": "https://localhost:8080/"
    },
    "id": "VLav1TnoQv6N",
    "outputId": "7ce5d2fc-1e27-49a8-a5da-74b4186d82d6"
   },
   "outputs": [
    {
     "data": {
      "text/plain": [
       "year         7\n",
       "timestamp    4\n",
       "rating       4\n",
       "userId       4\n",
       "genres       0\n",
       "title        0\n",
       "movieId      0\n",
       "dtype: int64"
      ]
     },
     "execution_count": 288,
     "metadata": {
      "tags": []
     },
     "output_type": "execute_result"
    }
   ],
   "source": [
    "#checking the null values\n",
    "missing = all_movies.isnull().sum().sort_values(ascending=False)\n",
    "missing"
   ]
  },
  {
   "cell_type": "markdown",
   "metadata": {
    "id": "WWY4XbNCSTxp"
   },
   "source": [
    "**Removed Missing Values**"
   ]
  },
  {
   "cell_type": "code",
   "execution_count": null,
   "metadata": {
    "id": "ClIu63QUQ47U"
   },
   "outputs": [],
   "source": [
    "all_movies.dropna(inplace=True) "
   ]
  },
  {
   "cell_type": "code",
   "execution_count": null,
   "metadata": {
    "colab": {
     "base_uri": "https://localhost:8080/"
    },
    "id": "A6tVdGdyRXpA",
    "outputId": "c9f21dd7-fdfe-4623-8b0e-640e1847ed1b"
   },
   "outputs": [
    {
     "data": {
      "text/plain": [
       "movieId      0\n",
       "title        0\n",
       "genres       0\n",
       "userId       0\n",
       "rating       0\n",
       "timestamp    0\n",
       "year         0\n",
       "dtype: int64"
      ]
     },
     "execution_count": 292,
     "metadata": {
      "tags": []
     },
     "output_type": "execute_result"
    }
   ],
   "source": [
    "#checking null values after dropping \n",
    "all_movies.isnull().sum()"
   ]
  },
  {
   "cell_type": "markdown",
   "metadata": {
    "id": "YRiS1WjAKF8t"
   },
   "source": [
    "**Save Data to pickle**"
   ]
  },
  {
   "cell_type": "code",
   "execution_count": null,
   "metadata": {
    "id": "Et5qpwhSKFE_"
   },
   "outputs": [],
   "source": [
    "#saving the cleaned data into .pkl\n",
    "all_movies.to_pickle(\"cleaned_dataset.pkl\")"
   ]
  },
  {
   "cell_type": "markdown",
   "metadata": {
    "id": "dIu5vTBSHvfg"
   },
   "source": [
    "***Geners columns for clustering***\n",
    "\n",
    "Taking a subset of users, and seeing what their preferred genres are.\n",
    "\n"
   ]
  },
  {
   "cell_type": "code",
   "execution_count": null,
   "metadata": {
    "colab": {
     "base_uri": "https://localhost:8080/",
     "height": 240
    },
    "id": "ANPLiPP6iou0",
    "outputId": "b14888b3-c4af-42f6-fd6d-8ea1643ec0c9"
   },
   "outputs": [
    {
     "data": {
      "text/html": [
       "<div>\n",
       "<style scoped>\n",
       "    .dataframe tbody tr th:only-of-type {\n",
       "        vertical-align: middle;\n",
       "    }\n",
       "\n",
       "    .dataframe tbody tr th {\n",
       "        vertical-align: top;\n",
       "    }\n",
       "\n",
       "    .dataframe thead th {\n",
       "        text-align: right;\n",
       "    }\n",
       "</style>\n",
       "<table border=\"1\" class=\"dataframe\">\n",
       "  <thead>\n",
       "    <tr style=\"text-align: right;\">\n",
       "      <th></th>\n",
       "      <th>avg_Adventure</th>\n",
       "      <th>avg_Animation</th>\n",
       "      <th>avg_Children</th>\n",
       "      <th>avg_Comedy</th>\n",
       "      <th>avg_Fantasy</th>\n",
       "      <th>avg_Romance</th>\n",
       "      <th>avg_Drama</th>\n",
       "      <th>avg_Action</th>\n",
       "      <th>avg_Crime</th>\n",
       "      <th>avg_Thriller</th>\n",
       "      <th>avg_Horror</th>\n",
       "      <th>avg_Mystery</th>\n",
       "      <th>avg_Sci-Fi</th>\n",
       "      <th>avg_IMAX</th>\n",
       "      <th>avg_War</th>\n",
       "      <th>avg_Musical</th>\n",
       "      <th>avg_Documentary</th>\n",
       "      <th>avg_Western</th>\n",
       "      <th>avg_Film-Noir</th>\n",
       "    </tr>\n",
       "  </thead>\n",
       "  <tbody>\n",
       "    <tr>\n",
       "      <th>1</th>\n",
       "      <td>3.69</td>\n",
       "      <td>4.00</td>\n",
       "      <td>3.17</td>\n",
       "      <td>3.27</td>\n",
       "      <td>3.81</td>\n",
       "      <td>3.34</td>\n",
       "      <td>3.84</td>\n",
       "      <td>3.83</td>\n",
       "      <td>4.21</td>\n",
       "      <td>3.87</td>\n",
       "      <td>3.69</td>\n",
       "      <td>3.81</td>\n",
       "      <td>3.40</td>\n",
       "      <td>3.88</td>\n",
       "      <td>4.20</td>\n",
       "      <td>4.00</td>\n",
       "      <td>0.5</td>\n",
       "      <td>3.5</td>\n",
       "      <td>4.00</td>\n",
       "    </tr>\n",
       "    <tr>\n",
       "      <th>2</th>\n",
       "      <td>4.00</td>\n",
       "      <td>4.50</td>\n",
       "      <td>4.33</td>\n",
       "      <td>3.55</td>\n",
       "      <td>4.25</td>\n",
       "      <td>3.75</td>\n",
       "      <td>4.36</td>\n",
       "      <td>3.89</td>\n",
       "      <td>4.33</td>\n",
       "      <td>3.92</td>\n",
       "      <td>NaN</td>\n",
       "      <td>3.50</td>\n",
       "      <td>3.80</td>\n",
       "      <td>NaN</td>\n",
       "      <td>NaN</td>\n",
       "      <td>4.00</td>\n",
       "      <td>NaN</td>\n",
       "      <td>NaN</td>\n",
       "      <td>NaN</td>\n",
       "    </tr>\n",
       "    <tr>\n",
       "      <th>3</th>\n",
       "      <td>3.44</td>\n",
       "      <td>3.50</td>\n",
       "      <td>3.80</td>\n",
       "      <td>3.74</td>\n",
       "      <td>3.40</td>\n",
       "      <td>3.64</td>\n",
       "      <td>3.97</td>\n",
       "      <td>3.23</td>\n",
       "      <td>4.00</td>\n",
       "      <td>3.71</td>\n",
       "      <td>4.00</td>\n",
       "      <td>4.25</td>\n",
       "      <td>3.33</td>\n",
       "      <td>4.00</td>\n",
       "      <td>3.67</td>\n",
       "      <td>3.67</td>\n",
       "      <td>5.0</td>\n",
       "      <td>4.0</td>\n",
       "      <td>NaN</td>\n",
       "    </tr>\n",
       "    <tr>\n",
       "      <th>4</th>\n",
       "      <td>4.24</td>\n",
       "      <td>4.75</td>\n",
       "      <td>4.33</td>\n",
       "      <td>4.02</td>\n",
       "      <td>4.25</td>\n",
       "      <td>4.16</td>\n",
       "      <td>4.34</td>\n",
       "      <td>3.79</td>\n",
       "      <td>3.94</td>\n",
       "      <td>3.72</td>\n",
       "      <td>3.50</td>\n",
       "      <td>4.40</td>\n",
       "      <td>4.33</td>\n",
       "      <td>NaN</td>\n",
       "      <td>4.56</td>\n",
       "      <td>4.33</td>\n",
       "      <td>NaN</td>\n",
       "      <td>4.2</td>\n",
       "      <td>4.33</td>\n",
       "    </tr>\n",
       "    <tr>\n",
       "      <th>5</th>\n",
       "      <td>3.55</td>\n",
       "      <td>4.10</td>\n",
       "      <td>3.90</td>\n",
       "      <td>3.44</td>\n",
       "      <td>3.84</td>\n",
       "      <td>3.74</td>\n",
       "      <td>2.68</td>\n",
       "      <td>2.76</td>\n",
       "      <td>2.58</td>\n",
       "      <td>1.77</td>\n",
       "      <td>3.00</td>\n",
       "      <td>2.67</td>\n",
       "      <td>3.67</td>\n",
       "      <td>4.28</td>\n",
       "      <td>0.50</td>\n",
       "      <td>4.09</td>\n",
       "      <td>NaN</td>\n",
       "      <td>NaN</td>\n",
       "      <td>NaN</td>\n",
       "    </tr>\n",
       "  </tbody>\n",
       "</table>\n",
       "</div>"
      ],
      "text/plain": [
       "   avg_Adventure  avg_Animation  ...  avg_Western  avg_Film-Noir\n",
       "1           3.69           4.00  ...          3.5           4.00\n",
       "2           4.00           4.50  ...          NaN            NaN\n",
       "3           3.44           3.50  ...          4.0            NaN\n",
       "4           4.24           4.75  ...          4.2           4.33\n",
       "5           3.55           4.10  ...          NaN            NaN\n",
       "\n",
       "[5 rows x 19 columns]"
      ]
     },
     "execution_count": 28,
     "metadata": {
      "tags": []
     },
     "output_type": "execute_result"
    }
   ],
   "source": [
    "#Creating new dataframe for avarage ratings of geners\n",
    "ratings = ratings_df\n",
    "movies = movies_df\n",
    "genres= ['Adventure', 'Animation', 'Children', 'Comedy', 'Fantasy', 'Romance', 'Drama', 'Action', 'Crime', 'Thriller', 'Horror', 'Mystery', 'Sci-Fi', 'IMAX', 'War', 'Musical', 'Documentary', 'Western', 'Film-Noir' ]\n",
    "#columns\n",
    "column_names = ['avg_Adventure', 'avg_Animation', 'avg_Children', 'avg_Comedy', 'avg_Fantasy', 'avg_Romance', 'avg_Drama', 'avg_Action', 'avg_Crime', 'avg_Thriller', 'avg_Horror', 'avg_Mystery', 'avg_Sci-Fi', 'avg_IMAX', 'avg_War', 'avg_Musical', 'avg_Documentary', 'avg_Western', 'avg_Film-Noir' ]\n",
    "#Empity frame\n",
    "genre_ratings = pd.DataFrame()\n",
    "#loop on geners\n",
    "for genre in genres:      \n",
    "  #Get genre\n",
    "  genre_movies = movies[movies['genres'].str.contains(genre) ]\n",
    "  #avarage mean of ratings for this genre\n",
    "  avg_genre_votes_per_user = ratings[ratings['movieId'].isin(genre_movies['movieId'])].loc[:, ['userId', 'rating']].groupby(['userId'])['rating'].mean().round(2)\n",
    "  #concate both empity dataframe with avg mean ratings\n",
    "  genre_ratings = pd.concat([genre_ratings, avg_genre_votes_per_user], axis=1)\n",
    "#add columns in empity dataframe\n",
    "genre_ratings.columns = column_names\n",
    "genre_ratings.head()\n",
    "\n"
   ]
  },
  {
   "cell_type": "markdown",
   "metadata": {
    "id": "NaqBOyLa87Dv"
   },
   "source": [
    "**Removing NaN and infinite values from the genre_ratings dataframe table**"
   ]
  },
  {
   "cell_type": "code",
   "execution_count": null,
   "metadata": {
    "colab": {
     "base_uri": "https://localhost:8080/",
     "height": 240
    },
    "id": "zn-kV9Y06vGx",
    "outputId": "187f0a79-0aac-4b2d-ad81-04061b28b290"
   },
   "outputs": [
    {
     "data": {
      "text/html": [
       "<div>\n",
       "<style scoped>\n",
       "    .dataframe tbody tr th:only-of-type {\n",
       "        vertical-align: middle;\n",
       "    }\n",
       "\n",
       "    .dataframe tbody tr th {\n",
       "        vertical-align: top;\n",
       "    }\n",
       "\n",
       "    .dataframe thead th {\n",
       "        text-align: right;\n",
       "    }\n",
       "</style>\n",
       "<table border=\"1\" class=\"dataframe\">\n",
       "  <thead>\n",
       "    <tr style=\"text-align: right;\">\n",
       "      <th></th>\n",
       "      <th>avg_Adventure</th>\n",
       "      <th>avg_Animation</th>\n",
       "      <th>avg_Children</th>\n",
       "      <th>avg_Comedy</th>\n",
       "      <th>avg_Fantasy</th>\n",
       "      <th>avg_Romance</th>\n",
       "      <th>avg_Drama</th>\n",
       "      <th>avg_Action</th>\n",
       "      <th>avg_Crime</th>\n",
       "      <th>avg_Thriller</th>\n",
       "      <th>avg_Horror</th>\n",
       "      <th>avg_Mystery</th>\n",
       "      <th>avg_Sci-Fi</th>\n",
       "      <th>avg_IMAX</th>\n",
       "      <th>avg_War</th>\n",
       "      <th>avg_Musical</th>\n",
       "      <th>avg_Documentary</th>\n",
       "      <th>avg_Western</th>\n",
       "      <th>avg_Film-Noir</th>\n",
       "    </tr>\n",
       "  </thead>\n",
       "  <tbody>\n",
       "    <tr>\n",
       "      <th>1</th>\n",
       "      <td>3.69</td>\n",
       "      <td>4.00</td>\n",
       "      <td>3.17</td>\n",
       "      <td>3.27</td>\n",
       "      <td>3.81</td>\n",
       "      <td>3.34</td>\n",
       "      <td>3.84</td>\n",
       "      <td>3.83</td>\n",
       "      <td>4.21</td>\n",
       "      <td>3.87</td>\n",
       "      <td>3.69</td>\n",
       "      <td>3.81</td>\n",
       "      <td>3.40</td>\n",
       "      <td>3.88</td>\n",
       "      <td>4.20</td>\n",
       "      <td>4.00</td>\n",
       "      <td>0.5</td>\n",
       "      <td>3.50</td>\n",
       "      <td>4.0</td>\n",
       "    </tr>\n",
       "    <tr>\n",
       "      <th>7</th>\n",
       "      <td>3.57</td>\n",
       "      <td>3.50</td>\n",
       "      <td>2.40</td>\n",
       "      <td>3.50</td>\n",
       "      <td>3.21</td>\n",
       "      <td>3.83</td>\n",
       "      <td>3.44</td>\n",
       "      <td>3.74</td>\n",
       "      <td>3.85</td>\n",
       "      <td>3.72</td>\n",
       "      <td>3.57</td>\n",
       "      <td>3.86</td>\n",
       "      <td>3.54</td>\n",
       "      <td>3.17</td>\n",
       "      <td>3.64</td>\n",
       "      <td>5.00</td>\n",
       "      <td>4.0</td>\n",
       "      <td>3.00</td>\n",
       "      <td>5.0</td>\n",
       "    </tr>\n",
       "    <tr>\n",
       "      <th>22</th>\n",
       "      <td>2.81</td>\n",
       "      <td>3.77</td>\n",
       "      <td>3.10</td>\n",
       "      <td>3.10</td>\n",
       "      <td>3.11</td>\n",
       "      <td>3.22</td>\n",
       "      <td>3.45</td>\n",
       "      <td>2.73</td>\n",
       "      <td>3.39</td>\n",
       "      <td>3.23</td>\n",
       "      <td>3.10</td>\n",
       "      <td>3.43</td>\n",
       "      <td>2.82</td>\n",
       "      <td>4.50</td>\n",
       "      <td>2.55</td>\n",
       "      <td>2.72</td>\n",
       "      <td>2.5</td>\n",
       "      <td>2.00</td>\n",
       "      <td>3.5</td>\n",
       "    </tr>\n",
       "    <tr>\n",
       "      <th>28</th>\n",
       "      <td>3.44</td>\n",
       "      <td>3.75</td>\n",
       "      <td>3.62</td>\n",
       "      <td>3.43</td>\n",
       "      <td>3.09</td>\n",
       "      <td>3.71</td>\n",
       "      <td>3.55</td>\n",
       "      <td>3.25</td>\n",
       "      <td>3.40</td>\n",
       "      <td>3.32</td>\n",
       "      <td>4.00</td>\n",
       "      <td>3.60</td>\n",
       "      <td>3.71</td>\n",
       "      <td>4.00</td>\n",
       "      <td>3.15</td>\n",
       "      <td>3.67</td>\n",
       "      <td>4.0</td>\n",
       "      <td>3.17</td>\n",
       "      <td>4.0</td>\n",
       "    </tr>\n",
       "    <tr>\n",
       "      <th>44</th>\n",
       "      <td>3.28</td>\n",
       "      <td>3.42</td>\n",
       "      <td>3.63</td>\n",
       "      <td>3.37</td>\n",
       "      <td>3.58</td>\n",
       "      <td>3.52</td>\n",
       "      <td>3.20</td>\n",
       "      <td>3.16</td>\n",
       "      <td>3.12</td>\n",
       "      <td>3.20</td>\n",
       "      <td>3.27</td>\n",
       "      <td>3.58</td>\n",
       "      <td>3.35</td>\n",
       "      <td>0.50</td>\n",
       "      <td>3.22</td>\n",
       "      <td>3.08</td>\n",
       "      <td>4.5</td>\n",
       "      <td>3.20</td>\n",
       "      <td>4.5</td>\n",
       "    </tr>\n",
       "  </tbody>\n",
       "</table>\n",
       "</div>"
      ],
      "text/plain": [
       "    avg_Adventure  avg_Animation  ...  avg_Western  avg_Film-Noir\n",
       "1            3.69           4.00  ...         3.50            4.0\n",
       "7            3.57           3.50  ...         3.00            5.0\n",
       "22           2.81           3.77  ...         2.00            3.5\n",
       "28           3.44           3.75  ...         3.17            4.0\n",
       "44           3.28           3.42  ...         3.20            4.5\n",
       "\n",
       "[5 rows x 19 columns]"
      ]
     },
     "execution_count": 29,
     "metadata": {
      "tags": []
     },
     "output_type": "execute_result"
    }
   ],
   "source": [
    "assert isinstance(genre_ratings, pd.DataFrame)\n",
    "#drop null values\n",
    "genre_ratings.dropna(inplace=True)\n",
    "#get nan and infinite values\n",
    "indices_to_keep = ~genre_ratings.isin([np.nan, np.inf, -np.inf]).any(1)\n",
    "#type float\n",
    "final_k_mean_df = genre_ratings[indices_to_keep].astype(np.float64)\n",
    "final_k_mean_df.head()"
   ]
  },
  {
   "cell_type": "markdown",
   "metadata": {
    "id": "uTWpYIXP9g6s"
   },
   "source": [
    "# Machine Learning Algorithms"
   ]
  },
  {
   "cell_type": "code",
   "execution_count": null,
   "metadata": {
    "id": "d69XH8sswqMa"
   },
   "outputs": [],
   "source": [
    "\n",
    "from sklearn.cluster import KMeans # KMean\n",
    "from sklearn import metrics #matrices\n",
    "from scipy.spatial.distance import cdist #Compute distance between each pair of the two collections of inputs."
   ]
  },
  {
   "cell_type": "code",
   "execution_count": null,
   "metadata": {
    "id": "e-L5G4kAtLPD"
   },
   "outputs": [],
   "source": [
    "distortions = []\n",
    "inertias = []\n",
    "mapping1 = {}\n",
    "mapping2 = {}\n",
    "#We iterate the values of k from 1 to 10 and calculate the values of distortions for each value of k and calculate the distortion and inertia for each value of k in the given range.\n",
    "K = range(1, 10)\n",
    "k_mean_df = final_k_mean_df[['avg_Adventure', 'avg_Animation', 'avg_Children', 'avg_Comedy', 'avg_Fantasy', 'avg_Romance', 'avg_Drama', 'avg_Action', 'avg_Crime', 'avg_Thriller', 'avg_Horror', 'avg_Mystery', 'avg_Sci-Fi', 'avg_IMAX', 'avg_War', 'avg_Musical', 'avg_Documentary', 'avg_Western', 'avg_Film-Noir' ]]\n",
    "for k in K:\n",
    "  # Building and fitting the model\n",
    "\tkmeanModel = KMeans(n_clusters=k).fit(k_mean_df)\n",
    "\tkmeanModel.fit(k_mean_df)\n",
    "  #average of the squared distances from the cluster centers of the respective clusters. Typically, the Euclidean distance metric is used.\n",
    "\tdistortions.append(sum(np.min(cdist(k_mean_df, kmeanModel.cluster_centers_,\n",
    "\t\t\t\t\t\t\t\t\t\t'euclidean'), axis=1)) /k_mean_df.shape[0])\n",
    "  #inertia sum of squared distances of samples to their closest cluster center.\n",
    "\tinertias.append(kmeanModel.inertia_) \n",
    "\tmapping1[k] = sum(np.min(cdist(k_mean_df, kmeanModel.cluster_centers_,\n",
    "\t\t\t\t\t\t\t\t'euclidean'), axis=1)) / k_mean_df.shape[0]\n",
    "\tmapping2[k] = kmeanModel.inertia_\n"
   ]
  },
  {
   "cell_type": "code",
   "execution_count": null,
   "metadata": {
    "colab": {
     "base_uri": "https://localhost:8080/"
    },
    "id": "x0Ib9sPr4R6j",
    "outputId": "66a4864c-a787-4304-dcd6-710d13098d65"
   },
   "outputs": [
    {
     "name": "stdout",
     "output_type": "stream",
     "text": [
      "1 : 2.389696497020996\n",
      "2 : 1.9200224484341972\n",
      "3 : 1.7206261821706181\n",
      "4 : 1.674581767346066\n",
      "5 : 1.6135657557037937\n",
      "6 : 1.5858922986565442\n",
      "7 : 1.5166568105662437\n",
      "8 : 1.5105798524253633\n",
      "9 : 1.4597700473103776\n"
     ]
    }
   ],
   "source": [
    "#Using the values of Distortion\n",
    "for key, val in mapping1.items():\n",
    "\tprint(f'{key} : {val}')"
   ]
  },
  {
   "cell_type": "markdown",
   "metadata": {
    "id": "LL1wv0UjAhuZ"
   },
   "source": [
    "**Elbow method**\n",
    "\n",
    "We can cluster our points into any number of clusters. What's the right number of clusters for this dataset?\n",
    "\n",
    "There are several ways of choosing the number of clusters, k. We'll look at a simple one called \"the elbow method\". The elbow method works by plotting the ascending values of k versus the total error calculated using that k.\n"
   ]
  },
  {
   "cell_type": "code",
   "execution_count": null,
   "metadata": {
    "colab": {
     "base_uri": "https://localhost:8080/",
     "height": 295
    },
    "id": "WvJPPuyu5Z2b",
    "outputId": "fe67e26f-fc69-4b7e-be4a-1bf5bfa24f32"
   },
   "outputs": [
    {
     "data": {
      "image/png": "[encoded data removed]",
      "text/plain": [
       "<Figure size 432x288 with 1 Axes>"
      ]
     },
     "metadata": {
      "needs_background": "light",
      "tags": []
     },
     "output_type": "display_data"
    }
   ],
   "source": [
    "plt.plot(K, distortions, 'bx-')\n",
    "plt.xlabel('Values of K')\n",
    "plt.ylabel('Distortion')\n",
    "plt.title('The Elbow Method using Distortion')\n",
    "plt.show()\n"
   ]
  },
  {
   "cell_type": "markdown",
   "metadata": {
    "id": "ETwKRjnsBQBh"
   },
   "source": [
    "If we look at above graph, good choices for k include 3 or 4 amongst other values. Increasing the number of clusters (k) beyond that range starts to result in worse clusters according to elbow method.\n",
    "\n",
    "My pick would be k=3 because it's easier to visualize:"
   ]
  },
  {
   "cell_type": "markdown",
   "metadata": {
    "id": "zg3OKSQ_EkCg"
   },
   "source": [
    "**KMean Clustering**\n",
    "\n",
    "\n",
    "Import KMeans Library\n",
    "\n",
    "Prepare KMeans with n_clusters = 3\n",
    "\n",
    "Pass the dataset final_k_mean_df to KMeans' fit_predict method and retrieve the clustering labels into predictions"
   ]
  },
  {
   "cell_type": "code",
   "execution_count": null,
   "metadata": {
    "colab": {
     "base_uri": "https://localhost:8080/"
    },
    "id": "wCEqAy0t6T5y",
    "outputId": "3060ed8e-de7c-4ef6-b6e7-ce2afe26409a"
   },
   "outputs": [
    {
     "data": {
      "text/plain": [
       "array([0, 0, 1, 0, 0, 2, 1, 1, 0, 1, 1, 1, 1, 0, 0, 2, 0, 2, 2, 0, 0, 1,\n",
       "       0, 1, 0, 1, 0, 0, 2, 2, 2, 2, 2, 0, 0, 0, 1, 0, 1, 2, 0, 2, 2, 2,\n",
       "       0, 0, 2, 2, 0, 2, 1, 0, 1, 0, 2, 0, 1, 1, 0, 0, 1, 2, 0, 1, 1, 0,\n",
       "       0, 1, 1, 0, 1, 0, 2, 0, 1, 0, 2, 2, 2, 2, 0, 0, 0, 0, 0, 0, 0, 0,\n",
       "       1, 1, 2, 0, 1, 2, 0, 1, 2, 2, 1, 0, 0, 0, 1, 0, 2, 2, 0, 2, 2, 0,\n",
       "       1, 0, 2, 0, 2, 0, 0, 0, 1], dtype=int32)"
      ]
     },
     "execution_count": 302,
     "metadata": {
      "tags": []
     },
     "output_type": "execute_result"
    }
   ],
   "source": [
    "#Build model three clusters\n",
    "km_model = KMeans(n_clusters=3)\n",
    "#fith the model\n",
    "y_predicted = km_model.fit_predict(k_mean_df)\n",
    "#predict\n",
    "y_predicted"
   ]
  },
  {
   "cell_type": "code",
   "execution_count": null,
   "metadata": {
    "colab": {
     "base_uri": "https://localhost:8080/",
     "height": 235
    },
    "id": "TLrI7CKO9ush",
    "outputId": "5bc474d8-5688-4dda-a502-690be0ee7bd9"
   },
   "outputs": [
    {
     "data": {
      "text/html": [
       "<div>\n",
       "<style scoped>\n",
       "    .dataframe tbody tr th:only-of-type {\n",
       "        vertical-align: middle;\n",
       "    }\n",
       "\n",
       "    .dataframe tbody tr th {\n",
       "        vertical-align: top;\n",
       "    }\n",
       "\n",
       "    .dataframe thead th {\n",
       "        text-align: right;\n",
       "    }\n",
       "</style>\n",
       "<table border=\"1\" class=\"dataframe\">\n",
       "  <thead>\n",
       "    <tr style=\"text-align: right;\">\n",
       "      <th></th>\n",
       "      <th>avg_Adventure</th>\n",
       "      <th>avg_Animation</th>\n",
       "      <th>avg_Children</th>\n",
       "      <th>avg_Comedy</th>\n",
       "      <th>avg_Fantasy</th>\n",
       "      <th>avg_Romance</th>\n",
       "      <th>avg_Drama</th>\n",
       "      <th>avg_Action</th>\n",
       "      <th>avg_Crime</th>\n",
       "      <th>avg_Thriller</th>\n",
       "      <th>avg_Horror</th>\n",
       "      <th>avg_Mystery</th>\n",
       "      <th>avg_Sci-Fi</th>\n",
       "      <th>avg_IMAX</th>\n",
       "      <th>avg_War</th>\n",
       "      <th>avg_Musical</th>\n",
       "      <th>avg_Documentary</th>\n",
       "      <th>avg_Western</th>\n",
       "      <th>avg_Film-Noir</th>\n",
       "      <th>cluster</th>\n",
       "    </tr>\n",
       "  </thead>\n",
       "  <tbody>\n",
       "    <tr>\n",
       "      <th>1</th>\n",
       "      <td>3.69</td>\n",
       "      <td>4.00</td>\n",
       "      <td>3.17</td>\n",
       "      <td>3.27</td>\n",
       "      <td>3.81</td>\n",
       "      <td>3.34</td>\n",
       "      <td>3.84</td>\n",
       "      <td>3.83</td>\n",
       "      <td>4.21</td>\n",
       "      <td>3.87</td>\n",
       "      <td>3.69</td>\n",
       "      <td>3.81</td>\n",
       "      <td>3.40</td>\n",
       "      <td>3.88</td>\n",
       "      <td>4.20</td>\n",
       "      <td>4.00</td>\n",
       "      <td>0.5</td>\n",
       "      <td>3.50</td>\n",
       "      <td>4.0</td>\n",
       "      <td>0</td>\n",
       "    </tr>\n",
       "    <tr>\n",
       "      <th>7</th>\n",
       "      <td>3.57</td>\n",
       "      <td>3.50</td>\n",
       "      <td>2.40</td>\n",
       "      <td>3.50</td>\n",
       "      <td>3.21</td>\n",
       "      <td>3.83</td>\n",
       "      <td>3.44</td>\n",
       "      <td>3.74</td>\n",
       "      <td>3.85</td>\n",
       "      <td>3.72</td>\n",
       "      <td>3.57</td>\n",
       "      <td>3.86</td>\n",
       "      <td>3.54</td>\n",
       "      <td>3.17</td>\n",
       "      <td>3.64</td>\n",
       "      <td>5.00</td>\n",
       "      <td>4.0</td>\n",
       "      <td>3.00</td>\n",
       "      <td>5.0</td>\n",
       "      <td>0</td>\n",
       "    </tr>\n",
       "    <tr>\n",
       "      <th>22</th>\n",
       "      <td>2.81</td>\n",
       "      <td>3.77</td>\n",
       "      <td>3.10</td>\n",
       "      <td>3.10</td>\n",
       "      <td>3.11</td>\n",
       "      <td>3.22</td>\n",
       "      <td>3.45</td>\n",
       "      <td>2.73</td>\n",
       "      <td>3.39</td>\n",
       "      <td>3.23</td>\n",
       "      <td>3.10</td>\n",
       "      <td>3.43</td>\n",
       "      <td>2.82</td>\n",
       "      <td>4.50</td>\n",
       "      <td>2.55</td>\n",
       "      <td>2.72</td>\n",
       "      <td>2.5</td>\n",
       "      <td>2.00</td>\n",
       "      <td>3.5</td>\n",
       "      <td>1</td>\n",
       "    </tr>\n",
       "    <tr>\n",
       "      <th>28</th>\n",
       "      <td>3.44</td>\n",
       "      <td>3.75</td>\n",
       "      <td>3.62</td>\n",
       "      <td>3.43</td>\n",
       "      <td>3.09</td>\n",
       "      <td>3.71</td>\n",
       "      <td>3.55</td>\n",
       "      <td>3.25</td>\n",
       "      <td>3.40</td>\n",
       "      <td>3.32</td>\n",
       "      <td>4.00</td>\n",
       "      <td>3.60</td>\n",
       "      <td>3.71</td>\n",
       "      <td>4.00</td>\n",
       "      <td>3.15</td>\n",
       "      <td>3.67</td>\n",
       "      <td>4.0</td>\n",
       "      <td>3.17</td>\n",
       "      <td>4.0</td>\n",
       "      <td>0</td>\n",
       "    </tr>\n",
       "    <tr>\n",
       "      <th>44</th>\n",
       "      <td>3.28</td>\n",
       "      <td>3.42</td>\n",
       "      <td>3.63</td>\n",
       "      <td>3.37</td>\n",
       "      <td>3.58</td>\n",
       "      <td>3.52</td>\n",
       "      <td>3.20</td>\n",
       "      <td>3.16</td>\n",
       "      <td>3.12</td>\n",
       "      <td>3.20</td>\n",
       "      <td>3.27</td>\n",
       "      <td>3.58</td>\n",
       "      <td>3.35</td>\n",
       "      <td>0.50</td>\n",
       "      <td>3.22</td>\n",
       "      <td>3.08</td>\n",
       "      <td>4.5</td>\n",
       "      <td>3.20</td>\n",
       "      <td>4.5</td>\n",
       "      <td>0</td>\n",
       "    </tr>\n",
       "  </tbody>\n",
       "</table>\n",
       "</div>"
      ],
      "text/plain": [
       "    avg_Adventure  avg_Animation  ...  avg_Film-Noir  cluster\n",
       "1            3.69           4.00  ...            4.0        0\n",
       "7            3.57           3.50  ...            5.0        0\n",
       "22           2.81           3.77  ...            3.5        1\n",
       "28           3.44           3.75  ...            4.0        0\n",
       "44           3.28           3.42  ...            4.5        0\n",
       "\n",
       "[5 rows x 20 columns]"
      ]
     },
     "execution_count": 304,
     "metadata": {
      "tags": []
     },
     "output_type": "execute_result"
    }
   ],
   "source": [
    "#add cluster column for results\n",
    "final_k_mean_df['cluster']=y_predicted\n",
    "final_k_mean_df.head()"
   ]
  },
  {
   "cell_type": "markdown",
   "metadata": {
    "id": "fhqgEkZKPOnr"
   },
   "source": [
    "**KMean Clustering Plot**\n",
    "\n",
    "We can see that the groups are mostly based on how each person rated romance movies. If their average rating of romance movies is over 3 stars, then they belong to one group. Otherwise, they belong to the other group.\n",
    "\n"
   ]
  },
  {
   "cell_type": "code",
   "execution_count": null,
   "metadata": {
    "colab": {
     "base_uri": "https://localhost:8080/",
     "height": 297
    },
    "id": "4sUfl78d9TxY",
    "outputId": "81e4e4ad-df4e-4b00-fd6a-b5b72d877225"
   },
   "outputs": [
    {
     "data": {
      "text/plain": [
       "<matplotlib.legend.Legend at 0x7fc6416afcf8>"
      ]
     },
     "execution_count": 305,
     "metadata": {
      "tags": []
     },
     "output_type": "execute_result"
    },
    {
     "data": {
      "image/png": "[encoded data removed]",
      "text/plain": [
       "<Figure size 432x288 with 1 Axes>"
      ]
     },
     "metadata": {
      "needs_background": "light",
      "tags": []
     },
     "output_type": "display_data"
    }
   ],
   "source": [
    "plt.figsize=(10,10)\n",
    "df1 = final_k_mean_df[final_k_mean_df.cluster==0]\n",
    "df2 = final_k_mean_df[final_k_mean_df.cluster==1]\n",
    "df3 = final_k_mean_df[final_k_mean_df.cluster==2]\n",
    "plt.scatter(df1.avg_Action,df1['avg_Comedy'],color='green')\n",
    "plt.scatter(df2.avg_Action,df2['avg_Comedy'],color='red')\n",
    "plt.scatter(df3.avg_Action,df3['avg_Comedy'],color='black')\n",
    "plt.scatter(km_model.cluster_centers_[:,0],km_model.cluster_centers_[:,1],color='purple',marker='*',label='centroid')\n",
    "plt.xlabel('Action')\n",
    "plt.ylabel('Comedy')\n",
    "plt.legend()"
   ]
  },
  {
   "cell_type": "markdown",
   "metadata": {
    "id": "RLjq1794v-U3"
   },
   "source": [
    "**Classification Algorithms**"
   ]
  },
  {
   "cell_type": "code",
   "execution_count": null,
   "metadata": {
    "colab": {
     "base_uri": "https://localhost:8080/",
     "height": 235
    },
    "id": "f-_d_hMZz1Kj",
    "outputId": "5f965d8e-8862-4cca-bdf9-6260f5664ed6"
   },
   "outputs": [
    {
     "data": {
      "text/html": [
       "<div>\n",
       "<style scoped>\n",
       "    .dataframe tbody tr th:only-of-type {\n",
       "        vertical-align: middle;\n",
       "    }\n",
       "\n",
       "    .dataframe tbody tr th {\n",
       "        vertical-align: top;\n",
       "    }\n",
       "\n",
       "    .dataframe thead th {\n",
       "        text-align: right;\n",
       "    }\n",
       "</style>\n",
       "<table border=\"1\" class=\"dataframe\">\n",
       "  <thead>\n",
       "    <tr style=\"text-align: right;\">\n",
       "      <th></th>\n",
       "      <th>avg_Adventure</th>\n",
       "      <th>avg_Animation</th>\n",
       "      <th>avg_Children</th>\n",
       "      <th>avg_Comedy</th>\n",
       "      <th>avg_Fantasy</th>\n",
       "      <th>avg_Romance</th>\n",
       "      <th>avg_Drama</th>\n",
       "      <th>avg_Action</th>\n",
       "      <th>avg_Crime</th>\n",
       "      <th>avg_Thriller</th>\n",
       "      <th>avg_Horror</th>\n",
       "      <th>avg_Mystery</th>\n",
       "      <th>avg_Sci-Fi</th>\n",
       "      <th>avg_IMAX</th>\n",
       "      <th>avg_War</th>\n",
       "      <th>avg_Musical</th>\n",
       "      <th>avg_Documentary</th>\n",
       "      <th>avg_Western</th>\n",
       "      <th>avg_Film-Noir</th>\n",
       "    </tr>\n",
       "  </thead>\n",
       "  <tbody>\n",
       "    <tr>\n",
       "      <th>1</th>\n",
       "      <td>3.69</td>\n",
       "      <td>4.00</td>\n",
       "      <td>3.17</td>\n",
       "      <td>3.27</td>\n",
       "      <td>3.81</td>\n",
       "      <td>3.34</td>\n",
       "      <td>3.84</td>\n",
       "      <td>3.83</td>\n",
       "      <td>4.21</td>\n",
       "      <td>3.87</td>\n",
       "      <td>3.69</td>\n",
       "      <td>3.81</td>\n",
       "      <td>3.40</td>\n",
       "      <td>3.88</td>\n",
       "      <td>4.20</td>\n",
       "      <td>4.00</td>\n",
       "      <td>0.5</td>\n",
       "      <td>3.50</td>\n",
       "      <td>4.0</td>\n",
       "    </tr>\n",
       "    <tr>\n",
       "      <th>7</th>\n",
       "      <td>3.57</td>\n",
       "      <td>3.50</td>\n",
       "      <td>2.40</td>\n",
       "      <td>3.50</td>\n",
       "      <td>3.21</td>\n",
       "      <td>3.83</td>\n",
       "      <td>3.44</td>\n",
       "      <td>3.74</td>\n",
       "      <td>3.85</td>\n",
       "      <td>3.72</td>\n",
       "      <td>3.57</td>\n",
       "      <td>3.86</td>\n",
       "      <td>3.54</td>\n",
       "      <td>3.17</td>\n",
       "      <td>3.64</td>\n",
       "      <td>5.00</td>\n",
       "      <td>4.0</td>\n",
       "      <td>3.00</td>\n",
       "      <td>5.0</td>\n",
       "    </tr>\n",
       "    <tr>\n",
       "      <th>22</th>\n",
       "      <td>2.81</td>\n",
       "      <td>3.77</td>\n",
       "      <td>3.10</td>\n",
       "      <td>3.10</td>\n",
       "      <td>3.11</td>\n",
       "      <td>3.22</td>\n",
       "      <td>3.45</td>\n",
       "      <td>2.73</td>\n",
       "      <td>3.39</td>\n",
       "      <td>3.23</td>\n",
       "      <td>3.10</td>\n",
       "      <td>3.43</td>\n",
       "      <td>2.82</td>\n",
       "      <td>4.50</td>\n",
       "      <td>2.55</td>\n",
       "      <td>2.72</td>\n",
       "      <td>2.5</td>\n",
       "      <td>2.00</td>\n",
       "      <td>3.5</td>\n",
       "    </tr>\n",
       "    <tr>\n",
       "      <th>28</th>\n",
       "      <td>3.44</td>\n",
       "      <td>3.75</td>\n",
       "      <td>3.62</td>\n",
       "      <td>3.43</td>\n",
       "      <td>3.09</td>\n",
       "      <td>3.71</td>\n",
       "      <td>3.55</td>\n",
       "      <td>3.25</td>\n",
       "      <td>3.40</td>\n",
       "      <td>3.32</td>\n",
       "      <td>4.00</td>\n",
       "      <td>3.60</td>\n",
       "      <td>3.71</td>\n",
       "      <td>4.00</td>\n",
       "      <td>3.15</td>\n",
       "      <td>3.67</td>\n",
       "      <td>4.0</td>\n",
       "      <td>3.17</td>\n",
       "      <td>4.0</td>\n",
       "    </tr>\n",
       "    <tr>\n",
       "      <th>44</th>\n",
       "      <td>3.28</td>\n",
       "      <td>3.42</td>\n",
       "      <td>3.63</td>\n",
       "      <td>3.37</td>\n",
       "      <td>3.58</td>\n",
       "      <td>3.52</td>\n",
       "      <td>3.20</td>\n",
       "      <td>3.16</td>\n",
       "      <td>3.12</td>\n",
       "      <td>3.20</td>\n",
       "      <td>3.27</td>\n",
       "      <td>3.58</td>\n",
       "      <td>3.35</td>\n",
       "      <td>0.50</td>\n",
       "      <td>3.22</td>\n",
       "      <td>3.08</td>\n",
       "      <td>4.5</td>\n",
       "      <td>3.20</td>\n",
       "      <td>4.5</td>\n",
       "    </tr>\n",
       "  </tbody>\n",
       "</table>\n",
       "</div>"
      ],
      "text/plain": [
       "    avg_Adventure  avg_Animation  ...  avg_Western  avg_Film-Noir\n",
       "1            3.69           4.00  ...         3.50            4.0\n",
       "7            3.57           3.50  ...         3.00            5.0\n",
       "22           2.81           3.77  ...         2.00            3.5\n",
       "28           3.44           3.75  ...         3.17            4.0\n",
       "44           3.28           3.42  ...         3.20            4.5\n",
       "\n",
       "[5 rows x 19 columns]"
      ]
     },
     "execution_count": 306,
     "metadata": {
      "tags": []
     },
     "output_type": "execute_result"
    }
   ],
   "source": [
    "k_mean_df.head()"
   ]
  },
  {
   "cell_type": "code",
   "execution_count": null,
   "metadata": {
    "id": "BOOs0XIaAZ6r"
   },
   "outputs": [],
   "source": [
    "from sklearn import metrics\n",
    "from sklearn.svm import SVC\n",
    "from sklearn.model_selection import GridSearchCV \n",
    "from sklearn.model_selection import train_test_split\n",
    "from sklearn.metrics import classification_report, confusion_matrix "
   ]
  },
  {
   "cell_type": "code",
   "execution_count": null,
   "metadata": {
    "id": "OJYxmnbsAieV"
   },
   "outputs": [],
   "source": [
    "#splitting the dataset into train test.\n",
    "y = final_k_mean_df['cluster']\n",
    "X  = final_k_mean_df.drop(['cluster'],axis=1)\n",
    "X_train, X_test, y_train, y_test = train_test_split(X, y, test_size=0.33, random_state=42)\n"
   ]
  },
  {
   "cell_type": "markdown",
   "metadata": {
    "id": "IRvE06qRBOX6"
   },
   "source": [
    "**Grid Search Cross Validation**\n"
   ]
  },
  {
   "cell_type": "code",
   "execution_count": null,
   "metadata": {
    "colab": {
     "base_uri": "https://localhost:8080/"
    },
    "id": "hlYC_pjcAa3L",
    "outputId": "d520d4ce-9e06-4d34-81ee-e65b09e168a8"
   },
   "outputs": [
    {
     "name": "stdout",
     "output_type": "stream",
     "text": [
      "Fitting 5 folds for each of 25 candidates, totalling 125 fits\n",
      "[CV] C=0.1, gamma=1, kernel=rbf ......................................\n",
      "[CV] .......... C=0.1, gamma=1, kernel=rbf, score=0.438, total=   0.0s\n",
      "[CV] C=0.1, gamma=1, kernel=rbf ......................................\n",
      "[CV] .......... C=0.1, gamma=1, kernel=rbf, score=0.500, total=   0.0s\n",
      "[CV] C=0.1, gamma=1, kernel=rbf ......................................\n",
      "[CV] .......... C=0.1, gamma=1, kernel=rbf, score=0.500, total=   0.0s\n",
      "[CV] C=0.1, gamma=1, kernel=rbf ......................................\n",
      "[CV] .......... C=0.1, gamma=1, kernel=rbf, score=0.500, total=   0.0s\n",
      "[CV] C=0.1, gamma=1, kernel=rbf ......................................\n",
      "[CV] .......... C=0.1, gamma=1, kernel=rbf, score=0.467, total=   0.0s\n",
      "[CV] C=0.1, gamma=0.1, kernel=rbf ....................................\n",
      "[CV] ........ C=0.1, gamma=0.1, kernel=rbf, score=0.500, total=   0.0s\n",
      "[CV] C=0.1, gamma=0.1, kernel=rbf ....................................\n",
      "[CV] ........ C=0.1, gamma=0.1, kernel=rbf, score=0.500, total=   0.0s\n",
      "[CV] C=0.1, gamma=0.1, kernel=rbf ....................................\n",
      "[CV] ........ C=0.1, gamma=0.1, kernel=rbf, score=0.688, total=   0.0s\n",
      "[CV] C=0.1, gamma=0.1, kernel=rbf ....................................\n",
      "[CV] ........ C=0.1, gamma=0.1, kernel=rbf, score=0.562, total=   0.0s\n",
      "[CV] C=0.1, gamma=0.1, kernel=rbf ....................................\n",
      "[CV] ........ C=0.1, gamma=0.1, kernel=rbf, score=0.533, total=   0.0s\n",
      "[CV] C=0.1, gamma=0.01, kernel=rbf ...................................\n",
      "[CV] ....... C=0.1, gamma=0.01, kernel=rbf, score=0.438, total=   0.0s\n",
      "[CV] C=0.1, gamma=0.01, kernel=rbf ...................................\n",
      "[CV] ....... C=0.1, gamma=0.01, kernel=rbf, score=0.500, total=   0.0s\n",
      "[CV] C=0.1, gamma=0.01, kernel=rbf ...................................\n",
      "[CV] ....... C=0.1, gamma=0.01, kernel=rbf, score=0.500, total=   0.0s\n",
      "[CV] C=0.1, gamma=0.01, kernel=rbf ...................................\n",
      "[CV] ....... C=0.1, gamma=0.01, kernel=rbf, score=0.500, total=   0.0s\n",
      "[CV] C=0.1, gamma=0.01, kernel=rbf ...................................\n",
      "[CV] ....... C=0.1, gamma=0.01, kernel=rbf, score=0.467, total=   0.0s\n",
      "[CV] C=0.1, gamma=0.001, kernel=rbf ..................................\n",
      "[CV] ...... C=0.1, gamma=0.001, kernel=rbf, score=0.438, total=   0.0s\n",
      "[CV] C=0.1, gamma=0.001, kernel=rbf ..................................\n",
      "[CV] ...... C=0.1, gamma=0.001, kernel=rbf, score=0.500, total=   0.0s\n",
      "[CV] C=0.1, gamma=0.001, kernel=rbf ..................................\n",
      "[CV] ...... C=0.1, gamma=0.001, kernel=rbf, score=0.500, total=   0.0s\n",
      "[CV] C=0.1, gamma=0.001, kernel=rbf ..................................\n",
      "[CV] ...... C=0.1, gamma=0.001, kernel=rbf, score=0.500, total=   0.0s\n",
      "[CV] C=0.1, gamma=0.001, kernel=rbf ..................................\n",
      "[CV] ...... C=0.1, gamma=0.001, kernel=rbf, score=0.467, total=   0.0s\n",
      "[CV] C=0.1, gamma=0.0001, kernel=rbf .................................\n",
      "[CV] ..... C=0.1, gamma=0.0001, kernel=rbf, score=0.438, total=   0.0s\n",
      "[CV] C=0.1, gamma=0.0001, kernel=rbf .................................\n",
      "[CV] ..... C=0.1, gamma=0.0001, kernel=rbf, score=0.500, total=   0.0s\n",
      "[CV] C=0.1, gamma=0.0001, kernel=rbf .................................\n",
      "[CV] ..... C=0.1, gamma=0.0001, kernel=rbf, score=0.500, total=   0.0s\n",
      "[CV] C=0.1, gamma=0.0001, kernel=rbf .................................\n",
      "[CV] ..... C=0.1, gamma=0.0001, kernel=rbf, score=0.500, total=   0.0s\n",
      "[CV] C=0.1, gamma=0.0001, kernel=rbf .................................\n",
      "[CV] ..... C=0.1, gamma=0.0001, kernel=rbf, score=0.467, total=   0.0s\n",
      "[CV] C=1, gamma=1, kernel=rbf ........................................\n",
      "[CV] ............ C=1, gamma=1, kernel=rbf, score=0.750, total=   0.0s\n",
      "[CV] C=1, gamma=1, kernel=rbf ........................................\n",
      "[CV] ............ C=1, gamma=1, kernel=rbf, score=0.625, total=   0.0s\n",
      "[CV] C=1, gamma=1, kernel=rbf ........................................\n",
      "[CV] ............ C=1, gamma=1, kernel=rbf, score=0.812, total=   0.0s\n",
      "[CV] C=1, gamma=1, kernel=rbf ........................................\n",
      "[CV] ............ C=1, gamma=1, kernel=rbf, score=0.625, total=   0.0s\n",
      "[CV] C=1, gamma=1, kernel=rbf ........................................\n",
      "[CV] ............ C=1, gamma=1, kernel=rbf, score=0.800, total=   0.0s\n",
      "[CV] C=1, gamma=0.1, kernel=rbf ......................................\n",
      "[CV] .......... C=1, gamma=0.1, kernel=rbf, score=0.938, total=   0.0s\n",
      "[CV] C=1, gamma=0.1, kernel=rbf ......................................\n",
      "[CV] .......... C=1, gamma=0.1, kernel=rbf, score=1.000, total=   0.0s\n",
      "[CV] C=1, gamma=0.1, kernel=rbf ......................................\n",
      "[CV] .......... C=1, gamma=0.1, kernel=rbf, score=0.938, total=   0.0s\n",
      "[CV] C=1, gamma=0.1, kernel=rbf ......................................\n",
      "[CV] .......... C=1, gamma=0.1, kernel=rbf, score=1.000, total=   0.0s\n",
      "[CV] C=1, gamma=0.1, kernel=rbf ......................................\n",
      "[CV] .......... C=1, gamma=0.1, kernel=rbf, score=1.000, total=   0.0s\n",
      "[CV] C=1, gamma=0.01, kernel=rbf .....................................\n",
      "[CV] ......... C=1, gamma=0.01, kernel=rbf, score=0.750, total=   0.0s\n",
      "[CV] C=1, gamma=0.01, kernel=rbf .....................................\n",
      "[CV] ......... C=1, gamma=0.01, kernel=rbf, score=0.875, total=   0.0s\n",
      "[CV] C=1, gamma=0.01, kernel=rbf .....................................\n",
      "[CV] ......... C=1, gamma=0.01, kernel=rbf, score=0.875, total=   0.0s\n",
      "[CV] C=1, gamma=0.01, kernel=rbf .....................................\n",
      "[CV] ......... C=1, gamma=0.01, kernel=rbf, score=0.875, total=   0.0s\n",
      "[CV] C=1, gamma=0.01, kernel=rbf .....................................\n",
      "[CV] ......... C=1, gamma=0.01, kernel=rbf, score=0.867, total=   0.0s\n",
      "[CV] C=1, gamma=0.001, kernel=rbf ....................................\n",
      "[CV] ........ C=1, gamma=0.001, kernel=rbf, score=0.438, total=   0.0s\n",
      "[CV] C=1, gamma=0.001, kernel=rbf ....................................\n",
      "[CV] ........ C=1, gamma=0.001, kernel=rbf, score=0.500, total=   0.0s\n",
      "[CV] C=1, gamma=0.001, kernel=rbf ....................................\n"
     ]
    },
    {
     "name": "stderr",
     "output_type": "stream",
     "text": [
      "[Parallel(n_jobs=1)]: Using backend SequentialBackend with 1 concurrent workers.\n",
      "[Parallel(n_jobs=1)]: Done   1 out of   1 | elapsed:    0.0s remaining:    0.0s\n",
      "[Parallel(n_jobs=1)]: Done   2 out of   2 | elapsed:    0.0s remaining:    0.0s\n"
     ]
    },
    {
     "name": "stdout",
     "output_type": "stream",
     "text": [
      "[CV] ........ C=1, gamma=0.001, kernel=rbf, score=0.500, total=   0.0s\n",
      "[CV] C=1, gamma=0.001, kernel=rbf ....................................\n",
      "[CV] ........ C=1, gamma=0.001, kernel=rbf, score=0.500, total=   0.0s\n",
      "[CV] C=1, gamma=0.001, kernel=rbf ....................................\n",
      "[CV] ........ C=1, gamma=0.001, kernel=rbf, score=0.467, total=   0.0s\n",
      "[CV] C=1, gamma=0.0001, kernel=rbf ...................................\n",
      "[CV] ....... C=1, gamma=0.0001, kernel=rbf, score=0.438, total=   0.0s\n",
      "[CV] C=1, gamma=0.0001, kernel=rbf ...................................\n",
      "[CV] ....... C=1, gamma=0.0001, kernel=rbf, score=0.500, total=   0.0s\n",
      "[CV] C=1, gamma=0.0001, kernel=rbf ...................................\n",
      "[CV] ....... C=1, gamma=0.0001, kernel=rbf, score=0.500, total=   0.0s\n",
      "[CV] C=1, gamma=0.0001, kernel=rbf ...................................\n",
      "[CV] ....... C=1, gamma=0.0001, kernel=rbf, score=0.500, total=   0.0s\n",
      "[CV] C=1, gamma=0.0001, kernel=rbf ...................................\n",
      "[CV] ....... C=1, gamma=0.0001, kernel=rbf, score=0.467, total=   0.0s\n",
      "[CV] C=10, gamma=1, kernel=rbf .......................................\n",
      "[CV] ........... C=10, gamma=1, kernel=rbf, score=0.750, total=   0.0s\n",
      "[CV] C=10, gamma=1, kernel=rbf .......................................\n",
      "[CV] ........... C=10, gamma=1, kernel=rbf, score=0.625, total=   0.0s\n",
      "[CV] C=10, gamma=1, kernel=rbf .......................................\n",
      "[CV] ........... C=10, gamma=1, kernel=rbf, score=0.812, total=   0.0s\n",
      "[CV] C=10, gamma=1, kernel=rbf .......................................\n",
      "[CV] ........... C=10, gamma=1, kernel=rbf, score=0.625, total=   0.0s\n",
      "[CV] C=10, gamma=1, kernel=rbf .......................................\n",
      "[CV] ........... C=10, gamma=1, kernel=rbf, score=0.800, total=   0.0s\n",
      "[CV] C=10, gamma=0.1, kernel=rbf .....................................\n",
      "[CV] ......... C=10, gamma=0.1, kernel=rbf, score=0.875, total=   0.0s\n",
      "[CV] C=10, gamma=0.1, kernel=rbf .....................................\n",
      "[CV] ......... C=10, gamma=0.1, kernel=rbf, score=1.000, total=   0.0s\n",
      "[CV] C=10, gamma=0.1, kernel=rbf .....................................\n",
      "[CV] ......... C=10, gamma=0.1, kernel=rbf, score=1.000, total=   0.0s\n",
      "[CV] C=10, gamma=0.1, kernel=rbf .....................................\n",
      "[CV] ......... C=10, gamma=0.1, kernel=rbf, score=0.938, total=   0.0s\n",
      "[CV] C=10, gamma=0.1, kernel=rbf .....................................\n",
      "[CV] ......... C=10, gamma=0.1, kernel=rbf, score=1.000, total=   0.0s\n",
      "[CV] C=10, gamma=0.01, kernel=rbf ....................................\n",
      "[CV] ........ C=10, gamma=0.01, kernel=rbf, score=0.938, total=   0.0s\n",
      "[CV] C=10, gamma=0.01, kernel=rbf ....................................\n",
      "[CV] ........ C=10, gamma=0.01, kernel=rbf, score=1.000, total=   0.0s\n",
      "[CV] C=10, gamma=0.01, kernel=rbf ....................................\n",
      "[CV] ........ C=10, gamma=0.01, kernel=rbf, score=1.000, total=   0.0s\n",
      "[CV] C=10, gamma=0.01, kernel=rbf ....................................\n",
      "[CV] ........ C=10, gamma=0.01, kernel=rbf, score=1.000, total=   0.0s\n",
      "[CV] C=10, gamma=0.01, kernel=rbf ....................................\n",
      "[CV] ........ C=10, gamma=0.01, kernel=rbf, score=1.000, total=   0.0s\n",
      "[CV] C=10, gamma=0.001, kernel=rbf ...................................\n",
      "[CV] ....... C=10, gamma=0.001, kernel=rbf, score=0.750, total=   0.0s\n",
      "[CV] C=10, gamma=0.001, kernel=rbf ...................................\n",
      "[CV] ....... C=10, gamma=0.001, kernel=rbf, score=0.875, total=   0.0s\n",
      "[CV] C=10, gamma=0.001, kernel=rbf ...................................\n",
      "[CV] ....... C=10, gamma=0.001, kernel=rbf, score=0.875, total=   0.0s\n",
      "[CV] C=10, gamma=0.001, kernel=rbf ...................................\n",
      "[CV] ....... C=10, gamma=0.001, kernel=rbf, score=0.875, total=   0.0s\n",
      "[CV] C=10, gamma=0.001, kernel=rbf ...................................\n",
      "[CV] ....... C=10, gamma=0.001, kernel=rbf, score=0.867, total=   0.0s\n",
      "[CV] C=10, gamma=0.0001, kernel=rbf ..................................\n",
      "[CV] ...... C=10, gamma=0.0001, kernel=rbf, score=0.438, total=   0.0s\n",
      "[CV] C=10, gamma=0.0001, kernel=rbf ..................................\n",
      "[CV] ...... C=10, gamma=0.0001, kernel=rbf, score=0.500, total=   0.0s\n",
      "[CV] C=10, gamma=0.0001, kernel=rbf ..................................\n",
      "[CV] ...... C=10, gamma=0.0001, kernel=rbf, score=0.500, total=   0.0s\n",
      "[CV] C=10, gamma=0.0001, kernel=rbf ..................................\n",
      "[CV] ...... C=10, gamma=0.0001, kernel=rbf, score=0.500, total=   0.0s\n",
      "[CV] C=10, gamma=0.0001, kernel=rbf ..................................\n",
      "[CV] ...... C=10, gamma=0.0001, kernel=rbf, score=0.467, total=   0.0s\n",
      "[CV] C=100, gamma=1, kernel=rbf ......................................\n",
      "[CV] .......... C=100, gamma=1, kernel=rbf, score=0.750, total=   0.0s\n",
      "[CV] C=100, gamma=1, kernel=rbf ......................................\n",
      "[CV] .......... C=100, gamma=1, kernel=rbf, score=0.625, total=   0.0s\n",
      "[CV] C=100, gamma=1, kernel=rbf ......................................\n",
      "[CV] .......... C=100, gamma=1, kernel=rbf, score=0.812, total=   0.0s\n",
      "[CV] C=100, gamma=1, kernel=rbf ......................................\n",
      "[CV] .......... C=100, gamma=1, kernel=rbf, score=0.625, total=   0.0s\n",
      "[CV] C=100, gamma=1, kernel=rbf ......................................\n",
      "[CV] .......... C=100, gamma=1, kernel=rbf, score=0.800, total=   0.0s\n",
      "[CV] C=100, gamma=0.1, kernel=rbf ....................................\n",
      "[CV] ........ C=100, gamma=0.1, kernel=rbf, score=0.875, total=   0.0s\n",
      "[CV] C=100, gamma=0.1, kernel=rbf ....................................\n",
      "[CV] ........ C=100, gamma=0.1, kernel=rbf, score=1.000, total=   0.0s\n",
      "[CV] C=100, gamma=0.1, kernel=rbf ....................................\n",
      "[CV] ........ C=100, gamma=0.1, kernel=rbf, score=1.000, total=   0.0s\n",
      "[CV] C=100, gamma=0.1, kernel=rbf ....................................\n",
      "[CV] ........ C=100, gamma=0.1, kernel=rbf, score=0.938, total=   0.0s\n",
      "[CV] C=100, gamma=0.1, kernel=rbf ....................................\n",
      "[CV] ........ C=100, gamma=0.1, kernel=rbf, score=1.000, total=   0.0s\n",
      "[CV] C=100, gamma=0.01, kernel=rbf ...................................\n",
      "[CV] ....... C=100, gamma=0.01, kernel=rbf, score=0.875, total=   0.0s\n",
      "[CV] C=100, gamma=0.01, kernel=rbf ...................................\n",
      "[CV] ....... C=100, gamma=0.01, kernel=rbf, score=1.000, total=   0.0s\n",
      "[CV] C=100, gamma=0.01, kernel=rbf ...................................\n",
      "[CV] ....... C=100, gamma=0.01, kernel=rbf, score=0.938, total=   0.0s\n",
      "[CV] C=100, gamma=0.01, kernel=rbf ...................................\n",
      "[CV] ....... C=100, gamma=0.01, kernel=rbf, score=0.938, total=   0.0s\n",
      "[CV] C=100, gamma=0.01, kernel=rbf ...................................\n",
      "[CV] ....... C=100, gamma=0.01, kernel=rbf, score=1.000, total=   0.0s\n",
      "[CV] C=100, gamma=0.001, kernel=rbf ..................................\n",
      "[CV] ...... C=100, gamma=0.001, kernel=rbf, score=0.938, total=   0.0s\n",
      "[CV] C=100, gamma=0.001, kernel=rbf ..................................\n",
      "[CV] ...... C=100, gamma=0.001, kernel=rbf, score=1.000, total=   0.0s\n",
      "[CV] C=100, gamma=0.001, kernel=rbf ..................................\n",
      "[CV] ...... C=100, gamma=0.001, kernel=rbf, score=1.000, total=   0.0s\n",
      "[CV] C=100, gamma=0.001, kernel=rbf ..................................\n",
      "[CV] ...... C=100, gamma=0.001, kernel=rbf, score=1.000, total=   0.0s\n",
      "[CV] C=100, gamma=0.001, kernel=rbf ..................................\n",
      "[CV] ...... C=100, gamma=0.001, kernel=rbf, score=1.000, total=   0.0s\n",
      "[CV] C=100, gamma=0.0001, kernel=rbf .................................\n",
      "[CV] ..... C=100, gamma=0.0001, kernel=rbf, score=0.750, total=   0.0s\n",
      "[CV] C=100, gamma=0.0001, kernel=rbf .................................\n",
      "[CV] ..... C=100, gamma=0.0001, kernel=rbf, score=0.875, total=   0.0s\n",
      "[CV] C=100, gamma=0.0001, kernel=rbf .................................\n",
      "[CV] ..... C=100, gamma=0.0001, kernel=rbf, score=0.875, total=   0.0s\n",
      "[CV] C=100, gamma=0.0001, kernel=rbf .................................\n",
      "[CV] ..... C=100, gamma=0.0001, kernel=rbf, score=0.875, total=   0.0s\n",
      "[CV] C=100, gamma=0.0001, kernel=rbf .................................\n",
      "[CV] ..... C=100, gamma=0.0001, kernel=rbf, score=0.867, total=   0.0s\n",
      "[CV] C=1000, gamma=1, kernel=rbf .....................................\n",
      "[CV] ......... C=1000, gamma=1, kernel=rbf, score=0.750, total=   0.0s\n",
      "[CV] C=1000, gamma=1, kernel=rbf .....................................\n",
      "[CV] ......... C=1000, gamma=1, kernel=rbf, score=0.625, total=   0.0s\n",
      "[CV] C=1000, gamma=1, kernel=rbf .....................................\n",
      "[CV] ......... C=1000, gamma=1, kernel=rbf, score=0.812, total=   0.0s\n",
      "[CV] C=1000, gamma=1, kernel=rbf .....................................\n",
      "[CV] ......... C=1000, gamma=1, kernel=rbf, score=0.625, total=   0.0s\n",
      "[CV] C=1000, gamma=1, kernel=rbf .....................................\n",
      "[CV] ......... C=1000, gamma=1, kernel=rbf, score=0.800, total=   0.0s\n",
      "[CV] C=1000, gamma=0.1, kernel=rbf ...................................\n",
      "[CV] ....... C=1000, gamma=0.1, kernel=rbf, score=0.875, total=   0.0s\n",
      "[CV] C=1000, gamma=0.1, kernel=rbf ...................................\n",
      "[CV] ....... C=1000, gamma=0.1, kernel=rbf, score=1.000, total=   0.0s\n",
      "[CV] C=1000, gamma=0.1, kernel=rbf ...................................\n",
      "[CV] ....... C=1000, gamma=0.1, kernel=rbf, score=1.000, total=   0.0s\n",
      "[CV] C=1000, gamma=0.1, kernel=rbf ...................................\n",
      "[CV] ....... C=1000, gamma=0.1, kernel=rbf, score=0.938, total=   0.0s\n",
      "[CV] C=1000, gamma=0.1, kernel=rbf ...................................\n",
      "[CV] ....... C=1000, gamma=0.1, kernel=rbf, score=1.000, total=   0.0s\n",
      "[CV] C=1000, gamma=0.01, kernel=rbf ..................................\n",
      "[CV] ...... C=1000, gamma=0.01, kernel=rbf, score=0.875, total=   0.0s\n",
      "[CV] C=1000, gamma=0.01, kernel=rbf ..................................\n",
      "[CV] ...... C=1000, gamma=0.01, kernel=rbf, score=1.000, total=   0.0s\n",
      "[CV] C=1000, gamma=0.01, kernel=rbf ..................................\n",
      "[CV] ...... C=1000, gamma=0.01, kernel=rbf, score=0.938, total=   0.0s\n",
      "[CV] C=1000, gamma=0.01, kernel=rbf ..................................\n",
      "[CV] ...... C=1000, gamma=0.01, kernel=rbf, score=0.938, total=   0.0s\n",
      "[CV] C=1000, gamma=0.01, kernel=rbf ..................................\n",
      "[CV] ...... C=1000, gamma=0.01, kernel=rbf, score=1.000, total=   0.0s\n",
      "[CV] C=1000, gamma=0.001, kernel=rbf .................................\n",
      "[CV] ..... C=1000, gamma=0.001, kernel=rbf, score=0.875, total=   0.0s\n",
      "[CV] C=1000, gamma=0.001, kernel=rbf .................................\n",
      "[CV] ..... C=1000, gamma=0.001, kernel=rbf, score=1.000, total=   0.0s\n",
      "[CV] C=1000, gamma=0.001, kernel=rbf .................................\n",
      "[CV] ..... C=1000, gamma=0.001, kernel=rbf, score=0.938, total=   0.0s\n",
      "[CV] C=1000, gamma=0.001, kernel=rbf .................................\n",
      "[CV] ..... C=1000, gamma=0.001, kernel=rbf, score=0.938, total=   0.0s\n",
      "[CV] C=1000, gamma=0.001, kernel=rbf .................................\n",
      "[CV] ..... C=1000, gamma=0.001, kernel=rbf, score=1.000, total=   0.0s\n",
      "[CV] C=1000, gamma=0.0001, kernel=rbf ................................\n",
      "[CV] .... C=1000, gamma=0.0001, kernel=rbf, score=0.938, total=   0.0s\n",
      "[CV] C=1000, gamma=0.0001, kernel=rbf ................................\n",
      "[CV] .... C=1000, gamma=0.0001, kernel=rbf, score=1.000, total=   0.0s\n",
      "[CV] C=1000, gamma=0.0001, kernel=rbf ................................\n",
      "[CV] .... C=1000, gamma=0.0001, kernel=rbf, score=1.000, total=   0.0s\n",
      "[CV] C=1000, gamma=0.0001, kernel=rbf ................................\n",
      "[CV] .... C=1000, gamma=0.0001, kernel=rbf, score=1.000, total=   0.0s\n",
      "[CV] C=1000, gamma=0.0001, kernel=rbf ................................\n",
      "[CV] .... C=1000, gamma=0.0001, kernel=rbf, score=1.000, total=   0.0s\n"
     ]
    },
    {
     "name": "stderr",
     "output_type": "stream",
     "text": [
      "[Parallel(n_jobs=1)]: Done 125 out of 125 | elapsed:    0.5s finished\n"
     ]
    },
    {
     "data": {
      "text/plain": [
       "GridSearchCV(cv=None, error_score=nan,\n",
       "             estimator=SVC(C=1.0, break_ties=False, cache_size=200,\n",
       "                           class_weight=None, coef0=0.0,\n",
       "                           decision_function_shape='ovr', degree=3,\n",
       "                           gamma='scale', kernel='rbf', max_iter=-1,\n",
       "                           probability=False, random_state=None, shrinking=True,\n",
       "                           tol=0.001, verbose=False),\n",
       "             iid='deprecated', n_jobs=None,\n",
       "             param_grid={'C': [0.1, 1, 10, 100, 1000],\n",
       "                         'gamma': [1, 0.1, 0.01, 0.001, 0.0001],\n",
       "                         'kernel': ['rbf']},\n",
       "             pre_dispatch='2*n_jobs', refit=True, return_train_score=False,\n",
       "             scoring=None, verbose=3)"
      ]
     },
     "execution_count": 309,
     "metadata": {
      "tags": []
     },
     "output_type": "execute_result"
    }
   ],
   "source": [
    "param_grid = {'C': [0.1, 1, 10, 100, 1000],  \n",
    "              'gamma': [1, 0.1, 0.01, 0.001, 0.0001], \n",
    "              'kernel': ['rbf',]}  \n",
    "#calling SVM using hyper-paramter  \n",
    "grid = GridSearchCV(SVC(), param_grid, refit = True, verbose = 3) \n",
    "grid.fit(X_train, y_train) "
   ]
  },
  {
   "cell_type": "code",
   "execution_count": null,
   "metadata": {
    "colab": {
     "base_uri": "https://localhost:8080/"
    },
    "id": "RkNlS49oCncf",
    "outputId": "c9ad6448-f654-4fdc-dfc7-78cf2f7d75d0"
   },
   "outputs": [
    {
     "name": "stdout",
     "output_type": "stream",
     "text": [
      "              precision    recall  f1-score   support\n",
      "\n",
      "           0       1.00      0.58      0.74        12\n",
      "           1       0.77      1.00      0.87        17\n",
      "           2       1.00      1.00      1.00        11\n",
      "\n",
      "    accuracy                           0.88        40\n",
      "   macro avg       0.92      0.86      0.87        40\n",
      "weighted avg       0.90      0.88      0.87        40\n",
      "\n"
     ]
    }
   ],
   "source": [
    "grid_predictions = grid.predict(X_test) \n",
    "\n",
    "#classification report with accuracy + precision and recall\n",
    "print(classification_report(y_test, grid_predictions)) "
   ]
  },
  {
   "cell_type": "code",
   "execution_count": null,
   "metadata": {
    "colab": {
     "base_uri": "https://localhost:8080/",
     "height": 300
    },
    "id": "HOPh4g0cE4ck",
    "outputId": "bb159691-283b-40f9-a875-419293d14859"
   },
   "outputs": [
    {
     "name": "stdout",
     "output_type": "stream",
     "text": [
      "Confusion Matrix\n"
     ]
    },
    {
     "data": {
      "text/plain": [
       "<matplotlib.axes._subplots.AxesSubplot at 0x7fc64fa06588>"
      ]
     },
     "execution_count": 42,
     "metadata": {
      "tags": []
     },
     "output_type": "execute_result"
    },
    {
     "data": {
      "image/png": "[encoded data removed]",
      "text/plain": [
       "<Figure size 432x288 with 2 Axes>"
      ]
     },
     "metadata": {
      "needs_background": "light",
      "tags": []
     },
     "output_type": "display_data"
    }
   ],
   "source": [
    "from sklearn.metrics import confusion_matrix\n",
    "\n",
    "print(\"Confusion Matrix\")\n",
    "result = confusion_matrix(y_test, grid_predictions)\n",
    "sns.heatmap(result,annot=True, fmt='g')\n"
   ]
  },
  {
   "cell_type": "markdown",
   "metadata": {
    "id": "aUCXr9PDCs0y"
   },
   "source": [
    "**Naive Bayes**\n"
   ]
  },
  {
   "cell_type": "code",
   "execution_count": null,
   "metadata": {
    "colab": {
     "base_uri": "https://localhost:8080/"
    },
    "id": "VhgwhCPVCrDZ",
    "outputId": "51338779-4490-4656-9700-d5a2854bb710"
   },
   "outputs": [
    {
     "data": {
      "text/plain": [
       "GaussianNB(priors=None, var_smoothing=1e-09)"
      ]
     },
     "execution_count": 43,
     "metadata": {
      "tags": []
     },
     "output_type": "execute_result"
    }
   ],
   "source": [
    "from sklearn.naive_bayes import GaussianNB\n",
    "model = GaussianNB()\n",
    "model.fit(X_train,y_train)"
   ]
  },
  {
   "cell_type": "code",
   "execution_count": null,
   "metadata": {
    "colab": {
     "base_uri": "https://localhost:8080/"
    },
    "id": "hfAIkaKIC4y8",
    "outputId": "cbd6de9e-c245-423d-bf20-86b7be6b0f0d"
   },
   "outputs": [
    {
     "name": "stdout",
     "output_type": "stream",
     "text": [
      "              precision    recall  f1-score   support\n",
      "\n",
      "           0       0.77      0.83      0.80        12\n",
      "           1       0.82      0.82      0.82        17\n",
      "           2       1.00      0.91      0.95        11\n",
      "\n",
      "    accuracy                           0.85        40\n",
      "   macro avg       0.86      0.86      0.86        40\n",
      "weighted avg       0.86      0.85      0.85        40\n",
      "\n"
     ]
    }
   ],
   "source": [
    "y_pred = model.predict(X_test)\n",
    "#Naive Bayes Classification report\n",
    "print(classification_report(y_test, y_pred))"
   ]
  },
  {
   "cell_type": "code",
   "execution_count": null,
   "metadata": {
    "colab": {
     "base_uri": "https://localhost:8080/"
    },
    "id": "ZzgKpPhfFjUv",
    "outputId": "26dac4d2-25ce-417c-d41d-909e2e7e5aba"
   },
   "outputs": [
    {
     "name": "stdout",
     "output_type": "stream",
     "text": [
      "Accuracy: 0.85\n"
     ]
    }
   ],
   "source": [
    "#NaiveBayes Accuracy\n",
    "print(\"Accuracy:\",metrics.accuracy_score(y_test, y_pred))"
   ]
  },
  {
   "cell_type": "code",
   "execution_count": null,
   "metadata": {
    "colab": {
     "base_uri": "https://localhost:8080/",
     "height": 304
    },
    "id": "7ObW_mCzFBk8",
    "outputId": "e5e42cb9-3a8e-419d-bf4c-125d561366ed"
   },
   "outputs": [
    {
     "name": "stdout",
     "output_type": "stream",
     "text": [
      "Confusion Matrix\n"
     ]
    },
    {
     "data": {
      "text/plain": [
       "<matplotlib.axes._subplots.AxesSubplot at 0x7fc64f74e6a0>"
      ]
     },
     "execution_count": 46,
     "metadata": {
      "tags": []
     },
     "output_type": "execute_result"
    },
    {
     "data": {
      "image/png": "[encoded data removed]",
      "text/plain": [
       "<Figure size 432x288 with 2 Axes>"
      ]
     },
     "metadata": {
      "needs_background": "light",
      "tags": []
     },
     "output_type": "display_data"
    }
   ],
   "source": [
    "print(\"Confusion Matrix\")\n",
    "result = confusion_matrix(y_test,y_pred)\n",
    "sns.heatmap(result,annot=True, fmt='g')\n"
   ]
  },
  {
   "cell_type": "markdown",
   "metadata": {
    "id": "wRCm0A3VDBVB"
   },
   "source": [
    "**Random Forest**"
   ]
  },
  {
   "cell_type": "code",
   "execution_count": null,
   "metadata": {
    "id": "Her-PPqwDClm"
   },
   "outputs": [],
   "source": [
    "from sklearn.ensemble import RandomForestClassifier\n",
    "rand_forest=RandomForestClassifier(random_state=42)\n"
   ]
  },
  {
   "cell_type": "code",
   "execution_count": null,
   "metadata": {
    "id": "4yzDxNcJDGr2"
   },
   "outputs": [],
   "source": [
    "param_grid = { \n",
    "    'n_estimators': [200, 500],\n",
    "    'max_features': ['auto', 'sqrt', 'log2'],\n",
    "    'max_depth' : [4,5,6,7,8],\n",
    "    'criterion' :['gini', 'entropy']\n",
    "}\n"
   ]
  },
  {
   "cell_type": "markdown",
   "metadata": {
    "id": "7oWGLhiYGuMI"
   },
   "source": [
    "**Grid search cross validation**"
   ]
  },
  {
   "cell_type": "code",
   "execution_count": null,
   "metadata": {
    "colab": {
     "base_uri": "https://localhost:8080/"
    },
    "id": "xM4bUC4MDJgR",
    "outputId": "7e844460-b7b2-46af-ae29-4517af261ebd"
   },
   "outputs": [
    {
     "data": {
      "text/plain": [
       "GridSearchCV(cv=5, error_score=nan,\n",
       "             estimator=RandomForestClassifier(bootstrap=True, ccp_alpha=0.0,\n",
       "                                              class_weight=None,\n",
       "                                              criterion='gini', max_depth=None,\n",
       "                                              max_features='auto',\n",
       "                                              max_leaf_nodes=None,\n",
       "                                              max_samples=None,\n",
       "                                              min_impurity_decrease=0.0,\n",
       "                                              min_impurity_split=None,\n",
       "                                              min_samples_leaf=1,\n",
       "                                              min_samples_split=2,\n",
       "                                              min_weight_fraction_leaf=0.0,\n",
       "                                              n_estimators=100, n_jobs=None,\n",
       "                                              oob_score=False, random_state=42,\n",
       "                                              verbose=0, warm_start=False),\n",
       "             iid='deprecated', n_jobs=None,\n",
       "             param_grid={'criterion': ['gini', 'entropy'],\n",
       "                         'max_depth': [4, 5, 6, 7, 8],\n",
       "                         'max_features': ['auto', 'sqrt', 'log2'],\n",
       "                         'n_estimators': [200, 500]},\n",
       "             pre_dispatch='2*n_jobs', refit=True, return_train_score=False,\n",
       "             scoring=None, verbose=0)"
      ]
     },
     "execution_count": 49,
     "metadata": {
      "tags": []
     },
     "output_type": "execute_result"
    }
   ],
   "source": [
    "#Calling random forest using grid search\n",
    "CV_forest = GridSearchCV(estimator=rand_forest, param_grid=param_grid, cv= 5)\n",
    "CV_forest.fit(X_train, y_train)"
   ]
  },
  {
   "cell_type": "code",
   "execution_count": null,
   "metadata": {
    "colab": {
     "base_uri": "https://localhost:8080/"
    },
    "id": "m1FpfOY6DMg_",
    "outputId": "cdfa5c90-addd-4a04-eab8-634a89eb8044"
   },
   "outputs": [
    {
     "data": {
      "text/plain": [
       "{'criterion': 'gini',\n",
       " 'max_depth': 4,\n",
       " 'max_features': 'auto',\n",
       " 'n_estimators': 200}"
      ]
     },
     "execution_count": 50,
     "metadata": {
      "tags": []
     },
     "output_type": "execute_result"
    }
   ],
   "source": [
    "#random forest best paramter\n",
    "CV_forest.best_params_"
   ]
  },
  {
   "cell_type": "code",
   "execution_count": null,
   "metadata": {
    "id": "rnKwh9VmDRLn"
   },
   "outputs": [],
   "source": [
    "y_pred = CV_forest.predict(X_test)"
   ]
  },
  {
   "cell_type": "code",
   "execution_count": null,
   "metadata": {
    "colab": {
     "base_uri": "https://localhost:8080/"
    },
    "id": "5PTnLyh1Fp1u",
    "outputId": "282dbf59-db96-4f7a-e8aa-7332de656a3d"
   },
   "outputs": [
    {
     "name": "stdout",
     "output_type": "stream",
     "text": [
      "              precision    recall  f1-score   support\n",
      "\n",
      "           0       0.88      0.58      0.70        12\n",
      "           1       0.70      0.94      0.80        17\n",
      "           2       1.00      0.82      0.90        11\n",
      "\n",
      "    accuracy                           0.80        40\n",
      "   macro avg       0.86      0.78      0.80        40\n",
      "weighted avg       0.83      0.80      0.80        40\n",
      "\n"
     ]
    }
   ],
   "source": [
    "#random forest classification report\n",
    "print(classification_report(y_test, y_pred))"
   ]
  },
  {
   "cell_type": "code",
   "execution_count": null,
   "metadata": {
    "colab": {
     "base_uri": "https://localhost:8080/"
    },
    "id": "mEkkmBstDT2x",
    "outputId": "1cadfd15-aad3-4372-be97-bb5ede7d38ef"
   },
   "outputs": [
    {
     "name": "stdout",
     "output_type": "stream",
     "text": [
      "Accuracy for Random Forest :  0.8\n"
     ]
    }
   ],
   "source": [
    "print(\"Accuracy for Random Forest : \",metrics.accuracy_score(y_test,y_pred))"
   ]
  },
  {
   "cell_type": "code",
   "execution_count": null,
   "metadata": {
    "colab": {
     "base_uri": "https://localhost:8080/",
     "height": 304
    },
    "id": "3UiWhk5YFJzC",
    "outputId": "78ee4584-7974-45fe-f6e5-81f90ab5e981"
   },
   "outputs": [
    {
     "name": "stdout",
     "output_type": "stream",
     "text": [
      "Confusion Matrix\n"
     ]
    },
    {
     "data": {
      "text/plain": [
       "<matplotlib.axes._subplots.AxesSubplot at 0x7fc64fbedb70>"
      ]
     },
     "execution_count": 54,
     "metadata": {
      "tags": []
     },
     "output_type": "execute_result"
    },
    {
     "data": {
      "image/png": "[encoded data removed]",
      "text/plain": [
       "<Figure size 432x288 with 2 Axes>"
      ]
     },
     "metadata": {
      "needs_background": "light",
      "tags": []
     },
     "output_type": "display_data"
    }
   ],
   "source": [
    "print(\"Confusion Matrix\")\n",
    "result = confusion_matrix(y_test, y_pred)\n",
    "sns.heatmap(result,annot=True, fmt='g')\n"
   ]
  },
  {
   "cell_type": "markdown",
   "metadata": {
    "id": "wF39nv5EDa_G"
   },
   "source": [
    "**Logistic Regression**"
   ]
  },
  {
   "cell_type": "code",
   "execution_count": null,
   "metadata": {
    "colab": {
     "base_uri": "https://localhost:8080/"
    },
    "id": "-HoSvc9fDhZB",
    "outputId": "ecc4cc4e-347b-4fe6-976b-3062185186c0"
   },
   "outputs": [
    {
     "name": "stderr",
     "output_type": "stream",
     "text": [
      "/usr/local/lib/python3.6/dist-packages/sklearn/linear_model/_logistic.py:940: ConvergenceWarning: lbfgs failed to converge (status=1):\n",
      "STOP: TOTAL NO. of ITERATIONS REACHED LIMIT.\n",
      "\n",
      "Increase the number of iterations (max_iter) or scale the data as shown in:\n",
      "    https://scikit-learn.org/stable/modules/preprocessing.html\n",
      "Please also refer to the documentation for alternative solver options:\n",
      "    https://scikit-learn.org/stable/modules/linear_model.html#logistic-regression\n",
      "  extra_warning_msg=_LOGISTIC_SOLVER_CONVERGENCE_MSG)\n"
     ]
    }
   ],
   "source": [
    "from sklearn.linear_model import LogisticRegression\n",
    "logistic_regression = LogisticRegression(random_state=0).fit(X_train, y_train)\n",
    "\n",
    "y_pred = logistic_regression.predict(X_test)"
   ]
  },
  {
   "cell_type": "code",
   "execution_count": null,
   "metadata": {
    "colab": {
     "base_uri": "https://localhost:8080/"
    },
    "id": "pXLkxp2UFwDh",
    "outputId": "3e0ec6b2-4872-424a-c9e1-22d886180954"
   },
   "outputs": [
    {
     "name": "stdout",
     "output_type": "stream",
     "text": [
      "              precision    recall  f1-score   support\n",
      "\n",
      "           0       1.00      0.58      0.74        12\n",
      "           1       0.74      1.00      0.85        17\n",
      "           2       1.00      0.91      0.95        11\n",
      "\n",
      "    accuracy                           0.85        40\n",
      "   macro avg       0.91      0.83      0.85        40\n",
      "weighted avg       0.89      0.85      0.84        40\n",
      "\n"
     ]
    }
   ],
   "source": [
    "#Logistic regression classification report\n",
    "print(classification_report(y_test, y_pred))"
   ]
  },
  {
   "cell_type": "code",
   "execution_count": null,
   "metadata": {
    "colab": {
     "base_uri": "https://localhost:8080/"
    },
    "id": "qd8Xb5BJDnZr",
    "outputId": "ad7683a5-5860-4627-d260-b76ba446d734"
   },
   "outputs": [
    {
     "name": "stdout",
     "output_type": "stream",
     "text": [
      "Accuracy for Logistic Regression :  0.85\n"
     ]
    }
   ],
   "source": [
    "print(\"Accuracy for Logistic Regression : \",metrics.accuracy_score(y_test,y_pred))"
   ]
  },
  {
   "cell_type": "code",
   "execution_count": null,
   "metadata": {
    "colab": {
     "base_uri": "https://localhost:8080/",
     "height": 300
    },
    "id": "EVEjcmWsFMK6",
    "outputId": "b70303e8-6a47-461c-a514-0fa0636c4a43"
   },
   "outputs": [
    {
     "name": "stdout",
     "output_type": "stream",
     "text": [
      "Confusion Matrix\n"
     ]
    },
    {
     "data": {
      "text/plain": [
       "<matplotlib.axes._subplots.AxesSubplot at 0x7fc659218f98>"
      ]
     },
     "execution_count": 59,
     "metadata": {
      "tags": []
     },
     "output_type": "execute_result"
    },
    {
     "data": {
      "image/png": "[encoded data removed]",
      "text/plain": [
       "<Figure size 432x288 with 2 Axes>"
      ]
     },
     "metadata": {
      "needs_background": "light",
      "tags": []
     },
     "output_type": "display_data"
    }
   ],
   "source": [
    "print(\"Confusion Matrix\")\n",
    "result = confusion_matrix(y_test,y_pred)\n",
    "sns.heatmap(result,annot=True, fmt='g')\n"
   ]
  },
  {
   "cell_type": "markdown",
   "metadata": {
    "id": "0oRJaAh3U9mH"
   },
   "source": [
    "**Decision Tree Classifier**"
   ]
  },
  {
   "cell_type": "code",
   "execution_count": null,
   "metadata": {
    "colab": {
     "base_uri": "https://localhost:8080/"
    },
    "id": "Uoce_oz1VBbD",
    "outputId": "ccc1f9d5-4896-4f4f-fd26-5f0d6ef6acc5"
   },
   "outputs": [
    {
     "name": "stdout",
     "output_type": "stream",
     "text": [
      "Fitting 3 folds for each of 294 candidates, totalling 882 fits\n"
     ]
    },
    {
     "name": "stderr",
     "output_type": "stream",
     "text": [
      "[Parallel(n_jobs=1)]: Using backend SequentialBackend with 1 concurrent workers.\n",
      "[Parallel(n_jobs=1)]: Done 882 out of 882 | elapsed:    2.8s finished\n"
     ]
    },
    {
     "data": {
      "text/plain": [
       "GridSearchCV(cv=3, error_score=nan,\n",
       "             estimator=DecisionTreeClassifier(ccp_alpha=0.0, class_weight=None,\n",
       "                                              criterion='gini', max_depth=None,\n",
       "                                              max_features=None,\n",
       "                                              max_leaf_nodes=None,\n",
       "                                              min_impurity_decrease=0.0,\n",
       "                                              min_impurity_split=None,\n",
       "                                              min_samples_leaf=1,\n",
       "                                              min_samples_split=2,\n",
       "                                              min_weight_fraction_leaf=0.0,\n",
       "                                              presort='deprecated',\n",
       "                                              random_state=42,\n",
       "                                              splitter='best'),\n",
       "             iid='deprecated', n_jobs=None,\n",
       "             param_grid={'max_leaf_nodes': [2, 3, 4, 5, 6, 7, 8, 9, 10, 11, 12,\n",
       "                                            13, 14, 15, 16, 17, 18, 19, 20, 21,\n",
       "                                            22, 23, 24, 25, 26, 27, 28, 29, 30,\n",
       "                                            31, ...],\n",
       "                         'min_samples_split': [2, 3, 4]},\n",
       "             pre_dispatch='2*n_jobs', refit=True, return_train_score=False,\n",
       "             scoring=None, verbose=1)"
      ]
     },
     "execution_count": 60,
     "metadata": {
      "tags": []
     },
     "output_type": "execute_result"
    }
   ],
   "source": [
    "from sklearn.tree import DecisionTreeClassifier\n",
    "params = {'max_leaf_nodes': list(range(2, 100)),\n",
    "          'min_samples_split': [2, 3, 4]}\n",
    "\n",
    "\n",
    "# calling decision tree using hyper paramter\n",
    "grid_search_tree = GridSearchCV(DecisionTreeClassifier(random_state=42), params, verbose=1, cv=3)\n",
    "grid_search_tree.fit(X_train, y_train)"
   ]
  },
  {
   "cell_type": "code",
   "execution_count": null,
   "metadata": {
    "colab": {
     "base_uri": "https://localhost:8080/"
    },
    "id": "d_7BV1q_VBuZ",
    "outputId": "da0cef36-4fc0-43d4-e7b2-65bb9b767e5b"
   },
   "outputs": [
    {
     "data": {
      "text/plain": [
       "DecisionTreeClassifier(ccp_alpha=0.0, class_weight=None, criterion='gini',\n",
       "                       max_depth=None, max_features=None, max_leaf_nodes=3,\n",
       "                       min_impurity_decrease=0.0, min_impurity_split=None,\n",
       "                       min_samples_leaf=1, min_samples_split=2,\n",
       "                       min_weight_fraction_leaf=0.0, presort='deprecated',\n",
       "                       random_state=42, splitter='best')"
      ]
     },
     "execution_count": 61,
     "metadata": {
      "tags": []
     },
     "output_type": "execute_result"
    }
   ],
   "source": [
    "# Hyper-parameter tuning \n",
    "grid_search_tree.best_estimator_"
   ]
  },
  {
   "cell_type": "code",
   "execution_count": null,
   "metadata": {
    "id": "fnL_F88tVCAO"
   },
   "outputs": [],
   "source": [
    "y_pred = grid_search_tree.predict(X_test)"
   ]
  },
  {
   "cell_type": "code",
   "execution_count": null,
   "metadata": {
    "colab": {
     "base_uri": "https://localhost:8080/"
    },
    "id": "ls65j76IFyQG",
    "outputId": "49dd4f7a-b786-4c50-a5d7-af78ae359f39"
   },
   "outputs": [
    {
     "name": "stdout",
     "output_type": "stream",
     "text": [
      "              precision    recall  f1-score   support\n",
      "\n",
      "           0       0.73      0.67      0.70        12\n",
      "           1       0.70      0.82      0.76        17\n",
      "           2       1.00      0.82      0.90        11\n",
      "\n",
      "    accuracy                           0.78        40\n",
      "   macro avg       0.81      0.77      0.78        40\n",
      "weighted avg       0.79      0.78      0.78        40\n",
      "\n"
     ]
    }
   ],
   "source": [
    "#Decision Tree classification\n",
    "print(classification_report(y_test, y_pred))"
   ]
  },
  {
   "cell_type": "code",
   "execution_count": null,
   "metadata": {
    "colab": {
     "base_uri": "https://localhost:8080/"
    },
    "id": "h_ClkukAVCRm",
    "outputId": "bd9f2839-798c-4d10-c173-7fc1239b476e"
   },
   "outputs": [
    {
     "name": "stdout",
     "output_type": "stream",
     "text": [
      "Accuracy for Decision Tree :  0.775\n"
     ]
    }
   ],
   "source": [
    "print(\"Accuracy for Decision Tree : \",metrics.accuracy_score(y_test,y_pred))"
   ]
  },
  {
   "cell_type": "code",
   "execution_count": null,
   "metadata": {
    "colab": {
     "base_uri": "https://localhost:8080/",
     "height": 304
    },
    "id": "Q_WMuZR8FTH_",
    "outputId": "b3ffb9fc-c62c-4cdf-9f93-45abb3d4c66e"
   },
   "outputs": [
    {
     "name": "stdout",
     "output_type": "stream",
     "text": [
      "Confusion Matrix\n"
     ]
    },
    {
     "data": {
      "text/plain": [
       "<matplotlib.axes._subplots.AxesSubplot at 0x7fc64f0dcc18>"
      ]
     },
     "execution_count": 65,
     "metadata": {
      "tags": []
     },
     "output_type": "execute_result"
    },
    {
     "data": {
      "image/png": "[encoded data removed]",
      "text/plain": [
       "<Figure size 432x288 with 2 Axes>"
      ]
     },
     "metadata": {
      "needs_background": "light",
      "tags": []
     },
     "output_type": "display_data"
    }
   ],
   "source": [
    "print(\"Confusion Matrix\")\n",
    "result = confusion_matrix(y_test, y_pred)\n",
    "sns.heatmap(result,annot=True, fmt='g')\n"
   ]
  },
  {
   "cell_type": "markdown",
   "metadata": {
    "id": "4CBipCft1b-c"
   },
   "source": [
    "**Geners Prediction**"
   ]
  },
  {
   "cell_type": "code",
   "execution_count": null,
   "metadata": {
    "id": "qVsVVhsKJLwz"
   },
   "outputs": [],
   "source": [
    "from sklearn.feature_extraction.text import TfidfVectorizer\n",
    "\n",
    "# Define a TF-IDF Vectorizer Object.\n",
    "tf_idf = TfidfVectorizer(token_pattern = '[a-zA-Z0-9\\-]+')\n",
    "\n",
    "#Construct the required TF-IDF matrix by fitting and transforming the data\n",
    "tf = tf_idf.fit_transform(movies_df['genres'])"
   ]
  },
  {
   "cell_type": "markdown",
   "metadata": {
    "id": "7KY-oMLZzDyL"
   },
   "source": [
    "**KNN Algorithm**\n",
    "\n",
    "Get the cluster label to which movie belongs by KNN classifier from scikit-learn library.  \n",
    "\n",
    "*Input*: movie_id\n",
    "\n",
    "*output*: genres label to movie belong"
   ]
  },
  {
   "cell_type": "code",
   "execution_count": null,
   "metadata": {
    "colab": {
     "base_uri": "https://localhost:8080/"
    },
    "id": "qCR1cSKEy-9G",
    "outputId": "4aa0991c-d62d-4d17-d5f3-fab9c519ab82"
   },
   "outputs": [
    {
     "name": "stdout",
     "output_type": "stream",
     "text": [
      "Input movie id to get geners label to which movie belongs: 3\n",
      "'Comedy|Drama|Romance'\n"
     ]
    }
   ],
   "source": [
    "from sklearn.neighbors import KNeighborsClassifier  \n",
    "x= tf\n",
    "y = movies_df.iloc[:,-1]\n",
    "\n",
    "#create model \n",
    "KNN_model = KNeighborsClassifier(n_neighbors=5)\n",
    "#fit model\n",
    "KNN_model.fit(x, y)\n",
    "#user input movie id\n",
    "movie_id = input(\"Input movie id to get geners label to which movie belongs: \")\n",
    "movie_id = int(movie_id)\n",
    "#predict gener\n",
    "y_pred = KNN_model.predict(tf[movie_id])\n",
    "print( \"\\n\".join( repr(e) for e in y_pred ))"
   ]
  },
  {
   "cell_type": "code",
   "execution_count": null,
   "metadata": {
    "colab": {
     "base_uri": "https://localhost:8080/",
     "height": 202
    },
    "id": "jopXH2fO06m-",
    "outputId": "b94080eb-a790-45d7-c63d-533330496a93"
   },
   "outputs": [
    {
     "data": {
      "text/html": [
       "<div>\n",
       "<style scoped>\n",
       "    .dataframe tbody tr th:only-of-type {\n",
       "        vertical-align: middle;\n",
       "    }\n",
       "\n",
       "    .dataframe tbody tr th {\n",
       "        vertical-align: top;\n",
       "    }\n",
       "\n",
       "    .dataframe thead th {\n",
       "        text-align: right;\n",
       "    }\n",
       "</style>\n",
       "<table border=\"1\" class=\"dataframe\">\n",
       "  <thead>\n",
       "    <tr style=\"text-align: right;\">\n",
       "      <th></th>\n",
       "      <th>movieId</th>\n",
       "      <th>title</th>\n",
       "      <th>genres</th>\n",
       "      <th>userId</th>\n",
       "      <th>rating</th>\n",
       "      <th>timestamp</th>\n",
       "      <th>year</th>\n",
       "    </tr>\n",
       "  </thead>\n",
       "  <tbody>\n",
       "    <tr>\n",
       "      <th>232</th>\n",
       "      <td>2</td>\n",
       "      <td>Jumanji (1995)</td>\n",
       "      <td>Adventure|Children|Fantasy</td>\n",
       "      <td>16.0</td>\n",
       "      <td>3.0</td>\n",
       "      <td>1970-01-01 00:00:00.849188326</td>\n",
       "      <td>1995</td>\n",
       "    </tr>\n",
       "    <tr>\n",
       "      <th>233</th>\n",
       "      <td>2</td>\n",
       "      <td>Jumanji (1995)</td>\n",
       "      <td>Adventure|Children|Fantasy</td>\n",
       "      <td>29.0</td>\n",
       "      <td>4.0</td>\n",
       "      <td>1970-01-01 00:00:00.836818098</td>\n",
       "      <td>1995</td>\n",
       "    </tr>\n",
       "    <tr>\n",
       "      <th>234</th>\n",
       "      <td>2</td>\n",
       "      <td>Jumanji (1995)</td>\n",
       "      <td>Adventure|Children|Fantasy</td>\n",
       "      <td>31.0</td>\n",
       "      <td>4.0</td>\n",
       "      <td>1970-01-01 00:00:00.832397674</td>\n",
       "      <td>1995</td>\n",
       "    </tr>\n",
       "    <tr>\n",
       "      <th>235</th>\n",
       "      <td>2</td>\n",
       "      <td>Jumanji (1995)</td>\n",
       "      <td>Adventure|Children|Fantasy</td>\n",
       "      <td>32.0</td>\n",
       "      <td>3.0</td>\n",
       "      <td>1970-01-01 00:00:00.903225605</td>\n",
       "      <td>1995</td>\n",
       "    </tr>\n",
       "    <tr>\n",
       "      <th>236</th>\n",
       "      <td>2</td>\n",
       "      <td>Jumanji (1995)</td>\n",
       "      <td>Adventure|Children|Fantasy</td>\n",
       "      <td>38.0</td>\n",
       "      <td>2.0</td>\n",
       "      <td>1970-01-01 00:00:01.408318179</td>\n",
       "      <td>1995</td>\n",
       "    </tr>\n",
       "  </tbody>\n",
       "</table>\n",
       "</div>"
      ],
      "text/plain": [
       "     movieId           title  ...                     timestamp  year\n",
       "232        2  Jumanji (1995)  ... 1970-01-01 00:00:00.849188326  1995\n",
       "233        2  Jumanji (1995)  ... 1970-01-01 00:00:00.836818098  1995\n",
       "234        2  Jumanji (1995)  ... 1970-01-01 00:00:00.832397674  1995\n",
       "235        2  Jumanji (1995)  ... 1970-01-01 00:00:00.903225605  1995\n",
       "236        2  Jumanji (1995)  ... 1970-01-01 00:00:01.408318179  1995\n",
       "\n",
       "[5 rows x 7 columns]"
      ]
     },
     "execution_count": 73,
     "metadata": {
      "tags": []
     },
     "output_type": "execute_result"
    }
   ],
   "source": [
    "#get movied by ID given inpurt above\n",
    "all_movies[all_movies[\"movieId\"]== movie_id].head()"
   ]
  },
  {
   "cell_type": "markdown",
   "metadata": {
    "id": "K2yPhZILwOWY"
   },
   "source": [
    "# Content Based Filtering Model\n",
    "\n",
    "calculates top movies to be recommended to user based on movie user has watched. And removing already watched movie from recommended list.\n",
    "\n",
    "*input*: user Id\n",
    "\n",
    "*output*: Top movies based on movie user has watched.  "
   ]
  },
  {
   "cell_type": "code",
   "execution_count": null,
   "metadata": {
    "id": "IDJugF01XpDh"
   },
   "outputs": [],
   "source": [
    "def get_movie_by_tite(title):\n",
    "    movie_index = movies_df.loc[movies_df['title'].isin([title])]\n",
    "    return movie_index"
   ]
  },
  {
   "cell_type": "code",
   "execution_count": null,
   "metadata": {
    "id": "ZIsWtt7pNGG3"
   },
   "outputs": [],
   "source": [
    "cosine_sim_movies = linear_kernel(tf, tf)\n",
    "\n",
    "content_based_rec = all_movies['movieId'].value_counts()\n",
    "content_based_rec_list =  content_based_rec[:10]\n",
    "def get_recommendations_by_geners(title, sim_movies=cosine_sim_movies):\n",
    "    #Index of the movie that matches the movies title\n",
    "    movie_index = movies_df.loc[movies_df['title'].isin([title])]\n",
    "    movie_index = movie_index.index\n",
    "    #Pairwsie similarity scores of all movies with this movie\n",
    "    movies_similarity_score = list(enumerate(sim_movies[movie_index][0]))\\\n",
    "    #Sort the movies based on the similarity scores\n",
    "    movies_similarity_score = sorted(movies_similarity_score, key=lambda x: x[1], reverse=True)\n",
    "    #Scores of the 10 most similar movies\n",
    "    movies_similarity_score = movies_similarity_score[1:10]\n",
    "    # get movie indices\n",
    "    indices_movie = [i[0] for i in movies_similarity_score]\n",
    "    return movies_df['title'].iloc[indices_movie]"
   ]
  },
  {
   "cell_type": "markdown",
   "metadata": {
    "id": "Aq5pzpmy-0sX"
   },
   "source": [
    "Top 10 recommendations based on content based."
   ]
  },
  {
   "cell_type": "code",
   "execution_count": null,
   "metadata": {
    "colab": {
     "base_uri": "https://localhost:8080/"
    },
    "id": "yqn0jzdVvM0k",
    "outputId": "0381d765-0201-435c-fc81-132824dc80da"
   },
   "outputs": [
    {
     "name": "stdout",
     "output_type": "stream",
     "text": [
      "Input User Id to Recommend Top movies based on movie user has watched (content based): 2\n",
      "'Antz (1998)'\n",
      "'Toy Story 2 (1999)'\n",
      "'Adventures of Rocky and Bullwinkle, The (2000)'\n",
      "\"Emperor's New Groove, The (2000)\"\n",
      "'Monsters, Inc. (2001)'\n",
      "'DuckTales: The Movie - Treasure of the Lost Lamp (1990)'\n",
      "'Wild, The (2006)'\n",
      "'Shrek the Third (2007)'\n",
      "'Tale of Despereaux, The (2008)'\n",
      "'Sabrina (1995)'\n"
     ]
    }
   ],
   "source": [
    "userId=input(\"Input User Id to Recommend Top movies based on movie user has watched (content based): \")\n",
    "#convert str into int \n",
    "userId = int(userId)\n",
    "\n",
    "recommended = []\n",
    "movie_list = []\n",
    "user_rated = ratings_df[ratings_df[\"userId\"]== userId]\n",
    "for key, row in user_rated.iterrows():\n",
    "  movie_list.append((movies_df[\"title\"][row[\"movieId\"]==movies_df[\"movieId\"]]).values) \n",
    "for index, movie in enumerate(movie_list):\n",
    "  for key, movie_recommended in get_recommendations_by_geners(movie[0]).iteritems():\n",
    "    recommended.append(movie_recommended)\n",
    "\n",
    "content_based_rec = all_movies['movieId'].value_counts()\n",
    "#remove already watched movie by user    \n",
    "for movie_title in recommended:\n",
    "  if movie_title in movie_list:\n",
    "    recommended.remove(movie_title)\n",
    "#remove duplicate movies to user recommendations   \n",
    "def Remove_dups(duplicate):\n",
    "    final_list = []\n",
    "    for num in duplicate:\n",
    "        if num not in final_list:\n",
    "            final_list.append(num)\n",
    "    return final_list\n",
    "recommended = Remove_dups(recommended[:20])\n",
    "#print top 10 movies for recommendation\n",
    "print( \"\\n\".join( repr(e) for e in recommended[:10] ))"
   ]
  },
  {
   "cell_type": "markdown",
   "metadata": {
    "id": "5cQ2OhyTS_6H"
   },
   "source": [
    "\n",
    "UserId entered above for movies recomendation by content based model.\n",
    "Check the orignol data of this user in dataset."
   ]
  },
  {
   "cell_type": "code",
   "execution_count": null,
   "metadata": {
    "colab": {
     "base_uri": "https://localhost:8080/",
     "height": 938
    },
    "id": "XWHYifIjNSJ1",
    "outputId": "7f754aab-5716-4e41-dae6-3d9820944f9c"
   },
   "outputs": [
    {
     "data": {
      "text/html": [
       "<div>\n",
       "<style scoped>\n",
       "    .dataframe tbody tr th:only-of-type {\n",
       "        vertical-align: middle;\n",
       "    }\n",
       "\n",
       "    .dataframe tbody tr th {\n",
       "        vertical-align: top;\n",
       "    }\n",
       "\n",
       "    .dataframe thead th {\n",
       "        text-align: right;\n",
       "    }\n",
       "</style>\n",
       "<table border=\"1\" class=\"dataframe\">\n",
       "  <thead>\n",
       "    <tr style=\"text-align: right;\">\n",
       "      <th></th>\n",
       "      <th>movieId</th>\n",
       "      <th>title</th>\n",
       "      <th>genres</th>\n",
       "      <th>userId</th>\n",
       "      <th>rating</th>\n",
       "      <th>timestamp</th>\n",
       "      <th>year</th>\n",
       "    </tr>\n",
       "  </thead>\n",
       "  <tbody>\n",
       "    <tr>\n",
       "      <th>0</th>\n",
       "      <td>1</td>\n",
       "      <td>Toy Story (1995)</td>\n",
       "      <td>Adventure|Animation|Children|Comedy|Fantasy</td>\n",
       "      <td>2.0</td>\n",
       "      <td>5.0</td>\n",
       "      <td>1970-01-01 00:00:00.859046895</td>\n",
       "      <td>1995</td>\n",
       "    </tr>\n",
       "    <tr>\n",
       "      <th>324</th>\n",
       "      <td>3</td>\n",
       "      <td>Grumpier Old Men (1995)</td>\n",
       "      <td>Comedy|Romance</td>\n",
       "      <td>2.0</td>\n",
       "      <td>2.0</td>\n",
       "      <td>1970-01-01 00:00:00.859046959</td>\n",
       "      <td>1995</td>\n",
       "    </tr>\n",
       "    <tr>\n",
       "      <th>393</th>\n",
       "      <td>5</td>\n",
       "      <td>Father of the Bride Part II (1995)</td>\n",
       "      <td>Comedy</td>\n",
       "      <td>2.0</td>\n",
       "      <td>3.0</td>\n",
       "      <td>1970-01-01 00:00:00.859046959</td>\n",
       "      <td>1995</td>\n",
       "    </tr>\n",
       "    <tr>\n",
       "      <th>899</th>\n",
       "      <td>14</td>\n",
       "      <td>Nixon (1995)</td>\n",
       "      <td>Drama</td>\n",
       "      <td>2.0</td>\n",
       "      <td>4.0</td>\n",
       "      <td>1970-01-01 00:00:00.859047091</td>\n",
       "      <td>1995</td>\n",
       "    </tr>\n",
       "    <tr>\n",
       "      <th>1026</th>\n",
       "      <td>17</td>\n",
       "      <td>Sense and Sensibility (1995)</td>\n",
       "      <td>Drama|Romance</td>\n",
       "      <td>2.0</td>\n",
       "      <td>5.0</td>\n",
       "      <td>1970-01-01 00:00:00.859046896</td>\n",
       "      <td>1995</td>\n",
       "    </tr>\n",
       "    <tr>\n",
       "      <th>1466</th>\n",
       "      <td>25</td>\n",
       "      <td>Leaving Las Vegas (1995)</td>\n",
       "      <td>Drama|Romance</td>\n",
       "      <td>2.0</td>\n",
       "      <td>3.0</td>\n",
       "      <td>1970-01-01 00:00:00.859046896</td>\n",
       "      <td>1995</td>\n",
       "    </tr>\n",
       "    <tr>\n",
       "      <th>1686</th>\n",
       "      <td>32</td>\n",
       "      <td>Twelve Monkeys (a.k.a. 12 Monkeys) (1995)</td>\n",
       "      <td>Mystery|Sci-Fi|Thriller</td>\n",
       "      <td>2.0</td>\n",
       "      <td>3.0</td>\n",
       "      <td>1970-01-01 00:00:00.859046895</td>\n",
       "      <td>1995</td>\n",
       "    </tr>\n",
       "    <tr>\n",
       "      <th>2025</th>\n",
       "      <td>36</td>\n",
       "      <td>Dead Man Walking (1995)</td>\n",
       "      <td>Crime|Drama</td>\n",
       "      <td>2.0</td>\n",
       "      <td>5.0</td>\n",
       "      <td>1970-01-01 00:00:00.859046959</td>\n",
       "      <td>1995</td>\n",
       "    </tr>\n",
       "    <tr>\n",
       "      <th>2845</th>\n",
       "      <td>52</td>\n",
       "      <td>Mighty Aphrodite (1995)</td>\n",
       "      <td>Comedy|Drama|Romance</td>\n",
       "      <td>2.0</td>\n",
       "      <td>4.0</td>\n",
       "      <td>1970-01-01 00:00:00.859047004</td>\n",
       "      <td>1995</td>\n",
       "    </tr>\n",
       "    <tr>\n",
       "      <th>2901</th>\n",
       "      <td>58</td>\n",
       "      <td>Postman, The (Postino, Il) (1994)</td>\n",
       "      <td>Comedy|Drama|Romance</td>\n",
       "      <td>2.0</td>\n",
       "      <td>4.0</td>\n",
       "      <td>1970-01-01 00:00:00.859047004</td>\n",
       "      <td>1994</td>\n",
       "    </tr>\n",
       "    <tr>\n",
       "      <th>2981</th>\n",
       "      <td>62</td>\n",
       "      <td>Mr. Holland's Opus (1995)</td>\n",
       "      <td>Drama</td>\n",
       "      <td>2.0</td>\n",
       "      <td>5.0</td>\n",
       "      <td>1970-01-01 00:00:00.859046896</td>\n",
       "      <td>1995</td>\n",
       "    </tr>\n",
       "    <tr>\n",
       "      <th>3294</th>\n",
       "      <td>79</td>\n",
       "      <td>Juror, The (1996)</td>\n",
       "      <td>Drama|Thriller</td>\n",
       "      <td>2.0</td>\n",
       "      <td>4.0</td>\n",
       "      <td>1970-01-01 00:00:00.859047091</td>\n",
       "      <td>1996</td>\n",
       "    </tr>\n",
       "    <tr>\n",
       "      <th>3469</th>\n",
       "      <td>95</td>\n",
       "      <td>Broken Arrow (1996)</td>\n",
       "      <td>Action|Adventure|Thriller</td>\n",
       "      <td>2.0</td>\n",
       "      <td>4.0</td>\n",
       "      <td>1970-01-01 00:00:00.859046895</td>\n",
       "      <td>1996</td>\n",
       "    </tr>\n",
       "    <tr>\n",
       "      <th>4160</th>\n",
       "      <td>112</td>\n",
       "      <td>Rumble in the Bronx (Hont faan kui) (1995)</td>\n",
       "      <td>Action|Adventure|Comedy|Crime</td>\n",
       "      <td>2.0</td>\n",
       "      <td>3.0</td>\n",
       "      <td>1970-01-01 00:00:00.859047004</td>\n",
       "      <td>1995</td>\n",
       "    </tr>\n",
       "    <tr>\n",
       "      <th>7561</th>\n",
       "      <td>260</td>\n",
       "      <td>Star Wars: Episode IV - A New Hope (1977)</td>\n",
       "      <td>Action|Adventure|Sci-Fi</td>\n",
       "      <td>2.0</td>\n",
       "      <td>4.0</td>\n",
       "      <td>1970-01-01 00:00:00.859047004</td>\n",
       "      <td>1977</td>\n",
       "    </tr>\n",
       "    <tr>\n",
       "      <th>12189</th>\n",
       "      <td>376</td>\n",
       "      <td>River Wild, The (1994)</td>\n",
       "      <td>Action|Thriller</td>\n",
       "      <td>2.0</td>\n",
       "      <td>4.0</td>\n",
       "      <td>1970-01-01 00:00:00.859047004</td>\n",
       "      <td>1994</td>\n",
       "    </tr>\n",
       "    <tr>\n",
       "      <th>15053</th>\n",
       "      <td>494</td>\n",
       "      <td>Executive Decision (1996)</td>\n",
       "      <td>Action|Adventure|Thriller</td>\n",
       "      <td>2.0</td>\n",
       "      <td>4.0</td>\n",
       "      <td>1970-01-01 00:00:00.859046959</td>\n",
       "      <td>1996</td>\n",
       "    </tr>\n",
       "    <tr>\n",
       "      <th>19148</th>\n",
       "      <td>608</td>\n",
       "      <td>Fargo (1996)</td>\n",
       "      <td>Comedy|Crime|Drama|Thriller</td>\n",
       "      <td>2.0</td>\n",
       "      <td>5.0</td>\n",
       "      <td>1970-01-01 00:00:00.859046959</td>\n",
       "      <td>1996</td>\n",
       "    </tr>\n",
       "    <tr>\n",
       "      <th>19542</th>\n",
       "      <td>637</td>\n",
       "      <td>Sgt. Bilko (1996)</td>\n",
       "      <td>Comedy</td>\n",
       "      <td>2.0</td>\n",
       "      <td>3.0</td>\n",
       "      <td>1970-01-01 00:00:00.859047091</td>\n",
       "      <td>1996</td>\n",
       "    </tr>\n",
       "    <tr>\n",
       "      <th>19632</th>\n",
       "      <td>648</td>\n",
       "      <td>Mission: Impossible (1996)</td>\n",
       "      <td>Action|Adventure|Mystery|Thriller</td>\n",
       "      <td>2.0</td>\n",
       "      <td>4.0</td>\n",
       "      <td>1970-01-01 00:00:00.859046895</td>\n",
       "      <td>1996</td>\n",
       "    </tr>\n",
       "    <tr>\n",
       "      <th>19895</th>\n",
       "      <td>661</td>\n",
       "      <td>James and the Giant Peach (1996)</td>\n",
       "      <td>Adventure|Animation|Children|Fantasy|Musical</td>\n",
       "      <td>2.0</td>\n",
       "      <td>4.0</td>\n",
       "      <td>1970-01-01 00:00:00.859047091</td>\n",
       "      <td>1996</td>\n",
       "    </tr>\n",
       "    <tr>\n",
       "      <th>20685</th>\n",
       "      <td>736</td>\n",
       "      <td>Twister (1996)</td>\n",
       "      <td>Action|Adventure|Romance|Thriller</td>\n",
       "      <td>2.0</td>\n",
       "      <td>4.0</td>\n",
       "      <td>1970-01-01 00:00:00.859046895</td>\n",
       "      <td>1996</td>\n",
       "    </tr>\n",
       "    <tr>\n",
       "      <th>21389</th>\n",
       "      <td>780</td>\n",
       "      <td>Independence Day (a.k.a. ID4) (1996)</td>\n",
       "      <td>Action|Adventure|Sci-Fi|Thriller</td>\n",
       "      <td>2.0</td>\n",
       "      <td>4.0</td>\n",
       "      <td>1970-01-01 00:00:00.859046895</td>\n",
       "      <td>1996</td>\n",
       "    </tr>\n",
       "    <tr>\n",
       "      <th>21675</th>\n",
       "      <td>784</td>\n",
       "      <td>Cable Guy, The (1996)</td>\n",
       "      <td>Comedy|Thriller</td>\n",
       "      <td>2.0</td>\n",
       "      <td>2.0</td>\n",
       "      <td>1970-01-01 00:00:00.859047004</td>\n",
       "      <td>1996</td>\n",
       "    </tr>\n",
       "    <tr>\n",
       "      <th>21889</th>\n",
       "      <td>788</td>\n",
       "      <td>Nutty Professor, The (1996)</td>\n",
       "      <td>Comedy|Fantasy|Romance|Sci-Fi</td>\n",
       "      <td>2.0</td>\n",
       "      <td>4.0</td>\n",
       "      <td>1970-01-01 00:00:00.859047004</td>\n",
       "      <td>1996</td>\n",
       "    </tr>\n",
       "    <tr>\n",
       "      <th>22075</th>\n",
       "      <td>802</td>\n",
       "      <td>Phenomenon (1996)</td>\n",
       "      <td>Drama|Romance</td>\n",
       "      <td>2.0</td>\n",
       "      <td>4.0</td>\n",
       "      <td>1970-01-01 00:00:00.859047091</td>\n",
       "      <td>1996</td>\n",
       "    </tr>\n",
       "    <tr>\n",
       "      <th>22160</th>\n",
       "      <td>805</td>\n",
       "      <td>Time to Kill, A (1996)</td>\n",
       "      <td>Drama|Thriller</td>\n",
       "      <td>2.0</td>\n",
       "      <td>5.0</td>\n",
       "      <td>1970-01-01 00:00:00.859047091</td>\n",
       "      <td>1996</td>\n",
       "    </tr>\n",
       "    <tr>\n",
       "      <th>26202</th>\n",
       "      <td>1073</td>\n",
       "      <td>Willy Wonka &amp; the Chocolate Factory (1971)</td>\n",
       "      <td>Children|Comedy|Fantasy|Musical</td>\n",
       "      <td>2.0</td>\n",
       "      <td>4.0</td>\n",
       "      <td>1970-01-01 00:00:00.859046959</td>\n",
       "      <td>1971</td>\n",
       "    </tr>\n",
       "    <tr>\n",
       "      <th>35709</th>\n",
       "      <td>1356</td>\n",
       "      <td>Star Trek: First Contact (1996)</td>\n",
       "      <td>Action|Adventure|Sci-Fi|Thriller</td>\n",
       "      <td>2.0</td>\n",
       "      <td>4.0</td>\n",
       "      <td>1970-01-01 00:00:00.859047091</td>\n",
       "      <td>1996</td>\n",
       "    </tr>\n",
       "  </tbody>\n",
       "</table>\n",
       "</div>"
      ],
      "text/plain": [
       "       movieId  ...  year\n",
       "0            1  ...  1995\n",
       "324          3  ...  1995\n",
       "393          5  ...  1995\n",
       "899         14  ...  1995\n",
       "1026        17  ...  1995\n",
       "1466        25  ...  1995\n",
       "1686        32  ...  1995\n",
       "2025        36  ...  1995\n",
       "2845        52  ...  1995\n",
       "2901        58  ...  1994\n",
       "2981        62  ...  1995\n",
       "3294        79  ...  1996\n",
       "3469        95  ...  1996\n",
       "4160       112  ...  1995\n",
       "7561       260  ...  1977\n",
       "12189      376  ...  1994\n",
       "15053      494  ...  1996\n",
       "19148      608  ...  1996\n",
       "19542      637  ...  1996\n",
       "19632      648  ...  1996\n",
       "19895      661  ...  1996\n",
       "20685      736  ...  1996\n",
       "21389      780  ...  1996\n",
       "21675      784  ...  1996\n",
       "21889      788  ...  1996\n",
       "22075      802  ...  1996\n",
       "22160      805  ...  1996\n",
       "26202     1073  ...  1971\n",
       "35709     1356  ...  1996\n",
       "\n",
       "[29 rows x 7 columns]"
      ]
     },
     "execution_count": 77,
     "metadata": {
      "tags": []
     },
     "output_type": "execute_result"
    }
   ],
   "source": [
    " all_movies[all_movies[\"userId\"]== userId]"
   ]
  },
  {
   "cell_type": "markdown",
   "metadata": {
    "id": "oghe9QoeXpqa"
   },
   "source": [
    "# Collaborative Filtering Model\n"
   ]
  },
  {
   "cell_type": "markdown",
   "metadata": {
    "id": "V3DB6quTy0eJ"
   },
   "source": [
    "**Memory Based Collaborative Filtering**"
   ]
  },
  {
   "cell_type": "code",
   "execution_count": null,
   "metadata": {
    "colab": {
     "base_uri": "https://localhost:8080/",
     "height": 202
    },
    "id": "gsVDcVCrMHCs",
    "outputId": "da1d08b5-7b39-4d5f-9dbe-14e1b57520cc"
   },
   "outputs": [
    {
     "data": {
      "text/html": [
       "<div>\n",
       "<style scoped>\n",
       "    .dataframe tbody tr th:only-of-type {\n",
       "        vertical-align: middle;\n",
       "    }\n",
       "\n",
       "    .dataframe tbody tr th {\n",
       "        vertical-align: top;\n",
       "    }\n",
       "\n",
       "    .dataframe thead th {\n",
       "        text-align: right;\n",
       "    }\n",
       "</style>\n",
       "<table border=\"1\" class=\"dataframe\">\n",
       "  <thead>\n",
       "    <tr style=\"text-align: right;\">\n",
       "      <th></th>\n",
       "      <th>movieId</th>\n",
       "      <th>title</th>\n",
       "      <th>genres</th>\n",
       "      <th>userId</th>\n",
       "      <th>rating</th>\n",
       "      <th>timestamp</th>\n",
       "      <th>year</th>\n",
       "    </tr>\n",
       "  </thead>\n",
       "  <tbody>\n",
       "    <tr>\n",
       "      <th>0</th>\n",
       "      <td>1</td>\n",
       "      <td>Toy Story (1995)</td>\n",
       "      <td>Adventure|Animation|Children|Comedy|Fantasy</td>\n",
       "      <td>2.0</td>\n",
       "      <td>5.0</td>\n",
       "      <td>1970-01-01 00:00:00.859046895</td>\n",
       "      <td>1995</td>\n",
       "    </tr>\n",
       "    <tr>\n",
       "      <th>1</th>\n",
       "      <td>1</td>\n",
       "      <td>Toy Story (1995)</td>\n",
       "      <td>Adventure|Animation|Children|Comedy|Fantasy</td>\n",
       "      <td>5.0</td>\n",
       "      <td>4.0</td>\n",
       "      <td>1970-01-01 00:00:01.303501039</td>\n",
       "      <td>1995</td>\n",
       "    </tr>\n",
       "    <tr>\n",
       "      <th>2</th>\n",
       "      <td>1</td>\n",
       "      <td>Toy Story (1995)</td>\n",
       "      <td>Adventure|Animation|Children|Comedy|Fantasy</td>\n",
       "      <td>8.0</td>\n",
       "      <td>5.0</td>\n",
       "      <td>1970-01-01 00:00:00.858610933</td>\n",
       "      <td>1995</td>\n",
       "    </tr>\n",
       "    <tr>\n",
       "      <th>3</th>\n",
       "      <td>1</td>\n",
       "      <td>Toy Story (1995)</td>\n",
       "      <td>Adventure|Animation|Children|Comedy|Fantasy</td>\n",
       "      <td>11.0</td>\n",
       "      <td>4.0</td>\n",
       "      <td>1970-01-01 00:00:00.850815810</td>\n",
       "      <td>1995</td>\n",
       "    </tr>\n",
       "    <tr>\n",
       "      <th>4</th>\n",
       "      <td>1</td>\n",
       "      <td>Toy Story (1995)</td>\n",
       "      <td>Adventure|Animation|Children|Comedy|Fantasy</td>\n",
       "      <td>14.0</td>\n",
       "      <td>4.0</td>\n",
       "      <td>1970-01-01 00:00:00.851766286</td>\n",
       "      <td>1995</td>\n",
       "    </tr>\n",
       "  </tbody>\n",
       "</table>\n",
       "</div>"
      ],
      "text/plain": [
       "   movieId             title  ...                     timestamp  year\n",
       "0        1  Toy Story (1995)  ... 1970-01-01 00:00:00.859046895  1995\n",
       "1        1  Toy Story (1995)  ... 1970-01-01 00:00:01.303501039  1995\n",
       "2        1  Toy Story (1995)  ... 1970-01-01 00:00:00.858610933  1995\n",
       "3        1  Toy Story (1995)  ... 1970-01-01 00:00:00.850815810  1995\n",
       "4        1  Toy Story (1995)  ... 1970-01-01 00:00:00.851766286  1995\n",
       "\n",
       "[5 rows x 7 columns]"
      ]
     },
     "execution_count": 78,
     "metadata": {
      "tags": []
     },
     "output_type": "execute_result"
    }
   ],
   "source": [
    "all_movies.head()"
   ]
  },
  {
   "cell_type": "markdown",
   "metadata": {
    "id": "QrNGHiY1e-x0"
   },
   "source": [
    "**Item-Item Matrix**\n",
    "\n",
    "rows as MovieId and columns as movieId. because item-item similarity. and values are similarities between movie-movie pair.\n",
    "\n",
    "Diagonals are zero because same movieId (1x1). Both are same movie can't compare similarity so zero."
   ]
  },
  {
   "cell_type": "code",
   "execution_count": null,
   "metadata": {
    "colab": {
     "base_uri": "https://localhost:8080/"
    },
    "id": "JNBw3ksBUtj7",
    "outputId": "d735d783-29f6-4875-ef6b-5a576ae7707c"
   },
   "outputs": [
    {
     "data": {
      "text/plain": [
       "(10322, 668)"
      ]
     },
     "execution_count": 315,
     "metadata": {
      "tags": []
     },
     "output_type": "execute_result"
    }
   ],
   "source": [
    "#create pivot table of ratings with movie id index and user id in column\n",
    "item_item_matrix = all_movies.pivot_table(index=['movieId'],columns=['userId'],values='rating').reset_index(drop=True)\n",
    "#replace null values with 0\n",
    "item_item_matrix.fillna( 0, inplace = True )\n",
    "item_item_matrix.shape\n"
   ]
  },
  {
   "cell_type": "code",
   "execution_count": null,
   "metadata": {
    "colab": {
     "base_uri": "https://localhost:8080/",
     "height": 247
    },
    "id": "sgPPPQDGFhXK",
    "outputId": "8a72fcb4-f543-454e-d788-708f58a89265"
   },
   "outputs": [
    {
     "data": {
      "text/html": [
       "<div>\n",
       "<style scoped>\n",
       "    .dataframe tbody tr th:only-of-type {\n",
       "        vertical-align: middle;\n",
       "    }\n",
       "\n",
       "    .dataframe tbody tr th {\n",
       "        vertical-align: top;\n",
       "    }\n",
       "\n",
       "    .dataframe thead th {\n",
       "        text-align: right;\n",
       "    }\n",
       "</style>\n",
       "<table border=\"1\" class=\"dataframe\">\n",
       "  <thead>\n",
       "    <tr style=\"text-align: right;\">\n",
       "      <th></th>\n",
       "      <th>0</th>\n",
       "      <th>1</th>\n",
       "      <th>2</th>\n",
       "      <th>3</th>\n",
       "      <th>4</th>\n",
       "      <th>5</th>\n",
       "      <th>6</th>\n",
       "      <th>7</th>\n",
       "      <th>8</th>\n",
       "      <th>9</th>\n",
       "      <th>10</th>\n",
       "      <th>11</th>\n",
       "      <th>12</th>\n",
       "      <th>13</th>\n",
       "      <th>14</th>\n",
       "      <th>15</th>\n",
       "      <th>16</th>\n",
       "      <th>17</th>\n",
       "      <th>18</th>\n",
       "      <th>19</th>\n",
       "      <th>20</th>\n",
       "      <th>21</th>\n",
       "      <th>22</th>\n",
       "      <th>23</th>\n",
       "      <th>24</th>\n",
       "      <th>25</th>\n",
       "      <th>26</th>\n",
       "      <th>27</th>\n",
       "      <th>28</th>\n",
       "      <th>29</th>\n",
       "      <th>30</th>\n",
       "      <th>31</th>\n",
       "      <th>32</th>\n",
       "      <th>33</th>\n",
       "      <th>34</th>\n",
       "      <th>35</th>\n",
       "      <th>36</th>\n",
       "      <th>37</th>\n",
       "      <th>38</th>\n",
       "      <th>39</th>\n",
       "      <th>...</th>\n",
       "      <th>10282</th>\n",
       "      <th>10283</th>\n",
       "      <th>10284</th>\n",
       "      <th>10285</th>\n",
       "      <th>10286</th>\n",
       "      <th>10287</th>\n",
       "      <th>10288</th>\n",
       "      <th>10289</th>\n",
       "      <th>10290</th>\n",
       "      <th>10291</th>\n",
       "      <th>10292</th>\n",
       "      <th>10293</th>\n",
       "      <th>10294</th>\n",
       "      <th>10295</th>\n",
       "      <th>10296</th>\n",
       "      <th>10297</th>\n",
       "      <th>10298</th>\n",
       "      <th>10299</th>\n",
       "      <th>10300</th>\n",
       "      <th>10301</th>\n",
       "      <th>10302</th>\n",
       "      <th>10303</th>\n",
       "      <th>10304</th>\n",
       "      <th>10305</th>\n",
       "      <th>10306</th>\n",
       "      <th>10307</th>\n",
       "      <th>10308</th>\n",
       "      <th>10309</th>\n",
       "      <th>10310</th>\n",
       "      <th>10311</th>\n",
       "      <th>10312</th>\n",
       "      <th>10313</th>\n",
       "      <th>10314</th>\n",
       "      <th>10315</th>\n",
       "      <th>10316</th>\n",
       "      <th>10317</th>\n",
       "      <th>10318</th>\n",
       "      <th>10319</th>\n",
       "      <th>10320</th>\n",
       "      <th>10321</th>\n",
       "    </tr>\n",
       "  </thead>\n",
       "  <tbody>\n",
       "    <tr>\n",
       "      <th>0</th>\n",
       "      <td>0.000000</td>\n",
       "      <td>0.383068</td>\n",
       "      <td>0.337453</td>\n",
       "      <td>0.134724</td>\n",
       "      <td>0.360289</td>\n",
       "      <td>0.392823</td>\n",
       "      <td>0.347485</td>\n",
       "      <td>0.092432</td>\n",
       "      <td>0.123093</td>\n",
       "      <td>0.368602</td>\n",
       "      <td>0.308194</td>\n",
       "      <td>0.171755</td>\n",
       "      <td>0.144446</td>\n",
       "      <td>0.171986</td>\n",
       "      <td>0.175601</td>\n",
       "      <td>0.289442</td>\n",
       "      <td>0.393246</td>\n",
       "      <td>0.196601</td>\n",
       "      <td>0.301161</td>\n",
       "      <td>0.111417</td>\n",
       "      <td>0.315903</td>\n",
       "      <td>0.210951</td>\n",
       "      <td>0.171471</td>\n",
       "      <td>0.199389</td>\n",
       "      <td>0.354157</td>\n",
       "      <td>0.164223</td>\n",
       "      <td>0.078304</td>\n",
       "      <td>0.130158</td>\n",
       "      <td>0.266272</td>\n",
       "      <td>0.079406</td>\n",
       "      <td>0.218151</td>\n",
       "      <td>0.456723</td>\n",
       "      <td>0.057542</td>\n",
       "      <td>0.436689</td>\n",
       "      <td>0.066443</td>\n",
       "      <td>0.371301</td>\n",
       "      <td>0.366395</td>\n",
       "      <td>0.050019</td>\n",
       "      <td>0.173352</td>\n",
       "      <td>0.095162</td>\n",
       "      <td>...</td>\n",
       "      <td>0.000000</td>\n",
       "      <td>0.000000</td>\n",
       "      <td>0.049321</td>\n",
       "      <td>0.082202</td>\n",
       "      <td>0.065762</td>\n",
       "      <td>0.000000</td>\n",
       "      <td>0.034525</td>\n",
       "      <td>0.0</td>\n",
       "      <td>0.000000</td>\n",
       "      <td>0.000000</td>\n",
       "      <td>0.000000</td>\n",
       "      <td>0.049321</td>\n",
       "      <td>0.0</td>\n",
       "      <td>0.065762</td>\n",
       "      <td>0.000000</td>\n",
       "      <td>0.049321</td>\n",
       "      <td>0.057542</td>\n",
       "      <td>0.065762</td>\n",
       "      <td>0.057542</td>\n",
       "      <td>0.049321</td>\n",
       "      <td>0.049321</td>\n",
       "      <td>0.000000</td>\n",
       "      <td>0.000000</td>\n",
       "      <td>0.000000</td>\n",
       "      <td>0.000000</td>\n",
       "      <td>0.000000</td>\n",
       "      <td>0.073982</td>\n",
       "      <td>0.000000</td>\n",
       "      <td>0.030811</td>\n",
       "      <td>0.000000</td>\n",
       "      <td>0.057542</td>\n",
       "      <td>0.065762</td>\n",
       "      <td>0.000000</td>\n",
       "      <td>0.075491</td>\n",
       "      <td>0.052609</td>\n",
       "      <td>0.0</td>\n",
       "      <td>0.0</td>\n",
       "      <td>0.000000</td>\n",
       "      <td>0.060148</td>\n",
       "      <td>0.000000</td>\n",
       "    </tr>\n",
       "    <tr>\n",
       "      <th>1</th>\n",
       "      <td>0.383068</td>\n",
       "      <td>0.000000</td>\n",
       "      <td>0.199207</td>\n",
       "      <td>0.123377</td>\n",
       "      <td>0.216562</td>\n",
       "      <td>0.302732</td>\n",
       "      <td>0.201137</td>\n",
       "      <td>0.056784</td>\n",
       "      <td>0.103498</td>\n",
       "      <td>0.422472</td>\n",
       "      <td>0.323679</td>\n",
       "      <td>0.210657</td>\n",
       "      <td>0.198711</td>\n",
       "      <td>0.055364</td>\n",
       "      <td>0.212559</td>\n",
       "      <td>0.335861</td>\n",
       "      <td>0.229578</td>\n",
       "      <td>0.158741</td>\n",
       "      <td>0.426233</td>\n",
       "      <td>0.137090</td>\n",
       "      <td>0.340297</td>\n",
       "      <td>0.176538</td>\n",
       "      <td>0.155600</td>\n",
       "      <td>0.268736</td>\n",
       "      <td>0.258521</td>\n",
       "      <td>0.096594</td>\n",
       "      <td>0.185546</td>\n",
       "      <td>0.129326</td>\n",
       "      <td>0.165237</td>\n",
       "      <td>0.173445</td>\n",
       "      <td>0.266440</td>\n",
       "      <td>0.331979</td>\n",
       "      <td>0.090899</td>\n",
       "      <td>0.292207</td>\n",
       "      <td>0.122454</td>\n",
       "      <td>0.216898</td>\n",
       "      <td>0.358039</td>\n",
       "      <td>0.089472</td>\n",
       "      <td>0.092992</td>\n",
       "      <td>0.088318</td>\n",
       "      <td>...</td>\n",
       "      <td>0.106048</td>\n",
       "      <td>0.090899</td>\n",
       "      <td>0.090899</td>\n",
       "      <td>0.000000</td>\n",
       "      <td>0.090899</td>\n",
       "      <td>0.075749</td>\n",
       "      <td>0.084839</td>\n",
       "      <td>0.0</td>\n",
       "      <td>0.075749</td>\n",
       "      <td>0.060599</td>\n",
       "      <td>0.090899</td>\n",
       "      <td>0.090899</td>\n",
       "      <td>0.0</td>\n",
       "      <td>0.000000</td>\n",
       "      <td>0.090899</td>\n",
       "      <td>0.090899</td>\n",
       "      <td>0.000000</td>\n",
       "      <td>0.090899</td>\n",
       "      <td>0.000000</td>\n",
       "      <td>0.090899</td>\n",
       "      <td>0.090899</td>\n",
       "      <td>0.075749</td>\n",
       "      <td>0.090899</td>\n",
       "      <td>0.090899</td>\n",
       "      <td>0.090899</td>\n",
       "      <td>0.090899</td>\n",
       "      <td>0.000000</td>\n",
       "      <td>0.106048</td>\n",
       "      <td>0.056784</td>\n",
       "      <td>0.090899</td>\n",
       "      <td>0.000000</td>\n",
       "      <td>0.090899</td>\n",
       "      <td>0.090899</td>\n",
       "      <td>0.052834</td>\n",
       "      <td>0.127258</td>\n",
       "      <td>0.0</td>\n",
       "      <td>0.0</td>\n",
       "      <td>0.090899</td>\n",
       "      <td>0.099767</td>\n",
       "      <td>0.090899</td>\n",
       "    </tr>\n",
       "    <tr>\n",
       "      <th>2</th>\n",
       "      <td>0.337453</td>\n",
       "      <td>0.199207</td>\n",
       "      <td>0.000000</td>\n",
       "      <td>0.173366</td>\n",
       "      <td>0.514108</td>\n",
       "      <td>0.312031</td>\n",
       "      <td>0.338144</td>\n",
       "      <td>0.173191</td>\n",
       "      <td>0.228211</td>\n",
       "      <td>0.159173</td>\n",
       "      <td>0.223495</td>\n",
       "      <td>0.238936</td>\n",
       "      <td>0.124915</td>\n",
       "      <td>0.260748</td>\n",
       "      <td>0.109074</td>\n",
       "      <td>0.173836</td>\n",
       "      <td>0.224579</td>\n",
       "      <td>0.182781</td>\n",
       "      <td>0.209649</td>\n",
       "      <td>0.093059</td>\n",
       "      <td>0.200088</td>\n",
       "      <td>0.193597</td>\n",
       "      <td>0.125939</td>\n",
       "      <td>0.244593</td>\n",
       "      <td>0.340944</td>\n",
       "      <td>0.179573</td>\n",
       "      <td>0.064676</td>\n",
       "      <td>0.073618</td>\n",
       "      <td>0.171833</td>\n",
       "      <td>0.116901</td>\n",
       "      <td>0.164761</td>\n",
       "      <td>0.243615</td>\n",
       "      <td>0.000000</td>\n",
       "      <td>0.172392</td>\n",
       "      <td>0.045733</td>\n",
       "      <td>0.369083</td>\n",
       "      <td>0.234874</td>\n",
       "      <td>0.099233</td>\n",
       "      <td>0.105908</td>\n",
       "      <td>0.060588</td>\n",
       "      <td>...</td>\n",
       "      <td>0.000000</td>\n",
       "      <td>0.000000</td>\n",
       "      <td>0.079212</td>\n",
       "      <td>0.000000</td>\n",
       "      <td>0.000000</td>\n",
       "      <td>0.000000</td>\n",
       "      <td>0.000000</td>\n",
       "      <td>0.0</td>\n",
       "      <td>0.000000</td>\n",
       "      <td>0.000000</td>\n",
       "      <td>0.000000</td>\n",
       "      <td>0.079212</td>\n",
       "      <td>0.0</td>\n",
       "      <td>0.000000</td>\n",
       "      <td>0.000000</td>\n",
       "      <td>0.079212</td>\n",
       "      <td>0.000000</td>\n",
       "      <td>0.000000</td>\n",
       "      <td>0.000000</td>\n",
       "      <td>0.079212</td>\n",
       "      <td>0.079212</td>\n",
       "      <td>0.000000</td>\n",
       "      <td>0.000000</td>\n",
       "      <td>0.000000</td>\n",
       "      <td>0.000000</td>\n",
       "      <td>0.000000</td>\n",
       "      <td>0.000000</td>\n",
       "      <td>0.000000</td>\n",
       "      <td>0.049483</td>\n",
       "      <td>0.000000</td>\n",
       "      <td>0.000000</td>\n",
       "      <td>0.000000</td>\n",
       "      <td>0.000000</td>\n",
       "      <td>0.046041</td>\n",
       "      <td>0.000000</td>\n",
       "      <td>0.0</td>\n",
       "      <td>0.0</td>\n",
       "      <td>0.000000</td>\n",
       "      <td>0.047422</td>\n",
       "      <td>0.000000</td>\n",
       "    </tr>\n",
       "    <tr>\n",
       "      <th>3</th>\n",
       "      <td>0.134724</td>\n",
       "      <td>0.123377</td>\n",
       "      <td>0.173366</td>\n",
       "      <td>0.000000</td>\n",
       "      <td>0.127038</td>\n",
       "      <td>0.173900</td>\n",
       "      <td>0.098651</td>\n",
       "      <td>0.190777</td>\n",
       "      <td>0.028099</td>\n",
       "      <td>0.166986</td>\n",
       "      <td>0.147404</td>\n",
       "      <td>0.044936</td>\n",
       "      <td>0.091732</td>\n",
       "      <td>0.000000</td>\n",
       "      <td>0.280349</td>\n",
       "      <td>0.133756</td>\n",
       "      <td>0.100825</td>\n",
       "      <td>0.224556</td>\n",
       "      <td>0.073815</td>\n",
       "      <td>0.166046</td>\n",
       "      <td>0.172109</td>\n",
       "      <td>0.239911</td>\n",
       "      <td>0.155374</td>\n",
       "      <td>0.112357</td>\n",
       "      <td>0.180625</td>\n",
       "      <td>0.000000</td>\n",
       "      <td>0.346322</td>\n",
       "      <td>0.231265</td>\n",
       "      <td>0.052787</td>\n",
       "      <td>0.191206</td>\n",
       "      <td>0.243299</td>\n",
       "      <td>0.144396</td>\n",
       "      <td>0.000000</td>\n",
       "      <td>0.183924</td>\n",
       "      <td>0.235091</td>\n",
       "      <td>0.144429</td>\n",
       "      <td>0.155021</td>\n",
       "      <td>0.194327</td>\n",
       "      <td>0.235091</td>\n",
       "      <td>0.277781</td>\n",
       "      <td>...</td>\n",
       "      <td>0.000000</td>\n",
       "      <td>0.000000</td>\n",
       "      <td>0.000000</td>\n",
       "      <td>0.000000</td>\n",
       "      <td>0.000000</td>\n",
       "      <td>0.000000</td>\n",
       "      <td>0.000000</td>\n",
       "      <td>0.0</td>\n",
       "      <td>0.000000</td>\n",
       "      <td>0.000000</td>\n",
       "      <td>0.000000</td>\n",
       "      <td>0.000000</td>\n",
       "      <td>0.0</td>\n",
       "      <td>0.000000</td>\n",
       "      <td>0.000000</td>\n",
       "      <td>0.000000</td>\n",
       "      <td>0.000000</td>\n",
       "      <td>0.000000</td>\n",
       "      <td>0.000000</td>\n",
       "      <td>0.000000</td>\n",
       "      <td>0.000000</td>\n",
       "      <td>0.000000</td>\n",
       "      <td>0.000000</td>\n",
       "      <td>0.000000</td>\n",
       "      <td>0.000000</td>\n",
       "      <td>0.000000</td>\n",
       "      <td>0.000000</td>\n",
       "      <td>0.000000</td>\n",
       "      <td>0.000000</td>\n",
       "      <td>0.000000</td>\n",
       "      <td>0.000000</td>\n",
       "      <td>0.000000</td>\n",
       "      <td>0.000000</td>\n",
       "      <td>0.000000</td>\n",
       "      <td>0.000000</td>\n",
       "      <td>0.0</td>\n",
       "      <td>0.0</td>\n",
       "      <td>0.000000</td>\n",
       "      <td>0.000000</td>\n",
       "      <td>0.000000</td>\n",
       "    </tr>\n",
       "    <tr>\n",
       "      <th>4</th>\n",
       "      <td>0.360289</td>\n",
       "      <td>0.216562</td>\n",
       "      <td>0.514108</td>\n",
       "      <td>0.127038</td>\n",
       "      <td>0.000000</td>\n",
       "      <td>0.228020</td>\n",
       "      <td>0.418153</td>\n",
       "      <td>0.188991</td>\n",
       "      <td>0.133090</td>\n",
       "      <td>0.174580</td>\n",
       "      <td>0.249100</td>\n",
       "      <td>0.157891</td>\n",
       "      <td>0.136311</td>\n",
       "      <td>0.225759</td>\n",
       "      <td>0.216738</td>\n",
       "      <td>0.145103</td>\n",
       "      <td>0.282556</td>\n",
       "      <td>0.169585</td>\n",
       "      <td>0.183725</td>\n",
       "      <td>0.026436</td>\n",
       "      <td>0.215914</td>\n",
       "      <td>0.163395</td>\n",
       "      <td>0.115440</td>\n",
       "      <td>0.219630</td>\n",
       "      <td>0.284652</td>\n",
       "      <td>0.139312</td>\n",
       "      <td>0.077193</td>\n",
       "      <td>0.071594</td>\n",
       "      <td>0.097396</td>\n",
       "      <td>0.074413</td>\n",
       "      <td>0.141543</td>\n",
       "      <td>0.211316</td>\n",
       "      <td>0.000000</td>\n",
       "      <td>0.193443</td>\n",
       "      <td>0.054584</td>\n",
       "      <td>0.282904</td>\n",
       "      <td>0.310093</td>\n",
       "      <td>0.040607</td>\n",
       "      <td>0.102847</td>\n",
       "      <td>0.053942</td>\n",
       "      <td>...</td>\n",
       "      <td>0.000000</td>\n",
       "      <td>0.000000</td>\n",
       "      <td>0.094542</td>\n",
       "      <td>0.000000</td>\n",
       "      <td>0.000000</td>\n",
       "      <td>0.000000</td>\n",
       "      <td>0.000000</td>\n",
       "      <td>0.0</td>\n",
       "      <td>0.000000</td>\n",
       "      <td>0.000000</td>\n",
       "      <td>0.000000</td>\n",
       "      <td>0.094542</td>\n",
       "      <td>0.0</td>\n",
       "      <td>0.113450</td>\n",
       "      <td>0.000000</td>\n",
       "      <td>0.094542</td>\n",
       "      <td>0.000000</td>\n",
       "      <td>0.000000</td>\n",
       "      <td>0.000000</td>\n",
       "      <td>0.094542</td>\n",
       "      <td>0.094542</td>\n",
       "      <td>0.000000</td>\n",
       "      <td>0.000000</td>\n",
       "      <td>0.000000</td>\n",
       "      <td>0.000000</td>\n",
       "      <td>0.000000</td>\n",
       "      <td>0.000000</td>\n",
       "      <td>0.000000</td>\n",
       "      <td>0.059060</td>\n",
       "      <td>0.000000</td>\n",
       "      <td>0.000000</td>\n",
       "      <td>0.000000</td>\n",
       "      <td>0.000000</td>\n",
       "      <td>0.054951</td>\n",
       "      <td>0.000000</td>\n",
       "      <td>0.0</td>\n",
       "      <td>0.0</td>\n",
       "      <td>0.000000</td>\n",
       "      <td>0.056599</td>\n",
       "      <td>0.000000</td>\n",
       "    </tr>\n",
       "  </tbody>\n",
       "</table>\n",
       "<p>5 rows × 10322 columns</p>\n",
       "</div>"
      ],
      "text/plain": [
       "      0         1         2         3      ...  10318     10319     10320     10321\n",
       "0  0.000000  0.383068  0.337453  0.134724  ...    0.0  0.000000  0.060148  0.000000\n",
       "1  0.383068  0.000000  0.199207  0.123377  ...    0.0  0.090899  0.099767  0.090899\n",
       "2  0.337453  0.199207  0.000000  0.173366  ...    0.0  0.000000  0.047422  0.000000\n",
       "3  0.134724  0.123377  0.173366  0.000000  ...    0.0  0.000000  0.000000  0.000000\n",
       "4  0.360289  0.216562  0.514108  0.127038  ...    0.0  0.000000  0.056599  0.000000\n",
       "\n",
       "[5 rows x 10322 columns]"
      ]
     },
     "execution_count": 316,
     "metadata": {
      "tags": []
     },
     "output_type": "execute_result"
    }
   ],
   "source": [
    "from sklearn.metrics import pairwise_distances\n",
    "#cosine movie similarity \n",
    "movie_similarity = 1 - pairwise_distances( item_item_matrix, metric=\"cosine\" )\n",
    "#diagonal fill with 0 due to same \n",
    "np.fill_diagonal( movie_similarity, 0 )\n",
    "#convert to dataframe\n",
    "item_item_matrix = pd.DataFrame( movie_similarity )\n",
    "item_item_matrix.head()"
   ]
  },
  {
   "cell_type": "markdown",
   "metadata": {
    "id": "o7fQMyPDXjnL"
   },
   "source": [
    "**Item-Item Collaborative Filtering Similarity**\n",
    "\n",
    "This will take the movie title as a user input and will find the movies which are similar to this movie. This cell first find the index of movie in movies frame and then take the similarity of movie and align in movies dataframe so that we can get the similarity of the movie with all other movies.\n",
    "\n",
    "Input: Movie Tital including (year).\n",
    "\n",
    "output: similarity columns with similarity of that movie given in input.\n"
   ]
  },
  {
   "cell_type": "markdown",
   "metadata": {
    "id": "2hDD7YHfSOlh"
   },
   "source": [
    "**Seprate Movie Title and Year**"
   ]
  },
  {
   "cell_type": "code",
   "execution_count": null,
   "metadata": {
    "colab": {
     "base_uri": "https://localhost:8080/",
     "height": 108
    },
    "id": "IWuoFiUhPQmZ",
    "outputId": "e0d27c8f-fc99-4c92-dd0c-df1629058e8e"
   },
   "outputs": [
    {
     "data": {
      "text/html": [
       "<div>\n",
       "<style scoped>\n",
       "    .dataframe tbody tr th:only-of-type {\n",
       "        vertical-align: middle;\n",
       "    }\n",
       "\n",
       "    .dataframe tbody tr th {\n",
       "        vertical-align: top;\n",
       "    }\n",
       "\n",
       "    .dataframe thead th {\n",
       "        text-align: right;\n",
       "    }\n",
       "</style>\n",
       "<table border=\"1\" class=\"dataframe\">\n",
       "  <thead>\n",
       "    <tr style=\"text-align: right;\">\n",
       "      <th></th>\n",
       "      <th>movieId</th>\n",
       "      <th>title</th>\n",
       "      <th>genres</th>\n",
       "      <th>year</th>\n",
       "    </tr>\n",
       "  </thead>\n",
       "  <tbody>\n",
       "    <tr>\n",
       "      <th>0</th>\n",
       "      <td>1</td>\n",
       "      <td>Toy Story</td>\n",
       "      <td>Adventure|Animation|Children|Comedy|Fantasy</td>\n",
       "      <td>1995.0</td>\n",
       "    </tr>\n",
       "    <tr>\n",
       "      <th>1</th>\n",
       "      <td>2</td>\n",
       "      <td>Jumanji</td>\n",
       "      <td>Adventure|Children|Fantasy</td>\n",
       "      <td>1995.0</td>\n",
       "    </tr>\n",
       "  </tbody>\n",
       "</table>\n",
       "</div>"
      ],
      "text/plain": [
       "   movieId      title                                       genres    year\n",
       "0        1  Toy Story  Adventure|Animation|Children|Comedy|Fantasy  1995.0\n",
       "1        2    Jumanji                   Adventure|Children|Fantasy  1995.0"
      ]
     },
     "execution_count": 318,
     "metadata": {
      "tags": []
     },
     "output_type": "execute_result"
    }
   ],
   "source": [
    "Item_item_df = pd.read_csv('/content/drive/MyDrive/recommendations/movies.csv')\n",
    "\n",
    "#create year column\n",
    "Item_item_df['year'] = Item_item_df.title.str.extract(\"\\((\\d{4})\\)\", expand=True)\n",
    "Item_item_df.year = pd.to_datetime(Item_item_df.year, format='%Y')\n",
    "# As there are some NaN years, resulting type will be float (decimals)\n",
    "Item_item_df.year = Item_item_df.year.dt.year\n",
    "# remove 7 alphabates from title end\n",
    "Item_item_df.title = Item_item_df.title.str[:-7]\n",
    "Item_item_df.head(2)"
   ]
  },
  {
   "cell_type": "code",
   "execution_count": null,
   "metadata": {
    "colab": {
     "base_uri": "https://localhost:8080/",
     "height": 216
    },
    "id": "RRBlg6ubTnwb",
    "outputId": "1814ffe1-099e-4871-e556-9fa3f872db01"
   },
   "outputs": [
    {
     "name": "stdout",
     "output_type": "stream",
     "text": [
      "Enter the correct movie title based on which similar movies will be fetched: Toy Story\n"
     ]
    },
    {
     "data": {
      "text/html": [
       "<div>\n",
       "<style scoped>\n",
       "    .dataframe tbody tr th:only-of-type {\n",
       "        vertical-align: middle;\n",
       "    }\n",
       "\n",
       "    .dataframe tbody tr th {\n",
       "        vertical-align: top;\n",
       "    }\n",
       "\n",
       "    .dataframe thead th {\n",
       "        text-align: right;\n",
       "    }\n",
       "</style>\n",
       "<table border=\"1\" class=\"dataframe\">\n",
       "  <thead>\n",
       "    <tr style=\"text-align: right;\">\n",
       "      <th></th>\n",
       "      <th>movieId</th>\n",
       "      <th>title</th>\n",
       "      <th>geners</th>\n",
       "      <th>year</th>\n",
       "      <th>similarity</th>\n",
       "    </tr>\n",
       "  </thead>\n",
       "  <tbody>\n",
       "    <tr>\n",
       "      <th>0</th>\n",
       "      <td>1</td>\n",
       "      <td>Toy Story</td>\n",
       "      <td>Adventure|Animation|Children|Comedy|Fantasy</td>\n",
       "      <td>1995.0</td>\n",
       "      <td>0.000000</td>\n",
       "    </tr>\n",
       "    <tr>\n",
       "      <th>1</th>\n",
       "      <td>2</td>\n",
       "      <td>Jumanji</td>\n",
       "      <td>Adventure|Children|Fantasy</td>\n",
       "      <td>1995.0</td>\n",
       "      <td>0.383068</td>\n",
       "    </tr>\n",
       "    <tr>\n",
       "      <th>2</th>\n",
       "      <td>3</td>\n",
       "      <td>Grumpier Old Men</td>\n",
       "      <td>Comedy|Romance</td>\n",
       "      <td>1995.0</td>\n",
       "      <td>0.337453</td>\n",
       "    </tr>\n",
       "    <tr>\n",
       "      <th>3</th>\n",
       "      <td>4</td>\n",
       "      <td>Waiting to Exhale</td>\n",
       "      <td>Comedy|Drama|Romance</td>\n",
       "      <td>1995.0</td>\n",
       "      <td>0.134724</td>\n",
       "    </tr>\n",
       "    <tr>\n",
       "      <th>4</th>\n",
       "      <td>5</td>\n",
       "      <td>Father of the Bride Part II</td>\n",
       "      <td>Comedy</td>\n",
       "      <td>1995.0</td>\n",
       "      <td>0.360289</td>\n",
       "    </tr>\n",
       "  </tbody>\n",
       "</table>\n",
       "</div>"
      ],
      "text/plain": [
       "   movieId                        title  ...    year  similarity\n",
       "0        1                    Toy Story  ...  1995.0    0.000000\n",
       "1        2                      Jumanji  ...  1995.0    0.383068\n",
       "2        3             Grumpier Old Men  ...  1995.0    0.337453\n",
       "3        4            Waiting to Exhale  ...  1995.0    0.134724\n",
       "4        5  Father of the Bride Part II  ...  1995.0    0.360289\n",
       "\n",
       "[5 rows x 5 columns]"
      ]
     },
     "execution_count": 319,
     "metadata": {
      "tags": []
     },
     "output_type": "execute_result"
    }
   ],
   "source": [
    "input_movie_name=input('Enter the correct movie title based on which similar movies will be fetched: ')\n",
    "#input_movie_name= \"Toy Story (1995)\"\n",
    "#get movies by title input\n",
    "get_movies=Item_item_df[Item_item_df['title']==input_movie_name].index.tolist()\n",
    "get_movies_inp=get_movies[0]\n",
    "#create new dataframe\n",
    "Item_item_df['similarity'] = item_item_matrix.iloc[get_movies_inp]\n",
    "#add columns\n",
    "Item_item_df.columns = ['movieId', 'title', 'geners','year', 'similarity']\n",
    "Item_item_df.head()"
   ]
  },
  {
   "cell_type": "markdown",
   "metadata": {
    "id": "mP4rVfiJgtNZ"
   },
   "source": [
    "**Recommend Top movies** \n",
    "\n",
    "Recommend top10 movies to user based on item-item Similarity. Here we provide the user id of the user for which we have to recommend movies. Then we find the movies which are rated 5 or 4.5 by the user for whom we want to recommend movies. We are finding this because as we know that in Item-Item similarity approach we recommended movies to the user based on his previous selection. \n",
    "\n",
    "\n",
    "input: user_id\n",
    "\n",
    "output: Recommend top 10 movies based on item-item similarity."
   ]
  },
  {
   "cell_type": "code",
   "execution_count": null,
   "metadata": {
    "id": "YfUadVM2ZiCK"
   },
   "outputs": [],
   "source": [
    "def fetch_similar_items(title): \n",
    "  user_inp=title\n",
    "  inp=movies_df[movies_df['title']==user_inp].index.tolist()\n",
    "  inp=inp[0]\n",
    "\n",
    "  movies_df['similarity'] = item_item_matrix.iloc[inp]\n",
    "  movies_df.columns = ['movieId', 'title', 'geners', 'similarity']"
   ]
  },
  {
   "cell_type": "code",
   "execution_count": null,
   "metadata": {
    "colab": {
     "base_uri": "https://localhost:8080/"
    },
    "id": "cgKxAm4TcEc7",
    "outputId": "9d8a5bc2-8944-4f49-c7d0-f1c534c4b297"
   },
   "outputs": [
    {
     "name": "stdout",
     "output_type": "stream",
     "text": [
      "Input User Id to Recommend top10 movies to user based on item-item Similarity: 2\n",
      "array(['Sixth Sense, The (1999)'], dtype=object)\n",
      "array(['Groundhog Day (1993)'], dtype=object)\n",
      "array(['Ghostbusters (a.k.a. Ghost Busters) (1984)'], dtype=object)\n",
      "array(['Shawshank Redemption, The (1994)'], dtype=object)\n",
      "array(['Jerry Maguire (1996)'], dtype=object)\n",
      "array(['Rock, The (1996)'], dtype=object)\n",
      "array(['E.T. the Extra-Terrestrial (1982)'], dtype=object)\n",
      "array(['Silence of the Lambs, The (1991)'], dtype=object)\n",
      "array(['Terminator, The (1984)'], dtype=object)\n",
      "array(['Twister (1996)'], dtype=object)\n"
     ]
    }
   ],
   "source": [
    "user_id=input(\"Input User Id to Recommend top10 movies to user based on item-item Similarity: \")\n",
    "#get movies title in between 3.5 to 5 ratings matching with user_id user rated\n",
    "user_movie= all_movies[(all_movies.userId==user_id) & all_movies.rating.isin([5,3.5])][['title']]\n",
    "#take titles list and fetch similar items on title basis for this user\n",
    "fetch_similar_items(user_movie)\n",
    "#sort values by similarity\n",
    "sorted_movies_as_per_userChoice=movies_df.sort_values( [\"similarity\"], ascending = False )\n",
    "sorted_movies_as_per_userChoice=sorted_movies_as_per_userChoice[sorted_movies_as_per_userChoice['similarity'] >=0.45]['movieId']\n",
    "recommended_movies=list()\n",
    "df_recommended_item=pd.DataFrame()\n",
    "\n",
    "#get movies ids of this user in ratings data\n",
    "user2Movies= ratings_df[ratings_df['userId']== user_id]['movieId']\n",
    "for movieId in sorted_movies_as_per_userChoice:\n",
    "  if movieId not in user2Movies:\n",
    "    #new dataframe for rating of these movieIds\n",
    "    df_new= ratings_df[(ratings_df.movieId==movieId)]\n",
    "    #concate two dataframes for movies ids not in user2Movies variable\n",
    "    df_recommended_item=pd.concat([df_recommended_item,df_new])\n",
    "    b=df_recommended_item.sort_values([\"rating\"], ascending = False )[1:5000] \n",
    "    #best 10 movies\n",
    "    best10=df_recommended_item.sort_values([\"rating\"], ascending = False )[1:10] \n",
    "best10['movieId']\n",
    "movie_titles= list()\n",
    "#get title movies\n",
    "for id in b['movieId']:\n",
    "  final_output = movies_df[movies_df['movieId']==id]['title'].values\n",
    "  recommended_movies.append(final_output)\n",
    "#remove duplicates in recomendations\n",
    "items_rec = Remove_dups(recommended_movies)\n",
    "print( \"\\n\".join( repr(e) for e in items_rec[:10] ))"
   ]
  },
  {
   "cell_type": "markdown",
   "metadata": {
    "id": "gJbpsXqQd45f"
   },
   "source": [
    "**User-Item Collaborative Filtering Similarity**\n",
    "\n",
    "In similar way as we did for Item-Item similarity we will create a matrix but here we will keep rows as user and columns as movieId as we want a vector of different users. Then in similar ways we will find distance and similarity between users.\n",
    "\n",
    "\n",
    "\n"
   ]
  },
  {
   "cell_type": "code",
   "execution_count": null,
   "metadata": {
    "colab": {
     "base_uri": "https://localhost:8080/",
     "height": 247
    },
    "id": "n-XXeIccdTcV",
    "outputId": "50957f15-f94f-49f0-d5c7-913801085089"
   },
   "outputs": [
    {
     "data": {
      "text/html": [
       "<div>\n",
       "<style scoped>\n",
       "    .dataframe tbody tr th:only-of-type {\n",
       "        vertical-align: middle;\n",
       "    }\n",
       "\n",
       "    .dataframe tbody tr th {\n",
       "        vertical-align: top;\n",
       "    }\n",
       "\n",
       "    .dataframe thead th {\n",
       "        text-align: right;\n",
       "    }\n",
       "</style>\n",
       "<table border=\"1\" class=\"dataframe\">\n",
       "  <thead>\n",
       "    <tr style=\"text-align: right;\">\n",
       "      <th>movieId</th>\n",
       "      <th>1</th>\n",
       "      <th>2</th>\n",
       "      <th>3</th>\n",
       "      <th>4</th>\n",
       "      <th>5</th>\n",
       "      <th>6</th>\n",
       "      <th>7</th>\n",
       "      <th>8</th>\n",
       "      <th>9</th>\n",
       "      <th>10</th>\n",
       "      <th>11</th>\n",
       "      <th>12</th>\n",
       "      <th>13</th>\n",
       "      <th>14</th>\n",
       "      <th>15</th>\n",
       "      <th>16</th>\n",
       "      <th>17</th>\n",
       "      <th>18</th>\n",
       "      <th>19</th>\n",
       "      <th>20</th>\n",
       "      <th>21</th>\n",
       "      <th>22</th>\n",
       "      <th>23</th>\n",
       "      <th>24</th>\n",
       "      <th>25</th>\n",
       "      <th>26</th>\n",
       "      <th>27</th>\n",
       "      <th>28</th>\n",
       "      <th>29</th>\n",
       "      <th>30</th>\n",
       "      <th>31</th>\n",
       "      <th>32</th>\n",
       "      <th>33</th>\n",
       "      <th>34</th>\n",
       "      <th>35</th>\n",
       "      <th>36</th>\n",
       "      <th>39</th>\n",
       "      <th>40</th>\n",
       "      <th>41</th>\n",
       "      <th>42</th>\n",
       "      <th>...</th>\n",
       "      <th>139747</th>\n",
       "      <th>139920</th>\n",
       "      <th>140098</th>\n",
       "      <th>140110</th>\n",
       "      <th>140247</th>\n",
       "      <th>140265</th>\n",
       "      <th>140711</th>\n",
       "      <th>140715</th>\n",
       "      <th>140725</th>\n",
       "      <th>140737</th>\n",
       "      <th>140777</th>\n",
       "      <th>140816</th>\n",
       "      <th>140820</th>\n",
       "      <th>141305</th>\n",
       "      <th>141432</th>\n",
       "      <th>141472</th>\n",
       "      <th>141688</th>\n",
       "      <th>142074</th>\n",
       "      <th>142448</th>\n",
       "      <th>142488</th>\n",
       "      <th>142507</th>\n",
       "      <th>142536</th>\n",
       "      <th>142550</th>\n",
       "      <th>142562</th>\n",
       "      <th>142566</th>\n",
       "      <th>142973</th>\n",
       "      <th>143031</th>\n",
       "      <th>143257</th>\n",
       "      <th>143385</th>\n",
       "      <th>143709</th>\n",
       "      <th>143882</th>\n",
       "      <th>144482</th>\n",
       "      <th>144656</th>\n",
       "      <th>144976</th>\n",
       "      <th>146656</th>\n",
       "      <th>146684</th>\n",
       "      <th>146878</th>\n",
       "      <th>148238</th>\n",
       "      <th>148626</th>\n",
       "      <th>149532</th>\n",
       "    </tr>\n",
       "  </thead>\n",
       "  <tbody>\n",
       "    <tr>\n",
       "      <th>0</th>\n",
       "      <td>0.0</td>\n",
       "      <td>0.0</td>\n",
       "      <td>0.0</td>\n",
       "      <td>0.0</td>\n",
       "      <td>0.0</td>\n",
       "      <td>0.0</td>\n",
       "      <td>0.0</td>\n",
       "      <td>0.0</td>\n",
       "      <td>0.0</td>\n",
       "      <td>0.0</td>\n",
       "      <td>0.0</td>\n",
       "      <td>0.0</td>\n",
       "      <td>0.0</td>\n",
       "      <td>0.0</td>\n",
       "      <td>0.0</td>\n",
       "      <td>4.0</td>\n",
       "      <td>0.0</td>\n",
       "      <td>0.0</td>\n",
       "      <td>0.0</td>\n",
       "      <td>0.0</td>\n",
       "      <td>0.0</td>\n",
       "      <td>0.0</td>\n",
       "      <td>0.0</td>\n",
       "      <td>1.5</td>\n",
       "      <td>0.0</td>\n",
       "      <td>0.0</td>\n",
       "      <td>0.0</td>\n",
       "      <td>0.0</td>\n",
       "      <td>0.0</td>\n",
       "      <td>0.0</td>\n",
       "      <td>0.0</td>\n",
       "      <td>4.0</td>\n",
       "      <td>0.0</td>\n",
       "      <td>0.0</td>\n",
       "      <td>0.0</td>\n",
       "      <td>0.0</td>\n",
       "      <td>0.0</td>\n",
       "      <td>0.0</td>\n",
       "      <td>0.0</td>\n",
       "      <td>0.0</td>\n",
       "      <td>...</td>\n",
       "      <td>0.0</td>\n",
       "      <td>0.0</td>\n",
       "      <td>0.0</td>\n",
       "      <td>0.0</td>\n",
       "      <td>0.0</td>\n",
       "      <td>0.0</td>\n",
       "      <td>0.0</td>\n",
       "      <td>0.0</td>\n",
       "      <td>0.0</td>\n",
       "      <td>0.0</td>\n",
       "      <td>0.0</td>\n",
       "      <td>0.0</td>\n",
       "      <td>0.0</td>\n",
       "      <td>0.0</td>\n",
       "      <td>0.0</td>\n",
       "      <td>0.0</td>\n",
       "      <td>0.0</td>\n",
       "      <td>0.0</td>\n",
       "      <td>0.0</td>\n",
       "      <td>0.0</td>\n",
       "      <td>0.0</td>\n",
       "      <td>0.0</td>\n",
       "      <td>0.0</td>\n",
       "      <td>0.0</td>\n",
       "      <td>0.0</td>\n",
       "      <td>0.0</td>\n",
       "      <td>0.0</td>\n",
       "      <td>0.0</td>\n",
       "      <td>0.0</td>\n",
       "      <td>0.0</td>\n",
       "      <td>0.0</td>\n",
       "      <td>0.0</td>\n",
       "      <td>0.0</td>\n",
       "      <td>0.0</td>\n",
       "      <td>0.0</td>\n",
       "      <td>0.0</td>\n",
       "      <td>0.0</td>\n",
       "      <td>0.0</td>\n",
       "      <td>0.0</td>\n",
       "      <td>0.0</td>\n",
       "    </tr>\n",
       "    <tr>\n",
       "      <th>1</th>\n",
       "      <td>5.0</td>\n",
       "      <td>0.0</td>\n",
       "      <td>2.0</td>\n",
       "      <td>0.0</td>\n",
       "      <td>3.0</td>\n",
       "      <td>0.0</td>\n",
       "      <td>0.0</td>\n",
       "      <td>0.0</td>\n",
       "      <td>0.0</td>\n",
       "      <td>0.0</td>\n",
       "      <td>0.0</td>\n",
       "      <td>0.0</td>\n",
       "      <td>0.0</td>\n",
       "      <td>4.0</td>\n",
       "      <td>0.0</td>\n",
       "      <td>0.0</td>\n",
       "      <td>5.0</td>\n",
       "      <td>0.0</td>\n",
       "      <td>0.0</td>\n",
       "      <td>0.0</td>\n",
       "      <td>0.0</td>\n",
       "      <td>0.0</td>\n",
       "      <td>0.0</td>\n",
       "      <td>0.0</td>\n",
       "      <td>3.0</td>\n",
       "      <td>0.0</td>\n",
       "      <td>0.0</td>\n",
       "      <td>0.0</td>\n",
       "      <td>0.0</td>\n",
       "      <td>0.0</td>\n",
       "      <td>0.0</td>\n",
       "      <td>3.0</td>\n",
       "      <td>0.0</td>\n",
       "      <td>0.0</td>\n",
       "      <td>0.0</td>\n",
       "      <td>5.0</td>\n",
       "      <td>0.0</td>\n",
       "      <td>0.0</td>\n",
       "      <td>0.0</td>\n",
       "      <td>0.0</td>\n",
       "      <td>...</td>\n",
       "      <td>0.0</td>\n",
       "      <td>0.0</td>\n",
       "      <td>0.0</td>\n",
       "      <td>0.0</td>\n",
       "      <td>0.0</td>\n",
       "      <td>0.0</td>\n",
       "      <td>0.0</td>\n",
       "      <td>0.0</td>\n",
       "      <td>0.0</td>\n",
       "      <td>0.0</td>\n",
       "      <td>0.0</td>\n",
       "      <td>0.0</td>\n",
       "      <td>0.0</td>\n",
       "      <td>0.0</td>\n",
       "      <td>0.0</td>\n",
       "      <td>0.0</td>\n",
       "      <td>0.0</td>\n",
       "      <td>0.0</td>\n",
       "      <td>0.0</td>\n",
       "      <td>0.0</td>\n",
       "      <td>0.0</td>\n",
       "      <td>0.0</td>\n",
       "      <td>0.0</td>\n",
       "      <td>0.0</td>\n",
       "      <td>0.0</td>\n",
       "      <td>0.0</td>\n",
       "      <td>0.0</td>\n",
       "      <td>0.0</td>\n",
       "      <td>0.0</td>\n",
       "      <td>0.0</td>\n",
       "      <td>0.0</td>\n",
       "      <td>0.0</td>\n",
       "      <td>0.0</td>\n",
       "      <td>0.0</td>\n",
       "      <td>0.0</td>\n",
       "      <td>0.0</td>\n",
       "      <td>0.0</td>\n",
       "      <td>0.0</td>\n",
       "      <td>0.0</td>\n",
       "      <td>0.0</td>\n",
       "    </tr>\n",
       "    <tr>\n",
       "      <th>2</th>\n",
       "      <td>0.0</td>\n",
       "      <td>0.0</td>\n",
       "      <td>0.0</td>\n",
       "      <td>0.0</td>\n",
       "      <td>3.0</td>\n",
       "      <td>0.0</td>\n",
       "      <td>3.0</td>\n",
       "      <td>0.0</td>\n",
       "      <td>0.0</td>\n",
       "      <td>0.0</td>\n",
       "      <td>4.0</td>\n",
       "      <td>0.0</td>\n",
       "      <td>0.0</td>\n",
       "      <td>0.0</td>\n",
       "      <td>0.0</td>\n",
       "      <td>0.0</td>\n",
       "      <td>0.0</td>\n",
       "      <td>0.0</td>\n",
       "      <td>0.0</td>\n",
       "      <td>0.0</td>\n",
       "      <td>5.0</td>\n",
       "      <td>0.0</td>\n",
       "      <td>0.0</td>\n",
       "      <td>0.0</td>\n",
       "      <td>0.0</td>\n",
       "      <td>0.0</td>\n",
       "      <td>0.0</td>\n",
       "      <td>0.0</td>\n",
       "      <td>0.0</td>\n",
       "      <td>0.0</td>\n",
       "      <td>0.0</td>\n",
       "      <td>0.0</td>\n",
       "      <td>0.0</td>\n",
       "      <td>5.0</td>\n",
       "      <td>0.0</td>\n",
       "      <td>4.0</td>\n",
       "      <td>4.0</td>\n",
       "      <td>0.0</td>\n",
       "      <td>0.0</td>\n",
       "      <td>0.0</td>\n",
       "      <td>...</td>\n",
       "      <td>0.0</td>\n",
       "      <td>0.0</td>\n",
       "      <td>0.0</td>\n",
       "      <td>0.0</td>\n",
       "      <td>0.0</td>\n",
       "      <td>0.0</td>\n",
       "      <td>0.0</td>\n",
       "      <td>0.0</td>\n",
       "      <td>0.0</td>\n",
       "      <td>0.0</td>\n",
       "      <td>0.0</td>\n",
       "      <td>0.0</td>\n",
       "      <td>0.0</td>\n",
       "      <td>0.0</td>\n",
       "      <td>0.0</td>\n",
       "      <td>0.0</td>\n",
       "      <td>0.0</td>\n",
       "      <td>0.0</td>\n",
       "      <td>0.0</td>\n",
       "      <td>0.0</td>\n",
       "      <td>0.0</td>\n",
       "      <td>0.0</td>\n",
       "      <td>0.0</td>\n",
       "      <td>0.0</td>\n",
       "      <td>0.0</td>\n",
       "      <td>0.0</td>\n",
       "      <td>0.0</td>\n",
       "      <td>0.0</td>\n",
       "      <td>0.0</td>\n",
       "      <td>0.0</td>\n",
       "      <td>0.0</td>\n",
       "      <td>0.0</td>\n",
       "      <td>0.0</td>\n",
       "      <td>0.0</td>\n",
       "      <td>0.0</td>\n",
       "      <td>0.0</td>\n",
       "      <td>0.0</td>\n",
       "      <td>0.0</td>\n",
       "      <td>0.0</td>\n",
       "      <td>0.0</td>\n",
       "    </tr>\n",
       "    <tr>\n",
       "      <th>3</th>\n",
       "      <td>0.0</td>\n",
       "      <td>0.0</td>\n",
       "      <td>0.0</td>\n",
       "      <td>0.0</td>\n",
       "      <td>0.0</td>\n",
       "      <td>0.0</td>\n",
       "      <td>0.0</td>\n",
       "      <td>0.0</td>\n",
       "      <td>0.0</td>\n",
       "      <td>0.0</td>\n",
       "      <td>0.0</td>\n",
       "      <td>0.0</td>\n",
       "      <td>0.0</td>\n",
       "      <td>0.0</td>\n",
       "      <td>0.0</td>\n",
       "      <td>0.0</td>\n",
       "      <td>0.0</td>\n",
       "      <td>0.0</td>\n",
       "      <td>0.0</td>\n",
       "      <td>0.0</td>\n",
       "      <td>0.0</td>\n",
       "      <td>0.0</td>\n",
       "      <td>0.0</td>\n",
       "      <td>0.0</td>\n",
       "      <td>0.0</td>\n",
       "      <td>0.0</td>\n",
       "      <td>0.0</td>\n",
       "      <td>0.0</td>\n",
       "      <td>0.0</td>\n",
       "      <td>4.0</td>\n",
       "      <td>0.0</td>\n",
       "      <td>5.0</td>\n",
       "      <td>0.0</td>\n",
       "      <td>0.0</td>\n",
       "      <td>0.0</td>\n",
       "      <td>0.0</td>\n",
       "      <td>0.0</td>\n",
       "      <td>0.0</td>\n",
       "      <td>0.0</td>\n",
       "      <td>0.0</td>\n",
       "      <td>...</td>\n",
       "      <td>0.0</td>\n",
       "      <td>0.0</td>\n",
       "      <td>0.0</td>\n",
       "      <td>0.0</td>\n",
       "      <td>0.0</td>\n",
       "      <td>0.0</td>\n",
       "      <td>0.0</td>\n",
       "      <td>0.0</td>\n",
       "      <td>0.0</td>\n",
       "      <td>0.0</td>\n",
       "      <td>0.0</td>\n",
       "      <td>0.0</td>\n",
       "      <td>0.0</td>\n",
       "      <td>0.0</td>\n",
       "      <td>0.0</td>\n",
       "      <td>0.0</td>\n",
       "      <td>0.0</td>\n",
       "      <td>0.0</td>\n",
       "      <td>0.0</td>\n",
       "      <td>0.0</td>\n",
       "      <td>0.0</td>\n",
       "      <td>0.0</td>\n",
       "      <td>0.0</td>\n",
       "      <td>0.0</td>\n",
       "      <td>0.0</td>\n",
       "      <td>0.0</td>\n",
       "      <td>0.0</td>\n",
       "      <td>0.0</td>\n",
       "      <td>0.0</td>\n",
       "      <td>0.0</td>\n",
       "      <td>0.0</td>\n",
       "      <td>0.0</td>\n",
       "      <td>0.0</td>\n",
       "      <td>0.0</td>\n",
       "      <td>0.0</td>\n",
       "      <td>0.0</td>\n",
       "      <td>0.0</td>\n",
       "      <td>0.0</td>\n",
       "      <td>0.0</td>\n",
       "      <td>0.0</td>\n",
       "    </tr>\n",
       "    <tr>\n",
       "      <th>4</th>\n",
       "      <td>4.0</td>\n",
       "      <td>0.0</td>\n",
       "      <td>0.0</td>\n",
       "      <td>0.0</td>\n",
       "      <td>0.0</td>\n",
       "      <td>0.0</td>\n",
       "      <td>0.0</td>\n",
       "      <td>0.0</td>\n",
       "      <td>0.0</td>\n",
       "      <td>0.0</td>\n",
       "      <td>0.0</td>\n",
       "      <td>0.0</td>\n",
       "      <td>0.0</td>\n",
       "      <td>0.0</td>\n",
       "      <td>0.0</td>\n",
       "      <td>0.0</td>\n",
       "      <td>0.0</td>\n",
       "      <td>0.0</td>\n",
       "      <td>0.0</td>\n",
       "      <td>0.0</td>\n",
       "      <td>0.0</td>\n",
       "      <td>0.0</td>\n",
       "      <td>0.0</td>\n",
       "      <td>0.0</td>\n",
       "      <td>0.0</td>\n",
       "      <td>0.0</td>\n",
       "      <td>0.0</td>\n",
       "      <td>0.0</td>\n",
       "      <td>0.0</td>\n",
       "      <td>0.0</td>\n",
       "      <td>0.0</td>\n",
       "      <td>0.0</td>\n",
       "      <td>0.0</td>\n",
       "      <td>0.0</td>\n",
       "      <td>0.0</td>\n",
       "      <td>0.0</td>\n",
       "      <td>0.0</td>\n",
       "      <td>0.0</td>\n",
       "      <td>0.0</td>\n",
       "      <td>0.0</td>\n",
       "      <td>...</td>\n",
       "      <td>0.0</td>\n",
       "      <td>0.0</td>\n",
       "      <td>0.0</td>\n",
       "      <td>0.0</td>\n",
       "      <td>0.0</td>\n",
       "      <td>0.0</td>\n",
       "      <td>0.0</td>\n",
       "      <td>0.0</td>\n",
       "      <td>0.0</td>\n",
       "      <td>0.0</td>\n",
       "      <td>0.0</td>\n",
       "      <td>0.0</td>\n",
       "      <td>0.0</td>\n",
       "      <td>0.0</td>\n",
       "      <td>0.0</td>\n",
       "      <td>0.0</td>\n",
       "      <td>0.0</td>\n",
       "      <td>0.0</td>\n",
       "      <td>0.0</td>\n",
       "      <td>0.0</td>\n",
       "      <td>0.0</td>\n",
       "      <td>0.0</td>\n",
       "      <td>0.0</td>\n",
       "      <td>0.0</td>\n",
       "      <td>0.0</td>\n",
       "      <td>0.0</td>\n",
       "      <td>0.0</td>\n",
       "      <td>0.0</td>\n",
       "      <td>0.0</td>\n",
       "      <td>0.0</td>\n",
       "      <td>0.0</td>\n",
       "      <td>0.0</td>\n",
       "      <td>0.0</td>\n",
       "      <td>0.0</td>\n",
       "      <td>0.0</td>\n",
       "      <td>0.0</td>\n",
       "      <td>0.0</td>\n",
       "      <td>0.0</td>\n",
       "      <td>0.0</td>\n",
       "      <td>0.0</td>\n",
       "    </tr>\n",
       "  </tbody>\n",
       "</table>\n",
       "<p>5 rows × 10322 columns</p>\n",
       "</div>"
      ],
      "text/plain": [
       "movieId  1       2       3       4       ...  146878  148238  148626  149532\n",
       "0           0.0     0.0     0.0     0.0  ...     0.0     0.0     0.0     0.0\n",
       "1           5.0     0.0     2.0     0.0  ...     0.0     0.0     0.0     0.0\n",
       "2           0.0     0.0     0.0     0.0  ...     0.0     0.0     0.0     0.0\n",
       "3           0.0     0.0     0.0     0.0  ...     0.0     0.0     0.0     0.0\n",
       "4           4.0     0.0     0.0     0.0  ...     0.0     0.0     0.0     0.0\n",
       "\n",
       "[5 rows x 10322 columns]"
      ]
     },
     "execution_count": 326,
     "metadata": {
      "tags": []
     },
     "output_type": "execute_result"
    }
   ],
   "source": [
    "#create pivot table of ratings with user_id index and movie_id in column\n",
    "user_item_matrix = all_movies.pivot_table(index=['userId'],columns=['movieId'],values='rating').reset_index(drop=True)\n",
    "#replace null values with 0\n",
    "user_item_matrix.fillna( 0, inplace = True )\n",
    "user_item_matrix.head()"
   ]
  },
  {
   "cell_type": "code",
   "execution_count": null,
   "metadata": {
    "colab": {
     "base_uri": "https://localhost:8080/",
     "height": 247
    },
    "id": "a9KEBGSjh_c_",
    "outputId": "9605bf13-f4e2-4205-ac13-fca1daecafb4"
   },
   "outputs": [
    {
     "data": {
      "text/html": [
       "<div>\n",
       "<style scoped>\n",
       "    .dataframe tbody tr th:only-of-type {\n",
       "        vertical-align: middle;\n",
       "    }\n",
       "\n",
       "    .dataframe tbody tr th {\n",
       "        vertical-align: top;\n",
       "    }\n",
       "\n",
       "    .dataframe thead th {\n",
       "        text-align: right;\n",
       "    }\n",
       "</style>\n",
       "<table border=\"1\" class=\"dataframe\">\n",
       "  <thead>\n",
       "    <tr style=\"text-align: right;\">\n",
       "      <th></th>\n",
       "      <th>0</th>\n",
       "      <th>1</th>\n",
       "      <th>2</th>\n",
       "      <th>3</th>\n",
       "      <th>4</th>\n",
       "      <th>5</th>\n",
       "      <th>6</th>\n",
       "      <th>7</th>\n",
       "      <th>8</th>\n",
       "      <th>9</th>\n",
       "      <th>10</th>\n",
       "      <th>11</th>\n",
       "      <th>12</th>\n",
       "      <th>13</th>\n",
       "      <th>14</th>\n",
       "      <th>15</th>\n",
       "      <th>16</th>\n",
       "      <th>17</th>\n",
       "      <th>18</th>\n",
       "      <th>19</th>\n",
       "      <th>20</th>\n",
       "      <th>21</th>\n",
       "      <th>22</th>\n",
       "      <th>23</th>\n",
       "      <th>24</th>\n",
       "      <th>25</th>\n",
       "      <th>26</th>\n",
       "      <th>27</th>\n",
       "      <th>28</th>\n",
       "      <th>29</th>\n",
       "      <th>30</th>\n",
       "      <th>31</th>\n",
       "      <th>32</th>\n",
       "      <th>33</th>\n",
       "      <th>34</th>\n",
       "      <th>35</th>\n",
       "      <th>36</th>\n",
       "      <th>37</th>\n",
       "      <th>38</th>\n",
       "      <th>39</th>\n",
       "      <th>...</th>\n",
       "      <th>628</th>\n",
       "      <th>629</th>\n",
       "      <th>630</th>\n",
       "      <th>631</th>\n",
       "      <th>632</th>\n",
       "      <th>633</th>\n",
       "      <th>634</th>\n",
       "      <th>635</th>\n",
       "      <th>636</th>\n",
       "      <th>637</th>\n",
       "      <th>638</th>\n",
       "      <th>639</th>\n",
       "      <th>640</th>\n",
       "      <th>641</th>\n",
       "      <th>642</th>\n",
       "      <th>643</th>\n",
       "      <th>644</th>\n",
       "      <th>645</th>\n",
       "      <th>646</th>\n",
       "      <th>647</th>\n",
       "      <th>648</th>\n",
       "      <th>649</th>\n",
       "      <th>650</th>\n",
       "      <th>651</th>\n",
       "      <th>652</th>\n",
       "      <th>653</th>\n",
       "      <th>654</th>\n",
       "      <th>655</th>\n",
       "      <th>656</th>\n",
       "      <th>657</th>\n",
       "      <th>658</th>\n",
       "      <th>659</th>\n",
       "      <th>660</th>\n",
       "      <th>661</th>\n",
       "      <th>662</th>\n",
       "      <th>663</th>\n",
       "      <th>664</th>\n",
       "      <th>665</th>\n",
       "      <th>666</th>\n",
       "      <th>667</th>\n",
       "    </tr>\n",
       "  </thead>\n",
       "  <tbody>\n",
       "    <tr>\n",
       "      <th>0</th>\n",
       "      <td>0.000000</td>\n",
       "      <td>0.101113</td>\n",
       "      <td>0.210044</td>\n",
       "      <td>0.128766</td>\n",
       "      <td>0.057896</td>\n",
       "      <td>0.077130</td>\n",
       "      <td>0.358090</td>\n",
       "      <td>0.097434</td>\n",
       "      <td>0.239189</td>\n",
       "      <td>0.026663</td>\n",
       "      <td>0.175067</td>\n",
       "      <td>0.059797</td>\n",
       "      <td>0.076697</td>\n",
       "      <td>0.094746</td>\n",
       "      <td>0.089077</td>\n",
       "      <td>0.204081</td>\n",
       "      <td>0.306639</td>\n",
       "      <td>0.268693</td>\n",
       "      <td>0.062818</td>\n",
       "      <td>0.04241</td>\n",
       "      <td>0.171823</td>\n",
       "      <td>0.209750</td>\n",
       "      <td>0.172704</td>\n",
       "      <td>0.170970</td>\n",
       "      <td>0.067370</td>\n",
       "      <td>0.156348</td>\n",
       "      <td>0.114060</td>\n",
       "      <td>0.226782</td>\n",
       "      <td>0.254053</td>\n",
       "      <td>0.385564</td>\n",
       "      <td>0.182013</td>\n",
       "      <td>0.197529</td>\n",
       "      <td>0.157760</td>\n",
       "      <td>0.077971</td>\n",
       "      <td>0.113964</td>\n",
       "      <td>0.236894</td>\n",
       "      <td>0.126540</td>\n",
       "      <td>0.240310</td>\n",
       "      <td>0.216824</td>\n",
       "      <td>0.008492</td>\n",
       "      <td>...</td>\n",
       "      <td>0.269128</td>\n",
       "      <td>0.184986</td>\n",
       "      <td>0.207954</td>\n",
       "      <td>0.277360</td>\n",
       "      <td>0.402729</td>\n",
       "      <td>0.199971</td>\n",
       "      <td>0.213463</td>\n",
       "      <td>0.165790</td>\n",
       "      <td>0.180273</td>\n",
       "      <td>0.084249</td>\n",
       "      <td>0.204240</td>\n",
       "      <td>0.107387</td>\n",
       "      <td>0.102487</td>\n",
       "      <td>0.165240</td>\n",
       "      <td>0.174132</td>\n",
       "      <td>0.117887</td>\n",
       "      <td>0.000000</td>\n",
       "      <td>0.230487</td>\n",
       "      <td>0.034438</td>\n",
       "      <td>0.065871</td>\n",
       "      <td>0.145154</td>\n",
       "      <td>0.107574</td>\n",
       "      <td>0.082835</td>\n",
       "      <td>0.099325</td>\n",
       "      <td>0.114153</td>\n",
       "      <td>0.263522</td>\n",
       "      <td>0.186966</td>\n",
       "      <td>0.165544</td>\n",
       "      <td>0.020227</td>\n",
       "      <td>0.145951</td>\n",
       "      <td>0.291162</td>\n",
       "      <td>0.144741</td>\n",
       "      <td>0.106583</td>\n",
       "      <td>0.091049</td>\n",
       "      <td>0.236805</td>\n",
       "      <td>0.154519</td>\n",
       "      <td>0.245071</td>\n",
       "      <td>0.238660</td>\n",
       "      <td>0.278217</td>\n",
       "      <td>0.153499</td>\n",
       "    </tr>\n",
       "    <tr>\n",
       "      <th>1</th>\n",
       "      <td>0.101113</td>\n",
       "      <td>0.000000</td>\n",
       "      <td>0.115559</td>\n",
       "      <td>0.034610</td>\n",
       "      <td>0.032705</td>\n",
       "      <td>0.028305</td>\n",
       "      <td>0.062914</td>\n",
       "      <td>0.471918</td>\n",
       "      <td>0.194232</td>\n",
       "      <td>0.000000</td>\n",
       "      <td>0.159791</td>\n",
       "      <td>0.019189</td>\n",
       "      <td>0.000000</td>\n",
       "      <td>0.510366</td>\n",
       "      <td>0.000000</td>\n",
       "      <td>0.119452</td>\n",
       "      <td>0.060576</td>\n",
       "      <td>0.015841</td>\n",
       "      <td>0.000000</td>\n",
       "      <td>0.00000</td>\n",
       "      <td>0.021880</td>\n",
       "      <td>0.063312</td>\n",
       "      <td>0.019659</td>\n",
       "      <td>0.011385</td>\n",
       "      <td>0.032258</td>\n",
       "      <td>0.000000</td>\n",
       "      <td>0.028087</td>\n",
       "      <td>0.174960</td>\n",
       "      <td>0.215953</td>\n",
       "      <td>0.102826</td>\n",
       "      <td>0.155587</td>\n",
       "      <td>0.077349</td>\n",
       "      <td>0.024646</td>\n",
       "      <td>0.061783</td>\n",
       "      <td>0.374950</td>\n",
       "      <td>0.000000</td>\n",
       "      <td>0.054339</td>\n",
       "      <td>0.095952</td>\n",
       "      <td>0.065593</td>\n",
       "      <td>0.000000</td>\n",
       "      <td>...</td>\n",
       "      <td>0.032841</td>\n",
       "      <td>0.000000</td>\n",
       "      <td>0.143844</td>\n",
       "      <td>0.098996</td>\n",
       "      <td>0.125871</td>\n",
       "      <td>0.046104</td>\n",
       "      <td>0.090520</td>\n",
       "      <td>0.058567</td>\n",
       "      <td>0.074666</td>\n",
       "      <td>0.000000</td>\n",
       "      <td>0.031179</td>\n",
       "      <td>0.299879</td>\n",
       "      <td>0.021978</td>\n",
       "      <td>0.018655</td>\n",
       "      <td>0.000000</td>\n",
       "      <td>0.287954</td>\n",
       "      <td>0.069003</td>\n",
       "      <td>0.000000</td>\n",
       "      <td>0.000000</td>\n",
       "      <td>0.683034</td>\n",
       "      <td>0.000000</td>\n",
       "      <td>0.124544</td>\n",
       "      <td>0.000000</td>\n",
       "      <td>0.106667</td>\n",
       "      <td>0.052608</td>\n",
       "      <td>0.000000</td>\n",
       "      <td>0.075662</td>\n",
       "      <td>0.091534</td>\n",
       "      <td>0.042569</td>\n",
       "      <td>0.044203</td>\n",
       "      <td>0.068325</td>\n",
       "      <td>0.000000</td>\n",
       "      <td>0.477330</td>\n",
       "      <td>0.146887</td>\n",
       "      <td>0.163553</td>\n",
       "      <td>0.061737</td>\n",
       "      <td>0.050948</td>\n",
       "      <td>0.051423</td>\n",
       "      <td>0.035907</td>\n",
       "      <td>0.064825</td>\n",
       "    </tr>\n",
       "    <tr>\n",
       "      <th>2</th>\n",
       "      <td>0.210044</td>\n",
       "      <td>0.115559</td>\n",
       "      <td>0.000000</td>\n",
       "      <td>0.058208</td>\n",
       "      <td>0.044426</td>\n",
       "      <td>0.012816</td>\n",
       "      <td>0.084522</td>\n",
       "      <td>0.066620</td>\n",
       "      <td>0.459703</td>\n",
       "      <td>0.068454</td>\n",
       "      <td>0.230443</td>\n",
       "      <td>0.006206</td>\n",
       "      <td>0.052054</td>\n",
       "      <td>0.144890</td>\n",
       "      <td>0.036332</td>\n",
       "      <td>0.295242</td>\n",
       "      <td>0.065617</td>\n",
       "      <td>0.094354</td>\n",
       "      <td>0.016564</td>\n",
       "      <td>0.00000</td>\n",
       "      <td>0.029878</td>\n",
       "      <td>0.139436</td>\n",
       "      <td>0.039739</td>\n",
       "      <td>0.088832</td>\n",
       "      <td>0.137366</td>\n",
       "      <td>0.053577</td>\n",
       "      <td>0.018168</td>\n",
       "      <td>0.239785</td>\n",
       "      <td>0.308629</td>\n",
       "      <td>0.091503</td>\n",
       "      <td>0.325406</td>\n",
       "      <td>0.113006</td>\n",
       "      <td>0.057971</td>\n",
       "      <td>0.012403</td>\n",
       "      <td>0.098104</td>\n",
       "      <td>0.411714</td>\n",
       "      <td>0.067409</td>\n",
       "      <td>0.097354</td>\n",
       "      <td>0.198506</td>\n",
       "      <td>0.000000</td>\n",
       "      <td>...</td>\n",
       "      <td>0.065854</td>\n",
       "      <td>0.371568</td>\n",
       "      <td>0.189494</td>\n",
       "      <td>0.186400</td>\n",
       "      <td>0.199847</td>\n",
       "      <td>0.087543</td>\n",
       "      <td>0.166163</td>\n",
       "      <td>0.142476</td>\n",
       "      <td>0.082168</td>\n",
       "      <td>0.032024</td>\n",
       "      <td>0.032941</td>\n",
       "      <td>0.075618</td>\n",
       "      <td>0.036726</td>\n",
       "      <td>0.071797</td>\n",
       "      <td>0.076894</td>\n",
       "      <td>0.075048</td>\n",
       "      <td>0.026037</td>\n",
       "      <td>0.096661</td>\n",
       "      <td>0.036885</td>\n",
       "      <td>0.110455</td>\n",
       "      <td>0.048278</td>\n",
       "      <td>0.173318</td>\n",
       "      <td>0.020677</td>\n",
       "      <td>0.162527</td>\n",
       "      <td>0.219646</td>\n",
       "      <td>0.286046</td>\n",
       "      <td>0.086640</td>\n",
       "      <td>0.387322</td>\n",
       "      <td>0.035567</td>\n",
       "      <td>0.035741</td>\n",
       "      <td>0.152078</td>\n",
       "      <td>0.301021</td>\n",
       "      <td>0.081626</td>\n",
       "      <td>0.098949</td>\n",
       "      <td>0.310234</td>\n",
       "      <td>0.079452</td>\n",
       "      <td>0.092821</td>\n",
       "      <td>0.080940</td>\n",
       "      <td>0.158943</td>\n",
       "      <td>0.109662</td>\n",
       "    </tr>\n",
       "    <tr>\n",
       "      <th>3</th>\n",
       "      <td>0.128766</td>\n",
       "      <td>0.034610</td>\n",
       "      <td>0.058208</td>\n",
       "      <td>0.000000</td>\n",
       "      <td>0.019298</td>\n",
       "      <td>0.005781</td>\n",
       "      <td>0.059089</td>\n",
       "      <td>0.024420</td>\n",
       "      <td>0.050572</td>\n",
       "      <td>0.000000</td>\n",
       "      <td>0.111763</td>\n",
       "      <td>0.007258</td>\n",
       "      <td>0.020546</td>\n",
       "      <td>0.025739</td>\n",
       "      <td>0.010197</td>\n",
       "      <td>0.043945</td>\n",
       "      <td>0.054335</td>\n",
       "      <td>0.048233</td>\n",
       "      <td>0.026151</td>\n",
       "      <td>0.00000</td>\n",
       "      <td>0.048552</td>\n",
       "      <td>0.046070</td>\n",
       "      <td>0.039410</td>\n",
       "      <td>0.243839</td>\n",
       "      <td>0.009151</td>\n",
       "      <td>0.063394</td>\n",
       "      <td>0.079677</td>\n",
       "      <td>0.093310</td>\n",
       "      <td>0.064089</td>\n",
       "      <td>0.064477</td>\n",
       "      <td>0.050218</td>\n",
       "      <td>0.269361</td>\n",
       "      <td>0.195253</td>\n",
       "      <td>0.062854</td>\n",
       "      <td>0.043024</td>\n",
       "      <td>0.039172</td>\n",
       "      <td>0.244610</td>\n",
       "      <td>0.064976</td>\n",
       "      <td>0.114834</td>\n",
       "      <td>0.000000</td>\n",
       "      <td>...</td>\n",
       "      <td>0.000000</td>\n",
       "      <td>0.043819</td>\n",
       "      <td>0.136151</td>\n",
       "      <td>0.099209</td>\n",
       "      <td>0.099980</td>\n",
       "      <td>0.125218</td>\n",
       "      <td>0.111043</td>\n",
       "      <td>0.093040</td>\n",
       "      <td>0.062058</td>\n",
       "      <td>0.063667</td>\n",
       "      <td>0.047173</td>\n",
       "      <td>0.058443</td>\n",
       "      <td>0.013301</td>\n",
       "      <td>0.028788</td>\n",
       "      <td>0.078404</td>\n",
       "      <td>0.050757</td>\n",
       "      <td>0.048720</td>\n",
       "      <td>0.073786</td>\n",
       "      <td>0.000000</td>\n",
       "      <td>0.000000</td>\n",
       "      <td>0.011292</td>\n",
       "      <td>0.067161</td>\n",
       "      <td>0.033162</td>\n",
       "      <td>0.089299</td>\n",
       "      <td>0.049927</td>\n",
       "      <td>0.038692</td>\n",
       "      <td>0.062419</td>\n",
       "      <td>0.032314</td>\n",
       "      <td>0.036228</td>\n",
       "      <td>0.044140</td>\n",
       "      <td>0.055860</td>\n",
       "      <td>0.024329</td>\n",
       "      <td>0.040467</td>\n",
       "      <td>0.108881</td>\n",
       "      <td>0.076241</td>\n",
       "      <td>0.014011</td>\n",
       "      <td>0.042643</td>\n",
       "      <td>0.174275</td>\n",
       "      <td>0.061677</td>\n",
       "      <td>0.157815</td>\n",
       "    </tr>\n",
       "    <tr>\n",
       "      <th>4</th>\n",
       "      <td>0.057896</td>\n",
       "      <td>0.032705</td>\n",
       "      <td>0.044426</td>\n",
       "      <td>0.019298</td>\n",
       "      <td>0.000000</td>\n",
       "      <td>0.053378</td>\n",
       "      <td>0.080822</td>\n",
       "      <td>0.041536</td>\n",
       "      <td>0.023168</td>\n",
       "      <td>0.011915</td>\n",
       "      <td>0.069307</td>\n",
       "      <td>0.000000</td>\n",
       "      <td>0.011325</td>\n",
       "      <td>0.034050</td>\n",
       "      <td>0.058388</td>\n",
       "      <td>0.022178</td>\n",
       "      <td>0.076139</td>\n",
       "      <td>0.104778</td>\n",
       "      <td>0.003844</td>\n",
       "      <td>0.02762</td>\n",
       "      <td>0.006158</td>\n",
       "      <td>0.086743</td>\n",
       "      <td>0.033200</td>\n",
       "      <td>0.022431</td>\n",
       "      <td>0.021185</td>\n",
       "      <td>0.058511</td>\n",
       "      <td>0.031622</td>\n",
       "      <td>0.064019</td>\n",
       "      <td>0.054030</td>\n",
       "      <td>0.122683</td>\n",
       "      <td>0.064229</td>\n",
       "      <td>0.033532</td>\n",
       "      <td>0.013453</td>\n",
       "      <td>0.050371</td>\n",
       "      <td>0.000000</td>\n",
       "      <td>0.081782</td>\n",
       "      <td>0.000000</td>\n",
       "      <td>0.193116</td>\n",
       "      <td>0.018462</td>\n",
       "      <td>0.000000</td>\n",
       "      <td>...</td>\n",
       "      <td>0.154882</td>\n",
       "      <td>0.076085</td>\n",
       "      <td>0.009217</td>\n",
       "      <td>0.123043</td>\n",
       "      <td>0.091612</td>\n",
       "      <td>0.066418</td>\n",
       "      <td>0.057843</td>\n",
       "      <td>0.038225</td>\n",
       "      <td>0.063684</td>\n",
       "      <td>0.029418</td>\n",
       "      <td>0.019892</td>\n",
       "      <td>0.045779</td>\n",
       "      <td>0.011341</td>\n",
       "      <td>0.027303</td>\n",
       "      <td>0.049143</td>\n",
       "      <td>0.067148</td>\n",
       "      <td>0.014387</td>\n",
       "      <td>0.036135</td>\n",
       "      <td>0.002119</td>\n",
       "      <td>0.033290</td>\n",
       "      <td>0.056642</td>\n",
       "      <td>0.104415</td>\n",
       "      <td>0.000000</td>\n",
       "      <td>0.002224</td>\n",
       "      <td>0.015256</td>\n",
       "      <td>0.077980</td>\n",
       "      <td>0.133341</td>\n",
       "      <td>0.065363</td>\n",
       "      <td>0.016974</td>\n",
       "      <td>0.055573</td>\n",
       "      <td>0.058450</td>\n",
       "      <td>0.007315</td>\n",
       "      <td>0.024708</td>\n",
       "      <td>0.038163</td>\n",
       "      <td>0.053085</td>\n",
       "      <td>0.048993</td>\n",
       "      <td>0.055431</td>\n",
       "      <td>0.026053</td>\n",
       "      <td>0.086667</td>\n",
       "      <td>0.068284</td>\n",
       "    </tr>\n",
       "  </tbody>\n",
       "</table>\n",
       "<p>5 rows × 668 columns</p>\n",
       "</div>"
      ],
      "text/plain": [
       "        0         1         2    ...       665       666       667\n",
       "0  0.000000  0.101113  0.210044  ...  0.238660  0.278217  0.153499\n",
       "1  0.101113  0.000000  0.115559  ...  0.051423  0.035907  0.064825\n",
       "2  0.210044  0.115559  0.000000  ...  0.080940  0.158943  0.109662\n",
       "3  0.128766  0.034610  0.058208  ...  0.174275  0.061677  0.157815\n",
       "4  0.057896  0.032705  0.044426  ...  0.026053  0.086667  0.068284\n",
       "\n",
       "[5 rows x 668 columns]"
      ]
     },
     "execution_count": 327,
     "metadata": {
      "tags": []
     },
     "output_type": "execute_result"
    }
   ],
   "source": [
    "#cosine movie similarity \n",
    "movie_similarity = 1 - pairwise_distances(user_item_matrix, metric=\"cosine\" )\n",
    "#diagonal fill with 0 due to same \n",
    "np.fill_diagonal( movie_similarity, 0 )\n",
    "#convert to dataframe\n",
    "user_item_matrix = pd.DataFrame( movie_similarity )\n",
    "user_item_matrix.head()"
   ]
  },
  {
   "cell_type": "markdown",
   "metadata": {
    "id": "kwXeLWZX-w8o"
   },
   "source": [
    "**Similar Users with maximum similarity value in above Matrix**\n",
    "\n",
    "Here now we have similarity of users in colums with respective users in row. So if we find maximum value in a column we will get the user with highest similarity. So now we can have a pair of users which are similar."
   ]
  },
  {
   "cell_type": "code",
   "execution_count": null,
   "metadata": {
    "colab": {
     "base_uri": "https://localhost:8080/",
     "height": 198
    },
    "id": "fdJ9xZvk-gn5",
    "outputId": "6fa524f0-980f-415b-d283-18fc83f3b4be"
   },
   "outputs": [
    {
     "data": {
      "text/html": [
       "<div>\n",
       "<style scoped>\n",
       "    .dataframe tbody tr th:only-of-type {\n",
       "        vertical-align: middle;\n",
       "    }\n",
       "\n",
       "    .dataframe tbody tr th {\n",
       "        vertical-align: top;\n",
       "    }\n",
       "\n",
       "    .dataframe thead th {\n",
       "        text-align: right;\n",
       "    }\n",
       "</style>\n",
       "<table border=\"1\" class=\"dataframe\">\n",
       "  <thead>\n",
       "    <tr style=\"text-align: right;\">\n",
       "      <th></th>\n",
       "      <th>similar_user</th>\n",
       "    </tr>\n",
       "  </thead>\n",
       "  <tbody>\n",
       "    <tr>\n",
       "      <th>0</th>\n",
       "      <td>347</td>\n",
       "    </tr>\n",
       "    <tr>\n",
       "      <th>1</th>\n",
       "      <td>95</td>\n",
       "    </tr>\n",
       "    <tr>\n",
       "      <th>2</th>\n",
       "      <td>244</td>\n",
       "    </tr>\n",
       "    <tr>\n",
       "      <th>3</th>\n",
       "      <td>321</td>\n",
       "    </tr>\n",
       "    <tr>\n",
       "      <th>4</th>\n",
       "      <td>37</td>\n",
       "    </tr>\n",
       "  </tbody>\n",
       "</table>\n",
       "</div>"
      ],
      "text/plain": [
       "   similar_user\n",
       "0           347\n",
       "1            95\n",
       "2           244\n",
       "3           321\n",
       "4            37"
      ]
     },
     "execution_count": 328,
     "metadata": {
      "tags": []
     },
     "output_type": "execute_result"
    }
   ],
   "source": [
    "#get user with maximum similarity in user_item_matrix\n",
    "similar_users = user_item_matrix.idxmax(axis=1).to_frame()\n",
    "#create similar_user \n",
    "similar_users.columns=['similar_user']\n",
    "\n",
    "similar_users.head()"
   ]
  },
  {
   "cell_type": "markdown",
   "metadata": {
    "id": "daXSKISwA_PH"
   },
   "source": [
    "**Recommending movies which user hasn't watched as per User-Item Similarity**\n",
    "\n",
    "\n",
    "Input id of the user to whom we have to recommend movies. On basis of that, we find the user which is similar to that user and then filter the movies which are highly rated by the user to recommend them to given user.\n",
    "\n",
    "Input: user_id to whom movie needs to be recommended\n",
    "\n",
    "Output: movieIds to user based on user-item similarity movies which user hasn't watched as per User Similarity."
   ]
  },
  {
   "cell_type": "code",
   "execution_count": null,
   "metadata": {
    "colab": {
     "base_uri": "https://localhost:8080/"
    },
    "id": "uA04LoBb6em1",
    "outputId": "29091913-8352-4aa3-c942-5195d9d3f5d8"
   },
   "outputs": [
    {
     "name": "stdout",
     "output_type": "stream",
     "text": [
      "Input User Id to Recommend top10 movies to user based on user-item Similarity: 2\n",
      "'2001: A Space Odyssey (1968)'\n",
      "'Indiana Jones and the Last Crusade (1989)'\n",
      "'American Beauty (1999)'\n",
      "'Crouching Tiger, Hidden Dragon (Wo hu cang long) (2000)'\n",
      "'O Brother, Where Art Thou? (2000)'\n",
      "'Sleuth (1972)'\n",
      "'Monsoon Wedding (2001)'\n",
      "'And Your Mother Too (Y tu mamá también) (2001)'\n",
      "'Bowling for Columbine (2002)'\n"
     ]
    }
   ],
   "source": [
    "movieId_recommended=list()\n",
    "top_title=list()\n",
    "user_id=input(\"Input User Id to Recommend top10 movies to user based on user-item Similarity: \")\n",
    "#get movies in ratings column with this userId\n",
    "user_Movies= ratings_df[ratings_df['userId']== userId]['movieId']\n",
    "#get similar user using index location\n",
    "sim_user=similar_users.iloc[0,0]\n",
    "#create empity dataframe with columns\n",
    "df_recommended=pd.DataFrame(columns=['movieId','title','genres','userId','rating','timestamp'])\n",
    "#for every movie with similar user in ratings dataframe\n",
    "for movieId in ratings_df[ratings_df['userId']== sim_user]['movieId']:\n",
    "  #if user not watched already\n",
    "  if movieId not in user_Movies:\n",
    "    #get all movies match with similar user and this movies id which user has not watched\n",
    "    df_new= all_movies[(all_movies.userId==sim_user) & (all_movies.movieId==movieId)]\n",
    "    #Combine dataframe\n",
    "    df_recommended=pd.concat([df_recommended,df_new])\n",
    "    #top 10 movies\n",
    "    top_s10=df_recommended.sort_values(['rating'], ascending = False )[1:10]  \n",
    "    top_s10.reset_index(drop=True, inplace=True)\n",
    "\n",
    "top_title = top_s10['title'].values\n",
    "\n",
    "print( \"\\n\".join( repr(e) for e in top_title ))"
   ]
  },
  {
   "cell_type": "markdown",
   "metadata": {
    "id": "vBqKwU5RcZuc"
   },
   "source": [
    "**Model Evaluations**\n",
    "\n",
    "Returning common movies and ratings of same for both the users.\n",
    "\n",
    "**INPUT**: user1 and user2 user ids for both 2 users need to compare.\n",
    "\n",
    "**OUTPUT**: movieIds to user "
   ]
  },
  {
   "cell_type": "code",
   "execution_count": null,
   "metadata": {
    "colab": {
     "base_uri": "https://localhost:8080/",
     "height": 251
    },
    "id": "VmVYZSvxcZE8",
    "outputId": "ba555284-c1d7-4948-d2e7-a84ce6e37e80"
   },
   "outputs": [
    {
     "name": "stdout",
     "output_type": "stream",
     "text": [
      "Input User Id 1: 2\n",
      "Input User Id 2 to be compared with User1: 4\n"
     ]
    },
    {
     "data": {
      "text/html": [
       "<div>\n",
       "<style scoped>\n",
       "    .dataframe tbody tr th:only-of-type {\n",
       "        vertical-align: middle;\n",
       "    }\n",
       "\n",
       "    .dataframe tbody tr th {\n",
       "        vertical-align: top;\n",
       "    }\n",
       "\n",
       "    .dataframe thead th {\n",
       "        text-align: right;\n",
       "    }\n",
       "</style>\n",
       "<table border=\"1\" class=\"dataframe\">\n",
       "  <thead>\n",
       "    <tr style=\"text-align: right;\">\n",
       "      <th></th>\n",
       "      <th>movieId</th>\n",
       "      <th>title_x</th>\n",
       "      <th>genres_x</th>\n",
       "      <th>userId_x</th>\n",
       "      <th>rating_x</th>\n",
       "      <th>timestamp_x</th>\n",
       "      <th>year_x</th>\n",
       "      <th>title_y</th>\n",
       "      <th>genres_y</th>\n",
       "      <th>userId_y</th>\n",
       "      <th>rating_y</th>\n",
       "      <th>timestamp_y</th>\n",
       "      <th>year_y</th>\n",
       "    </tr>\n",
       "  </thead>\n",
       "  <tbody>\n",
       "    <tr>\n",
       "      <th>0</th>\n",
       "      <td>32</td>\n",
       "      <td>Twelve Monkeys (a.k.a. 12 Monkeys) (1995)</td>\n",
       "      <td>Mystery|Sci-Fi|Thriller</td>\n",
       "      <td>2.0</td>\n",
       "      <td>3.0</td>\n",
       "      <td>1970-01-01 00:00:00.859046895</td>\n",
       "      <td>1995</td>\n",
       "      <td>Twelve Monkeys (a.k.a. 12 Monkeys) (1995)</td>\n",
       "      <td>Mystery|Sci-Fi|Thriller</td>\n",
       "      <td>4.0</td>\n",
       "      <td>5.0</td>\n",
       "      <td>1970-01-01 00:00:00.950323750</td>\n",
       "      <td>1995</td>\n",
       "    </tr>\n",
       "    <tr>\n",
       "      <th>1</th>\n",
       "      <td>608</td>\n",
       "      <td>Fargo (1996)</td>\n",
       "      <td>Comedy|Crime|Drama|Thriller</td>\n",
       "      <td>2.0</td>\n",
       "      <td>5.0</td>\n",
       "      <td>1970-01-01 00:00:00.859046959</td>\n",
       "      <td>1996</td>\n",
       "      <td>Fargo (1996)</td>\n",
       "      <td>Comedy|Crime|Drama|Thriller</td>\n",
       "      <td>4.0</td>\n",
       "      <td>4.0</td>\n",
       "      <td>1970-01-01 00:00:00.950323165</td>\n",
       "      <td>1996</td>\n",
       "    </tr>\n",
       "  </tbody>\n",
       "</table>\n",
       "</div>"
      ],
      "text/plain": [
       "   movieId  ... year_y\n",
       "0       32  ...   1995\n",
       "1      608  ...   1996\n",
       "\n",
       "[2 rows x 13 columns]"
      ]
     },
     "execution_count": 330,
     "metadata": {
      "tags": []
     },
     "output_type": "execute_result"
    }
   ],
   "source": [
    "user1 = input(\"Input User Id 1: \")\n",
    "user1 = int(user1)\n",
    "user2 = input(\"Input User Id 2 to be compared with User1: \")\n",
    "user2 = int(user2)\n",
    "#Get similarity between user1 and user2 in data\n",
    "similar_movies = all_movies[all_movies.userId == user1].merge(all_movies[all_movies.userId == user2], on = \"movieId\", how = \"inner\" )\n",
    "\n",
    "similar_movies\n"
   ]
  },
  {
   "cell_type": "markdown",
   "metadata": {
    "id": "STIrxVy5Pp8O"
   },
   "source": [
    "**Model Based Collaborative Filtering**\n"
   ]
  },
  {
   "cell_type": "markdown",
   "metadata": {
    "id": "F7kdwhuMgSHk"
   },
   "source": [
    "**Matrix Factorization (MF)**\n",
    "\n",
    "Matrix factorization is an unsupervised learning method for latent variable decomposition and dimensionality reduction. this can deal better with scalability and sparsity than Memory based collaborative filterings."
   ]
  },
  {
   "cell_type": "code",
   "execution_count": null,
   "metadata": {
    "colab": {
     "base_uri": "https://localhost:8080/",
     "height": 277
    },
    "id": "hhkj4aRKSK2G",
    "outputId": "23638c9d-cd76-4e2b-b1db-177d568e5075"
   },
   "outputs": [
    {
     "data": {
      "text/html": [
       "<div>\n",
       "<style scoped>\n",
       "    .dataframe tbody tr th:only-of-type {\n",
       "        vertical-align: middle;\n",
       "    }\n",
       "\n",
       "    .dataframe tbody tr th {\n",
       "        vertical-align: top;\n",
       "    }\n",
       "\n",
       "    .dataframe thead th {\n",
       "        text-align: right;\n",
       "    }\n",
       "</style>\n",
       "<table border=\"1\" class=\"dataframe\">\n",
       "  <thead>\n",
       "    <tr style=\"text-align: right;\">\n",
       "      <th>movieId</th>\n",
       "      <th>1</th>\n",
       "      <th>2</th>\n",
       "      <th>3</th>\n",
       "      <th>4</th>\n",
       "      <th>5</th>\n",
       "      <th>6</th>\n",
       "      <th>7</th>\n",
       "      <th>8</th>\n",
       "      <th>9</th>\n",
       "      <th>10</th>\n",
       "      <th>11</th>\n",
       "      <th>12</th>\n",
       "      <th>13</th>\n",
       "      <th>14</th>\n",
       "      <th>15</th>\n",
       "      <th>16</th>\n",
       "      <th>17</th>\n",
       "      <th>18</th>\n",
       "      <th>19</th>\n",
       "      <th>20</th>\n",
       "      <th>21</th>\n",
       "      <th>22</th>\n",
       "      <th>23</th>\n",
       "      <th>24</th>\n",
       "      <th>25</th>\n",
       "      <th>26</th>\n",
       "      <th>27</th>\n",
       "      <th>28</th>\n",
       "      <th>29</th>\n",
       "      <th>30</th>\n",
       "      <th>31</th>\n",
       "      <th>32</th>\n",
       "      <th>33</th>\n",
       "      <th>34</th>\n",
       "      <th>35</th>\n",
       "      <th>36</th>\n",
       "      <th>39</th>\n",
       "      <th>40</th>\n",
       "      <th>41</th>\n",
       "      <th>42</th>\n",
       "      <th>...</th>\n",
       "      <th>139920</th>\n",
       "      <th>140098</th>\n",
       "      <th>140110</th>\n",
       "      <th>140247</th>\n",
       "      <th>140265</th>\n",
       "      <th>140711</th>\n",
       "      <th>140715</th>\n",
       "      <th>140725</th>\n",
       "      <th>140737</th>\n",
       "      <th>140777</th>\n",
       "      <th>140816</th>\n",
       "      <th>140820</th>\n",
       "      <th>141305</th>\n",
       "      <th>141432</th>\n",
       "      <th>141472</th>\n",
       "      <th>141688</th>\n",
       "      <th>142074</th>\n",
       "      <th>142448</th>\n",
       "      <th>142488</th>\n",
       "      <th>142507</th>\n",
       "      <th>142536</th>\n",
       "      <th>142550</th>\n",
       "      <th>142562</th>\n",
       "      <th>142566</th>\n",
       "      <th>142973</th>\n",
       "      <th>143031</th>\n",
       "      <th>143257</th>\n",
       "      <th>143385</th>\n",
       "      <th>143709</th>\n",
       "      <th>143882</th>\n",
       "      <th>144482</th>\n",
       "      <th>144656</th>\n",
       "      <th>144976</th>\n",
       "      <th>146344</th>\n",
       "      <th>146656</th>\n",
       "      <th>146684</th>\n",
       "      <th>146878</th>\n",
       "      <th>148238</th>\n",
       "      <th>148626</th>\n",
       "      <th>149532</th>\n",
       "    </tr>\n",
       "    <tr>\n",
       "      <th>userId</th>\n",
       "      <th></th>\n",
       "      <th></th>\n",
       "      <th></th>\n",
       "      <th></th>\n",
       "      <th></th>\n",
       "      <th></th>\n",
       "      <th></th>\n",
       "      <th></th>\n",
       "      <th></th>\n",
       "      <th></th>\n",
       "      <th></th>\n",
       "      <th></th>\n",
       "      <th></th>\n",
       "      <th></th>\n",
       "      <th></th>\n",
       "      <th></th>\n",
       "      <th></th>\n",
       "      <th></th>\n",
       "      <th></th>\n",
       "      <th></th>\n",
       "      <th></th>\n",
       "      <th></th>\n",
       "      <th></th>\n",
       "      <th></th>\n",
       "      <th></th>\n",
       "      <th></th>\n",
       "      <th></th>\n",
       "      <th></th>\n",
       "      <th></th>\n",
       "      <th></th>\n",
       "      <th></th>\n",
       "      <th></th>\n",
       "      <th></th>\n",
       "      <th></th>\n",
       "      <th></th>\n",
       "      <th></th>\n",
       "      <th></th>\n",
       "      <th></th>\n",
       "      <th></th>\n",
       "      <th></th>\n",
       "      <th></th>\n",
       "      <th></th>\n",
       "      <th></th>\n",
       "      <th></th>\n",
       "      <th></th>\n",
       "      <th></th>\n",
       "      <th></th>\n",
       "      <th></th>\n",
       "      <th></th>\n",
       "      <th></th>\n",
       "      <th></th>\n",
       "      <th></th>\n",
       "      <th></th>\n",
       "      <th></th>\n",
       "      <th></th>\n",
       "      <th></th>\n",
       "      <th></th>\n",
       "      <th></th>\n",
       "      <th></th>\n",
       "      <th></th>\n",
       "      <th></th>\n",
       "      <th></th>\n",
       "      <th></th>\n",
       "      <th></th>\n",
       "      <th></th>\n",
       "      <th></th>\n",
       "      <th></th>\n",
       "      <th></th>\n",
       "      <th></th>\n",
       "      <th></th>\n",
       "      <th></th>\n",
       "      <th></th>\n",
       "      <th></th>\n",
       "      <th></th>\n",
       "      <th></th>\n",
       "      <th></th>\n",
       "      <th></th>\n",
       "      <th></th>\n",
       "      <th></th>\n",
       "      <th></th>\n",
       "      <th></th>\n",
       "    </tr>\n",
       "  </thead>\n",
       "  <tbody>\n",
       "    <tr>\n",
       "      <th>1</th>\n",
       "      <td>0.0</td>\n",
       "      <td>0.0</td>\n",
       "      <td>0.0</td>\n",
       "      <td>0.0</td>\n",
       "      <td>0.0</td>\n",
       "      <td>0.0</td>\n",
       "      <td>0.0</td>\n",
       "      <td>0.0</td>\n",
       "      <td>0.0</td>\n",
       "      <td>0.0</td>\n",
       "      <td>0.0</td>\n",
       "      <td>0.0</td>\n",
       "      <td>0.0</td>\n",
       "      <td>0.0</td>\n",
       "      <td>0.0</td>\n",
       "      <td>4.0</td>\n",
       "      <td>0.0</td>\n",
       "      <td>0.0</td>\n",
       "      <td>0.0</td>\n",
       "      <td>0.0</td>\n",
       "      <td>0.0</td>\n",
       "      <td>0.0</td>\n",
       "      <td>0.0</td>\n",
       "      <td>1.5</td>\n",
       "      <td>0.0</td>\n",
       "      <td>0.0</td>\n",
       "      <td>0.0</td>\n",
       "      <td>0.0</td>\n",
       "      <td>0.0</td>\n",
       "      <td>0.0</td>\n",
       "      <td>0.0</td>\n",
       "      <td>4.0</td>\n",
       "      <td>0.0</td>\n",
       "      <td>0.0</td>\n",
       "      <td>0.0</td>\n",
       "      <td>0.0</td>\n",
       "      <td>0.0</td>\n",
       "      <td>0.0</td>\n",
       "      <td>0.0</td>\n",
       "      <td>0.0</td>\n",
       "      <td>...</td>\n",
       "      <td>0.0</td>\n",
       "      <td>0.0</td>\n",
       "      <td>0.0</td>\n",
       "      <td>0.0</td>\n",
       "      <td>0.0</td>\n",
       "      <td>0.0</td>\n",
       "      <td>0.0</td>\n",
       "      <td>0.0</td>\n",
       "      <td>0.0</td>\n",
       "      <td>0.0</td>\n",
       "      <td>0.0</td>\n",
       "      <td>0.0</td>\n",
       "      <td>0.0</td>\n",
       "      <td>0.0</td>\n",
       "      <td>0.0</td>\n",
       "      <td>0.0</td>\n",
       "      <td>0.0</td>\n",
       "      <td>0.0</td>\n",
       "      <td>0.0</td>\n",
       "      <td>0.0</td>\n",
       "      <td>0.0</td>\n",
       "      <td>0.0</td>\n",
       "      <td>0.0</td>\n",
       "      <td>0.0</td>\n",
       "      <td>0.0</td>\n",
       "      <td>0.0</td>\n",
       "      <td>0.0</td>\n",
       "      <td>0.0</td>\n",
       "      <td>0.0</td>\n",
       "      <td>0.0</td>\n",
       "      <td>0.0</td>\n",
       "      <td>0.0</td>\n",
       "      <td>0.0</td>\n",
       "      <td>0.0</td>\n",
       "      <td>0.0</td>\n",
       "      <td>0.0</td>\n",
       "      <td>0.0</td>\n",
       "      <td>0.0</td>\n",
       "      <td>0.0</td>\n",
       "      <td>0.0</td>\n",
       "    </tr>\n",
       "    <tr>\n",
       "      <th>2</th>\n",
       "      <td>5.0</td>\n",
       "      <td>0.0</td>\n",
       "      <td>2.0</td>\n",
       "      <td>0.0</td>\n",
       "      <td>3.0</td>\n",
       "      <td>0.0</td>\n",
       "      <td>0.0</td>\n",
       "      <td>0.0</td>\n",
       "      <td>0.0</td>\n",
       "      <td>0.0</td>\n",
       "      <td>0.0</td>\n",
       "      <td>0.0</td>\n",
       "      <td>0.0</td>\n",
       "      <td>4.0</td>\n",
       "      <td>0.0</td>\n",
       "      <td>0.0</td>\n",
       "      <td>5.0</td>\n",
       "      <td>0.0</td>\n",
       "      <td>0.0</td>\n",
       "      <td>0.0</td>\n",
       "      <td>0.0</td>\n",
       "      <td>0.0</td>\n",
       "      <td>0.0</td>\n",
       "      <td>0.0</td>\n",
       "      <td>3.0</td>\n",
       "      <td>0.0</td>\n",
       "      <td>0.0</td>\n",
       "      <td>0.0</td>\n",
       "      <td>0.0</td>\n",
       "      <td>0.0</td>\n",
       "      <td>0.0</td>\n",
       "      <td>3.0</td>\n",
       "      <td>0.0</td>\n",
       "      <td>0.0</td>\n",
       "      <td>0.0</td>\n",
       "      <td>5.0</td>\n",
       "      <td>0.0</td>\n",
       "      <td>0.0</td>\n",
       "      <td>0.0</td>\n",
       "      <td>0.0</td>\n",
       "      <td>...</td>\n",
       "      <td>0.0</td>\n",
       "      <td>0.0</td>\n",
       "      <td>0.0</td>\n",
       "      <td>0.0</td>\n",
       "      <td>0.0</td>\n",
       "      <td>0.0</td>\n",
       "      <td>0.0</td>\n",
       "      <td>0.0</td>\n",
       "      <td>0.0</td>\n",
       "      <td>0.0</td>\n",
       "      <td>0.0</td>\n",
       "      <td>0.0</td>\n",
       "      <td>0.0</td>\n",
       "      <td>0.0</td>\n",
       "      <td>0.0</td>\n",
       "      <td>0.0</td>\n",
       "      <td>0.0</td>\n",
       "      <td>0.0</td>\n",
       "      <td>0.0</td>\n",
       "      <td>0.0</td>\n",
       "      <td>0.0</td>\n",
       "      <td>0.0</td>\n",
       "      <td>0.0</td>\n",
       "      <td>0.0</td>\n",
       "      <td>0.0</td>\n",
       "      <td>0.0</td>\n",
       "      <td>0.0</td>\n",
       "      <td>0.0</td>\n",
       "      <td>0.0</td>\n",
       "      <td>0.0</td>\n",
       "      <td>0.0</td>\n",
       "      <td>0.0</td>\n",
       "      <td>0.0</td>\n",
       "      <td>0.0</td>\n",
       "      <td>0.0</td>\n",
       "      <td>0.0</td>\n",
       "      <td>0.0</td>\n",
       "      <td>0.0</td>\n",
       "      <td>0.0</td>\n",
       "      <td>0.0</td>\n",
       "    </tr>\n",
       "    <tr>\n",
       "      <th>3</th>\n",
       "      <td>0.0</td>\n",
       "      <td>0.0</td>\n",
       "      <td>0.0</td>\n",
       "      <td>0.0</td>\n",
       "      <td>3.0</td>\n",
       "      <td>0.0</td>\n",
       "      <td>3.0</td>\n",
       "      <td>0.0</td>\n",
       "      <td>0.0</td>\n",
       "      <td>0.0</td>\n",
       "      <td>4.0</td>\n",
       "      <td>0.0</td>\n",
       "      <td>0.0</td>\n",
       "      <td>0.0</td>\n",
       "      <td>0.0</td>\n",
       "      <td>0.0</td>\n",
       "      <td>0.0</td>\n",
       "      <td>0.0</td>\n",
       "      <td>0.0</td>\n",
       "      <td>0.0</td>\n",
       "      <td>5.0</td>\n",
       "      <td>0.0</td>\n",
       "      <td>0.0</td>\n",
       "      <td>0.0</td>\n",
       "      <td>0.0</td>\n",
       "      <td>0.0</td>\n",
       "      <td>0.0</td>\n",
       "      <td>0.0</td>\n",
       "      <td>0.0</td>\n",
       "      <td>0.0</td>\n",
       "      <td>0.0</td>\n",
       "      <td>0.0</td>\n",
       "      <td>0.0</td>\n",
       "      <td>5.0</td>\n",
       "      <td>0.0</td>\n",
       "      <td>4.0</td>\n",
       "      <td>4.0</td>\n",
       "      <td>0.0</td>\n",
       "      <td>0.0</td>\n",
       "      <td>0.0</td>\n",
       "      <td>...</td>\n",
       "      <td>0.0</td>\n",
       "      <td>0.0</td>\n",
       "      <td>0.0</td>\n",
       "      <td>0.0</td>\n",
       "      <td>0.0</td>\n",
       "      <td>0.0</td>\n",
       "      <td>0.0</td>\n",
       "      <td>0.0</td>\n",
       "      <td>0.0</td>\n",
       "      <td>0.0</td>\n",
       "      <td>0.0</td>\n",
       "      <td>0.0</td>\n",
       "      <td>0.0</td>\n",
       "      <td>0.0</td>\n",
       "      <td>0.0</td>\n",
       "      <td>0.0</td>\n",
       "      <td>0.0</td>\n",
       "      <td>0.0</td>\n",
       "      <td>0.0</td>\n",
       "      <td>0.0</td>\n",
       "      <td>0.0</td>\n",
       "      <td>0.0</td>\n",
       "      <td>0.0</td>\n",
       "      <td>0.0</td>\n",
       "      <td>0.0</td>\n",
       "      <td>0.0</td>\n",
       "      <td>0.0</td>\n",
       "      <td>0.0</td>\n",
       "      <td>0.0</td>\n",
       "      <td>0.0</td>\n",
       "      <td>0.0</td>\n",
       "      <td>0.0</td>\n",
       "      <td>0.0</td>\n",
       "      <td>0.0</td>\n",
       "      <td>0.0</td>\n",
       "      <td>0.0</td>\n",
       "      <td>0.0</td>\n",
       "      <td>0.0</td>\n",
       "      <td>0.0</td>\n",
       "      <td>0.0</td>\n",
       "    </tr>\n",
       "    <tr>\n",
       "      <th>4</th>\n",
       "      <td>0.0</td>\n",
       "      <td>0.0</td>\n",
       "      <td>0.0</td>\n",
       "      <td>0.0</td>\n",
       "      <td>0.0</td>\n",
       "      <td>0.0</td>\n",
       "      <td>0.0</td>\n",
       "      <td>0.0</td>\n",
       "      <td>0.0</td>\n",
       "      <td>0.0</td>\n",
       "      <td>0.0</td>\n",
       "      <td>0.0</td>\n",
       "      <td>0.0</td>\n",
       "      <td>0.0</td>\n",
       "      <td>0.0</td>\n",
       "      <td>0.0</td>\n",
       "      <td>0.0</td>\n",
       "      <td>0.0</td>\n",
       "      <td>0.0</td>\n",
       "      <td>0.0</td>\n",
       "      <td>0.0</td>\n",
       "      <td>0.0</td>\n",
       "      <td>0.0</td>\n",
       "      <td>0.0</td>\n",
       "      <td>0.0</td>\n",
       "      <td>0.0</td>\n",
       "      <td>0.0</td>\n",
       "      <td>0.0</td>\n",
       "      <td>0.0</td>\n",
       "      <td>4.0</td>\n",
       "      <td>0.0</td>\n",
       "      <td>5.0</td>\n",
       "      <td>0.0</td>\n",
       "      <td>0.0</td>\n",
       "      <td>0.0</td>\n",
       "      <td>0.0</td>\n",
       "      <td>0.0</td>\n",
       "      <td>0.0</td>\n",
       "      <td>0.0</td>\n",
       "      <td>0.0</td>\n",
       "      <td>...</td>\n",
       "      <td>0.0</td>\n",
       "      <td>0.0</td>\n",
       "      <td>0.0</td>\n",
       "      <td>0.0</td>\n",
       "      <td>0.0</td>\n",
       "      <td>0.0</td>\n",
       "      <td>0.0</td>\n",
       "      <td>0.0</td>\n",
       "      <td>0.0</td>\n",
       "      <td>0.0</td>\n",
       "      <td>0.0</td>\n",
       "      <td>0.0</td>\n",
       "      <td>0.0</td>\n",
       "      <td>0.0</td>\n",
       "      <td>0.0</td>\n",
       "      <td>0.0</td>\n",
       "      <td>0.0</td>\n",
       "      <td>0.0</td>\n",
       "      <td>0.0</td>\n",
       "      <td>0.0</td>\n",
       "      <td>0.0</td>\n",
       "      <td>0.0</td>\n",
       "      <td>0.0</td>\n",
       "      <td>0.0</td>\n",
       "      <td>0.0</td>\n",
       "      <td>0.0</td>\n",
       "      <td>0.0</td>\n",
       "      <td>0.0</td>\n",
       "      <td>0.0</td>\n",
       "      <td>0.0</td>\n",
       "      <td>0.0</td>\n",
       "      <td>0.0</td>\n",
       "      <td>0.0</td>\n",
       "      <td>0.0</td>\n",
       "      <td>0.0</td>\n",
       "      <td>0.0</td>\n",
       "      <td>0.0</td>\n",
       "      <td>0.0</td>\n",
       "      <td>0.0</td>\n",
       "      <td>0.0</td>\n",
       "    </tr>\n",
       "    <tr>\n",
       "      <th>5</th>\n",
       "      <td>4.0</td>\n",
       "      <td>0.0</td>\n",
       "      <td>0.0</td>\n",
       "      <td>0.0</td>\n",
       "      <td>0.0</td>\n",
       "      <td>0.0</td>\n",
       "      <td>0.0</td>\n",
       "      <td>0.0</td>\n",
       "      <td>0.0</td>\n",
       "      <td>0.0</td>\n",
       "      <td>0.0</td>\n",
       "      <td>0.0</td>\n",
       "      <td>0.0</td>\n",
       "      <td>0.0</td>\n",
       "      <td>0.0</td>\n",
       "      <td>0.0</td>\n",
       "      <td>0.0</td>\n",
       "      <td>0.0</td>\n",
       "      <td>0.0</td>\n",
       "      <td>0.0</td>\n",
       "      <td>0.0</td>\n",
       "      <td>0.0</td>\n",
       "      <td>0.0</td>\n",
       "      <td>0.0</td>\n",
       "      <td>0.0</td>\n",
       "      <td>0.0</td>\n",
       "      <td>0.0</td>\n",
       "      <td>0.0</td>\n",
       "      <td>0.0</td>\n",
       "      <td>0.0</td>\n",
       "      <td>0.0</td>\n",
       "      <td>0.0</td>\n",
       "      <td>0.0</td>\n",
       "      <td>0.0</td>\n",
       "      <td>0.0</td>\n",
       "      <td>0.0</td>\n",
       "      <td>0.0</td>\n",
       "      <td>0.0</td>\n",
       "      <td>0.0</td>\n",
       "      <td>0.0</td>\n",
       "      <td>...</td>\n",
       "      <td>0.0</td>\n",
       "      <td>0.0</td>\n",
       "      <td>0.0</td>\n",
       "      <td>0.0</td>\n",
       "      <td>0.0</td>\n",
       "      <td>0.0</td>\n",
       "      <td>0.0</td>\n",
       "      <td>0.0</td>\n",
       "      <td>0.0</td>\n",
       "      <td>0.0</td>\n",
       "      <td>0.0</td>\n",
       "      <td>0.0</td>\n",
       "      <td>0.0</td>\n",
       "      <td>0.0</td>\n",
       "      <td>0.0</td>\n",
       "      <td>0.0</td>\n",
       "      <td>0.0</td>\n",
       "      <td>0.0</td>\n",
       "      <td>0.0</td>\n",
       "      <td>0.0</td>\n",
       "      <td>0.0</td>\n",
       "      <td>0.0</td>\n",
       "      <td>0.0</td>\n",
       "      <td>0.0</td>\n",
       "      <td>0.0</td>\n",
       "      <td>0.0</td>\n",
       "      <td>0.0</td>\n",
       "      <td>0.0</td>\n",
       "      <td>0.0</td>\n",
       "      <td>0.0</td>\n",
       "      <td>0.0</td>\n",
       "      <td>0.0</td>\n",
       "      <td>0.0</td>\n",
       "      <td>0.0</td>\n",
       "      <td>0.0</td>\n",
       "      <td>0.0</td>\n",
       "      <td>0.0</td>\n",
       "      <td>0.0</td>\n",
       "      <td>0.0</td>\n",
       "      <td>0.0</td>\n",
       "    </tr>\n",
       "  </tbody>\n",
       "</table>\n",
       "<p>5 rows × 10325 columns</p>\n",
       "</div>"
      ],
      "text/plain": [
       "movieId  1       2       3       4       ...  146878  148238  148626  149532\n",
       "userId                                   ...                                \n",
       "1           0.0     0.0     0.0     0.0  ...     0.0     0.0     0.0     0.0\n",
       "2           5.0     0.0     2.0     0.0  ...     0.0     0.0     0.0     0.0\n",
       "3           0.0     0.0     0.0     0.0  ...     0.0     0.0     0.0     0.0\n",
       "4           0.0     0.0     0.0     0.0  ...     0.0     0.0     0.0     0.0\n",
       "5           4.0     0.0     0.0     0.0  ...     0.0     0.0     0.0     0.0\n",
       "\n",
       "[5 rows x 10325 columns]"
      ]
     },
     "execution_count": 331,
     "metadata": {
      "tags": []
     },
     "output_type": "execute_result"
    }
   ],
   "source": [
    "ratings_data = pd.read_csv('/content/drive/MyDrive/recommendations/ratings.csv', sep=',', encoding='latin-1', usecols=['userId','movieId','rating','timestamp'])\n",
    "ratings_matrix = ratings_df.pivot(index = 'userId', columns ='movieId', values = 'rating').fillna(0)\n",
    "ratings_matrix.head()"
   ]
  },
  {
   "cell_type": "code",
   "execution_count": null,
   "metadata": {
    "colab": {
     "base_uri": "https://localhost:8080/"
    },
    "id": "UkE62oDhP1SU",
    "outputId": "9616b1bd-144b-4485-eb1a-0cfb89d48871"
   },
   "outputs": [
    {
     "name": "stdout",
     "output_type": "stream",
     "text": [
      "The sparsity level of ratings dataset is 100.0%\n"
     ]
    }
   ],
   "source": [
    "#mean of rating for all user in above matrix\n",
    "ratings_mean_per_user = np.mean(ratings_matrix, axis = 1)\n",
    "total_users = ratings_mean_per_user.size\n",
    "total_movies = len(movies_df)\n",
    "# get ratings dimentions and making the user_ratings_mean vertical by reshaping\n",
    "Ratings_dimentions = ratings_matrix - ratings_mean_per_user.values.reshape(-1,1) \n",
    "#sparsity formula\n",
    "sparsity = round(1.0 - len(ratings_matrix) / float(total_users * total_movies), 3)\n",
    "#percentage of sparsity\n",
    "print('The sparsity level of ratings dataset is ' +  str(sparsity * 100) + '%')\n"
   ]
  },
  {
   "cell_type": "markdown",
   "metadata": {
    "id": "CakogHihkV6I"
   },
   "source": [
    "**Single Value Decompositon (SVD)**\n",
    "\n",
    "\n",
    "Singular value decomposition (SVD) is the methode of matrix factorization. At a high level, SVD is an algorithm that decomposes a matrix (ratings_matrix) into the best lower rank and smaller. Mathematically, it decomposes a matrox into a two unitary matrices and a diagonal matrix: **Matrix -> U*S*Vt** .\n",
    "\n",
    "\n",
    "U is the left singular vectors (user \"features\" matrix).\n",
    "\n",
    "S is the diagonal matrix of singular values.\n",
    "\n",
    "Vt is the right singluar vectors (movie \"features\" matrix).\n",
    "\n"
   ]
  },
  {
   "cell_type": "code",
   "execution_count": null,
   "metadata": {
    "id": "HCBISG_0fwTX"
   },
   "outputs": [],
   "source": [
    "from scipy.sparse.linalg import svds"
   ]
  },
  {
   "cell_type": "code",
   "execution_count": null,
   "metadata": {
    "id": "vjVBUYnWjv2N"
   },
   "outputs": [],
   "source": [
    "U, S, Vt = svds(Ratings_dimentions, k = 50)"
   ]
  },
  {
   "cell_type": "code",
   "execution_count": null,
   "metadata": {
    "colab": {
     "base_uri": "https://localhost:8080/"
    },
    "id": "t91ELgWLj0KW",
    "outputId": "25e2e94d-847c-4127-f992-65245027bd2b"
   },
   "outputs": [
    {
     "data": {
      "text/plain": [
       "array([[ 8.99150529e-03, -2.06688001e-02, -1.82787409e-02, ...,\n",
       "        -1.33980545e-02,  8.91701031e-03, -4.34594868e-02],\n",
       "       [-7.02211897e-03, -8.52369117e-03, -2.06093463e-03, ...,\n",
       "        -1.35483022e-02, -1.10831323e-02, -7.28917571e-03],\n",
       "       [-7.60339840e-03,  2.16570667e-02, -1.48513521e-02, ...,\n",
       "        -5.91162090e-02, -3.32692847e-02, -1.98287879e-02],\n",
       "       ...,\n",
       "       [ 1.59964621e-02,  1.52558874e-03,  2.98470628e-02, ...,\n",
       "         4.11685012e-02, -2.10758551e-02, -3.78406551e-02],\n",
       "       [ 6.06185423e-03,  3.05389137e-03,  6.45705004e-03, ...,\n",
       "        -1.88700152e-02,  4.57420244e-03, -2.51302781e-02],\n",
       "       [ 2.00714910e-04,  1.65049393e-02, -1.31357315e-02, ...,\n",
       "         3.65966498e-01, -3.21726441e-02, -9.29570839e-02]])"
      ]
     },
     "execution_count": 335,
     "metadata": {
      "tags": []
     },
     "output_type": "execute_result"
    }
   ],
   "source": [
    "U"
   ]
  },
  {
   "cell_type": "code",
   "execution_count": null,
   "metadata": {
    "colab": {
     "base_uri": "https://localhost:8080/"
    },
    "id": "P7RUJg0Tj_AX",
    "outputId": "3293f170-ccc4-452e-b807-6f269296f9e9"
   },
   "outputs": [
    {
     "data": {
      "text/plain": [
       "array([[ 67.75583954,   0.        ,   0.        , ...,   0.        ,\n",
       "          0.        ,   0.        ],\n",
       "       [  0.        ,  68.10174582,   0.        , ...,   0.        ,\n",
       "          0.        ,   0.        ],\n",
       "       [  0.        ,   0.        ,  68.41554944, ...,   0.        ,\n",
       "          0.        ,   0.        ],\n",
       "       ...,\n",
       "       [  0.        ,   0.        ,   0.        , ..., 188.46765204,\n",
       "          0.        ,   0.        ],\n",
       "       [  0.        ,   0.        ,   0.        , ...,   0.        ,\n",
       "        229.09814764,   0.        ],\n",
       "       [  0.        ,   0.        ,   0.        , ...,   0.        ,\n",
       "          0.        , 480.87123202]])"
      ]
     },
     "execution_count": 336,
     "metadata": {
      "tags": []
     },
     "output_type": "execute_result"
    }
   ],
   "source": [
    "#digonal matrix\n",
    "S = np.diag(S)\n",
    "S"
   ]
  },
  {
   "cell_type": "code",
   "execution_count": null,
   "metadata": {
    "colab": {
     "base_uri": "https://localhost:8080/"
    },
    "id": "toOBPFegkBWQ",
    "outputId": "8bf3ebe2-33a4-4ef2-a765-1dbd89135b56"
   },
   "outputs": [
    {
     "data": {
      "text/plain": [
       "array([[ 1.02328482e-02, -4.48934821e-03, -5.01349447e-03, ...,\n",
       "         1.01312524e-03, -2.52574324e-03,  1.24258501e-03],\n",
       "       [ 9.77255054e-03, -2.85802295e-03, -2.42247054e-03, ...,\n",
       "         1.75274343e-03, -5.70463009e-03,  2.41625509e-03],\n",
       "       [ 3.72650563e-02, -4.76742953e-03, -8.06559214e-03, ...,\n",
       "        -7.77121997e-04,  3.84524967e-03, -1.10388500e-03],\n",
       "       ...,\n",
       "       [-3.87145998e-02, -3.75903769e-02, -2.60274369e-02, ...,\n",
       "        -3.56085998e-03,  9.07085798e-03, -3.30080119e-03],\n",
       "       [-1.81274869e-02,  8.06214340e-04, -1.35117605e-02, ...,\n",
       "        -5.58976785e-05, -2.94962850e-04,  1.20500077e-04],\n",
       "       [-8.03164042e-02, -3.17056020e-02, -9.42407409e-03, ...,\n",
       "         4.40677960e-03,  2.13542969e-03,  4.26939746e-03]])"
      ]
     },
     "execution_count": 337,
     "metadata": {
      "tags": []
     },
     "output_type": "execute_result"
    }
   ],
   "source": [
    "Vt"
   ]
  },
  {
   "cell_type": "code",
   "execution_count": null,
   "metadata": {
    "colab": {
     "base_uri": "https://localhost:8080/"
    },
    "id": "qXaPDyUPkCKp",
    "outputId": "a50b9d7a-fdc3-4cc6-c2fe-3ec20c62efe0"
   },
   "outputs": [
    {
     "name": "stdout",
     "output_type": "stream",
     "text": [
      "Shape of U:  (668, 50)\n",
      "Shape of S:  (50, 50)\n",
      "Shape of Vt:  (50, 10325)\n"
     ]
    }
   ],
   "source": [
    "print('Shape of U: ', U.shape)\n",
    "print('Shape of S: ', S.shape)\n",
    "print('Shape of Vt: ', Vt.shape)"
   ]
  },
  {
   "cell_type": "code",
   "execution_count": null,
   "metadata": {
    "colab": {
     "base_uri": "https://localhost:8080/",
     "height": 247
    },
    "id": "FfIm4JpRl9zy",
    "outputId": "cdde3a59-a8eb-4550-d4ad-e05e98059c5f"
   },
   "outputs": [
    {
     "data": {
      "text/html": [
       "<div>\n",
       "<style scoped>\n",
       "    .dataframe tbody tr th:only-of-type {\n",
       "        vertical-align: middle;\n",
       "    }\n",
       "\n",
       "    .dataframe tbody tr th {\n",
       "        vertical-align: top;\n",
       "    }\n",
       "\n",
       "    .dataframe thead th {\n",
       "        text-align: right;\n",
       "    }\n",
       "</style>\n",
       "<table border=\"1\" class=\"dataframe\">\n",
       "  <thead>\n",
       "    <tr style=\"text-align: right;\">\n",
       "      <th>movieId</th>\n",
       "      <th>1</th>\n",
       "      <th>2</th>\n",
       "      <th>3</th>\n",
       "      <th>4</th>\n",
       "      <th>5</th>\n",
       "      <th>6</th>\n",
       "      <th>7</th>\n",
       "      <th>8</th>\n",
       "      <th>9</th>\n",
       "      <th>10</th>\n",
       "      <th>11</th>\n",
       "      <th>12</th>\n",
       "      <th>13</th>\n",
       "      <th>14</th>\n",
       "      <th>15</th>\n",
       "      <th>16</th>\n",
       "      <th>17</th>\n",
       "      <th>18</th>\n",
       "      <th>19</th>\n",
       "      <th>20</th>\n",
       "      <th>21</th>\n",
       "      <th>22</th>\n",
       "      <th>23</th>\n",
       "      <th>24</th>\n",
       "      <th>25</th>\n",
       "      <th>26</th>\n",
       "      <th>27</th>\n",
       "      <th>28</th>\n",
       "      <th>29</th>\n",
       "      <th>30</th>\n",
       "      <th>31</th>\n",
       "      <th>32</th>\n",
       "      <th>33</th>\n",
       "      <th>34</th>\n",
       "      <th>35</th>\n",
       "      <th>36</th>\n",
       "      <th>39</th>\n",
       "      <th>40</th>\n",
       "      <th>41</th>\n",
       "      <th>42</th>\n",
       "      <th>...</th>\n",
       "      <th>139920</th>\n",
       "      <th>140098</th>\n",
       "      <th>140110</th>\n",
       "      <th>140247</th>\n",
       "      <th>140265</th>\n",
       "      <th>140711</th>\n",
       "      <th>140715</th>\n",
       "      <th>140725</th>\n",
       "      <th>140737</th>\n",
       "      <th>140777</th>\n",
       "      <th>140816</th>\n",
       "      <th>140820</th>\n",
       "      <th>141305</th>\n",
       "      <th>141432</th>\n",
       "      <th>141472</th>\n",
       "      <th>141688</th>\n",
       "      <th>142074</th>\n",
       "      <th>142448</th>\n",
       "      <th>142488</th>\n",
       "      <th>142507</th>\n",
       "      <th>142536</th>\n",
       "      <th>142550</th>\n",
       "      <th>142562</th>\n",
       "      <th>142566</th>\n",
       "      <th>142973</th>\n",
       "      <th>143031</th>\n",
       "      <th>143257</th>\n",
       "      <th>143385</th>\n",
       "      <th>143709</th>\n",
       "      <th>143882</th>\n",
       "      <th>144482</th>\n",
       "      <th>144656</th>\n",
       "      <th>144976</th>\n",
       "      <th>146344</th>\n",
       "      <th>146656</th>\n",
       "      <th>146684</th>\n",
       "      <th>146878</th>\n",
       "      <th>148238</th>\n",
       "      <th>148626</th>\n",
       "      <th>149532</th>\n",
       "    </tr>\n",
       "  </thead>\n",
       "  <tbody>\n",
       "    <tr>\n",
       "      <th>0</th>\n",
       "      <td>2.340908</td>\n",
       "      <td>0.116324</td>\n",
       "      <td>0.182888</td>\n",
       "      <td>-0.036764</td>\n",
       "      <td>0.063752</td>\n",
       "      <td>1.539780</td>\n",
       "      <td>0.101114</td>\n",
       "      <td>-0.025708</td>\n",
       "      <td>0.194963</td>\n",
       "      <td>0.992245</td>\n",
       "      <td>0.618147</td>\n",
       "      <td>-0.010391</td>\n",
       "      <td>-0.095024</td>\n",
       "      <td>0.287937</td>\n",
       "      <td>-0.143531</td>\n",
       "      <td>1.033729</td>\n",
       "      <td>0.716798</td>\n",
       "      <td>0.111639</td>\n",
       "      <td>0.234168</td>\n",
       "      <td>0.108559</td>\n",
       "      <td>0.926473</td>\n",
       "      <td>-0.154615</td>\n",
       "      <td>0.223366</td>\n",
       "      <td>-0.090888</td>\n",
       "      <td>0.625506</td>\n",
       "      <td>-0.071134</td>\n",
       "      <td>-0.067335</td>\n",
       "      <td>-0.010725</td>\n",
       "      <td>-0.163077</td>\n",
       "      <td>0.117091</td>\n",
       "      <td>-0.237404</td>\n",
       "      <td>3.235849</td>\n",
       "      <td>0.062935</td>\n",
       "      <td>0.788609</td>\n",
       "      <td>-0.003939</td>\n",
       "      <td>1.113220</td>\n",
       "      <td>0.224885</td>\n",
       "      <td>-0.027630</td>\n",
       "      <td>0.183916</td>\n",
       "      <td>0.079806</td>\n",
       "      <td>...</td>\n",
       "      <td>-0.005889</td>\n",
       "      <td>0.013000</td>\n",
       "      <td>0.000478</td>\n",
       "      <td>-0.021189</td>\n",
       "      <td>0.018228</td>\n",
       "      <td>-0.021520</td>\n",
       "      <td>-0.022743</td>\n",
       "      <td>0.014663</td>\n",
       "      <td>0.040616</td>\n",
       "      <td>-0.019312</td>\n",
       "      <td>0.013000</td>\n",
       "      <td>0.048145</td>\n",
       "      <td>0.004689</td>\n",
       "      <td>-0.019312</td>\n",
       "      <td>0.013000</td>\n",
       "      <td>-0.008007</td>\n",
       "      <td>-0.014009</td>\n",
       "      <td>0.023190</td>\n",
       "      <td>0.016280</td>\n",
       "      <td>0.015187</td>\n",
       "      <td>0.013475</td>\n",
       "      <td>-0.023786</td>\n",
       "      <td>-0.023786</td>\n",
       "      <td>-0.028260</td>\n",
       "      <td>-0.028260</td>\n",
       "      <td>0.029690</td>\n",
       "      <td>-0.005979</td>\n",
       "      <td>-0.039309</td>\n",
       "      <td>-0.023786</td>\n",
       "      <td>0.004943</td>\n",
       "      <td>-0.014009</td>\n",
       "      <td>-0.023786</td>\n",
       "      <td>-0.005130</td>\n",
       "      <td>-0.010363</td>\n",
       "      <td>-0.048034</td>\n",
       "      <td>-0.036938</td>\n",
       "      <td>-0.020261</td>\n",
       "      <td>-0.019312</td>\n",
       "      <td>0.007349</td>\n",
       "      <td>-0.028260</td>\n",
       "    </tr>\n",
       "    <tr>\n",
       "      <th>1</th>\n",
       "      <td>3.151773</td>\n",
       "      <td>0.206667</td>\n",
       "      <td>1.666566</td>\n",
       "      <td>-0.077891</td>\n",
       "      <td>1.485149</td>\n",
       "      <td>1.730959</td>\n",
       "      <td>1.173952</td>\n",
       "      <td>0.023590</td>\n",
       "      <td>0.766577</td>\n",
       "      <td>-0.211013</td>\n",
       "      <td>0.201427</td>\n",
       "      <td>0.443564</td>\n",
       "      <td>-0.071414</td>\n",
       "      <td>0.911231</td>\n",
       "      <td>-0.079210</td>\n",
       "      <td>0.217731</td>\n",
       "      <td>1.824973</td>\n",
       "      <td>0.333200</td>\n",
       "      <td>-0.008163</td>\n",
       "      <td>-0.044161</td>\n",
       "      <td>0.206467</td>\n",
       "      <td>0.003570</td>\n",
       "      <td>0.004746</td>\n",
       "      <td>0.130648</td>\n",
       "      <td>1.732287</td>\n",
       "      <td>0.345220</td>\n",
       "      <td>-0.027518</td>\n",
       "      <td>0.051581</td>\n",
       "      <td>0.750384</td>\n",
       "      <td>0.071334</td>\n",
       "      <td>0.015781</td>\n",
       "      <td>2.030842</td>\n",
       "      <td>-0.007261</td>\n",
       "      <td>0.148772</td>\n",
       "      <td>-0.033914</td>\n",
       "      <td>2.019855</td>\n",
       "      <td>0.072091</td>\n",
       "      <td>0.102383</td>\n",
       "      <td>0.218490</td>\n",
       "      <td>-0.028445</td>\n",
       "      <td>...</td>\n",
       "      <td>-0.007697</td>\n",
       "      <td>-0.001744</td>\n",
       "      <td>0.008822</td>\n",
       "      <td>-0.004967</td>\n",
       "      <td>-0.044137</td>\n",
       "      <td>-0.024248</td>\n",
       "      <td>0.011739</td>\n",
       "      <td>-0.031098</td>\n",
       "      <td>-0.002503</td>\n",
       "      <td>-0.010372</td>\n",
       "      <td>-0.001744</td>\n",
       "      <td>0.000860</td>\n",
       "      <td>-0.006952</td>\n",
       "      <td>-0.010372</td>\n",
       "      <td>-0.001744</td>\n",
       "      <td>-0.010980</td>\n",
       "      <td>-0.004981</td>\n",
       "      <td>-0.001212</td>\n",
       "      <td>0.000222</td>\n",
       "      <td>-0.000433</td>\n",
       "      <td>-0.026752</td>\n",
       "      <td>-0.011264</td>\n",
       "      <td>-0.011264</td>\n",
       "      <td>-0.012156</td>\n",
       "      <td>-0.012156</td>\n",
       "      <td>-0.005378</td>\n",
       "      <td>-0.018289</td>\n",
       "      <td>0.028086</td>\n",
       "      <td>-0.011264</td>\n",
       "      <td>-0.006015</td>\n",
       "      <td>-0.004981</td>\n",
       "      <td>-0.011264</td>\n",
       "      <td>-0.008696</td>\n",
       "      <td>-0.008589</td>\n",
       "      <td>-0.010318</td>\n",
       "      <td>0.017270</td>\n",
       "      <td>0.008911</td>\n",
       "      <td>-0.010372</td>\n",
       "      <td>-0.046182</td>\n",
       "      <td>-0.012156</td>\n",
       "    </tr>\n",
       "    <tr>\n",
       "      <th>2</th>\n",
       "      <td>0.991437</td>\n",
       "      <td>0.829049</td>\n",
       "      <td>0.553093</td>\n",
       "      <td>0.183691</td>\n",
       "      <td>0.576599</td>\n",
       "      <td>0.331009</td>\n",
       "      <td>0.773242</td>\n",
       "      <td>0.034812</td>\n",
       "      <td>0.014922</td>\n",
       "      <td>1.706305</td>\n",
       "      <td>1.965014</td>\n",
       "      <td>-0.010221</td>\n",
       "      <td>-0.000692</td>\n",
       "      <td>0.371488</td>\n",
       "      <td>0.116277</td>\n",
       "      <td>0.727336</td>\n",
       "      <td>1.851834</td>\n",
       "      <td>0.123356</td>\n",
       "      <td>0.701592</td>\n",
       "      <td>0.242227</td>\n",
       "      <td>2.389299</td>\n",
       "      <td>0.653387</td>\n",
       "      <td>0.339048</td>\n",
       "      <td>0.042433</td>\n",
       "      <td>1.300881</td>\n",
       "      <td>0.175863</td>\n",
       "      <td>0.048568</td>\n",
       "      <td>0.325909</td>\n",
       "      <td>0.196382</td>\n",
       "      <td>0.130430</td>\n",
       "      <td>0.535365</td>\n",
       "      <td>1.986404</td>\n",
       "      <td>0.006439</td>\n",
       "      <td>2.493926</td>\n",
       "      <td>0.045687</td>\n",
       "      <td>1.195020</td>\n",
       "      <td>1.773800</td>\n",
       "      <td>0.032462</td>\n",
       "      <td>0.240247</td>\n",
       "      <td>0.042537</td>\n",
       "      <td>...</td>\n",
       "      <td>-0.005432</td>\n",
       "      <td>-0.000562</td>\n",
       "      <td>-0.008008</td>\n",
       "      <td>0.006205</td>\n",
       "      <td>-0.068454</td>\n",
       "      <td>-0.008696</td>\n",
       "      <td>0.013788</td>\n",
       "      <td>-0.048550</td>\n",
       "      <td>-0.007835</td>\n",
       "      <td>-0.002121</td>\n",
       "      <td>-0.000562</td>\n",
       "      <td>0.012244</td>\n",
       "      <td>-0.009800</td>\n",
       "      <td>-0.002121</td>\n",
       "      <td>-0.000562</td>\n",
       "      <td>0.000377</td>\n",
       "      <td>0.002468</td>\n",
       "      <td>-0.009819</td>\n",
       "      <td>0.004346</td>\n",
       "      <td>0.002710</td>\n",
       "      <td>-0.041915</td>\n",
       "      <td>-0.001017</td>\n",
       "      <td>-0.001017</td>\n",
       "      <td>0.000087</td>\n",
       "      <td>0.000087</td>\n",
       "      <td>-0.004410</td>\n",
       "      <td>-0.017816</td>\n",
       "      <td>0.037996</td>\n",
       "      <td>-0.001017</td>\n",
       "      <td>-0.007223</td>\n",
       "      <td>0.002468</td>\n",
       "      <td>-0.001017</td>\n",
       "      <td>0.010078</td>\n",
       "      <td>-0.004328</td>\n",
       "      <td>0.012828</td>\n",
       "      <td>0.018177</td>\n",
       "      <td>0.008082</td>\n",
       "      <td>-0.002121</td>\n",
       "      <td>-0.041568</td>\n",
       "      <td>0.000087</td>\n",
       "    </tr>\n",
       "    <tr>\n",
       "      <th>3</th>\n",
       "      <td>0.619139</td>\n",
       "      <td>-0.217151</td>\n",
       "      <td>-0.238869</td>\n",
       "      <td>0.127655</td>\n",
       "      <td>-0.099769</td>\n",
       "      <td>0.117654</td>\n",
       "      <td>-0.102186</td>\n",
       "      <td>-0.058419</td>\n",
       "      <td>-0.008662</td>\n",
       "      <td>0.010188</td>\n",
       "      <td>-0.072984</td>\n",
       "      <td>0.082188</td>\n",
       "      <td>0.146236</td>\n",
       "      <td>0.211859</td>\n",
       "      <td>0.119608</td>\n",
       "      <td>0.514985</td>\n",
       "      <td>0.889405</td>\n",
       "      <td>0.040085</td>\n",
       "      <td>0.156484</td>\n",
       "      <td>0.028928</td>\n",
       "      <td>0.597476</td>\n",
       "      <td>0.218946</td>\n",
       "      <td>0.012295</td>\n",
       "      <td>-0.358085</td>\n",
       "      <td>0.638238</td>\n",
       "      <td>-0.170828</td>\n",
       "      <td>0.063849</td>\n",
       "      <td>0.355837</td>\n",
       "      <td>0.225302</td>\n",
       "      <td>0.583454</td>\n",
       "      <td>0.038242</td>\n",
       "      <td>0.473994</td>\n",
       "      <td>-0.000489</td>\n",
       "      <td>0.732896</td>\n",
       "      <td>0.096823</td>\n",
       "      <td>0.665625</td>\n",
       "      <td>-0.216679</td>\n",
       "      <td>0.160316</td>\n",
       "      <td>0.630512</td>\n",
       "      <td>0.278044</td>\n",
       "      <td>...</td>\n",
       "      <td>0.008801</td>\n",
       "      <td>-0.014839</td>\n",
       "      <td>0.026320</td>\n",
       "      <td>0.023691</td>\n",
       "      <td>-0.018097</td>\n",
       "      <td>-0.036834</td>\n",
       "      <td>-0.000418</td>\n",
       "      <td>-0.016184</td>\n",
       "      <td>-0.026077</td>\n",
       "      <td>0.029960</td>\n",
       "      <td>-0.014839</td>\n",
       "      <td>-0.016599</td>\n",
       "      <td>0.022835</td>\n",
       "      <td>0.029960</td>\n",
       "      <td>-0.014839</td>\n",
       "      <td>-0.028737</td>\n",
       "      <td>0.014678</td>\n",
       "      <td>-0.009817</td>\n",
       "      <td>-0.016328</td>\n",
       "      <td>-0.015832</td>\n",
       "      <td>-0.015547</td>\n",
       "      <td>0.037013</td>\n",
       "      <td>0.037013</td>\n",
       "      <td>0.044066</td>\n",
       "      <td>0.044066</td>\n",
       "      <td>0.011411</td>\n",
       "      <td>-0.020455</td>\n",
       "      <td>-0.015606</td>\n",
       "      <td>0.037013</td>\n",
       "      <td>-0.015088</td>\n",
       "      <td>0.014678</td>\n",
       "      <td>0.037013</td>\n",
       "      <td>-0.033948</td>\n",
       "      <td>0.015854</td>\n",
       "      <td>0.066009</td>\n",
       "      <td>-0.011781</td>\n",
       "      <td>-0.011998</td>\n",
       "      <td>0.029960</td>\n",
       "      <td>-0.044401</td>\n",
       "      <td>0.044066</td>\n",
       "    </tr>\n",
       "    <tr>\n",
       "      <th>4</th>\n",
       "      <td>1.636123</td>\n",
       "      <td>0.410191</td>\n",
       "      <td>0.087905</td>\n",
       "      <td>-0.022208</td>\n",
       "      <td>0.083438</td>\n",
       "      <td>-0.128785</td>\n",
       "      <td>-0.018924</td>\n",
       "      <td>0.016518</td>\n",
       "      <td>0.031642</td>\n",
       "      <td>0.311503</td>\n",
       "      <td>0.010816</td>\n",
       "      <td>0.050646</td>\n",
       "      <td>0.127814</td>\n",
       "      <td>0.041576</td>\n",
       "      <td>0.037627</td>\n",
       "      <td>0.097789</td>\n",
       "      <td>0.167618</td>\n",
       "      <td>0.041504</td>\n",
       "      <td>0.224768</td>\n",
       "      <td>-0.003764</td>\n",
       "      <td>0.096628</td>\n",
       "      <td>0.117710</td>\n",
       "      <td>0.085755</td>\n",
       "      <td>-0.009441</td>\n",
       "      <td>0.035618</td>\n",
       "      <td>0.067574</td>\n",
       "      <td>-0.017535</td>\n",
       "      <td>-0.049877</td>\n",
       "      <td>0.193993</td>\n",
       "      <td>0.050864</td>\n",
       "      <td>-0.121448</td>\n",
       "      <td>-0.061985</td>\n",
       "      <td>0.004312</td>\n",
       "      <td>0.620947</td>\n",
       "      <td>-0.011058</td>\n",
       "      <td>0.051214</td>\n",
       "      <td>0.225777</td>\n",
       "      <td>-0.002836</td>\n",
       "      <td>0.057314</td>\n",
       "      <td>0.056631</td>\n",
       "      <td>...</td>\n",
       "      <td>0.001721</td>\n",
       "      <td>0.004732</td>\n",
       "      <td>0.063102</td>\n",
       "      <td>0.032812</td>\n",
       "      <td>0.017094</td>\n",
       "      <td>0.007884</td>\n",
       "      <td>0.027528</td>\n",
       "      <td>0.013971</td>\n",
       "      <td>0.001544</td>\n",
       "      <td>-0.004282</td>\n",
       "      <td>0.004732</td>\n",
       "      <td>-0.001845</td>\n",
       "      <td>-0.012452</td>\n",
       "      <td>-0.004282</td>\n",
       "      <td>0.004732</td>\n",
       "      <td>0.005264</td>\n",
       "      <td>0.026540</td>\n",
       "      <td>0.009324</td>\n",
       "      <td>0.002937</td>\n",
       "      <td>0.003535</td>\n",
       "      <td>0.012929</td>\n",
       "      <td>-0.006282</td>\n",
       "      <td>-0.006282</td>\n",
       "      <td>-0.008283</td>\n",
       "      <td>-0.008283</td>\n",
       "      <td>0.018847</td>\n",
       "      <td>0.010344</td>\n",
       "      <td>0.031180</td>\n",
       "      <td>-0.006282</td>\n",
       "      <td>0.007313</td>\n",
       "      <td>0.026540</td>\n",
       "      <td>-0.006282</td>\n",
       "      <td>0.001862</td>\n",
       "      <td>-0.000280</td>\n",
       "      <td>0.020807</td>\n",
       "      <td>0.030318</td>\n",
       "      <td>0.021845</td>\n",
       "      <td>-0.004282</td>\n",
       "      <td>0.008430</td>\n",
       "      <td>-0.008283</td>\n",
       "    </tr>\n",
       "  </tbody>\n",
       "</table>\n",
       "<p>5 rows × 10325 columns</p>\n",
       "</div>"
      ],
      "text/plain": [
       "movieId    1         2         3       ...    148238    148626    149532\n",
       "0        2.340908  0.116324  0.182888  ... -0.019312  0.007349 -0.028260\n",
       "1        3.151773  0.206667  1.666566  ... -0.010372 -0.046182 -0.012156\n",
       "2        0.991437  0.829049  0.553093  ... -0.002121 -0.041568  0.000087\n",
       "3        0.619139 -0.217151 -0.238869  ...  0.029960 -0.044401  0.044066\n",
       "4        1.636123  0.410191  0.087905  ... -0.004282  0.008430 -0.008283\n",
       "\n",
       "[5 rows x 10325 columns]"
      ]
     },
     "execution_count": 340,
     "metadata": {
      "tags": []
     },
     "output_type": "execute_result"
    }
   ],
   "source": [
    "#Dot product \n",
    "ratings_predicted_for_users = np.dot(np.dot(U, S), Vt) + ratings_mean_per_user.values.reshape(-1,1)\n",
    "preds = pd.DataFrame(ratings_predicted_for_users, columns = ratings_matrix.columns)\n",
    "preds.head()\n",
    "#print('All user predicted rating : ', ratings_predicted_for_users.shape)"
   ]
  },
  {
   "cell_type": "markdown",
   "metadata": {
    "id": "jfq0i47-qufX"
   },
   "source": [
    "**Predictions for SVD**\n",
    "\n",
    "**INPUT**: \n",
    "\n",
    "userID : UserId for which you want to predict the top rated movies\n",
    "\n",
    "**OUTPUT**: \n",
    "\n",
    "top 10 movies"
   ]
  },
  {
   "cell_type": "code",
   "execution_count": null,
   "metadata": {
    "colab": {
     "base_uri": "https://localhost:8080/"
    },
    "id": "eK-M2sQFpZTM",
    "outputId": "49785b60-819f-4d94-9deb-4f64fb82713e"
   },
   "outputs": [
    {
     "name": "stdout",
     "output_type": "stream",
     "text": [
      "input user Id to recommend top 10 movies based on Model Based COllaborative filtering: 2\n",
      "User 2 has already rated 2913 movies.\n",
      "Recommending top 10 predicted ratings movies not rated by user {0}.\n",
      "'Rock, The (1996)'\n",
      "'Star Wars: Episode VI - Return of the Jedi (1983)'\n",
      "'Birdcage, The (1996)'\n",
      "'Ransom (1996)'\n",
      "'Eraser (1996)'\n",
      "'Truth About Cats & Dogs, The (1996)'\n",
      "'Heat (1995)'\n",
      "'Godfather, The (1972)'\n",
      "'Multiplicity (1996)'\n",
      "'Hunchback of Notre Dame, The (1996)'\n"
     ]
    }
   ],
   "source": [
    "user_ID = input(\"input user Id to recommend top 10 movies based on Model Based COllaborative filtering: \")\n",
    "userID = int(user_ID)\n",
    "# User ID starts at 1 and row from 1 therefore row will be 0\n",
    "user_row_number = userID - 1 \n",
    "#predictions by SVD\n",
    "predictions = preds\n",
    "sorted_user_predictions = predictions.iloc[user_row_number].sort_values(ascending=False) # User ID starts at 1\n",
    "\n",
    "# Get the user's data and merge in the movie information.\n",
    "user_data = all_movies[all_movies.userId == (userID)]\n",
    "users = (user_data.merge(all_movies, how = 'left', left_on = 'movieId', right_on = 'movieId'))\n",
    "print('User {0} has already rated {1} movies.'.format(userID, users.shape[0]))\n",
    "\n",
    "#Recommend the highest predicted rating movies that the user hasn't seen yet.\n",
    "recommend = (movies[~movies['movieId'].isin(users['movieId'])].merge(pd.DataFrame(sorted_user_predictions).reset_index(), how = 'left',left_on = 'movieId', right_on = 'movieId').rename(columns = {user_row_number: 'Predictions'}).sort_values('Predictions', ascending = False).iloc[:10, :-1])\n",
    "\n",
    "print('Recommending top 10 predicted ratings movies not rated by user {0}.')\n",
    "recommend['movieId']\n",
    "movie_titles= list()\n",
    "for id in recommend['movieId']:\n",
    "  final_output = movies_df[movies_df['movieId']==id]['title'].values\n",
    "  print( \"\\n\".join( repr(e) for e in final_output ))\n"
   ]
  },
  {
   "cell_type": "markdown",
   "metadata": {
    "id": "VjxV6l3pb2Ao"
   },
   "source": [
    "**Model Evaluation**"
   ]
  },
  {
   "cell_type": "code",
   "execution_count": null,
   "metadata": {
    "id": "b92_UuDXbdVD"
   },
   "outputs": [],
   "source": [
    "#all models top10 results(movieId) in list\n",
    "model_based_collaborative_recommedations= recommend['movieId'].tolist() \n",
    "memory_based_user_item_recommedations = top_s10['movieId'].tolist() \n",
    "memory_based_item_item_recommedations = best10['movieId'].tolist() \n",
    "content_based_recommendations = content_based_rec_list.tolist()"
   ]
  },
  {
   "cell_type": "markdown",
   "metadata": {
    "id": "nPdoSYBl2g2m"
   },
   "source": [
    "**install surprise package**\n",
    "\n",
    "Surprise is a Python scikit for building and analyzing recommender systems that deal with explicit rating data. The name SurPRISE (roughly :) ) stands for Simple Python RecommendatIon System Engine.\n",
    "\n"
   ]
  },
  {
   "cell_type": "code",
   "execution_count": null,
   "metadata": {
    "colab": {
     "base_uri": "https://localhost:8080/"
    },
    "id": "CwmJqQFQ2b_N",
    "outputId": "8128a0b2-2bb6-4106-ae20-d6e79d5d386b"
   },
   "outputs": [
    {
     "name": "stdout",
     "output_type": "stream",
     "text": [
      "Requirement already satisfied: surprise in /usr/local/lib/python3.6/dist-packages (0.1)\n",
      "Requirement already satisfied: scikit-surprise in /usr/local/lib/python3.6/dist-packages (from surprise) (1.1.1)\n",
      "Requirement already satisfied: joblib>=0.11 in /usr/local/lib/python3.6/dist-packages (from scikit-surprise->surprise) (1.0.0)\n",
      "Requirement already satisfied: numpy>=1.11.2 in /usr/local/lib/python3.6/dist-packages (from scikit-surprise->surprise) (1.19.5)\n",
      "Requirement already satisfied: six>=1.10.0 in /usr/local/lib/python3.6/dist-packages (from scikit-surprise->surprise) (1.15.0)\n",
      "Requirement already satisfied: scipy>=1.0.0 in /usr/local/lib/python3.6/dist-packages (from scikit-surprise->surprise) (1.4.1)\n"
     ]
    }
   ],
   "source": [
    "#install surprise library\n",
    "!pip install surprise"
   ]
  },
  {
   "cell_type": "code",
   "execution_count": null,
   "metadata": {
    "id": "lGkkJJuIp0-l"
   },
   "outputs": [],
   "source": [
    "#imprt from surprise library\n",
    "from surprise import SVD\n",
    "from surprise import Dataset\n",
    "from surprise import accuracy\n",
    "from surprise.model_selection import train_test_split\n",
    "#load dataset using surprise library\n",
    "data = Dataset.load_builtin('ml-100k')\n",
    "#testing data 25% and trainset 75%\n",
    "trainset, testset = train_test_split(data, test_size=.25)\n",
    "#build SVD\n",
    "algo = SVD()\n",
    "#train SVD\n",
    "algo.fit(trainset)\n",
    "#predict SVD\n",
    "predictions = algo.test(testset)\n",
    "#create dataframe of results\n",
    "test = pd.DataFrame(predictions)\n",
    "test = test.rename(columns={'uid':'userId', 'iid': 'movieId', \n",
    "                            'r_ui':'actual', 'est':'prediction'})"
   ]
  },
  {
   "cell_type": "markdown",
   "metadata": {
    "id": "ajTUG1m4NzKN"
   },
   "source": [
    "**Predictions on SVD test set**"
   ]
  },
  {
   "cell_type": "code",
   "execution_count": null,
   "metadata": {
    "colab": {
     "base_uri": "https://localhost:8080/",
     "height": 198
    },
    "id": "d15GAm2Ns3F1",
    "outputId": "3bb0517a-56f4-48e6-9643-0d63a7f39a36"
   },
   "outputs": [
    {
     "data": {
      "text/html": [
       "<div>\n",
       "<style scoped>\n",
       "    .dataframe tbody tr th:only-of-type {\n",
       "        vertical-align: middle;\n",
       "    }\n",
       "\n",
       "    .dataframe tbody tr th {\n",
       "        vertical-align: top;\n",
       "    }\n",
       "\n",
       "    .dataframe thead th {\n",
       "        text-align: right;\n",
       "    }\n",
       "</style>\n",
       "<table border=\"1\" class=\"dataframe\">\n",
       "  <thead>\n",
       "    <tr style=\"text-align: right;\">\n",
       "      <th></th>\n",
       "      <th>userId</th>\n",
       "      <th>movieId</th>\n",
       "      <th>actual</th>\n",
       "      <th>prediction</th>\n",
       "      <th>details</th>\n",
       "    </tr>\n",
       "  </thead>\n",
       "  <tbody>\n",
       "    <tr>\n",
       "      <th>0</th>\n",
       "      <td>748</td>\n",
       "      <td>647</td>\n",
       "      <td>3.0</td>\n",
       "      <td>3.998541</td>\n",
       "      <td>{'was_impossible': False}</td>\n",
       "    </tr>\n",
       "    <tr>\n",
       "      <th>1</th>\n",
       "      <td>655</td>\n",
       "      <td>1007</td>\n",
       "      <td>3.0</td>\n",
       "      <td>3.272606</td>\n",
       "      <td>{'was_impossible': False}</td>\n",
       "    </tr>\n",
       "    <tr>\n",
       "      <th>2</th>\n",
       "      <td>299</td>\n",
       "      <td>652</td>\n",
       "      <td>3.0</td>\n",
       "      <td>3.859947</td>\n",
       "      <td>{'was_impossible': False}</td>\n",
       "    </tr>\n",
       "    <tr>\n",
       "      <th>3</th>\n",
       "      <td>694</td>\n",
       "      <td>483</td>\n",
       "      <td>5.0</td>\n",
       "      <td>4.734804</td>\n",
       "      <td>{'was_impossible': False}</td>\n",
       "    </tr>\n",
       "    <tr>\n",
       "      <th>4</th>\n",
       "      <td>622</td>\n",
       "      <td>174</td>\n",
       "      <td>4.0</td>\n",
       "      <td>4.340084</td>\n",
       "      <td>{'was_impossible': False}</td>\n",
       "    </tr>\n",
       "  </tbody>\n",
       "</table>\n",
       "</div>"
      ],
      "text/plain": [
       "  userId movieId  actual  prediction                    details\n",
       "0    748     647     3.0    3.998541  {'was_impossible': False}\n",
       "1    655    1007     3.0    3.272606  {'was_impossible': False}\n",
       "2    299     652     3.0    3.859947  {'was_impossible': False}\n",
       "3    694     483     5.0    4.734804  {'was_impossible': False}\n",
       "4    622     174     4.0    4.340084  {'was_impossible': False}"
      ]
     },
     "execution_count": 349,
     "metadata": {
      "tags": []
     },
     "output_type": "execute_result"
    }
   ],
   "source": [
    "test.head()"
   ]
  },
  {
   "cell_type": "markdown",
   "metadata": {
    "id": "WthuSIl8T3p5"
   },
   "source": [
    "**Recommendations surprise package**"
   ]
  },
  {
   "cell_type": "code",
   "execution_count": null,
   "metadata": {
    "colab": {
     "base_uri": "https://localhost:8080/",
     "height": 391
    },
    "id": "ALC5nbxKT_Js",
    "outputId": "74a78691-4c77-45d7-b413-3a210a33bde4"
   },
   "outputs": [
    {
     "data": {
      "text/html": [
       "<div>\n",
       "<style scoped>\n",
       "    .dataframe tbody tr th:only-of-type {\n",
       "        vertical-align: middle;\n",
       "    }\n",
       "\n",
       "    .dataframe tbody tr th {\n",
       "        vertical-align: top;\n",
       "    }\n",
       "\n",
       "    .dataframe thead th {\n",
       "        text-align: right;\n",
       "    }\n",
       "</style>\n",
       "<table border=\"1\" class=\"dataframe\">\n",
       "  <thead>\n",
       "    <tr style=\"text-align: right;\">\n",
       "      <th></th>\n",
       "      <th>userId</th>\n",
       "      <th>movieId</th>\n",
       "      <th>actual</th>\n",
       "      <th>prediction</th>\n",
       "      <th>details</th>\n",
       "      <th>pop_predictions</th>\n",
       "      <th>model_based_collaborative_recommedations</th>\n",
       "      <th>memory_based_item_item_recommedations</th>\n",
       "      <th>memory_based_user_item_recommedations</th>\n",
       "      <th>content_based_recommendations</th>\n",
       "    </tr>\n",
       "  </thead>\n",
       "  <tbody>\n",
       "    <tr>\n",
       "      <th>0</th>\n",
       "      <td>748</td>\n",
       "      <td>647</td>\n",
       "      <td>3.0</td>\n",
       "      <td>3.998541</td>\n",
       "      <td>{'was_impossible': False}</td>\n",
       "      <td>[296, 356, 318, 480, 593, 260, 2571, 589, 527,...</td>\n",
       "      <td>[733, 1210, 141, 832, 786, 708, 6, 858, 719, 783]</td>\n",
       "      <td>[2762, 1265, 2716, 1265, 1265, 1265, 1265, 126...</td>\n",
       "      <td>[924, 1291, 2858, 3996, 4027, 5120, 5135, 5225...</td>\n",
       "      <td>[325, 311, 308, 294, 290, 273, 261, 253, 248, ...</td>\n",
       "    </tr>\n",
       "    <tr>\n",
       "      <th>1</th>\n",
       "      <td>655</td>\n",
       "      <td>1007</td>\n",
       "      <td>3.0</td>\n",
       "      <td>3.272606</td>\n",
       "      <td>{'was_impossible': False}</td>\n",
       "      <td>[296, 356, 318, 480, 593, 260, 2571, 589, 527,...</td>\n",
       "      <td>[733, 1210, 141, 832, 786, 708, 6, 858, 719, 783]</td>\n",
       "      <td>[2762, 1265, 2716, 1265, 1265, 1265, 1265, 126...</td>\n",
       "      <td>[924, 1291, 2858, 3996, 4027, 5120, 5135, 5225...</td>\n",
       "      <td>[325, 311, 308, 294, 290, 273, 261, 253, 248, ...</td>\n",
       "    </tr>\n",
       "    <tr>\n",
       "      <th>2</th>\n",
       "      <td>299</td>\n",
       "      <td>652</td>\n",
       "      <td>3.0</td>\n",
       "      <td>3.859947</td>\n",
       "      <td>{'was_impossible': False}</td>\n",
       "      <td>[296, 356, 318, 480, 593, 260, 2571, 589, 527,...</td>\n",
       "      <td>[733, 1210, 141, 832, 786, 708, 6, 858, 719, 783]</td>\n",
       "      <td>[2762, 1265, 2716, 1265, 1265, 1265, 1265, 126...</td>\n",
       "      <td>[924, 1291, 2858, 3996, 4027, 5120, 5135, 5225...</td>\n",
       "      <td>[325, 311, 308, 294, 290, 273, 261, 253, 248, ...</td>\n",
       "    </tr>\n",
       "    <tr>\n",
       "      <th>3</th>\n",
       "      <td>694</td>\n",
       "      <td>483</td>\n",
       "      <td>5.0</td>\n",
       "      <td>4.734804</td>\n",
       "      <td>{'was_impossible': False}</td>\n",
       "      <td>[296, 356, 318, 480, 593, 260, 2571, 589, 527,...</td>\n",
       "      <td>[733, 1210, 141, 832, 786, 708, 6, 858, 719, 783]</td>\n",
       "      <td>[2762, 1265, 2716, 1265, 1265, 1265, 1265, 126...</td>\n",
       "      <td>[924, 1291, 2858, 3996, 4027, 5120, 5135, 5225...</td>\n",
       "      <td>[325, 311, 308, 294, 290, 273, 261, 253, 248, ...</td>\n",
       "    </tr>\n",
       "    <tr>\n",
       "      <th>4</th>\n",
       "      <td>622</td>\n",
       "      <td>174</td>\n",
       "      <td>4.0</td>\n",
       "      <td>4.340084</td>\n",
       "      <td>{'was_impossible': False}</td>\n",
       "      <td>[296, 356, 318, 480, 593, 260, 2571, 589, 527,...</td>\n",
       "      <td>[733, 1210, 141, 832, 786, 708, 6, 858, 719, 783]</td>\n",
       "      <td>[2762, 1265, 2716, 1265, 1265, 1265, 1265, 126...</td>\n",
       "      <td>[924, 1291, 2858, 3996, 4027, 5120, 5135, 5225...</td>\n",
       "      <td>[325, 311, 308, 294, 290, 273, 261, 253, 248, ...</td>\n",
       "    </tr>\n",
       "  </tbody>\n",
       "</table>\n",
       "</div>"
      ],
      "text/plain": [
       "  userId  ...                      content_based_recommendations\n",
       "0    748  ...  [325, 311, 308, 294, 290, 273, 261, 253, 248, ...\n",
       "1    655  ...  [325, 311, 308, 294, 290, 273, 261, 253, 248, ...\n",
       "2    299  ...  [325, 311, 308, 294, 290, 273, 261, 253, 248, ...\n",
       "3    694  ...  [325, 311, 308, 294, 290, 273, 261, 253, 248, ...\n",
       "4    622  ...  [325, 311, 308, 294, 290, 273, 261, 253, 248, ...\n",
       "\n",
       "[5 rows x 10 columns]"
      ]
     },
     "execution_count": 356,
     "metadata": {
      "tags": []
     },
     "output_type": "execute_result"
    }
   ],
   "source": [
    "#make recommendations for all members in the test data\n",
    "popularity_recs = ratings.movieId.value_counts().head(10).index.tolist()\n",
    "\n",
    "pop_recs = []\n",
    "# For each user\n",
    "for user in test.index:\n",
    "    #recomendations based on popularity\n",
    "    pop_predictions = popularity_recs\n",
    "    pop_recs.append(pop_predictions)\n",
    "        \n",
    "test['pop_predictions'] = pop_recs\n",
    "test.head()"
   ]
  },
  {
   "cell_type": "markdown",
   "metadata": {
    "id": "sWCcVJSQT_3m"
   },
   "source": [
    "**Our Own models Recomendations**"
   ]
  },
  {
   "cell_type": "code",
   "execution_count": null,
   "metadata": {
    "colab": {
     "base_uri": "https://localhost:8080/",
     "height": 391
    },
    "id": "KCmSTACt3cBy",
    "outputId": "29c0ad3c-00cd-40c3-f348-4cc4bbdcbfd2"
   },
   "outputs": [
    {
     "data": {
      "text/html": [
       "<div>\n",
       "<style scoped>\n",
       "    .dataframe tbody tr th:only-of-type {\n",
       "        vertical-align: middle;\n",
       "    }\n",
       "\n",
       "    .dataframe tbody tr th {\n",
       "        vertical-align: top;\n",
       "    }\n",
       "\n",
       "    .dataframe thead th {\n",
       "        text-align: right;\n",
       "    }\n",
       "</style>\n",
       "<table border=\"1\" class=\"dataframe\">\n",
       "  <thead>\n",
       "    <tr style=\"text-align: right;\">\n",
       "      <th></th>\n",
       "      <th>userId</th>\n",
       "      <th>movieId</th>\n",
       "      <th>actual</th>\n",
       "      <th>prediction</th>\n",
       "      <th>details</th>\n",
       "      <th>pop_predictions</th>\n",
       "      <th>model_based_collaborative_recommedations</th>\n",
       "      <th>memory_based_item_item_recommedations</th>\n",
       "      <th>memory_based_user_item_recommedations</th>\n",
       "      <th>content_based_recommendations</th>\n",
       "    </tr>\n",
       "  </thead>\n",
       "  <tbody>\n",
       "    <tr>\n",
       "      <th>0</th>\n",
       "      <td>748</td>\n",
       "      <td>647</td>\n",
       "      <td>3.0</td>\n",
       "      <td>3.998541</td>\n",
       "      <td>{'was_impossible': False}</td>\n",
       "      <td>[296, 356, 318, 480, 593, 260, 2571, 589, 527,...</td>\n",
       "      <td>[733, 1210, 141, 832, 786, 708, 6, 858, 719, 783]</td>\n",
       "      <td>[2762, 1265, 2716, 1265, 1265, 1265, 1265, 126...</td>\n",
       "      <td>[924, 1291, 2858, 3996, 4027, 5120, 5135, 5225...</td>\n",
       "      <td>[325, 311, 308, 294, 290, 273, 261, 253, 248, ...</td>\n",
       "    </tr>\n",
       "    <tr>\n",
       "      <th>1</th>\n",
       "      <td>655</td>\n",
       "      <td>1007</td>\n",
       "      <td>3.0</td>\n",
       "      <td>3.272606</td>\n",
       "      <td>{'was_impossible': False}</td>\n",
       "      <td>[296, 356, 318, 480, 593, 260, 2571, 589, 527,...</td>\n",
       "      <td>[733, 1210, 141, 832, 786, 708, 6, 858, 719, 783]</td>\n",
       "      <td>[2762, 1265, 2716, 1265, 1265, 1265, 1265, 126...</td>\n",
       "      <td>[924, 1291, 2858, 3996, 4027, 5120, 5135, 5225...</td>\n",
       "      <td>[325, 311, 308, 294, 290, 273, 261, 253, 248, ...</td>\n",
       "    </tr>\n",
       "    <tr>\n",
       "      <th>2</th>\n",
       "      <td>299</td>\n",
       "      <td>652</td>\n",
       "      <td>3.0</td>\n",
       "      <td>3.859947</td>\n",
       "      <td>{'was_impossible': False}</td>\n",
       "      <td>[296, 356, 318, 480, 593, 260, 2571, 589, 527,...</td>\n",
       "      <td>[733, 1210, 141, 832, 786, 708, 6, 858, 719, 783]</td>\n",
       "      <td>[2762, 1265, 2716, 1265, 1265, 1265, 1265, 126...</td>\n",
       "      <td>[924, 1291, 2858, 3996, 4027, 5120, 5135, 5225...</td>\n",
       "      <td>[325, 311, 308, 294, 290, 273, 261, 253, 248, ...</td>\n",
       "    </tr>\n",
       "    <tr>\n",
       "      <th>3</th>\n",
       "      <td>694</td>\n",
       "      <td>483</td>\n",
       "      <td>5.0</td>\n",
       "      <td>4.734804</td>\n",
       "      <td>{'was_impossible': False}</td>\n",
       "      <td>[296, 356, 318, 480, 593, 260, 2571, 589, 527,...</td>\n",
       "      <td>[733, 1210, 141, 832, 786, 708, 6, 858, 719, 783]</td>\n",
       "      <td>[2762, 1265, 2716, 1265, 1265, 1265, 1265, 126...</td>\n",
       "      <td>[924, 1291, 2858, 3996, 4027, 5120, 5135, 5225...</td>\n",
       "      <td>[325, 311, 308, 294, 290, 273, 261, 253, 248, ...</td>\n",
       "    </tr>\n",
       "    <tr>\n",
       "      <th>4</th>\n",
       "      <td>622</td>\n",
       "      <td>174</td>\n",
       "      <td>4.0</td>\n",
       "      <td>4.340084</td>\n",
       "      <td>{'was_impossible': False}</td>\n",
       "      <td>[296, 356, 318, 480, 593, 260, 2571, 589, 527,...</td>\n",
       "      <td>[733, 1210, 141, 832, 786, 708, 6, 858, 719, 783]</td>\n",
       "      <td>[2762, 1265, 2716, 1265, 1265, 1265, 1265, 126...</td>\n",
       "      <td>[924, 1291, 2858, 3996, 4027, 5120, 5135, 5225...</td>\n",
       "      <td>[325, 311, 308, 294, 290, 273, 261, 253, 248, ...</td>\n",
       "    </tr>\n",
       "  </tbody>\n",
       "</table>\n",
       "</div>"
      ],
      "text/plain": [
       "  userId  ...                      content_based_recommendations\n",
       "0    748  ...  [325, 311, 308, 294, 290, 273, 261, 253, 248, ...\n",
       "1    655  ...  [325, 311, 308, 294, 290, 273, 261, 253, 248, ...\n",
       "2    299  ...  [325, 311, 308, 294, 290, 273, 261, 253, 248, ...\n",
       "3    694  ...  [325, 311, 308, 294, 290, 273, 261, 253, 248, ...\n",
       "4    622  ...  [325, 311, 308, 294, 290, 273, 261, 253, 248, ...\n",
       "\n",
       "[5 rows x 10 columns]"
      ]
     },
     "execution_count": 357,
     "metadata": {
      "tags": []
     },
     "output_type": "execute_result"
    }
   ],
   "source": [
    "cf_model = test.pivot_table(index='userId', columns='movieId', values='prediction').fillna(0)\n",
    "mbc_rec = [] = []\n",
    "for user in test.index:\n",
    "    mbc_predictions = model_based_collaborative_recommedations\n",
    "    mbc_rec.append(mbc_predictions)\n",
    "        \n",
    "test['model_based_collaborative_recommedations'] = mbc_rec\n",
    "test.head()"
   ]
  },
  {
   "cell_type": "code",
   "execution_count": null,
   "metadata": {
    "colab": {
     "base_uri": "https://localhost:8080/",
     "height": 391
    },
    "id": "nUpJ-mvZ4iaV",
    "outputId": "ef9fdce7-5c30-4c73-cd30-5046d6b445fe"
   },
   "outputs": [
    {
     "data": {
      "text/html": [
       "<div>\n",
       "<style scoped>\n",
       "    .dataframe tbody tr th:only-of-type {\n",
       "        vertical-align: middle;\n",
       "    }\n",
       "\n",
       "    .dataframe tbody tr th {\n",
       "        vertical-align: top;\n",
       "    }\n",
       "\n",
       "    .dataframe thead th {\n",
       "        text-align: right;\n",
       "    }\n",
       "</style>\n",
       "<table border=\"1\" class=\"dataframe\">\n",
       "  <thead>\n",
       "    <tr style=\"text-align: right;\">\n",
       "      <th></th>\n",
       "      <th>userId</th>\n",
       "      <th>movieId</th>\n",
       "      <th>actual</th>\n",
       "      <th>prediction</th>\n",
       "      <th>details</th>\n",
       "      <th>pop_predictions</th>\n",
       "      <th>model_based_collaborative_recommedations</th>\n",
       "      <th>memory_based_item_item_recommedations</th>\n",
       "      <th>memory_based_user_item_recommedations</th>\n",
       "      <th>content_based_recommendations</th>\n",
       "    </tr>\n",
       "  </thead>\n",
       "  <tbody>\n",
       "    <tr>\n",
       "      <th>0</th>\n",
       "      <td>748</td>\n",
       "      <td>647</td>\n",
       "      <td>3.0</td>\n",
       "      <td>3.998541</td>\n",
       "      <td>{'was_impossible': False}</td>\n",
       "      <td>[296, 356, 318, 480, 593, 260, 2571, 589, 527,...</td>\n",
       "      <td>[733, 1210, 141, 832, 786, 708, 6, 858, 719, 783]</td>\n",
       "      <td>[2762, 1265, 2716, 1265, 1265, 1265, 1265, 126...</td>\n",
       "      <td>[924, 1291, 2858, 3996, 4027, 5120, 5135, 5225...</td>\n",
       "      <td>[325, 311, 308, 294, 290, 273, 261, 253, 248, ...</td>\n",
       "    </tr>\n",
       "    <tr>\n",
       "      <th>1</th>\n",
       "      <td>655</td>\n",
       "      <td>1007</td>\n",
       "      <td>3.0</td>\n",
       "      <td>3.272606</td>\n",
       "      <td>{'was_impossible': False}</td>\n",
       "      <td>[296, 356, 318, 480, 593, 260, 2571, 589, 527,...</td>\n",
       "      <td>[733, 1210, 141, 832, 786, 708, 6, 858, 719, 783]</td>\n",
       "      <td>[2762, 1265, 2716, 1265, 1265, 1265, 1265, 126...</td>\n",
       "      <td>[924, 1291, 2858, 3996, 4027, 5120, 5135, 5225...</td>\n",
       "      <td>[325, 311, 308, 294, 290, 273, 261, 253, 248, ...</td>\n",
       "    </tr>\n",
       "    <tr>\n",
       "      <th>2</th>\n",
       "      <td>299</td>\n",
       "      <td>652</td>\n",
       "      <td>3.0</td>\n",
       "      <td>3.859947</td>\n",
       "      <td>{'was_impossible': False}</td>\n",
       "      <td>[296, 356, 318, 480, 593, 260, 2571, 589, 527,...</td>\n",
       "      <td>[733, 1210, 141, 832, 786, 708, 6, 858, 719, 783]</td>\n",
       "      <td>[2762, 1265, 2716, 1265, 1265, 1265, 1265, 126...</td>\n",
       "      <td>[924, 1291, 2858, 3996, 4027, 5120, 5135, 5225...</td>\n",
       "      <td>[325, 311, 308, 294, 290, 273, 261, 253, 248, ...</td>\n",
       "    </tr>\n",
       "    <tr>\n",
       "      <th>3</th>\n",
       "      <td>694</td>\n",
       "      <td>483</td>\n",
       "      <td>5.0</td>\n",
       "      <td>4.734804</td>\n",
       "      <td>{'was_impossible': False}</td>\n",
       "      <td>[296, 356, 318, 480, 593, 260, 2571, 589, 527,...</td>\n",
       "      <td>[733, 1210, 141, 832, 786, 708, 6, 858, 719, 783]</td>\n",
       "      <td>[2762, 1265, 2716, 1265, 1265, 1265, 1265, 126...</td>\n",
       "      <td>[924, 1291, 2858, 3996, 4027, 5120, 5135, 5225...</td>\n",
       "      <td>[325, 311, 308, 294, 290, 273, 261, 253, 248, ...</td>\n",
       "    </tr>\n",
       "    <tr>\n",
       "      <th>4</th>\n",
       "      <td>622</td>\n",
       "      <td>174</td>\n",
       "      <td>4.0</td>\n",
       "      <td>4.340084</td>\n",
       "      <td>{'was_impossible': False}</td>\n",
       "      <td>[296, 356, 318, 480, 593, 260, 2571, 589, 527,...</td>\n",
       "      <td>[733, 1210, 141, 832, 786, 708, 6, 858, 719, 783]</td>\n",
       "      <td>[2762, 1265, 2716, 1265, 1265, 1265, 1265, 126...</td>\n",
       "      <td>[924, 1291, 2858, 3996, 4027, 5120, 5135, 5225...</td>\n",
       "      <td>[325, 311, 308, 294, 290, 273, 261, 253, 248, ...</td>\n",
       "    </tr>\n",
       "  </tbody>\n",
       "</table>\n",
       "</div>"
      ],
      "text/plain": [
       "  userId  ...                      content_based_recommendations\n",
       "0    748  ...  [325, 311, 308, 294, 290, 273, 261, 253, 248, ...\n",
       "1    655  ...  [325, 311, 308, 294, 290, 273, 261, 253, 248, ...\n",
       "2    299  ...  [325, 311, 308, 294, 290, 273, 261, 253, 248, ...\n",
       "3    694  ...  [325, 311, 308, 294, 290, 273, 261, 253, 248, ...\n",
       "4    622  ...  [325, 311, 308, 294, 290, 273, 261, 253, 248, ...\n",
       "\n",
       "[5 rows x 10 columns]"
      ]
     },
     "execution_count": 358,
     "metadata": {
      "tags": []
     },
     "output_type": "execute_result"
    }
   ],
   "source": [
    "mbii_recs = []\n",
    "for user in test.index:\n",
    "    mbii_predictions = memory_based_item_item_recommedations\n",
    "    mbii_recs.append(mbii_predictions)\n",
    "        \n",
    "test['memory_based_item_item_recommedations'] = mbii_recs\n",
    "test.head()"
   ]
  },
  {
   "cell_type": "code",
   "execution_count": null,
   "metadata": {
    "colab": {
     "base_uri": "https://localhost:8080/",
     "height": 391
    },
    "id": "BrUfl5IF8Wgn",
    "outputId": "e90de0fc-a388-4e10-b6ab-721e4bdf216b"
   },
   "outputs": [
    {
     "data": {
      "text/html": [
       "<div>\n",
       "<style scoped>\n",
       "    .dataframe tbody tr th:only-of-type {\n",
       "        vertical-align: middle;\n",
       "    }\n",
       "\n",
       "    .dataframe tbody tr th {\n",
       "        vertical-align: top;\n",
       "    }\n",
       "\n",
       "    .dataframe thead th {\n",
       "        text-align: right;\n",
       "    }\n",
       "</style>\n",
       "<table border=\"1\" class=\"dataframe\">\n",
       "  <thead>\n",
       "    <tr style=\"text-align: right;\">\n",
       "      <th></th>\n",
       "      <th>userId</th>\n",
       "      <th>movieId</th>\n",
       "      <th>actual</th>\n",
       "      <th>prediction</th>\n",
       "      <th>details</th>\n",
       "      <th>pop_predictions</th>\n",
       "      <th>model_based_collaborative_recommedations</th>\n",
       "      <th>memory_based_item_item_recommedations</th>\n",
       "      <th>memory_based_user_item_recommedations</th>\n",
       "      <th>content_based_recommendations</th>\n",
       "    </tr>\n",
       "  </thead>\n",
       "  <tbody>\n",
       "    <tr>\n",
       "      <th>0</th>\n",
       "      <td>748</td>\n",
       "      <td>647</td>\n",
       "      <td>3.0</td>\n",
       "      <td>3.998541</td>\n",
       "      <td>{'was_impossible': False}</td>\n",
       "      <td>[296, 356, 318, 480, 593, 260, 2571, 589, 527,...</td>\n",
       "      <td>[733, 1210, 141, 832, 786, 708, 6, 858, 719, 783]</td>\n",
       "      <td>[2762, 1265, 2716, 1265, 1265, 1265, 1265, 126...</td>\n",
       "      <td>[924, 1291, 2858, 3996, 4027, 5120, 5135, 5225...</td>\n",
       "      <td>[325, 311, 308, 294, 290, 273, 261, 253, 248, ...</td>\n",
       "    </tr>\n",
       "    <tr>\n",
       "      <th>1</th>\n",
       "      <td>655</td>\n",
       "      <td>1007</td>\n",
       "      <td>3.0</td>\n",
       "      <td>3.272606</td>\n",
       "      <td>{'was_impossible': False}</td>\n",
       "      <td>[296, 356, 318, 480, 593, 260, 2571, 589, 527,...</td>\n",
       "      <td>[733, 1210, 141, 832, 786, 708, 6, 858, 719, 783]</td>\n",
       "      <td>[2762, 1265, 2716, 1265, 1265, 1265, 1265, 126...</td>\n",
       "      <td>[924, 1291, 2858, 3996, 4027, 5120, 5135, 5225...</td>\n",
       "      <td>[325, 311, 308, 294, 290, 273, 261, 253, 248, ...</td>\n",
       "    </tr>\n",
       "    <tr>\n",
       "      <th>2</th>\n",
       "      <td>299</td>\n",
       "      <td>652</td>\n",
       "      <td>3.0</td>\n",
       "      <td>3.859947</td>\n",
       "      <td>{'was_impossible': False}</td>\n",
       "      <td>[296, 356, 318, 480, 593, 260, 2571, 589, 527,...</td>\n",
       "      <td>[733, 1210, 141, 832, 786, 708, 6, 858, 719, 783]</td>\n",
       "      <td>[2762, 1265, 2716, 1265, 1265, 1265, 1265, 126...</td>\n",
       "      <td>[924, 1291, 2858, 3996, 4027, 5120, 5135, 5225...</td>\n",
       "      <td>[325, 311, 308, 294, 290, 273, 261, 253, 248, ...</td>\n",
       "    </tr>\n",
       "    <tr>\n",
       "      <th>3</th>\n",
       "      <td>694</td>\n",
       "      <td>483</td>\n",
       "      <td>5.0</td>\n",
       "      <td>4.734804</td>\n",
       "      <td>{'was_impossible': False}</td>\n",
       "      <td>[296, 356, 318, 480, 593, 260, 2571, 589, 527,...</td>\n",
       "      <td>[733, 1210, 141, 832, 786, 708, 6, 858, 719, 783]</td>\n",
       "      <td>[2762, 1265, 2716, 1265, 1265, 1265, 1265, 126...</td>\n",
       "      <td>[924, 1291, 2858, 3996, 4027, 5120, 5135, 5225...</td>\n",
       "      <td>[325, 311, 308, 294, 290, 273, 261, 253, 248, ...</td>\n",
       "    </tr>\n",
       "    <tr>\n",
       "      <th>4</th>\n",
       "      <td>622</td>\n",
       "      <td>174</td>\n",
       "      <td>4.0</td>\n",
       "      <td>4.340084</td>\n",
       "      <td>{'was_impossible': False}</td>\n",
       "      <td>[296, 356, 318, 480, 593, 260, 2571, 589, 527,...</td>\n",
       "      <td>[733, 1210, 141, 832, 786, 708, 6, 858, 719, 783]</td>\n",
       "      <td>[2762, 1265, 2716, 1265, 1265, 1265, 1265, 126...</td>\n",
       "      <td>[924, 1291, 2858, 3996, 4027, 5120, 5135, 5225...</td>\n",
       "      <td>[325, 311, 308, 294, 290, 273, 261, 253, 248, ...</td>\n",
       "    </tr>\n",
       "  </tbody>\n",
       "</table>\n",
       "</div>"
      ],
      "text/plain": [
       "  userId  ...                      content_based_recommendations\n",
       "0    748  ...  [325, 311, 308, 294, 290, 273, 261, 253, 248, ...\n",
       "1    655  ...  [325, 311, 308, 294, 290, 273, 261, 253, 248, ...\n",
       "2    299  ...  [325, 311, 308, 294, 290, 273, 261, 253, 248, ...\n",
       "3    694  ...  [325, 311, 308, 294, 290, 273, 261, 253, 248, ...\n",
       "4    622  ...  [325, 311, 308, 294, 290, 273, 261, 253, 248, ...\n",
       "\n",
       "[5 rows x 10 columns]"
      ]
     },
     "execution_count": 359,
     "metadata": {
      "tags": []
     },
     "output_type": "execute_result"
    }
   ],
   "source": [
    "\n",
    "mbui_recs = []\n",
    "for user in test.index:\n",
    "    mbui_predictions = memory_based_user_item_recommedations\n",
    "    mbui_recs.append(mbui_predictions)\n",
    "        \n",
    "test['memory_based_user_item_recommedations'] = mbui_recs\n",
    "test.head()"
   ]
  },
  {
   "cell_type": "code",
   "execution_count": null,
   "metadata": {
    "colab": {
     "base_uri": "https://localhost:8080/",
     "height": 391
    },
    "id": "2rIouUN-cR7E",
    "outputId": "64a3726e-b808-4b22-d78b-d6f7cc166d63"
   },
   "outputs": [
    {
     "data": {
      "text/html": [
       "<div>\n",
       "<style scoped>\n",
       "    .dataframe tbody tr th:only-of-type {\n",
       "        vertical-align: middle;\n",
       "    }\n",
       "\n",
       "    .dataframe tbody tr th {\n",
       "        vertical-align: top;\n",
       "    }\n",
       "\n",
       "    .dataframe thead th {\n",
       "        text-align: right;\n",
       "    }\n",
       "</style>\n",
       "<table border=\"1\" class=\"dataframe\">\n",
       "  <thead>\n",
       "    <tr style=\"text-align: right;\">\n",
       "      <th></th>\n",
       "      <th>userId</th>\n",
       "      <th>movieId</th>\n",
       "      <th>actual</th>\n",
       "      <th>prediction</th>\n",
       "      <th>details</th>\n",
       "      <th>pop_predictions</th>\n",
       "      <th>model_based_collaborative_recommedations</th>\n",
       "      <th>memory_based_item_item_recommedations</th>\n",
       "      <th>memory_based_user_item_recommedations</th>\n",
       "      <th>content_based_recommendations</th>\n",
       "    </tr>\n",
       "  </thead>\n",
       "  <tbody>\n",
       "    <tr>\n",
       "      <th>0</th>\n",
       "      <td>748</td>\n",
       "      <td>647</td>\n",
       "      <td>3.0</td>\n",
       "      <td>3.998541</td>\n",
       "      <td>{'was_impossible': False}</td>\n",
       "      <td>[296, 356, 318, 480, 593, 260, 2571, 589, 527,...</td>\n",
       "      <td>[733, 1210, 141, 832, 786, 708, 6, 858, 719, 783]</td>\n",
       "      <td>[2762, 1265, 2716, 1265, 1265, 1265, 1265, 126...</td>\n",
       "      <td>[924, 1291, 2858, 3996, 4027, 5120, 5135, 5225...</td>\n",
       "      <td>[325, 311, 308, 294, 290, 273, 261, 253, 248, ...</td>\n",
       "    </tr>\n",
       "    <tr>\n",
       "      <th>1</th>\n",
       "      <td>655</td>\n",
       "      <td>1007</td>\n",
       "      <td>3.0</td>\n",
       "      <td>3.272606</td>\n",
       "      <td>{'was_impossible': False}</td>\n",
       "      <td>[296, 356, 318, 480, 593, 260, 2571, 589, 527,...</td>\n",
       "      <td>[733, 1210, 141, 832, 786, 708, 6, 858, 719, 783]</td>\n",
       "      <td>[2762, 1265, 2716, 1265, 1265, 1265, 1265, 126...</td>\n",
       "      <td>[924, 1291, 2858, 3996, 4027, 5120, 5135, 5225...</td>\n",
       "      <td>[325, 311, 308, 294, 290, 273, 261, 253, 248, ...</td>\n",
       "    </tr>\n",
       "    <tr>\n",
       "      <th>2</th>\n",
       "      <td>299</td>\n",
       "      <td>652</td>\n",
       "      <td>3.0</td>\n",
       "      <td>3.859947</td>\n",
       "      <td>{'was_impossible': False}</td>\n",
       "      <td>[296, 356, 318, 480, 593, 260, 2571, 589, 527,...</td>\n",
       "      <td>[733, 1210, 141, 832, 786, 708, 6, 858, 719, 783]</td>\n",
       "      <td>[2762, 1265, 2716, 1265, 1265, 1265, 1265, 126...</td>\n",
       "      <td>[924, 1291, 2858, 3996, 4027, 5120, 5135, 5225...</td>\n",
       "      <td>[325, 311, 308, 294, 290, 273, 261, 253, 248, ...</td>\n",
       "    </tr>\n",
       "    <tr>\n",
       "      <th>3</th>\n",
       "      <td>694</td>\n",
       "      <td>483</td>\n",
       "      <td>5.0</td>\n",
       "      <td>4.734804</td>\n",
       "      <td>{'was_impossible': False}</td>\n",
       "      <td>[296, 356, 318, 480, 593, 260, 2571, 589, 527,...</td>\n",
       "      <td>[733, 1210, 141, 832, 786, 708, 6, 858, 719, 783]</td>\n",
       "      <td>[2762, 1265, 2716, 1265, 1265, 1265, 1265, 126...</td>\n",
       "      <td>[924, 1291, 2858, 3996, 4027, 5120, 5135, 5225...</td>\n",
       "      <td>[325, 311, 308, 294, 290, 273, 261, 253, 248, ...</td>\n",
       "    </tr>\n",
       "    <tr>\n",
       "      <th>4</th>\n",
       "      <td>622</td>\n",
       "      <td>174</td>\n",
       "      <td>4.0</td>\n",
       "      <td>4.340084</td>\n",
       "      <td>{'was_impossible': False}</td>\n",
       "      <td>[296, 356, 318, 480, 593, 260, 2571, 589, 527,...</td>\n",
       "      <td>[733, 1210, 141, 832, 786, 708, 6, 858, 719, 783]</td>\n",
       "      <td>[2762, 1265, 2716, 1265, 1265, 1265, 1265, 126...</td>\n",
       "      <td>[924, 1291, 2858, 3996, 4027, 5120, 5135, 5225...</td>\n",
       "      <td>[325, 311, 308, 294, 290, 273, 261, 253, 248, ...</td>\n",
       "    </tr>\n",
       "  </tbody>\n",
       "</table>\n",
       "</div>"
      ],
      "text/plain": [
       "  userId  ...                      content_based_recommendations\n",
       "0    748  ...  [325, 311, 308, 294, 290, 273, 261, 253, 248, ...\n",
       "1    655  ...  [325, 311, 308, 294, 290, 273, 261, 253, 248, ...\n",
       "2    299  ...  [325, 311, 308, 294, 290, 273, 261, 253, 248, ...\n",
       "3    694  ...  [325, 311, 308, 294, 290, 273, 261, 253, 248, ...\n",
       "4    622  ...  [325, 311, 308, 294, 290, 273, 261, 253, 248, ...\n",
       "\n",
       "[5 rows x 10 columns]"
      ]
     },
     "execution_count": 360,
     "metadata": {
      "tags": []
     },
     "output_type": "execute_result"
    }
   ],
   "source": [
    "content_recs = []\n",
    "for user in test.index:\n",
    "    content_predictions = content_based_recommendations\n",
    "    content_recs.append(content_predictions)\n",
    "        \n",
    "test['content_based_recommendations'] = content_recs\n",
    "test.head()"
   ]
  },
  {
   "cell_type": "markdown",
   "metadata": {
    "id": "pmzm3hcufLSv"
   },
   "source": [
    "**Coverage**\n",
    "\n",
    "Coverage is the percent of items in the training data the model is able to recommend on a test set."
   ]
  },
  {
   "cell_type": "code",
   "execution_count": null,
   "metadata": {
    "id": "vP8SBo6y8-8H"
   },
   "outputs": [],
   "source": [
    "import random\n",
    "#Computes the prediction coverage for a list of recommendations\n",
    "def prediction_coverage(predicted, catalog) -> float:\n",
    "    predicted_flattened = [p for sublist in predicted for p in sublist]\n",
    "    unique_predictions = len(set(predicted_flattened))\n",
    "    prediction_coverage = round(unique_predictions/(len(catalog)* 1.0)*100,2)\n",
    "    return prediction_coverage\n",
    "    \n",
    "# Computes the catalog coverage for lists of recommendations\n",
    "def catalog_coverage(predicted, catalog, k: int) -> float:\n",
    "    sampling = random.choices(predicted, k=k)\n",
    "    predicted_flattened = [p for sublist in sampling for p in sublist]\n",
    "    L_predictions = len(set(predicted_flattened))\n",
    "    catalog_coverage = round(L_predictions/(len(catalog)*1.0)*100,2)\n",
    "    return catalog_coverage"
   ]
  },
  {
   "cell_type": "code",
   "execution_count": null,
   "metadata": {
    "id": "sPaZOwxc8pxG"
   },
   "outputs": [],
   "source": [
    "#values in test dataframe columns\n",
    "actual = test.actual.values.tolist()\n",
    "mbc_predictions = test.model_based_collaborative_recommedations.values.tolist()\n",
    "mbii_predictions = test.memory_based_item_item_recommedations.values.tolist()\n",
    "mbui_predictions = test.memory_based_user_item_recommedations.values.tolist()\n",
    "content_predictions = test.content_based_recommendations.values.tolist()\n",
    "pop_predictions = test.pop_predictions.values.tolist()\n",
    "\n",
    "#A list of all unique items in the training data\n",
    "catalog = ratings_df.movieId.unique().tolist()\n",
    "\n",
    "#Computes the prediction coverage for a list of recommendations\n",
    "mbui_coverage = prediction_coverage(mbui_recs, catalog)\n",
    "mbii_coverage = prediction_coverage(mbii_recs, catalog)\n",
    "mbc_coverage = prediction_coverage(mbc_rec, catalog)\n",
    "content_coverage = prediction_coverage(content_recs, catalog)\n",
    "pop_coverage = prediction_coverage(pop_recs, catalog)\n",
    "\n",
    "# Computes the catalog coverage for lists of recommendations\n",
    "mbui_cat_coverage = catalog_coverage(mbui_recs, catalog, 100)\n",
    "mbii_cat_coverage = catalog_coverage(mbii_recs, catalog, 100)\n",
    "mbc_cat_coverage = catalog_coverage(mbc_rec, catalog, 100)\n",
    "content_cat_coverage = catalog_coverage(content_recs, catalog, 100)\n",
    "pop_cat_coverage = catalog_coverage(pop_recs, catalog, 100)"
   ]
  },
  {
   "cell_type": "markdown",
   "metadata": {
    "id": "yxlmlgcr3IDu"
   },
   "source": [
    "**Coverage Plot**\n"
   ]
  },
  {
   "cell_type": "code",
   "execution_count": null,
   "metadata": {
    "colab": {
     "base_uri": "https://localhost:8080/",
     "height": 442
    },
    "id": "dQim8s6I-UOQ",
    "outputId": "d70811fa-5b05-471f-949c-abdae2f192d5"
   },
   "outputs": [
    {
     "data": {
      "image/png": "[encoded data removed]",
      "text/plain": [
       "<Figure size 1440x504 with 1 Axes>"
      ]
     },
     "metadata": {
      "needs_background": "light",
      "tags": []
     },
     "output_type": "display_data"
    }
   ],
   "source": [
    "coverage_scores = [mbui_coverage, mbii_coverage, mbc_coverage,content_coverage, pop_coverage ]\n",
    "model_names = ['memory based user item_recommedations', 'memory based item item recommedations', 'Model based Collaborative Filter', 'content based recommendations', 'popularity surprise recommendations']\n",
    "\n",
    "fig = plt.figure(figsize=(20, 7))\n",
    "recommender_palette = [\"#ED2BFF\", \"#14E2C0\", \"#FF9F1C\", \"#5E2BFF\",\"#FC5FA3\"]\n",
    "sns.set_palette(recommender_palette)\n",
    "ax = sns.barplot(x=model_names, y=coverage_scores)\n",
    "ax.set_title('Catalog Coverage in %', fontsize=10)\n",
    "ax.set_ylabel('coverage')\n",
    "plt.show()\n"
   ]
  },
  {
   "cell_type": "markdown",
   "metadata": {
    "id": "lBwEazeM3E9n"
   },
   "source": [
    "**Novelty**\n",
    "\n",
    "There is an increasing realization in the Recommender Systems (RS) field that novelty is fundamental qualities of recommendation effectiveness and added-value. Experiment proved using the definition of novelty to recommend can effectively recognize the item that the user is familiar with and ensure certain accuracy."
   ]
  },
  {
   "cell_type": "code",
   "execution_count": null,
   "metadata": {
    "id": "U726uBUx3xcZ"
   },
   "outputs": [],
   "source": [
    "#Computes the novelty for a list of recommendations\n",
    "def novelty(predicted, pop: dict, u: int, n: int) -> (float, list):\n",
    "    mean_self_information = []\n",
    "    k = 0\n",
    "    for sublist in predicted:\n",
    "        self_information = 0\n",
    "        k += 1\n",
    "        for i in sublist:\n",
    "            self_information += np.sum(-np.log2(pop[i]/u))\n",
    "        mean_self_information.append(self_information/n)\n",
    "    novelty = sum(mean_self_information)/k\n",
    "    return novelty, mean_self_information"
   ]
  },
  {
   "cell_type": "code",
   "execution_count": null,
   "metadata": {
    "id": "Ad3e7kmezijx"
   },
   "outputs": [],
   "source": [
    "nov = ratings.movieId.value_counts()\n",
    "pop = dict(nov)"
   ]
  },
  {
   "cell_type": "code",
   "execution_count": null,
   "metadata": {
    "id": "X-7H96Ij3-Eb"
   },
   "outputs": [],
   "source": [
    "mbui_novelty,mbui_mselfinfo_list = novelty(mbui_recs, pop, len(users), 10)\n",
    "mbii_novelty,mbii_mselfinfo_list = novelty(mbii_recs, pop, len(users), 10)\n",
    "mbc_novelty,mbc_mselfinfo_list = novelty(mbc_rec, pop, len(users), 10)\n",
    "pop_novelty,pop_mselfinfo_list = novelty(pop_recs, pop, len(users), 10)"
   ]
  },
  {
   "cell_type": "code",
   "execution_count": null,
   "metadata": {
    "colab": {
     "base_uri": "https://localhost:8080/"
    },
    "id": "TRJIR9lo4kIG",
    "outputId": "bf43a37e-fc8a-40c5-e50f-61a0d8b86fb2"
   },
   "outputs": [
    {
     "name": "stdout",
     "output_type": "stream",
     "text": [
      "5.141100181765094 3.169023498877944 4.889918247528852 3.3799415874832857\n"
     ]
    }
   ],
   "source": [
    "print(mbui_novelty, mbii_novelty, mbc_novelty, pop_novelty )"
   ]
  },
  {
   "cell_type": "code",
   "execution_count": null,
   "metadata": {
    "id": "Xlla5T6I5S8T"
   },
   "outputs": [],
   "source": []
  }
 ],
 "metadata": {
  "colab": {
   "collapsed_sections": [
    "wAITVCKGCbPT",
    "7tLgonyV9--K",
    "zVX6Fjoj-TOo"
   ],
   "name": "recommendation_engine.ipynb",
   "provenance": [],
   "toc_visible": true
  },
  "kernelspec": {
   "display_name": "Python 3",
   "language": "python",
   "name": "python3"
  },
  "language_info": {
   "codemirror_mode": {
    "name": "ipython",
    "version": 3
   },
   "file_extension": ".py",
   "mimetype": "text/x-python",
   "name": "python",
   "nbconvert_exporter": "python",
   "pygments_lexer": "ipython3",
   "version": "3.8.5"
  }
 },
 "nbformat": 4,
 "nbformat_minor": 1
}
